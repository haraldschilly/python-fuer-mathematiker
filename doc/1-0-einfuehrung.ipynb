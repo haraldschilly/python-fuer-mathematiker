{
 "cells": [
  {
   "cell_type": "markdown",
   "metadata": {},
   "source": [
    "# Python Kurzeinführung\n",
    "\n",
    "[Python](http://www.python.org) ([Wikipedia](http://en.wikipedia.org/wiki/Python_%28programming_language%29))\n",
    "ist eine\n",
    "[multiparadigmatische](http://en.wikipedia.org/wiki/Programming_paradigm#Multi-paradigm)\n",
    "([imperativ](http://en.wikipedia.org/wiki/Imperative_programming),\n",
    "[prozedural](http://en.wikipedia.org/wiki/Procedural_programming),\n",
    "[funktional](http://en.wikipedia.org/wiki/Functional_programming),\n",
    "und\n",
    "[objektorientierte](http://en.wikipedia.org/wiki/Object-oriented_programming)) Programmiersprache.\n",
    "Sie wurde 1991 von [Guido van Rossum](http://en.wikipedia.org/wiki/Guido_van_Rossum) veröffentlicht\n",
    "und wurde von [ABC](http://en.wikipedia.org/wiki/ABC_%28programming_language%29),\n",
    "Java, Haskell und anderen Sprachen maßgeblich beeinflusst.\n",
    "Seit bald 10 Jahren gehört sie zu den am weitesten verbreiteten und flexiblesten Programmiersprachen weltweit.\n",
    "Aus der Sicht der Mathematik ist die große Sammlung an mathematischen, statistischen und wissenschaftlichen\n",
    "[Programmbibliotheken](http://en.wikipedia.org/wiki/Library_%28computing%29) hervorzuheben,\n",
    "und darauf aufbauende Tools wie <a href=\"http://en.wikipedia.org/wiki/Sage_(mathematics_software)\">SageMath</a> erwähnenswert.\n",
    "Außerdem ist Python eine exzellente Sprache zum funktionellen Kombinieren diverser Programme, Utilities und Systeme."
   ]
  },
  {
   "cell_type": "markdown",
   "metadata": {},
   "source": [
    "Der beste Weg Python kennen zu lernen ist ein Sprung ins kalte Wasser.\n",
    "Ein Programm zu programmieren folgt keinen kochrezeptartigen Regeln,\n",
    "sondern bedarf des kreativen Kombinierens von Konzepten, Regeln und Ideen.\n",
    "Daher ist kreatives Denken und ein Schatz an Erfahrungen wichtig --\n",
    "ganz ähnlich wie das Führen von Beweisen in der Mathematik.\n",
    "\n",
    "Die Funktionsweise der hier vorliegenden Worksheets ist die folgende:\n",
    "Die mit `In[]` gekennzeichneten Boxen sind die Eingabezellen.\n",
    "In ihnen stehen in oder mehrere Zeilen Code.\n",
    "Durch betätigen des <button class=\"btn\"><i class=\"fa fa-play\"></i></button> Buttons oder der <button class=\"btn\">Strg (Ctrl)</button>+<button class=\"btn\">Return</button> Tasten wird die aktive Zelle ausgeführt.\n",
    "Die Ausgabe steht darunter und ist mit `Out[n]` gekennzeichnet.\n",
    "\n",
    "Die folgenden Beispiele zeigen anschauliche Beispiele,\n",
    "die einen ersten groben Umriss um die Funktionalität Python's liefert.\n",
    "Davon neugierig gemacht, werden in der Folge die darin vorkommenden Grundprinzipien erklärt."
   ]
  },
  {
   "cell_type": "markdown",
   "metadata": {
    "slideshow": {
     "slide_type": "slide"
    }
   },
   "source": [
    "Keine Scheu, kopiere einzelne Zellen in ein neues IPython Notebook und fange an zu experimentieren!"
   ]
  },
  {
   "cell_type": "markdown",
   "metadata": {},
   "source": [
    "## Einfache Rechenbeispiele"
   ]
  },
  {
   "cell_type": "code",
   "execution_count": 1,
   "metadata": {
    "collapsed": false,
    "format": "row"
   },
   "outputs": [
    {
     "data": {
      "text/plain": [
       "35"
      ]
     },
     "execution_count": 1,
     "metadata": {},
     "output_type": "execute_result"
    }
   ],
   "source": [
    "14 + 3 * (8 - 1)"
   ]
  },
  {
   "cell_type": "markdown",
   "metadata": {},
   "source": [
    "Achtung, potenziert wird mit `**`!"
   ]
  },
  {
   "cell_type": "code",
   "execution_count": 2,
   "metadata": {
    "collapsed": false
   },
   "outputs": [
    {
     "name": "stdout",
     "output_type": "stream",
     "text": [
      "10\n"
     ]
    }
   ],
   "source": [
    "banane = 3**2 + 1\n",
    "print(banane)"
   ]
  },
  {
   "cell_type": "markdown",
   "metadata": {},
   "source": [
    "Hierbei ist `banane` eine Variable, die auf den Wert `10` gesetzt wurde.\n",
    "Das ist das Ergebnis der Auswertung des Ausdrucks `3**2 + 1`.\n",
    "Abgerufen kann der Wert von `banane`, wenn es an letzter Stelle einer Code-Zelle steht,\n",
    "oder durch den `print` Befehl."
   ]
  },
  {
   "cell_type": "code",
   "execution_count": 3,
   "metadata": {
    "collapsed": false
   },
   "outputs": [
    {
     "name": "stdout",
     "output_type": "stream",
     "text": [
      "10\n"
     ]
    }
   ],
   "source": [
    "print(banane)"
   ]
  },
  {
   "cell_type": "code",
   "execution_count": 4,
   "metadata": {
    "collapsed": false
   },
   "outputs": [
    {
     "data": {
      "text/plain": [
       "10"
      ]
     },
     "execution_count": 4,
     "metadata": {},
     "output_type": "execute_result"
    }
   ],
   "source": [
    "banane"
   ]
  },
  {
   "cell_type": "markdown",
   "metadata": {},
   "source": [
    "Für \"mathematisches\" Dividieren muss mindestens ein Argument eine Flißekommazahl sein;\n",
    "Ganzzahldivisionen werden abgerundet!\n",
    "(Ausnahme: entweder es ist Python in Version 3 **oder** mittels `from __future__ import division` wurde das modernere Verhalten importiert)"
   ]
  },
  {
   "cell_type": "code",
   "execution_count": 5,
   "metadata": {
    "collapsed": false
   },
   "outputs": [
    {
     "data": {
      "text/plain": [
       "10.791000000000002"
      ]
     },
     "execution_count": 5,
     "metadata": {},
     "output_type": "execute_result"
    }
   ],
   "source": [
    "(2.2 * 9.81) / 2"
   ]
  },
  {
   "cell_type": "markdown",
   "metadata": {},
   "source": [
    "Beide Zahlen sind Ganzzahlen, daher striktes Abrunden:"
   ]
  },
  {
   "cell_type": "code",
   "execution_count": 6,
   "metadata": {
    "collapsed": false
   },
   "outputs": [
    {
     "data": {
      "text/plain": [
       "5.1"
      ]
     },
     "execution_count": 6,
     "metadata": {},
     "output_type": "execute_result"
    }
   ],
   "source": [
    "51 / 10"
   ]
  },
  {
   "cell_type": "markdown",
   "metadata": {},
   "source": [
    "Ist mindestens eine der beiden Zahlen eine Fließkommazahl (sichtbar an dem kleinen `.` nach der `51`),\n",
    "so wird eine Fließkommadivision durchgeführt."
   ]
  },
  {
   "cell_type": "code",
   "execution_count": 7,
   "metadata": {
    "collapsed": false
   },
   "outputs": [
    {
     "data": {
      "text/plain": [
       "5.1"
      ]
     },
     "execution_count": 7,
     "metadata": {},
     "output_type": "execute_result"
    }
   ],
   "source": [
    "51. / 10"
   ]
  },
  {
   "cell_type": "markdown",
   "metadata": {},
   "source": [
    "Aktivieren des alternativen Verhaltens für Divisionen."
   ]
  },
  {
   "cell_type": "code",
   "execution_count": 8,
   "metadata": {
    "collapsed": false
   },
   "outputs": [
    {
     "data": {
      "text/plain": [
       "5.1"
      ]
     },
     "execution_count": 8,
     "metadata": {},
     "output_type": "execute_result"
    }
   ],
   "source": [
    "from __future__ import division\n",
    "51 / 10"
   ]
  },
  {
   "cell_type": "markdown",
   "metadata": {},
   "source": [
    "Das IPython Notebook merkt sich derweilen weiter oben definierte Variable `banane`,\n",
    "solange die \"Session\" aktiv ist.\n",
    "Kernel &gt; Restart bzw. <button class=\"btn\"><i class=\"fa fa-repeat\" ></i></button> starten die Session neu."
   ]
  },
  {
   "cell_type": "markdown",
   "metadata": {},
   "source": [
    "`print` kann in Python 2 als Statement verwendet werden,\n",
    "es geht aber auch die in Python 3 gebräuchliche Variante als Funktion.\n",
    "Damit können jederzeit Zwischenergebnisse, die während des Ablaufs des Programmes passieren, ausgegeben werden.\n",
    "Ansonsten wird immer nur der Wert des letzten Ausdrucks ausgegeben."
   ]
  },
  {
   "cell_type": "code",
   "execution_count": 9,
   "metadata": {
    "collapsed": false
   },
   "outputs": [
    {
     "name": "stdout",
     "output_type": "stream",
     "text": [
      "47.519999999999996\n",
      "29.810000000000002\n"
     ]
    }
   ],
   "source": [
    "apfel = 8.76\n",
    "print(3 * banane + 2 * apfel)\n",
    "apfel = 9.81\n",
    "print(2 * banane + apfel)"
   ]
  },
  {
   "cell_type": "markdown",
   "metadata": {},
   "source": [
    "Brüche können mit `Fraction` angegeben werden"
   ]
  },
  {
   "cell_type": "code",
   "execution_count": 10,
   "metadata": {
    "collapsed": false
   },
   "outputs": [
    {
     "data": {
      "text/plain": [
       "Fraction(2673, 38275585202254501783218213917955539030103719395100)"
      ]
     },
     "execution_count": 10,
     "metadata": {},
     "output_type": "execute_result"
    }
   ],
   "source": [
    "from fractions import Fraction\n",
    "a = Fraction(\"33/31003100\")\n",
    "b = Fraction(\"-9/100000100001\")\n",
    "a * b ** 4"
   ]
  },
  {
   "cell_type": "markdown",
   "metadata": {},
   "source": [
    "Liste von Zahlen von 0 bis 9. Es ist außerdem und ganz generell so, dass bei `0` zu zählen begonnen wird und Intervalle auf der linken Seite geschlossen und auf der rechten Seite offen sind."
   ]
  },
  {
   "cell_type": "code",
   "execution_count": 11,
   "metadata": {
    "collapsed": false
   },
   "outputs": [
    {
     "data": {
      "text/plain": [
       "range(0, 10)"
      ]
     },
     "execution_count": 11,
     "metadata": {},
     "output_type": "execute_result"
    }
   ],
   "source": [
    "range(10)"
   ]
  },
  {
   "cell_type": "markdown",
   "metadata": {},
   "source": [
    "Jede dritte Zahl in $-10 \\leq x < 10,\\; x \\in \\mathbb{Z}$"
   ]
  },
  {
   "cell_type": "code",
   "execution_count": 12,
   "metadata": {
    "collapsed": false
   },
   "outputs": [
    {
     "data": {
      "text/plain": [
       "range(-10, 10, 3)"
      ]
     },
     "execution_count": 12,
     "metadata": {},
     "output_type": "execute_result"
    }
   ],
   "source": [
    "range(-10, 10, 3)"
   ]
  },
  {
   "cell_type": "markdown",
   "metadata": {},
   "source": [
    "Eine `for`-Schleife iteriert -- das heißt, sie wiederholt den darin vorhandenen Codeblock -- für alle angegebenen Werte:"
   ]
  },
  {
   "cell_type": "code",
   "execution_count": 13,
   "metadata": {
    "collapsed": false
   },
   "outputs": [
    {
     "name": "stdout",
     "output_type": "stream",
     "text": [
      "x ist -10 und y ist -29\n",
      "x ist  -6 und y ist -17\n",
      "x ist  -2 und y ist  -5\n",
      "x ist   2 und y ist   7\n",
      "x ist   6 und y ist  19\n"
     ]
    }
   ],
   "source": [
    "for x in range(-10, 10, 4):\n",
    "    y = 3 * x + 1\n",
    "    print(\"x ist %3d und y ist %3d\" % (x, y))"
   ]
  },
  {
   "cell_type": "markdown",
   "metadata": {},
   "source": [
    "`if`-Verzweigungen erlauben, Codeblöcke nur unter bestimmten Bedingungen auszuführen.\n",
    "Das Wort `else` kann optional dazu verwendet werden, einen Codeblock bei nichterfüllung der Bedingung auszuführen."
   ]
  },
  {
   "cell_type": "code",
   "execution_count": 14,
   "metadata": {
    "collapsed": false
   },
   "outputs": [
    {
     "name": "stdout",
     "output_type": "stream",
     "text": [
      "k ist negativ\n"
     ]
    }
   ],
   "source": [
    "k = -4\n",
    "if k >= 0:\n",
    "    print(\"k ist positiv\")\n",
    "else:\n",
    "    print(\"k ist negativ\")"
   ]
  },
  {
   "cell_type": "markdown",
   "metadata": {},
   "source": [
    "Eine `for`-Schleife mit einer darin enthaltenen `if`-Bedingung.\n",
    "Sie summiert alle Zahlen bis 100, die durch 3 und 7 teilbar sind, auf:"
   ]
  },
  {
   "cell_type": "code",
   "execution_count": 15,
   "metadata": {
    "collapsed": false
   },
   "outputs": [
    {
     "name": "stdout",
     "output_type": "stream",
     "text": [
      "210\n"
     ]
    }
   ],
   "source": [
    "summe = 0\n",
    "for i in range(100):\n",
    "    if i % 3 == 0 and i % 7 == 0:\n",
    "        summe += i\n",
    "print(summe)"
   ]
  },
  {
   "cell_type": "markdown",
   "metadata": {},
   "source": [
    "Das `import` Statement dient dazu, Funktionalitäten aus diversen Programmbibliotheken zu importieren.\n",
    "\n",
    "Beispiel: Die Sinusfunktion `sin` aus der `math`-Bibliothek importieren und mit Standardgenauigkeit berechnen."
   ]
  },
  {
   "cell_type": "code",
   "execution_count": 16,
   "metadata": {
    "collapsed": false
   },
   "outputs": [
    {
     "data": {
      "text/plain": [
       "8.979318433952318e-11"
      ]
     },
     "execution_count": 16,
     "metadata": {},
     "output_type": "execute_result"
    }
   ],
   "source": [
    "from math import sin\n",
    "sin(3.1415926535)"
   ]
  },
  {
   "cell_type": "markdown",
   "metadata": {},
   "source": [
    "Hier wird die `sin`-Funktion mit 100 Stellen Genauigkeit durch dessen Version in der `mpmath`-Bibliothek in Sympy berechnet.\n",
    "Beachte, dass `mpm` vorangestellt wird, um Vermischungen mit der schon importieren `sin` zu vermeiden."
   ]
  },
  {
   "cell_type": "code",
   "execution_count": 17,
   "metadata": {
    "collapsed": false
   },
   "outputs": [
    {
     "data": {
      "text/plain": [
       "mpf('0.00000000008979323846264338327938221965910388125990692946182694867743526330407406677351504727435623041438215811254')"
      ]
     },
     "execution_count": 17,
     "metadata": {},
     "output_type": "execute_result"
    }
   ],
   "source": [
    "import mpmath as mpm\n",
    "mpm.mp.dps = 100\n",
    "\n",
    "mpm.sin(mpm.mpf(\"3.1415926535\"))"
   ]
  },
  {
   "cell_type": "markdown",
   "metadata": {},
   "source": [
    "## Symbolische Ausdrücke, Funktionen, Differenzieren\n",
    "\n",
    "Symbolische Ausdrücke können mit der Programmbibliothek `SymPy` erzeugt werden.\n",
    "Hierfür importieren wir z.B. in einem ersten Schritt die Variable $x$ und den Operator $\\sin$,\n",
    "mit der die Ausdrücke aufgebaut werden."
   ]
  },
  {
   "cell_type": "code",
   "execution_count": 18,
   "metadata": {
    "collapsed": false
   },
   "outputs": [],
   "source": [
    "from sympy import sin, pi\n",
    "from sympy.abc import x"
   ]
  },
  {
   "cell_type": "markdown",
   "metadata": {},
   "source": [
    "$f(x) := \\frac{2 x}{x - \\sin(x)}$"
   ]
  },
  {
   "cell_type": "code",
   "execution_count": 19,
   "metadata": {
    "collapsed": false
   },
   "outputs": [
    {
     "data": {
      "text/plain": [
       "2*x/(x - sin(x))"
      ]
     },
     "execution_count": 19,
     "metadata": {},
     "output_type": "execute_result"
    }
   ],
   "source": [
    "f = 2 * x / (x - sin(x))\n",
    "f"
   ]
  },
  {
   "cell_type": "markdown",
   "metadata": {},
   "source": [
    "Differenzieren nach $x$ mit `.diff(x)` und anschließendes Vereinfachen des Ausdrucks durch `.simplify()`."
   ]
  },
  {
   "cell_type": "code",
   "execution_count": 20,
   "metadata": {
    "collapsed": false
   },
   "outputs": [
    {
     "data": {
      "text/plain": [
       "2*(x*cos(x) - sin(x))/(x - sin(x))**2"
      ]
     },
     "execution_count": 20,
     "metadata": {},
     "output_type": "execute_result"
    }
   ],
   "source": [
    "f_prime = f.diff(x).simplify()\n",
    "f_prime"
   ]
  },
  {
   "cell_type": "markdown",
   "metadata": {},
   "source": [
    "## Auswertung von symbolischen Ausdrücken"
   ]
  },
  {
   "cell_type": "markdown",
   "metadata": {},
   "source": [
    "Hier wird das `x` in dem zuvor definierten symbolischen Ausdruck `f` mittels der Methode `.subs(<variable>, <expression>)` ersetzt."
   ]
  },
  {
   "cell_type": "markdown",
   "metadata": {},
   "source": [
    "$f(x)\\Big\\rvert_{x=1}=\\dots$"
   ]
  },
  {
   "cell_type": "code",
   "execution_count": 21,
   "metadata": {
    "collapsed": false
   },
   "outputs": [
    {
     "data": {
      "text/plain": [
       "2/(-sin(1) + 1)"
      ]
     },
     "execution_count": 21,
     "metadata": {},
     "output_type": "execute_result"
    }
   ],
   "source": [
    "f.subs(x, 1)"
   ]
  },
  {
   "cell_type": "markdown",
   "metadata": {},
   "source": [
    "pi wurde weiter oben via `from sympy import pi` definiert.\n",
    "\n",
    "$f(x)\\Big\\rvert_{x=\\pi}=\\dots$"
   ]
  },
  {
   "cell_type": "code",
   "execution_count": 22,
   "metadata": {
    "collapsed": false
   },
   "outputs": [
    {
     "data": {
      "text/plain": [
       "2"
      ]
     },
     "execution_count": 22,
     "metadata": {},
     "output_type": "execute_result"
    }
   ],
   "source": [
    "f.subs(x, pi)"
   ]
  },
  {
   "cell_type": "markdown",
   "metadata": {},
   "source": [
    "Numerische Auswertung nach der Substitution durch `.evalf()`"
   ]
  },
  {
   "cell_type": "code",
   "execution_count": 23,
   "metadata": {
    "collapsed": false
   },
   "outputs": [
    {
     "data": {
      "text/plain": [
       "12.6159870328875"
      ]
     },
     "execution_count": 23,
     "metadata": {},
     "output_type": "execute_result"
    }
   ],
   "source": [
    "f.subs(x, 1).evalf()"
   ]
  },
  {
   "cell_type": "code",
   "execution_count": 24,
   "metadata": {
    "collapsed": false
   },
   "outputs": [
    {
     "data": {
      "text/plain": [
       "12.61598703288748005502704347964832025794268409451527860450480203069959865248247113838572429676781402"
      ]
     },
     "execution_count": 24,
     "metadata": {},
     "output_type": "execute_result"
    }
   ],
   "source": [
    "f.subs(x, 1).evalf(100)"
   ]
  },
  {
   "cell_type": "markdown",
   "metadata": {},
   "source": [
    "## $\\LaTeX{}$-Formatierung mittels SymPy:"
   ]
  },
  {
   "cell_type": "code",
   "execution_count": 25,
   "metadata": {
    "collapsed": false
   },
   "outputs": [],
   "source": [
    "from IPython.display import Math\n",
    "from sympy import latex"
   ]
  },
  {
   "cell_type": "code",
   "execution_count": 26,
   "metadata": {
    "collapsed": false
   },
   "outputs": [
    {
     "data": {
      "text/latex": [
       "$$\\frac{2 x}{x - \\sin{\\left (x \\right )}}$$"
      ],
      "text/plain": [
       "<IPython.core.display.Math object>"
      ]
     },
     "execution_count": 26,
     "metadata": {},
     "output_type": "execute_result"
    }
   ],
   "source": [
    "Math(latex(f))"
   ]
  },
  {
   "cell_type": "code",
   "execution_count": 27,
   "metadata": {
    "collapsed": false
   },
   "outputs": [
    {
     "data": {
      "text/latex": [
       "$$\\frac{2 x \\cos{\\left (x \\right )} - 2 \\sin{\\left (x \\right )}}{\\left(x - \\sin{\\left (x \\right )}\\right)^{2}}$$"
      ],
      "text/plain": [
       "<IPython.core.display.Math object>"
      ]
     },
     "execution_count": 27,
     "metadata": {},
     "output_type": "execute_result"
    }
   ],
   "source": [
    "Math(latex(f_prime))"
   ]
  },
  {
   "cell_type": "markdown",
   "metadata": {},
   "source": [
    "## Listen und Listenverarbeitung"
   ]
  },
  {
   "cell_type": "markdown",
   "metadata": {},
   "source": [
    "Eine \"Liste\" ist eine geordnete Sammlung von Objekten.\n",
    "Sie ist so ziemlich die zentralste *Datenstruktur* überhaupt."
   ]
  },
  {
   "cell_type": "code",
   "execution_count": 28,
   "metadata": {
    "collapsed": false
   },
   "outputs": [
    {
     "data": {
      "text/plain": [
       "['Haus', 99]"
      ]
     },
     "execution_count": 28,
     "metadata": {},
     "output_type": "execute_result"
    }
   ],
   "source": [
    "l1 = [\"Haus\", 99]\n",
    "l1"
   ]
  },
  {
   "cell_type": "code",
   "execution_count": 29,
   "metadata": {
    "collapsed": false
   },
   "outputs": [
    {
     "data": {
      "text/plain": [
       "['a', 0, 'x']"
      ]
     },
     "execution_count": 29,
     "metadata": {},
     "output_type": "execute_result"
    }
   ],
   "source": [
    "l2 = [\"a\", 0, \"x\"]\n",
    "l2"
   ]
  },
  {
   "cell_type": "code",
   "execution_count": 30,
   "metadata": {
    "collapsed": false
   },
   "outputs": [
    {
     "data": {
      "text/plain": [
       "['Haus', 99, 'a', 0, 'x']"
      ]
     },
     "execution_count": 30,
     "metadata": {},
     "output_type": "execute_result"
    }
   ],
   "source": [
    "l1 + l2"
   ]
  },
  {
   "cell_type": "markdown",
   "metadata": {},
   "source": [
    "Verarbeiten von Listen mittels\n",
    "\n",
    "`[ <ausdruck> for <variable> in <liste> ]`\n",
    "\n",
    "(genannt \"list-comprehension\")"
   ]
  },
  {
   "cell_type": "code",
   "execution_count": 31,
   "metadata": {
    "collapsed": false
   },
   "outputs": [
    {
     "data": {
      "text/plain": [
       "[2.0, 3.0, 4.0, 8.0, 14.2, 18.0, 42.0]"
      ]
     },
     "execution_count": 31,
     "metadata": {},
     "output_type": "execute_result"
    }
   ],
   "source": [
    "ll = [2., 2.5, 3., 5., 8.1, 10., 22.]\n",
    "k1 = [2*i-2 for i in ll]\n",
    "k1"
   ]
  },
  {
   "cell_type": "code",
   "execution_count": 32,
   "metadata": {
    "collapsed": false
   },
   "outputs": [
    {
     "data": {
      "text/plain": [
       "[1, 4, 9, 16, 25, 36, 49, 64, 81, 100]"
      ]
     },
     "execution_count": 32,
     "metadata": {},
     "output_type": "execute_result"
    }
   ],
   "source": [
    "[k**2 + 2*k + 1 for k in range(10)]"
   ]
  },
  {
   "cell_type": "markdown",
   "metadata": {},
   "source": [
    "Zugriff auf Elemente in einer Liste -- achtung, wie schon erwähnt wird ab `0` indiziert."
   ]
  },
  {
   "cell_type": "code",
   "execution_count": 33,
   "metadata": {
    "collapsed": false
   },
   "outputs": [
    {
     "data": {
      "text/plain": [
       "'h'"
      ]
     },
     "execution_count": 33,
     "metadata": {},
     "output_type": "execute_result"
    }
   ],
   "source": [
    "p = [\"P\", \"y\", \"t\", \"h\", \"o\", \"n\"]\n",
    "p[3]"
   ]
  },
  {
   "cell_type": "markdown",
   "metadata": {},
   "source": [
    "Das zweit-letzte Element mittels `-2`"
   ]
  },
  {
   "cell_type": "code",
   "execution_count": 34,
   "metadata": {
    "collapsed": false
   },
   "outputs": [
    {
     "data": {
      "text/plain": [
       "'o'"
      ]
     },
     "execution_count": 34,
     "metadata": {},
     "output_type": "execute_result"
    }
   ],
   "source": [
    "p[-2]"
   ]
  },
  {
   "cell_type": "markdown",
   "metadata": {},
   "source": [
    "## Grafische Darstellungen\n",
    "\n",
    "Dies geschieht mittels der `matplotlib`-Bibliothek. Sie muss zur Ausgabe von Grafiken aktiviert werden:"
   ]
  },
  {
   "cell_type": "code",
   "execution_count": 35,
   "metadata": {
    "collapsed": false
   },
   "outputs": [],
   "source": [
    "%matplotlib inline\n",
    "import matplotlib.pyplot as plt\n",
    "plt.rcParams[\"figure.figsize\"] = (10,6)"
   ]
  },
  {
   "cell_type": "markdown",
   "metadata": {},
   "source": [
    "### Plotten paarweiser Punkte\n",
    "\n",
    "`xx` und `yy` beinhalten jeweils die x- und y-Koordinaten."
   ]
  },
  {
   "cell_type": "code",
   "execution_count": 36,
   "metadata": {
    "collapsed": false
   },
   "outputs": [
    {
     "data": {
      "text/plain": [
       "(2, 3.3)"
      ]
     },
     "execution_count": 36,
     "metadata": {},
     "output_type": "execute_result"
    },
    {
     "data": {
      "image/png": "[encoded data removed]",
      "text/plain": [
       "<matplotlib.figure.Figure at 0x7f9d02cabeb8>"
      ]
     },
     "metadata": {},
     "output_type": "display_data"
    }
   ],
   "source": [
    "xx = [20, 15,  11, 7.57, 9.6, 13,  21,  24, 28, 23, 20]\n",
    "yy = [3, 2.5, 2.3, 2.66,  3, 3.1, 2.3, 2.5, 2.8, 3,  3]\n",
    "\n",
    "plt.plot(xx, yy, \"o-\")\n",
    "plt.xlim(5, 30)\n",
    "plt.ylim(2, 3.3)"
   ]
  },
  {
   "cell_type": "markdown",
   "metadata": {},
   "source": [
    "### Funktionen und deren Graph"
   ]
  },
  {
   "cell_type": "markdown",
   "metadata": {},
   "source": [
    "Definieren einer Funktionen mit `SymPy` und zeichnen ihres Graphen:"
   ]
  },
  {
   "cell_type": "code",
   "execution_count": 37,
   "metadata": {
    "collapsed": false
   },
   "outputs": [],
   "source": [
    "from sympy import sin\n",
    "from sympy.abc import x\n",
    "sin_square = sin(x) * x**2"
   ]
  },
  {
   "cell_type": "code",
   "execution_count": 38,
   "metadata": {
    "collapsed": false
   },
   "outputs": [
    {
     "data": {
      "text/plain": [
       "-3.63718970730273"
      ]
     },
     "execution_count": 38,
     "metadata": {},
     "output_type": "execute_result"
    }
   ],
   "source": [
    "sin_square.subs(x, -2).evalf()"
   ]
  },
  {
   "cell_type": "code",
   "execution_count": 39,
   "metadata": {
    "collapsed": false
   },
   "outputs": [
    {
     "data": {
      "text/plain": [
       "146.314764035351"
      ]
     },
     "execution_count": 39,
     "metadata": {},
     "output_type": "execute_result"
    }
   ],
   "source": [
    "sin_square.subs(x, 15).evalf()"
   ]
  },
  {
   "cell_type": "code",
   "execution_count": 40,
   "metadata": {
    "collapsed": false
   },
   "outputs": [
    {
     "data": {
      "image/png": "[encoded data removed]",
      "text/plain": [
       "<matplotlib.figure.Figure at 0x7f9d00bd14e0>"
      ]
     },
     "metadata": {},
     "output_type": "display_data"
    },
    {
     "data": {
      "text/plain": [
       "<sympy.plotting.plot.Plot at 0x7f9d00be0a58>"
      ]
     },
     "execution_count": 40,
     "metadata": {},
     "output_type": "execute_result"
    }
   ],
   "source": [
    "from sympy.plotting import plot\n",
    "plot(sin_square, (x, -3, 15))"
   ]
  },
  {
   "cell_type": "markdown",
   "metadata": {},
   "source": [
    "### Interaktive Funktionen\n",
    "\n",
    "`@interact` führt eine Funktion mit interaktiven Argumenten (`a` und `b`) aus.\n",
    "`a = (0, 20, .1)` definiert, dass der Slider von `0` bis `20` mit Schrittweite `0.1` gehen soll.\n",
    "Das `a = 10` in der Funktion `damped_oscillation` selbst ist der initiale default Wert,\n",
    "den der Slider am Anfang bekommen soll."
   ]
  },
  {
   "cell_type": "code",
   "execution_count": 41,
   "metadata": {
    "collapsed": false
   },
   "outputs": [
    {
     "data": {
      "image/png": "[encoded data removed]",
      "text/plain": [
       "<matplotlib.figure.Figure at 0x7f9d0094c9b0>"
      ]
     },
     "metadata": {},
     "output_type": "display_data"
    }
   ],
   "source": [
    "from IPython.html.widgets import interact\n",
    "from sympy.abc import x\n",
    "from sympy import exp, cos\n",
    "from sympy.plotting import plot\n",
    "\n",
    "@interact(a = (0, 20, .1), b = (0, 3, .1))\n",
    "def damped_oscillation(a = 10, b = .5):\n",
    "    f2 = a * exp(-b * x) * cos(a * x) / a\n",
    "    plot(f2, (x, 0, 10), ylim=(-1, 1))"
   ]
  },
  {
   "cell_type": "markdown",
   "metadata": {},
   "source": [
    "### Parametrischer Plot"
   ]
  },
  {
   "cell_type": "markdown",
   "metadata": {},
   "source": [
    "Die Matrix $\\bigl(\\begin{smallmatrix}a&b\\\\ c&d\\end{smallmatrix} \\bigr)$ beinhaltet die Parameter,\n",
    "und wird mit dem von $\\phi$ abhängigen Vektor multipliziert."
   ]
  },
  {
   "cell_type": "markdown",
   "metadata": {},
   "source": [
    "$$f(\\phi) := \n",
    "\\begin{pmatrix}\n",
    "a & b \\\\ c & d\n",
    "\\end{pmatrix}\n",
    "\\cdot \\log(1+\\phi)\n",
    "\\begin{pmatrix}\n",
    "\\sin(\\phi) \\\\ \\cos(\\phi)\n",
    "\\end{pmatrix}\n",
    "\\qquad \\phi \\in [0,\\,8 \\pi]$$"
   ]
  },
  {
   "cell_type": "code",
   "execution_count": 42,
   "metadata": {
    "collapsed": false
   },
   "outputs": [
    {
     "data": {
      "image/png": "[encoded data removed]",
      "text/plain": [
       "<matplotlib.figure.Figure at 0x7f9d00ae62e8>"
      ]
     },
     "metadata": {},
     "output_type": "display_data"
    }
   ],
   "source": [
    "from IPython.html.widgets import interact\n",
    "import numpy as np\n",
    "\n",
    "@interact(a=(-2, 2, .1), b =(-2, 2, .1), c=(-2, 2, .1), d=(-2, 2, .1))\n",
    "def elliptic_plot(a = 1., b = 0, c = 0, d = -1):\n",
    "    phi = np.linspace(0, 8 * np.pi, 1000)\n",
    "    m = np.array([[a, b],\n",
    "                  [c, d]])\n",
    "    v = np.c_[np.sin(phi), \n",
    "              np.cos(phi)].T\n",
    "    r = np.log1p(phi)\n",
    "    \n",
    "    xx, yy = m.dot(r * v)\n",
    "    \n",
    "    plt.plot(xx, yy)\n",
    "    plt.grid()\n",
    "    plt.ylim(-4, 4)\n",
    "    plt.xlim(-4, 4)"
   ]
  },
  {
   "cell_type": "markdown",
   "metadata": {},
   "source": [
    "### Histogram"
   ]
  },
  {
   "cell_type": "markdown",
   "metadata": {},
   "source": [
    "[Gauss](https://docs.python.org/2/library/random.html#random.gauss)-Glocke für $\\mu = 2$ und $\\sigma = .5$"
   ]
  },
  {
   "cell_type": "code",
   "execution_count": 43,
   "metadata": {
    "collapsed": false
   },
   "outputs": [],
   "source": [
    "from random import gauss\n",
    "data = [gauss(2, .5) for i in range(10000)]"
   ]
  },
  {
   "cell_type": "code",
   "execution_count": 44,
   "metadata": {
    "collapsed": false
   },
   "outputs": [
    {
     "data": {
      "image/png": "[encoded data removed]",
      "text/plain": [
       "<matplotlib.figure.Figure at 0x7f9d02dbbb00>"
      ]
     },
     "metadata": {},
     "output_type": "display_data"
    }
   ],
   "source": [
    "_ = plt.hist(data, 20, color=\"grey\")"
   ]
  }
 ],
 "metadata": {
  "kernelspec": {
   "display_name": "Anaconda (Python 3)",
   "language": "python",
   "name": "anaconda3"
  },
  "language_info": {
   "codemirror_mode": {
    "name": "ipython",
    "version": 3
   },
   "file_extension": ".py",
   "mimetype": "text/x-python",
   "name": "python",
   "nbconvert_exporter": "python",
   "pygments_lexer": "ipython3",
   "version": "3.5.2"
  }
 },
 "nbformat": 4,
 "nbformat_minor": 0
}
