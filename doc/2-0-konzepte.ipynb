{
 "cells": [
  {
   "cell_type": "markdown",
   "metadata": {},
   "source": [
    "# Programmierkonzepte"
   ]
  },
  {
   "cell_type": "markdown",
   "metadata": {
    "slideshow": {
     "slide_type": "subslide"
    }
   },
   "source": [
    "Es folgen nun die wichtigsten Konzepte für das Programmieren mit Python.\n",
    "\n",
    "Grundlegend ist Python eine imperative Programmiersprache.\n",
    "Das heißt, der [Quellcode](glossar.ipynb#quellcode) setzt sich aus Listen von sogenannten \"Ausdrücken\" (\"expressions\") und dazugehörigen Steuerungsanweisungen zusammen.\n",
    "Diese Ausdrücke werden in jedem Block Zeile für Zeile abgearbeitet,\n",
    "und der alles umfassende Ablauf der Blöcke mittels [Kontrollstrukturen](glossar.ipynb#kontrollstrukturen) festgelegt.\n",
    "Jedes in dieser Programmiersprache vorkommende Zeichen unterliegt strengen Regeln,\n",
    "welche bei jeglicher Abweichung zu Syntaxfehlern führen.\n",
    "Für Neugierige, hier ist die [vollständige Grammatik](https://docs.python.org/3/reference/grammar.html) Pythons.\n",
    "\n",
    "Es gibt mehrere verschiedene Arten von Ausdrücken,\n",
    "und insbesondere sind Zuweisungen und der Aufruf von Funktionen\n",
    "die elementarsten und wichtigsten Konzepte.\n",
    "Möchte man komplexere Objekte beschreiben, so braucht man Datenstrukturen.\n",
    "Diese bestehen aus einer strukturierten Auflistung, bzw. Verschachtelung,\n",
    "von Listen und Assoziationen.\n",
    "Dadurch werden die zu verarbeitenden Objekte in sowohl für den Menschen,\n",
    "als auch für den Computer, verständliche Form gebracht.\n",
    "Gibt man darüber hinaus diesen Datenstrukturen auch einen Namen\n",
    "und assoziiert sie mit Methoden zur Vearbeitung ihrer in ihnen gespeicherten Daten,\n",
    "so erhält man Datentypen und Klassen.\n",
    "Auf diese Art strukturierte Programme sind das bislang\n",
    "erfolgreichste und flexibelste Modell der Abstraktion.\n",
    "\n",
    "Die folgenden Unterkapitel beschreiben wichtige Konzepte Pythons,\n",
    "jedoch darf nicht aus dem Auge verloren gehen,\n",
    "dass erst die Summe aller dieser Teile die Sprache ausmacht.\n",
    "Das alles ist vielmehr als ein harmonierendes Netzwerk von Ideen zu verstehen,\n",
    "die gemeinsam [mehr sind als dessen Einzelteile](https://de.wikipedia.org/wiki/Synergie)."
   ]
  }
 ],
 "metadata": {
  "kernelspec": {
   "display_name": "Anaconda (Python 3)",
   "language": "python",
   "name": "anaconda3"
  },
  "language_info": {
   "codemirror_mode": {
    "name": "ipython",
    "version": 3
   },
   "file_extension": ".py",
   "mimetype": "text/x-python",
   "name": "python",
   "nbconvert_exporter": "python",
   "pygments_lexer": "ipython3",
   "version": "3.5.2"
  }
 },
 "nbformat": 4,
 "nbformat_minor": 0
}
