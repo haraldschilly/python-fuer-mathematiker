{
 "cells": [
  {
   "cell_type": "markdown",
   "metadata": {},
   "source": [
    "# Autoren"
   ]
  },
  {
   "cell_type": "code",
   "execution_count": 2,
   "metadata": {
    "collapsed": false
   },
   "outputs": [
    {
     "name": "stdout",
     "output_type": "stream",
     "text": [
      "Ali Baharev <ali.baharev@univie.ac.at>\n",
      "Tim Benedikt Herbstrith <tim.benedikt.herbstrith@univie.ac.at>\n",
      "Harald Schilly <harald.schilly@gmail.com>\n",
      "Harald Schilly <harald.schilly@univie.ac.at>\n"
     ]
    }
   ],
   "source": [
    "authornames = ! git log --pretty=format:\"%aN <%aE>\" HEAD\n",
    "for name in sorted(set(authornames), key = lambda n : n.split(\"<\")[0].split()[-1]):\n",
    "    print name"
   ]
  },
  {
   "cell_type": "markdown",
   "metadata": {},
   "source": [
    "## Harald Schilly\n",
    "\n",
    "* [Webseite](http://harald.schil.ly)\n",
    "* [GitHub](http://github.com/haraldschilly)"
   ]
  },
  {
   "cell_type": "markdown",
   "metadata": {},
   "source": [
    "# Nachwort"
   ]
  },
  {
   "cell_type": "markdown",
   "metadata": {},
   "source": [
    "## License Note\n",
    "\n",
    "All text, images, media and code examples are covered by\n",
    "[CC BY-SA 4.0 International](https://creativecommons.org/licenses/by-sa/4.0/).\n",
    "\n",
    "The only exception are full Python codefiles,\n",
    "where their License is either explained in their respective headers or in absence of that,\n",
    "defaults to [Apache 2.0](http://www.apache.org/licenses/LICENSE-2.0.html)\n"
   ]
  }
 ],
 "metadata": {
  "kernelspec": {
   "display_name": "Python 2",
   "language": "python",
   "name": "python2"
  },
  "language_info": {
   "codemirror_mode": {
    "name": "ipython",
    "version": 2
   },
   "file_extension": ".py",
   "mimetype": "text/x-python",
   "name": "python",
   "nbconvert_exporter": "python",
   "pygments_lexer": "ipython2",
   "version": "2.7.6"
  }
 },
 "nbformat": 4,
 "nbformat_minor": 0
}
