{
 "cells": [
  {
   "cell_type": "markdown",
   "metadata": {},
   "source": [
    "# Statistik\n",
    "\n",
    "Dieses Kapitel umfasst die grafische Darstellung und Analyse von empirischen Daten."
   ]
  },
  {
   "cell_type": "markdown",
   "metadata": {},
   "source": [
    "## Zufallszahlen\n",
    "\n",
    "Obwohl streng gesprochen keine Statistik,\n",
    "sind Zufallszahlen in Computerprogrammen immer wieder notwendig\n",
    "und ein praktisches Hilfsmittel um diverse Statistiken zu illustrieren.\n",
    "\n",
    "Python's internes `random` modul hat einige praktische Funktionen:"
   ]
  },
  {
   "cell_type": "code",
   "execution_count": 5,
   "metadata": {
    "collapsed": false
   },
   "outputs": [],
   "source": [
    "import random"
   ]
  },
  {
   "cell_type": "markdown",
   "metadata": {},
   "source": [
    "Fließkommazahl in [0, 1)"
   ]
  },
  {
   "cell_type": "code",
   "execution_count": 6,
   "metadata": {
    "collapsed": false
   },
   "outputs": [
    {
     "data": {
      "text/plain": [
       "0.36461328514232505"
      ]
     },
     "execution_count": 6,
     "metadata": {},
     "output_type": "execute_result"
    }
   ],
   "source": [
    "random.random()"
   ]
  },
  {
   "cell_type": "markdown",
   "metadata": {},
   "source": [
    "zufällige Ganzzahl"
   ]
  },
  {
   "cell_type": "code",
   "execution_count": 7,
   "metadata": {
    "collapsed": false
   },
   "outputs": [
    {
     "data": {
      "text/plain": [
       "7"
      ]
     },
     "execution_count": 7,
     "metadata": {},
     "output_type": "execute_result"
    }
   ],
   "source": [
    "random.randint(-10, 10)"
   ]
  },
  {
   "cell_type": "markdown",
   "metadata": {},
   "source": [
    "mischen einer Liste (hier, die Zahlen von 0 bis 9)"
   ]
  },
  {
   "cell_type": "code",
   "execution_count": 10,
   "metadata": {
    "collapsed": false
   },
   "outputs": [
    {
     "name": "stdout",
     "output_type": "stream",
     "text": [
      "[0, 5, 1, 4, 9, 3, 8, 2, 6, 7]\n"
     ]
    }
   ],
   "source": [
    "x = list(range(10))\n",
    "random.shuffle(x)\n",
    "print(x)"
   ]
  },
  {
   "cell_type": "markdown",
   "metadata": {},
   "source": [
    "Gauß'sche Normalverteilung, wobei `mu` der Mittelwert und `sigma` die Standardabweichung ist."
   ]
  },
  {
   "cell_type": "code",
   "execution_count": 11,
   "metadata": {
    "collapsed": false
   },
   "outputs": [
    {
     "data": {
      "text/plain": [
       "1.790115275319303"
      ]
     },
     "execution_count": 11,
     "metadata": {},
     "output_type": "execute_result"
    }
   ],
   "source": [
    "random.normalvariate(mu = 1, sigma = 2)"
   ]
  },
  {
   "cell_type": "markdown",
   "metadata": {},
   "source": [
    "Da Zufallszahlen in Programmen unvorhersebar sind,\n",
    "jedoch mit einer deterministischen Methode berechnet werden,\n",
    "gibt es die Möglichkeit den internen Status des Zufallszahlengenerators zu setzen.\n",
    "Dies passiert mit der `seed` Funktion und ist für Tests oder das reproduzieren bestimmter Ergebnisse nützlich."
   ]
  },
  {
   "cell_type": "code",
   "execution_count": 12,
   "metadata": {
    "collapsed": false
   },
   "outputs": [
    {
     "name": "stdout",
     "output_type": "stream",
     "text": [
      "0.6394267984578837 -1.2479729469788396\n",
      "0.6394267984578837 -1.2479729469788396\n"
     ]
    }
   ],
   "source": [
    "# zweimal genau dieselbe Zufallszahl!\n",
    "random.seed(42)\n",
    "print(random.random(), random.normalvariate(mu = 1, sigma = 2))\n",
    "random.seed(42)\n",
    "print(random.random(), random.normalvariate(mu = 1, sigma = 2))"
   ]
  },
  {
   "cell_type": "markdown",
   "metadata": {},
   "source": [
    "## Abzählstatistiken\n",
    "\n",
    "Mittels der Klasse [`Counter` in den `collections`](https://docs.python.org/2/library/collections.html#collections.Counter)\n",
    "([Counter in Python 3](https://docs.python.org/3/library/collections.html#collections.Counter)) können Listen abgezählt werden."
   ]
  },
  {
   "cell_type": "code",
   "execution_count": 13,
   "metadata": {
    "collapsed": false
   },
   "outputs": [],
   "source": [
    "from collections import Counter\n",
    "from random import randint"
   ]
  },
  {
   "cell_type": "markdown",
   "metadata": {},
   "source": [
    "Multipliziere 10000 mal zwei zufällig von 1 bis 4 gewählte Ganze Zahlen.\n",
    "Welche Häufigkeiten gibt es und was sind die drei häufigsten Zahlen?"
   ]
  },
  {
   "cell_type": "code",
   "execution_count": 14,
   "metadata": {
    "collapsed": false
   },
   "outputs": [
    {
     "data": {
      "text/plain": [
       "Counter({1: 638,\n",
       "         2: 1264,\n",
       "         3: 1227,\n",
       "         4: 1901,\n",
       "         6: 1224,\n",
       "         8: 1261,\n",
       "         9: 599,\n",
       "         12: 1240,\n",
       "         16: 646})"
      ]
     },
     "execution_count": 14,
     "metadata": {},
     "output_type": "execute_result"
    }
   ],
   "source": [
    "numbers = [randint(1, 4) * randint(1, 4) for i in range(10000)]\n",
    "c = Counter(numbers)\n",
    "c"
   ]
  },
  {
   "cell_type": "code",
   "execution_count": 15,
   "metadata": {
    "collapsed": false
   },
   "outputs": [
    {
     "data": {
      "text/plain": [
       "[(4, 1901), (2, 1264), (8, 1261)]"
      ]
     },
     "execution_count": 15,
     "metadata": {},
     "output_type": "execute_result"
    }
   ],
   "source": [
    "c.most_common(3)"
   ]
  },
  {
   "cell_type": "markdown",
   "metadata": {},
   "source": [
    "Einfaches Balkendiagramm, mit Skalierung.\n",
    "Beachte, dass einige Zahlen überhaupt nicht vorkommen.\n",
    "\n",
    "**Frage**: warum kommt die 4 am häufigsten vor?"
   ]
  },
  {
   "cell_type": "code",
   "execution_count": 16,
   "metadata": {
    "collapsed": false
   },
   "outputs": [
    {
     "ename": "TypeError",
     "evalue": "can't multiply sequence by non-int of type 'float'",
     "output_type": "error",
     "traceback": [
      "\u001b[1;31m\u001b[0m",
      "\u001b[1;31mTypeError\u001b[0mTraceback (most recent call last)",
      "\u001b[1;32m<ipython-input-16-604a169dfc9a>\u001b[0m in \u001b[0;36m<module>\u001b[1;34m()\u001b[0m\n\u001b[0;32m      1\u001b[0m \u001b[1;32mfor\u001b[0m \u001b[0mi\u001b[0m \u001b[1;32min\u001b[0m \u001b[0mrange\u001b[0m\u001b[1;33m(\u001b[0m\u001b[1;36m1\u001b[0m\u001b[1;33m,\u001b[0m \u001b[1;36m17\u001b[0m\u001b[1;33m)\u001b[0m\u001b[1;33m:\u001b[0m\u001b[1;33m\u001b[0m\u001b[0m\n\u001b[1;32m----> 2\u001b[1;33m     \u001b[0mprint\u001b[0m\u001b[1;33m(\u001b[0m\u001b[1;34m\"%2d: \"\u001b[0m \u001b[1;33m%\u001b[0m \u001b[0mi\u001b[0m \u001b[1;33m+\u001b[0m \u001b[1;34m\"-\"\u001b[0m \u001b[1;33m*\u001b[0m \u001b[1;33m(\u001b[0m\u001b[0mc\u001b[0m\u001b[1;33m[\u001b[0m\u001b[0mi\u001b[0m\u001b[1;33m]\u001b[0m\u001b[1;33m/\u001b[0m\u001b[1;36m30\u001b[0m\u001b[1;33m)\u001b[0m\u001b[1;33m)\u001b[0m\u001b[1;33m\u001b[0m\u001b[0m\n\u001b[0m",
      "\u001b[1;31mTypeError\u001b[0m: can't multiply sequence by non-int of type 'float'"
     ]
    }
   ],
   "source": [
    "for i in range(1, 17):\n",
    "    print(\"%2d: \" % i + \"-\" * (c[i]/30))"
   ]
  },
  {
   "cell_type": "markdown",
   "metadata": {},
   "source": [
    "### Plot Normal-/Exponential verteilter Punkte"
   ]
  },
  {
   "cell_type": "code",
   "execution_count": 17,
   "metadata": {
    "collapsed": false
   },
   "outputs": [
    {
     "data": {
      "text/plain": [
       "<matplotlib.collections.PathCollection at 0x7f00f5b47588>"
      ]
     },
     "execution_count": 17,
     "metadata": {},
     "output_type": "execute_result"
    },
    {
     "data": {
      "image/png": "[encoded data removed]",
      "text/plain": [
       "<matplotlib.figure.Figure at 0x7f0110432cf8>"
      ]
     },
     "metadata": {},
     "output_type": "display_data"
    }
   ],
   "source": [
    "N = 1000 # Anzahl der Punkte\n",
    "xx = [ random.expovariate(.5)      for _ in range(N)]\n",
    "yy = [ random.normalvariate(10, 2) for _ in range(N)]\n",
    "\n",
    "%matplotlib inline\n",
    "import matplotlib.pyplot as plt\n",
    "plt.scatter(xx, yy, marker=\".\", color=\"black\", alpha=.5)"
   ]
  },
  {
   "cell_type": "markdown",
   "metadata": {},
   "source": [
    "## NumPy/SciPy"
   ]
  },
  {
   "cell_type": "markdown",
   "metadata": {},
   "source": [
    "Es lassen sich leicht einfache Statistiken über Arrays or Matrizen berechnen:"
   ]
  },
  {
   "cell_type": "code",
   "execution_count": 18,
   "metadata": {
    "collapsed": false
   },
   "outputs": [],
   "source": [
    "import numpy as np"
   ]
  },
  {
   "cell_type": "code",
   "execution_count": 19,
   "metadata": {
    "collapsed": false
   },
   "outputs": [],
   "source": [
    "data = np.array([\n",
    "[ 3.1, 3.3, 3.2, 3.0 ],\n",
    "[ 0.1, 11, 9999,    0],\n",
    "[  31, -33,  11,   51],\n",
    "[-5.1, -.6,   1,  9.1]\n",
    "])"
   ]
  },
  {
   "cell_type": "code",
   "execution_count": 20,
   "metadata": {
    "collapsed": false
   },
   "outputs": [
    {
     "data": {
      "text/plain": [
       "630.44375000000002"
      ]
     },
     "execution_count": 20,
     "metadata": {},
     "output_type": "execute_result"
    }
   ],
   "source": [
    "data.mean()"
   ]
  },
  {
   "cell_type": "code",
   "execution_count": 21,
   "metadata": {
    "collapsed": false
   },
   "outputs": [
    {
     "data": {
      "text/plain": [
       "array([    7.275,    -4.825,  2503.55 ,    15.775])"
      ]
     },
     "execution_count": 21,
     "metadata": {},
     "output_type": "execute_result"
    }
   ],
   "source": [
    "# Spaltenweise\n",
    "data.mean(axis=0)"
   ]
  },
  {
   "cell_type": "code",
   "execution_count": 22,
   "metadata": {
    "collapsed": false
   },
   "outputs": [
    {
     "data": {
      "text/plain": [
       "array([  3.15000000e+00,   2.50252500e+03,   1.50000000e+01,\n",
       "         1.10000000e+00])"
      ]
     },
     "execution_count": 22,
     "metadata": {},
     "output_type": "execute_result"
    }
   ],
   "source": [
    "# Zeilenweise\n",
    "data.mean(axis=1)"
   ]
  },
  {
   "cell_type": "code",
   "execution_count": 23,
   "metadata": {
    "collapsed": false
   },
   "outputs": [
    {
     "data": {
      "text/plain": [
       "9999.0"
      ]
     },
     "execution_count": 23,
     "metadata": {},
     "output_type": "execute_result"
    }
   ],
   "source": [
    "data.max()"
   ]
  },
  {
   "cell_type": "code",
   "execution_count": 24,
   "metadata": {
    "collapsed": false
   },
   "outputs": [
    {
     "data": {
      "text/plain": [
       "array([  3.15,   5.55,  21.  ,   0.2 ])"
      ]
     },
     "execution_count": 24,
     "metadata": {},
     "output_type": "execute_result"
    }
   ],
   "source": [
    "# Zeilenweiser Median\n",
    "np.median(data, axis=1)"
   ]
  },
  {
   "cell_type": "code",
   "execution_count": 25,
   "metadata": {
    "collapsed": false
   },
   "outputs": [
    {
     "data": {
      "text/plain": [
       "array([   36.1,    44. ,  9998. ,    51. ])"
      ]
     },
     "execution_count": 25,
     "metadata": {},
     "output_type": "execute_result"
    }
   ],
   "source": [
    "# Spaltenweise die range von Minimum bis Maximum\n",
    "np.ptp(data, axis=0)"
   ]
  },
  {
   "cell_type": "code",
   "execution_count": 26,
   "metadata": {
    "collapsed": false
   },
   "outputs": [
    {
     "data": {
      "text/plain": [
       "array([  1.11803399e-01,   4.32809417e+03,   3.11126984e+01,\n",
       "         5.13176383e+00])"
      ]
     },
     "execution_count": 26,
     "metadata": {},
     "output_type": "execute_result"
    }
   ],
   "source": [
    "# Standardabweichung\n",
    "np.std(data, axis=1)"
   ]
  },
  {
   "cell_type": "markdown",
   "metadata": {},
   "source": [
    "### Zufallszahlenarrays\n",
    "\n",
    "NumPy liefert in [numpy.random](http://docs.scipy.org/doc/numpy/reference/routines.random.html) eine Fülle von Funktionen für das effiziente Sampeln verschiedener Verteilungen in Arrays."
   ]
  },
  {
   "cell_type": "markdown",
   "metadata": {},
   "source": [
    "Die vorhergehenden `xx` und `yy` listen lassen sich viel effizienter als NumPy Vektoren erzeugen:"
   ]
  },
  {
   "cell_type": "code",
   "execution_count": 27,
   "metadata": {
    "collapsed": false
   },
   "outputs": [
    {
     "data": {
      "text/plain": [
       "<matplotlib.collections.PathCollection at 0x7f00f3277c18>"
      ]
     },
     "execution_count": 27,
     "metadata": {},
     "output_type": "execute_result"
    },
    {
     "data": {
      "image/png": "[encoded data removed]",
      "text/plain": [
       "<matplotlib.figure.Figure at 0x7f00f334fd30>"
      ]
     },
     "metadata": {},
     "output_type": "display_data"
    }
   ],
   "source": [
    "xx = np.random.exponential(scale = 5, size = N)\n",
    "yy = 10 + 2 * np.random.randn(N)\n",
    "plt.scatter(xx, yy, color=\"black\", marker=\".\", alpha=.5)"
   ]
  },
  {
   "cell_type": "markdown",
   "metadata": {},
   "source": [
    "SciPy beinhaltet in [scipy.stats](http://docs.scipy.org/doc/scipy-dev/reference/stats.html) eine Sammlung von statistischen Verteilungen, Methoden und Tests.\n",
    "Viele alltägliche Anwendungen sind damit abgedeckt.\n",
    "\n",
    "Das allgemeine Schema ist hierbei so,\n",
    "dass für jede der diskreten oder kontinuierlichen Verteilungen jeweils eine Liste bestimmter Funktionen implementiert sind.\n",
    "\n",
    "* `pdf` und `cdf` sind beispielsweise die Dichte- und kumulierten Dichteverteilungen,\n",
    "* `rvs` zum Sampeln zufälliger Werte,\n",
    "* und schließlich `fit` zum Anpassen an gegebene Daten und\n",
    "* `stats` für generelle Daten über die Verteilung."
   ]
  },
  {
   "cell_type": "code",
   "execution_count": 28,
   "metadata": {
    "collapsed": false
   },
   "outputs": [],
   "source": [
    "import scipy.stats as sps"
   ]
  },
  {
   "cell_type": "markdown",
   "metadata": {},
   "source": [
    "10 Bernulli-verteilte Zahlen, mit Wahrscheinlichkeitsparameter `p = 0.2`:"
   ]
  },
  {
   "cell_type": "code",
   "execution_count": 29,
   "metadata": {
    "collapsed": false
   },
   "outputs": [
    {
     "data": {
      "text/plain": [
       "array([0, 1, 0, 0, 0, 0, 0, 1, 0, 1])"
      ]
     },
     "execution_count": 29,
     "metadata": {},
     "output_type": "execute_result"
    }
   ],
   "source": [
    "sps.bernoulli.rvs(.2, size = 10)"
   ]
  },
  {
   "cell_type": "markdown",
   "metadata": {},
   "source": [
    "Rekonstruktion unserer Parameter der Normalverteilung (siehe `yy` oben)"
   ]
  },
  {
   "cell_type": "code",
   "execution_count": 30,
   "metadata": {
    "collapsed": false
   },
   "outputs": [
    {
     "data": {
      "text/plain": [
       "(10.04454503926571, 2.0309183722908273)"
      ]
     },
     "execution_count": 30,
     "metadata": {},
     "output_type": "execute_result"
    }
   ],
   "source": [
    "sps.norm.fit(yy)"
   ]
  },
  {
   "cell_type": "markdown",
   "metadata": {},
   "source": [
    "Es gibt in `scipy.stats` auch eine Reihe von statistischen Funktionen und Tests.\n",
    "Beispielsweise gibt es den berühmten [T-Test](http://en.wikipedia.org/wiki/Student's_t-test),\n",
    "um herauszufinden ob zwei unterschiedliche Samples den gleichen Mittelwert haben."
   ]
  },
  {
   "cell_type": "markdown",
   "metadata": {},
   "source": [
    "## Sierpinsky Dreieck\n",
    "\n",
    "Als visuelles Ergebnis eines Zufallsprozesses."
   ]
  },
  {
   "cell_type": "code",
   "execution_count": 31,
   "metadata": {
    "collapsed": false
   },
   "outputs": [
    {
     "data": {
      "text/plain": [
       "<matplotlib.collections.PathCollection at 0x7f00e629db70>"
      ]
     },
     "execution_count": 31,
     "metadata": {},
     "output_type": "execute_result"
    },
    {
     "data": {
      "image/png": "[encoded data removed]",
      "text/plain": [
       "<matplotlib.figure.Figure at 0x7f00e62d7fd0>"
      ]
     },
     "metadata": {},
     "output_type": "display_data"
    }
   ],
   "source": [
    "import numpy as np\n",
    "%matplotlib inline\n",
    "import matplotlib.pyplot as plt\n",
    "\n",
    "N = 2000\n",
    "edges = np.array([[0, 0], [2, 0], [1, 2]], dtype=np.float)\n",
    "sierp = np.empty((N, 2))\n",
    "point = edges[0]\n",
    "\n",
    "for i in range(3, N):\n",
    "    edge = edges[random.randint(0, 2)]\n",
    "    point = (point + edge) / 2\n",
    "    sierp[i] = point\n",
    "\n",
    "plt.scatter(*sierp.T, s=1, marker=\".\", c=\"b\")"
   ]
  },
  {
   "cell_type": "markdown",
   "metadata": {},
   "source": [
    "### (Welch's) T-Test\n",
    "\n",
    "`male` und `female` sind (halbwegs normalverteilte) Prüfungsergebnisse.\n",
    "Gibt es einen signifikanten Unterschied?\n",
    "Die $H_0$ [Nullhypothese](http://en.wikipedia.org/wiki/Null_hypothesis) wäre, dass die Mittelwerte gleich sind.\n",
    "Die Ergebnisse des Tests liegen aber über der 1% bzw. 5% Schranke ($\\sim 55.2\\%$)\n",
    "und daher kann die Nullhypothese nicht verworfen werden.\n",
    "In der Tat sind die Mittelwerte jedoch nicht gleich,\n",
    "jedoch kann der Test dies aufgrund der kleinen Datenmenge bzw. großen Streuung dies nicht erkennen."
   ]
  },
  {
   "cell_type": "code",
   "execution_count": 32,
   "metadata": {
    "collapsed": false
   },
   "outputs": [],
   "source": [
    "male = [3, 4, 1, 2, 2, 1, 3, 4, 2, 3, 2, 3, 3, 4, 4, 3, 3, 5, 1, 4,\n",
    "        2, 3, 3, 2, 1, 5, 3, 3, 1, 2]\n",
    "female = [3, 3, 2, 3, 4, 3, 1, 4, 1, 2, 1, 3, 2, 3, 4, 1, 3, 3, 3, 2]"
   ]
  },
  {
   "cell_type": "code",
   "execution_count": 33,
   "metadata": {
    "collapsed": false
   },
   "outputs": [
    {
     "data": {
      "text/plain": [
       "(2.7333333333333334, 1.1234866364235143, 3.0)"
      ]
     },
     "execution_count": 33,
     "metadata": {},
     "output_type": "execute_result"
    }
   ],
   "source": [
    "np.mean(male), np.std(male), np.median(male)"
   ]
  },
  {
   "cell_type": "code",
   "execution_count": 34,
   "metadata": {
    "collapsed": false
   },
   "outputs": [
    {
     "data": {
      "text/plain": [
       "(2.5499999999999998, 0.97339611669658921, 3.0)"
      ]
     },
     "execution_count": 34,
     "metadata": {},
     "output_type": "execute_result"
    }
   ],
   "source": [
    "np.mean(female), np.std(female), np.median(female)"
   ]
  },
  {
   "cell_type": "code",
   "execution_count": 35,
   "metadata": {
    "collapsed": false
   },
   "outputs": [
    {
     "data": {
      "text/plain": [
       "Ttest_indResult(statistic=0.59990642797746641, pvalue=0.55161451342571177)"
      ]
     },
     "execution_count": 35,
     "metadata": {},
     "output_type": "execute_result"
    }
   ],
   "source": [
    "sps.ttest_ind(male, female, equal_var = False)"
   ]
  },
  {
   "cell_type": "markdown",
   "metadata": {},
   "source": [
    "## Statsmodels\n",
    "\n",
    "Eine mächtigere Bibliothek für statistische Modellierung und Rechnung ist [Statsmodels](http://statsmodels.sourceforge.net/)."
   ]
  },
  {
   "cell_type": "code",
   "execution_count": null,
   "metadata": {
    "collapsed": false
   },
   "outputs": [],
   "source": []
  }
 ],
 "metadata": {
  "kernelspec": {
   "display_name": "Anaconda (Python 3)",
   "language": "python",
   "name": "anaconda3"
  },
  "language_info": {
   "codemirror_mode": {
    "name": "ipython",
    "version": 3
   },
   "file_extension": ".py",
   "mimetype": "text/x-python",
   "name": "python",
   "nbconvert_exporter": "python",
   "pygments_lexer": "ipython3",
   "version": "3.5.1"
  }
 },
 "nbformat": 4,
 "nbformat_minor": 0
}
