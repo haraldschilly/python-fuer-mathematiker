{
 "cells": [
  {
   "cell_type": "markdown",
   "metadata": {},
   "source": [
    "# Dateien, Dateiformate und Persistenz"
   ]
  },
  {
   "cell_type": "markdown",
   "metadata": {},
   "source": [
    "Ein Computerprogramm hat seinen Platz im Arbeitsspeicher.\n",
    "Das ist ein schneller, aber vergänglicher Ort um Daten abzulegen.\n",
    "Möchte man \n",
    "\n",
    "* Ergebnisse einer Berechnung speichern,\n",
    "* existierende Daten einlesen,\n",
    "* oder Berechnungen zwischenspeichern\n",
    "\n",
    "braucht es weiterer Technologien, um die Daten aus dem Arbeitsspeicher z.B. auf die Festplatte oder in einer Datenbank zu speichern und später von dort wieder einzulesen.\n",
    "\n",
    "Der Überbegriff für jegliches Speichern von Daten in einer Datei ist [Serialisierung](http://de.wikipedia.org/wiki/Serialisierung).\n",
    "Die Daten des Programmes werden hierbei kodiert und als lineare Sequenz von Bits&Bytes abgelegt.\n",
    "Im folgenden werden einige solcher Formate vorgestellt und kurz erklärt,\n",
    "wie sie mit Python gelesen bzw. geschrieben werden können."
   ]
  },
  {
   "cell_type": "markdown",
   "metadata": {},
   "source": [
    "## Dateien\n",
    "\n",
    "* Ein **Byte** ist die kleinste Speichereinheit und umfasst 8 Bits (Wahr oder Falsch Werte).\n",
    "* Eine **Datei** ist ein Vektor von Bytes (ganz ähnlich wie ein String, bzw. byte-Vektor in Python 3).\n",
    "* Dateien werden auf der Festplatte des Computers gespeichert, wobei diese Byte-Vektoren durch physikalische Techniken (Magentismus, Feldeffekttransistoren, Kerr-Effekt, etc.) so abgelegt werden, dass sie auch ohne Stromzufuhr erhalten bleiben und später wieder ausgelesen werden können.\n",
    "* Daher werden Festplatten für die\n",
    "  <a href=\"http://en.wikipedia.org/wiki/Persistence_(computer_science)\">Persistenz</a> von Information verwendet.\n",
    "\n",
    "## Dateisystem & Verzeichnisse\n",
    "\n",
    "Da es ist in der Praxis sehr mühsam wäre die exakte Speicherpositionen jeder einzelnen Datei auf der Festplatte zu wissen, gibt es [**Dateisysteme**](http://en.wikipedia.org/wiki/File_system) ([POSIX Standard](http://en.wikipedia.org/wiki/POSIX)).\n",
    "Ein Dateisystem (wie z.B. EXT4, btrfs, ZFS oder NTFS)\n",
    "ist eine Strukturierung der Festplatte (oder einer darin definierten Partition),\n",
    "um anhand eines generischen [**Pfades**](http://en.wikipedia.org/wiki/Path_%28computing%29) die Datei zu finden.\n",
    "Auch merkt sich das Dateisystem die Größe der Datei\n",
    "(neben anderen Informationen wie Zugriffszeit und Berechtigungen)\n",
    "und erlaubt damit das einfache Auslesen der gesamten darin gespeicherten Daten. Beispiel:\n",
    "\n",
    "    /home/joe/documents/thesis.tex\n",
    "\n",
    "Solch ein Pfad besteht zur besseren Strukturierung aus einer Verzeichnisstruktur und einem Dateinamen.\n",
    "Diese Verzeichnisse können verschachtelt sein und sind mit einem Schrägstrich \"`/`\" getrennt.\n",
    "`/home/joe/documents` ist das Verzeichnis zu Joe's Dokumenten,\n",
    "wo er seine Dissertation unter dem Dateinamen `thesis.tex` gespeichert hat.\n",
    "(Windows verwendet übrigens ebenfalls ein POSIX kompatibles Dateisystem mit einem `/`,\n",
    "verwendet aber im Interface des Benutzers einen Backslash \"\\\"\n",
    "-- der normalerweise [zum Escapen](http://en.wikipedia.org/wiki/Escape_character) verwendet wird\n",
    "-- und Bildet daher eine Ausnahme).\n",
    "\n",
    "Die Dateiendung `tex` ist übrigens ein Hinweis darauf, dass es sich um eine $\\LaTeX$ Datei handeln wird.\n",
    "Es könnte jedoch auch etwas anderes darin gespeichert sein..."
   ]
  },
  {
   "cell_type": "markdown",
   "metadata": {},
   "source": [
    "Im folgenden Beispiel wird eine Datei `verfassung.md` aus dem Unterverzeichnis \"`res`\" dieses Skriptums eingelesen.\n",
    "Damit dies Betriebssystemunabhängig funktioniert,\n",
    "wird `os.path.join` für das Zusammenfügen des Dateipfades verwendet:\n",
    "\n",
    "Regel: **Immer** `os.path.join` statt expliziter Pfade verwenden!"
   ]
  },
  {
   "cell_type": "code",
   "execution_count": 2,
   "metadata": {
    "collapsed": false
   },
   "outputs": [
    {
     "data": {
      "text/plain": [
       "'res/verfassung.md'"
      ]
     },
     "execution_count": 2,
     "metadata": {},
     "output_type": "execute_result"
    }
   ],
   "source": [
    "import os\n",
    "filename = os.path.join(\"res\", \"verfassung.md\")\n",
    "filename"
   ]
  },
  {
   "cell_type": "markdown",
   "metadata": {},
   "source": [
    "## Text-Datei\n",
    "\n",
    "Es handelt sich in diesem ersten Beispiel um eine Text-Datei.\n",
    "Das heißt, die darin gespeicherten Bytes stehen für Buchstaben und Zahlen im Alphabet, einigen Interpunktionszeichen und Steuerzeichen (neue Zeile, etc.).\n",
    "Da ein Byte 8 Bit hat, können dadurch nur maximal $2^8 = 256$ Zeichen kodiert werden.\n",
    "\n",
    "Beispiel: Die Binärzahl \"`01000001`\" ist der Buchstabe \"`A`\"."
   ]
  },
  {
   "cell_type": "code",
   "execution_count": 3,
   "metadata": {
    "collapsed": false
   },
   "outputs": [
    {
     "data": {
      "text/plain": [
       "'A'"
      ]
     },
     "execution_count": 3,
     "metadata": {},
     "output_type": "execute_result"
    }
   ],
   "source": [
    "chr(int(\"01000001\", 2))"
   ]
  },
  {
   "cell_type": "markdown",
   "metadata": {},
   "source": [
    "Das historisch erste durchgängig verwendete Kodierungsalphabet ist [ASCII](http://en.wikipedia.org/wiki/ASCII).\n",
    "Ein kurzer Blick reicht jedoch um zu sehen, dass es hier keine Umlaute gibt.\n",
    "Auch ist in diesen 256 Zeichen kein Platz für Schriftzeichen aus vielen anderen Sprachen.\n",
    "\n",
    "Daher gibt es modernere Kodierungen wie [UTF-8](http://en.wikipedia.org/wiki/UTF-8) (und verwandte) um alle Schriftzeichen kodieren zu können.\n",
    "\n",
    "Im folgenden werden nun die Byte-Daten dieser Text-Datei\n",
    "mittels der in Python eingebauten Funktion `open` eingelesen.\n",
    "Es öffnet zuerst die Datei (und gibt einen File-Handler zurück) und\n",
    "dann liest die Methode `.read()` die Byte-Daten ein:"
   ]
  },
  {
   "cell_type": "code",
   "execution_count": 4,
   "metadata": {
    "collapsed": false
   },
   "outputs": [
    {
     "data": {
      "text/plain": [
       "<open file 'res/verfassung.md', mode 'r' at 0x1f9ef60>"
      ]
     },
     "execution_count": 4,
     "metadata": {},
     "output_type": "execute_result"
    }
   ],
   "source": [
    "filehandler = open(filename)\n",
    "filehandler"
   ]
  },
  {
   "cell_type": "code",
   "execution_count": 5,
   "metadata": {
    "collapsed": false
   },
   "outputs": [
    {
     "data": {
      "text/plain": [
       "'## Bundes-Verfassungsgesetz\\n\\n### Allgemeine Bestimmungen. Europ\\xc3\\xa4ische Union\\n\\n**Artikel 1.**\\n\\n\\xc3\\x96sterreich ist eine demokratische Republik. Ihr Recht geht vom Volk aus.\\n\\n**Artikel 2.**\\n\\n1. \\xc3\\x96sterreich ist ein Bundesstaat.\\n2. Der Bundesstaat wird gebildet aus den selbst\\xc3\\xa4ndigen L\\xc3\\xa4ndern: Burgenland, K\\xc3\\xa4rnten, Nieder\\xc3\\xb6sterreich, Ober\\xc3\\xb6sterreich, Salzburg, Steiermark, Tirol, Vorarlberg, Wien.\\n3. \\xc3\\x84nderungen im Bestand der L\\xc3\\xa4nder oder eine Einschr\\xc3\\xa4nkung der in diesem Absatz und in Art. 3 vorgesehenen Mitwirkung der L\\xc3\\xa4nder bed\\xc3\\xbcrfen auch verfassungsgesetzlicher Regelungen der L\\xc3\\xa4nder.\\n\\n**Artikel 3.**\\n\\n1. Das Bundesgebiet umfasst die Gebiete der Bundesl\\xc3\\xa4nder.\\n2. Staatsvertr\\xc3\\xa4ge, mit denen die Bundesgrenzen ge\\xc3\\xa4ndert werden, d\\xc3\\xbcrfen nur mit Zustimmung der betroffenen L\\xc3\\xa4nder abgeschlossen werden.\\n3. Grenz\\xc3\\xa4nderungen innerhalb des Bundesgebietes bed\\xc3\\xbcrfen \\xc3\\xbcbereinstimmender Gesetze des Bundes und der betroffenen L\\xc3\\xa4nder. F\\xc3\\xbcr Grenzbereinigungen innerhalb des Bundesgebietes gen\\xc3\\xbcgen \\xc3\\xbcbereinstimmende Gesetze der betroffenen L\\xc3\\xa4nder.\\n4. Sofern es sich nicht um Grenzbereinigungen handelt, bed\\xc3\\xbcrfen Beschl\\xc3\\xbcsse des Nationalrates \\xc3\\xbcber Grenz\\xc3\\xa4nderungen gem\\xc3\\xa4\\xc3\\x9f Abs. 2 und 3 der Anwesenheit von mindestens der H\\xc3\\xa4lfte der Mitglieder und einer Mehrheit von zwei Dritteln der abgegebenen Stimmen.\\n'"
      ]
     },
     "execution_count": 5,
     "metadata": {},
     "output_type": "execute_result"
    }
   ],
   "source": [
    "filedata = filehandler.read()\n",
    "filedata"
   ]
  },
  {
   "cell_type": "markdown",
   "metadata": {},
   "source": [
    "In einem eigenständigen Programm wird üblicherweise anschließend die Datei wieder mittels `.close()` geschlossen:"
   ]
  },
  {
   "cell_type": "code",
   "execution_count": 6,
   "metadata": {
    "collapsed": false
   },
   "outputs": [],
   "source": [
    "filehandler.close()"
   ]
  },
  {
   "cell_type": "markdown",
   "metadata": {},
   "source": [
    "Wie man sieht, beinhaltet die Datei Text und ein paar extra Zeichen.\n",
    "\n",
    "* \"`\\n`\" ist eine Zeilenumbruch\n",
    "* \"`\\xNN`\" sind hexadezimale Werte für [UTF-8 kodierte Buchstaben](http://en.wikipedia.org/wiki/UTF-8)\n",
    "  (in unserem Fall der deutschen Sprache sind das Umlaute usw.)\n",
    "  Das rührt daher, dass beim Erstellen dieser Textdatei diese Soderzeichen genau nach dieser UTF-8 Kodierung \n",
    "  geschrieben wurden. Beispiel:"
   ]
  },
  {
   "cell_type": "code",
   "execution_count": 7,
   "metadata": {
    "collapsed": false
   },
   "outputs": [
    {
     "name": "stdout",
     "output_type": "stream",
     "text": [
      "ä\n"
     ]
    }
   ],
   "source": [
    "print('\\xc3\\xa4')"
   ]
  },
  {
   "cell_type": "markdown",
   "metadata": {},
   "source": [
    "* Zwischendurch gibt es auch [Markdown Steuerzeichen](http://en.wikipedia.org/wiki/Markdown) zur Formatierung des Textes.\n",
    "\n",
    "Hier nun eine \"bessere\" (also, für den Menschen lesbarere Art) wie die Daten dieser Datei dargestellt werden können:\n",
    "\n",
    "1. `filedata.decode(\"utf8\")` dekodiert die UTF-8 Kodierung und\n",
    "1. IPython's Markdown parser liest den dekodierten Text ein und konvertiert auf HTML (welches dann hier angezeigt wird bzw. im PDF wird dieses Markdown anschließend auch noch nach LaTeX übersetzt)"
   ]
  },
  {
   "cell_type": "code",
   "execution_count": 8,
   "metadata": {
    "collapsed": false
   },
   "outputs": [
    {
     "data": {
      "text/markdown": [
       "## Bundes-Verfassungsgesetz\n",
       "\n",
       "### Allgemeine Bestimmungen. Europäische Union\n",
       "\n",
       "**Artikel 1.**\n",
       "\n",
       "Österreich ist eine demokratische Republik. Ihr Recht geht vom Volk aus.\n",
       "\n",
       "**Artikel 2.**\n",
       "\n",
       "1. Österreich ist ein Bundesstaat.\n",
       "2. Der Bundesstaat wird gebildet aus den selbständigen Ländern: Burgenland, Kärnten, Niederösterreich, Oberösterreich, Salzburg, Steiermark, Tirol, Vorarlberg, Wien.\n",
       "3. Änderungen im Bestand der Länder oder eine Einschränkung der in diesem Absatz und in Art. 3 vorgesehenen Mitwirkung der Länder bedürfen auch verfassungsgesetzlicher Regelungen der Länder.\n",
       "\n",
       "**Artikel 3.**\n",
       "\n",
       "1. Das Bundesgebiet umfasst die Gebiete der Bundesländer.\n",
       "2. Staatsverträge, mit denen die Bundesgrenzen geändert werden, dürfen nur mit Zustimmung der betroffenen Länder abgeschlossen werden.\n",
       "3. Grenzänderungen innerhalb des Bundesgebietes bedürfen übereinstimmender Gesetze des Bundes und der betroffenen Länder. Für Grenzbereinigungen innerhalb des Bundesgebietes genügen übereinstimmende Gesetze der betroffenen Länder.\n",
       "4. Sofern es sich nicht um Grenzbereinigungen handelt, bedürfen Beschlüsse des Nationalrates über Grenzänderungen gemäß Abs. 2 und 3 der Anwesenheit von mindestens der Hälfte der Mitglieder und einer Mehrheit von zwei Dritteln der abgegebenen Stimmen.\n"
      ],
      "text/plain": [
       "<IPython.core.display.Markdown object>"
      ]
     },
     "metadata": {},
     "output_type": "display_data"
    }
   ],
   "source": [
    "from IPython.display import Markdown, display\n",
    "display(Markdown(filedata.decode(\"utf8\")))"
   ]
  },
  {
   "cell_type": "markdown",
   "metadata": {},
   "source": [
    "---\n",
    "\n",
    "Nun ist es viel einfacher zu lesen!\n",
    "\n",
    "Hier noch eine zweite Variante, wie UTF-8 kodierter Text besser eingelesen werden kann.\n",
    "Das Modul \"[`codecs`](https://docs.python.org/2/library/codecs.html)\"\n",
    "stellt ebenfalls eine `open` Funktion bereit,\n",
    "welcher man gleich direkt angeben kann, dass es sich um UTF-8 kodierten Text handelt.\n",
    "Anschließend kann die Datei ohne Dekodierungsschritt eingelesen und dargestellt werden.\n",
    "\n",
    "Hinweis: UTF-8 ist weit verbreitet, wird von so gut wie allen Webseiten verwendet\n",
    "und eigentlich der Standard schlechthin.\n",
    "Es gibt jedoch noch andere Textformatierungen,\n",
    "z.B. in Windows \"Westeuropäisch\" mit Codepage \"`cp1140`\" bzw. \"`iso-8859-1[5]`\"."
   ]
  },
  {
   "cell_type": "markdown",
   "metadata": {},
   "source": [
    "### with statement\n",
    "\n",
    "Außerdem erweist es sich in der Praxis als sehr nützlich,\n",
    "mittels [with statement](https://docs.python.org/2/reference/compound_stmts.html#with)\n",
    "```python\n",
    "with ... as x:\n",
    "    do_something_with(x)\n",
    "```\n",
    "einen [Kontext](https://docs.python.org/2/reference/datamodel.html#context-managers)\n",
    "für die geöffnete Datei erzeugt.\n",
    "Der große Vorteil ist, dass bei Verlassen dieses Kontexts die Datei automatisch geschlossen wird (auch dann, wenn es zu einer Exception kommt).\n",
    "\n",
    "Regel: Lesen und Schreiben von Dateien im allgmeinen **immer** mit `with`-Kontexten."
   ]
  },
  {
   "cell_type": "code",
   "execution_count": 9,
   "metadata": {
    "collapsed": false
   },
   "outputs": [
    {
     "data": {
      "text/markdown": [
       "## Bundes-Verfassungsgesetz\n",
       "\n",
       "### Allgemeine Bestimmungen. Europäische Union\n",
       "\n",
       "**Artikel 1.**\n",
       "\n",
       "Österreich ist eine demokratische Republik. Ihr Recht geht vom Volk aus.\n",
       "\n",
       "**Artikel 2.**\n",
       "\n",
       "1. Österreich ist ein Bundesstaat.\n",
       "2. Der Bundesstaat wird gebildet aus den selbständigen Ländern: Burgenland, Kärnten, Niederösterreich, Oberösterreich, Salzburg, Steiermark, Tirol, Vorarlberg, Wien.\n",
       "3. Änderungen im Bestand der Länder oder eine Einschränkung der in diesem Absatz und in Art. 3 vorgesehenen Mitwirkung der Länder bedürfen auch verfassungsgesetzlicher Regelungen der Länder.\n",
       "\n",
       "**Artikel 3.**\n",
       "\n",
       "1. Das Bundesgebiet umfasst die Gebiete der Bundesländer.\n",
       "2. Staatsverträge, mit denen die Bundesgrenzen geändert werden, dürfen nur mit Zustimmung der betroffenen Länder abgeschlossen werden.\n",
       "3. Grenzänderungen innerhalb des Bundesgebietes bedürfen übereinstimmender Gesetze des Bundes und der betroffenen Länder. Für Grenzbereinigungen innerhalb des Bundesgebietes genügen übereinstimmende Gesetze der betroffenen Länder.\n",
       "4. Sofern es sich nicht um Grenzbereinigungen handelt, bedürfen Beschlüsse des Nationalrates über Grenzänderungen gemäß Abs. 2 und 3 der Anwesenheit von mindestens der Hälfte der Mitglieder und einer Mehrheit von zwei Dritteln der abgegebenen Stimmen.\n"
      ],
      "text/plain": [
       "<IPython.core.display.Markdown object>"
      ]
     },
     "metadata": {},
     "output_type": "display_data"
    }
   ],
   "source": [
    "from codecs import open as copen\n",
    "with copen(filename, \"r\", \"utf8\") as verfassung:\n",
    "    text = verfassung.read()\n",
    "    display(Markdown(text))"
   ]
  },
  {
   "cell_type": "markdown",
   "metadata": {},
   "source": [
    "---\n",
    "\n",
    "Bislang wurde immer die `.read()` Methode des File-Handlers verwendet,\n",
    "um die gesamte Datei einzulesen.\n",
    "Handelt es sich um sehr große Dateien, passen sie nicht mehr in den Arbeitsspeicher oder verlangsamen die Verarbeitung.\n",
    "Daher gibt es z.B. die Möglichkeit, eine Textdatei Zeilenweise einzulesen oder immer nur Blockweise.\n",
    "\n",
    "* `.read(<Anzahl Bytes>)`\n",
    "* `.readlines()` iteriert über die Zeilen"
   ]
  },
  {
   "cell_type": "markdown",
   "metadata": {},
   "source": [
    "Einlesen der ersten 10  und dann 20 Bytes"
   ]
  },
  {
   "cell_type": "code",
   "execution_count": 10,
   "metadata": {
    "collapsed": false
   },
   "outputs": [
    {
     "name": "stdout",
     "output_type": "stream",
     "text": [
      "10 bytes:         '## Bundes-'\n",
      "weitere 20 bytes: 'Verfassungsgesetz\\n\\n#'\n"
     ]
    }
   ],
   "source": [
    "with open(filename) as verfassung:\n",
    "    print(\"10 bytes:         %r\" % verfassung.read(10))\n",
    "    print(\"weitere 20 bytes: %r\" % verfassung.read(20))"
   ]
  },
  {
   "cell_type": "markdown",
   "metadata": {},
   "source": [
    "Um zwischendurch wieder an den Anfang der Datei zu springen, gibt es die `.seek(0)` Methode:"
   ]
  },
  {
   "cell_type": "markdown",
   "metadata": {},
   "source": [
    "Einlesen der ersten 10 Zeilen mittels `.readlines()`, welches beim Iterieren in einer `for`-Schleife auch automatisch aufgerufen werden würde:"
   ]
  },
  {
   "cell_type": "code",
   "execution_count": 11,
   "metadata": {
    "collapsed": false
   },
   "outputs": [
    {
     "name": "stdout",
     "output_type": "stream",
     "text": [
      "Zeile  0: ## Bundes-Verfassungsgesetz\n",
      "Zeile  1: \n",
      "Zeile  2: ### Allgemeine Bestimmungen. Europäische Union\n",
      "Zeile  3: \n",
      "Zeile  4: **Artikel 1.**\n",
      "Zeile  5: \n",
      "Zeile  6: Österreich ist eine demokratische Republik. Ihr Recht geht vom Volk aus.\n",
      "Zeile  7: \n",
      "Zeile  8: **Artikel 2.**\n",
      "Zeile  9: \n",
      "Zeile 10: 1. Österreich ist ein Bundesstaat.\n"
     ]
    }
   ],
   "source": [
    "with copen(filename, \"r\", \"utf8\") as verfassung:\n",
    "    for line_number, line in enumerate(verfassung.readlines()):\n",
    "        print(u\"Zeile %2d: %s\" % (line_number, line[:-1]))\n",
    "        if line_number >= 10:\n",
    "            break"
   ]
  },
  {
   "cell_type": "markdown",
   "metadata": {},
   "source": [
    "## Schreiben einer Datei\n",
    "\n",
    "Bislang haben wir uns ausschließlich mit dem Einlesen einer Datei beschäftigt.\n",
    "Das Schreiben läuft ganz ähnlich ab:\n",
    "\n",
    "1. File-Handler für eine Datei, aber mit dem **Modus \"w\" für \"write\"** (statt \"r\" für \"read\").\n",
    "   (sollen Binärdaten geschrieben werden, gibt es auch \"wb\").\n",
    "   Für Textdateien am besten **`codecs.open(\"...\", \"w\", \"utf8\")`**.\n",
    "2. Die Methode `.write(...)` des File-Handlers.\n",
    "3. Abschließen der Schreibvorgangs durch `.close()` bzw. innerhalb eines `with`-Kontexts arbeiten.\n",
    "\n",
    "Hinweis: Im Unterschied zur Verwendung des `print` Statements oder Funktion, muss ein Zeilenumbruch explizit mit \"`\\n`\" eingefügt werden."
   ]
  },
  {
   "cell_type": "code",
   "execution_count": 12,
   "metadata": {
    "collapsed": false
   },
   "outputs": [],
   "source": [
    "import os, codecs\n",
    "filename = os.path.join(\"res\", \"textdatei.txt\")\n",
    "\n",
    "with codecs.open(filename, \"w\", \"utf8\") as outfile:\n",
    "    from math import log\n",
    "    outfile.write(\"Die Berechneten Werte\\n\")\n",
    "    outfile.write(\"  x: %10s %12s\\n\" % (\"f(x)\", \"lg(f(x))\"))\n",
    "    for i in range(1,11):\n",
    "        fx = (i + i**5) / 3.\n",
    "        outfile.write(\"%3d: %10.2f %12.2f\\n\" % (i, fx, log(fx, 10)))\n",
    "    outfile.write(\"ENDE\")"
   ]
  },
  {
   "cell_type": "markdown",
   "metadata": {},
   "source": [
    "Anschließendes Einlesen dieser Datei um zu sehen, was gerade passiert ist:"
   ]
  },
  {
   "cell_type": "code",
   "execution_count": 13,
   "metadata": {
    "collapsed": false
   },
   "outputs": [
    {
     "name": "stdout",
     "output_type": "stream",
     "text": [
      "Die Berechneten Werte\n",
      "  x:       f(x)     lg(f(x))\n",
      "  1:       0.67        -0.18\n",
      "  2:      11.33         1.05\n",
      "  3:      82.00         1.91\n",
      "  4:     342.67         2.53\n",
      "  5:    1043.33         3.02\n",
      "  6:    2594.00         3.41\n",
      "  7:    5604.67         3.75\n",
      "  8:   10925.33         4.04\n",
      "  9:   19686.00         4.29\n",
      " 10:   33336.67         4.52\n",
      "ENDE\n"
     ]
    }
   ],
   "source": [
    "with codecs.open(filename, \"r\") as infile:\n",
    "    print(infile.read())"
   ]
  },
  {
   "cell_type": "markdown",
   "metadata": {},
   "source": [
    "## Strukturierte Dateien\n",
    "\n",
    "Neben Textdokumenten, die verwirrenderweise auch mit Text-Formatierungen strukturiert sein können aber trotzdem  unstrukturiert sind, gibt es eine Vielzahl von Dateien mit einem klar definierten \"Format\" zur Strukturierung.\n",
    "\n",
    "NB: Text-Formatierungen sind hierbei \"normale\" Buchstaben oder \"Befehle\",\n",
    "die eine besondere Bedeutung erhalten -- z.B. \"fett\" oder \"Aufzählung\".\n",
    "\n",
    "Das \"Format\" einer strukturierten Daten ist viel genauer und strenger:\n",
    "Es legt Regeln für die gesamte Datei fest,\n",
    "so wie z.B. die Programmiersprache Python für den gesamten geschriebenen Code genaue Linguistische Regeln festlegt."
   ]
  },
  {
   "cell_type": "markdown",
   "metadata": {},
   "source": [
    "## Python Pickle\n",
    "\n",
    "[Python Pickles](https://docs.python.org/2/library/pickle.html)\n",
    "sind eine für Python spezifische Technik,\n",
    "Daten eines Objektes zu speichern.\n",
    "Der Vorteil ist, dass es sehr schnell und speicherplatsparend funktioniert.\n",
    "Die Nachteile sind, dass dies eine rein Python spezifische Lösung ist und\n",
    "zum Laden des pickles wird genau die richtige Klasse (mit derselben Struktur) benötigt."
   ]
  },
  {
   "cell_type": "code",
   "execution_count": 14,
   "metadata": {
    "collapsed": false
   },
   "outputs": [],
   "source": [
    "from os.path import join\n",
    "try:\n",
    "    import cPickle as pickle\n",
    "finally:\n",
    "    import pickle"
   ]
  },
  {
   "cell_type": "code",
   "execution_count": 15,
   "metadata": {
    "collapsed": false
   },
   "outputs": [
    {
     "name": "stdout",
     "output_type": "stream",
     "text": [
      "33031824\n"
     ]
    }
   ],
   "source": [
    "class Data(object):\n",
    "    def __init__(self, a, b):\n",
    "        self.a = a\n",
    "        self.b = b\n",
    "d1 = Data(a = \"this is value a\", b = [2, 2, 31])\n",
    "print(id(d1))"
   ]
  },
  {
   "cell_type": "markdown",
   "metadata": {},
   "source": [
    "Es ist immer eine gute Idee, das Protokoll auf die aktuellste Version zu stellen.\n",
    "Standardmäßig wird immer die niedrigste (und viel schlechtere) Variante genommen,\n",
    "um rückwärskompatibel zu sein."
   ]
  },
  {
   "cell_type": "code",
   "execution_count": 16,
   "metadata": {
    "collapsed": false
   },
   "outputs": [],
   "source": [
    "pickle_fn = join(\"res\", \"data.pickle\")\n",
    "with open(pickle_fn, \"wb\") as  pickle_file:\n",
    "    pickle.dump(d1, pickle_file, protocol=pickle.HIGHEST_PROTOCOL)"
   ]
  },
  {
   "cell_type": "markdown",
   "metadata": {},
   "source": [
    "Nun wird die Klasse wieder geladen, in `d2` statt `d1`, und gelesen.\n",
    "Man sieht, die Klasse ist rekonstruiert worden, die Daten sind verfügbar, und die Speicheradresse ist eine andere."
   ]
  },
  {
   "cell_type": "code",
   "execution_count": 17,
   "metadata": {
    "collapsed": false
   },
   "outputs": [
    {
     "name": "stdout",
     "output_type": "stream",
     "text": [
      "(<class '__main__.Data'>, 34125840)\n"
     ]
    },
    {
     "data": {
      "text/plain": [
       "('this is value a', [2, 2, 31])"
      ]
     },
     "execution_count": 17,
     "metadata": {},
     "output_type": "execute_result"
    }
   ],
   "source": [
    "d2 = pickle.load(open(pickle_fn))\n",
    "print(type(d2), id(d2))\n",
    "d2.a, d2.b"
   ]
  },
  {
   "cell_type": "markdown",
   "metadata": {},
   "source": [
    "## CSV: Comma-Separated-Values\n",
    "\n",
    "Dies ist ein sehr einfaches, rein textbasiertes Format.\n",
    "Es handelt sich um spatenweise angeordnete Daten in Form einer Tabelle,\n",
    "wobei Spaten durch \"`,`\", \"`;`\" oder Tabulator \"\\t\" getrennt werden.\n",
    "Die erste Zeile ist üblicherweise eine Beschriftung der Spalten,\n",
    "darunter ein Eintrag pro Zeile.\n",
    "Strings werden üblicherweise in Anführungszeichen gestellt,\n",
    "insbesondere um Verwechslungen mit dem trennenden Zeichen zu vermeiden.\n",
    "Dokumentation: [Python CSV](https://docs.python.org/2/library/csv.html)\n",
    "\n",
    "Achtung: Es gibt keine Typeninformation! Daher sind Zahlen Strings und müssen vorsichtig konvertiert werden."
   ]
  },
  {
   "cell_type": "code",
   "execution_count": 18,
   "metadata": {
    "collapsed": false
   },
   "outputs": [],
   "source": [
    "from os.path import join\n",
    "flugzeit_csv = join(\"res\", \"flugzeit.csv\")"
   ]
  },
  {
   "cell_type": "markdown",
   "metadata": {},
   "source": [
    "IPython's `%%writefile`-magic Funktion schribt in die Datei `flugzeit_csv` den hier angegebenen Text."
   ]
  },
  {
   "cell_type": "code",
   "execution_count": 19,
   "metadata": {
    "collapsed": false
   },
   "outputs": [
    {
     "name": "stdout",
     "output_type": "stream",
     "text": [
      "Overwriting res/flugzeit.csv\n"
     ]
    }
   ],
   "source": [
    "%%writefile $flugzeit_csv\n",
    "origin,destination,time,distance\n",
    "VIE,LHR,2:30,1100\n",
    "VIE,JFK,8:59,6823\n",
    "JFK,ZCL,4:39,3346\n",
    "SFO,JFK,5:30,4162\n",
    "PEK,ZRH,10:55,7993\n",
    "HNL,YOW,10:08,7758\n",
    "VIE,BER,1:09,676\n",
    "CDG,TIP,3:01,2019\n",
    "CDG,ATZ,4:47,3453\n",
    "CDG,FCO,1:52,1102\n",
    "VIE,FCO,1:28,780\n",
    "LIS,AMM,5:39,4138\n",
    "LIS,BER,3:22,2307\n",
    "LIS,WAW,3:55,2754\n",
    "PEK,SVO,7:43,5811\n",
    "BRN,HUU,13:20,10331"
   ]
  },
  {
   "cell_type": "markdown",
   "metadata": {},
   "source": [
    "Die Datei wird geöffnet und mittels der [`csv.reader`](https://docs.python.org/2/library/csv.html) Methode eingelesen, wobei als Trennzeichen der \",\" angegeben wird."
   ]
  },
  {
   "cell_type": "code",
   "execution_count": 20,
   "metadata": {
    "collapsed": false
   },
   "outputs": [
    {
     "name": "stdout",
     "output_type": "stream",
     "text": [
      "['origin', 'destination', 'time', 'distance']\n",
      "['VIE', 'LHR', '2:30', '1100']\n",
      "['VIE', 'JFK', '8:59', '6823']\n",
      "['JFK', 'ZCL', '4:39', '3346']\n",
      "['SFO', 'JFK', '5:30', '4162']\n",
      "['PEK', 'ZRH', '10:55', '7993']\n",
      "['HNL', 'YOW', '10:08', '7758']\n",
      "['VIE', 'BER', '1:09', '676']\n",
      "['CDG', 'TIP', '3:01', '2019']\n",
      "['CDG', 'ATZ', '4:47', '3453']\n",
      "['CDG', 'FCO', '1:52', '1102']\n",
      "['VIE', 'FCO', '1:28', '780']\n",
      "['LIS', 'AMM', '5:39', '4138']\n",
      "['LIS', 'BER', '3:22', '2307']\n",
      "['LIS', 'WAW', '3:55', '2754']\n",
      "['PEK', 'SVO', '7:43', '5811']\n",
      "['BRN', 'HUU', '13:20', '10331']\n"
     ]
    }
   ],
   "source": [
    "import csv\n",
    "with open(flugzeit_csv) as fzeit:\n",
    "    for line in csv.reader(fzeit, delimiter=\",\"):\n",
    "        print line"
   ]
  },
  {
   "cell_type": "markdown",
   "metadata": {},
   "source": [
    "Wie man sieht, Python's `csv` modul hat die Datei mühelos lesen können.\n",
    "Einzig das Trennzeichen musste gesetzt werden.\n",
    "Jede Zeile ist eine `list` von `str` Objekten.\n",
    "Die Zahlen müssten für eine weitere Verarbeitung umgewandelt werden."
   ]
  },
  {
   "cell_type": "markdown",
   "metadata": {},
   "source": [
    "### CSV mittels Pandas\n",
    "\n",
    "Pandas kann DatenFrames von CSV Tabellen einlesen.\n",
    "Dabei werden die Datentypen (wenn möglich) automatisch konvertiert\n",
    "und es lassen sich Header und Indices genauer angeben.\n",
    "[Pandas' `from_csv` Dokumentation](http://pandas.pydata.org/pandas-docs/stable/io.html#io-read-csv-table)\n",
    "\n",
    "In diesem gegebenen Fall wird wieder der Strichpunkt als Trennzeichen angegeben\n",
    "und keine der Spalten als Index definiert."
   ]
  },
  {
   "cell_type": "code",
   "execution_count": 21,
   "metadata": {
    "collapsed": false
   },
   "outputs": [
    {
     "data": {
      "text/html": [
       "<div style=\"max-height:1000px;max-width:1500px;overflow:auto;\">\n",
       "<table border=\"1\" class=\"dataframe\">\n",
       "  <thead>\n",
       "    <tr style=\"text-align: right;\">\n",
       "      <th></th>\n",
       "      <th>origin</th>\n",
       "      <th>destination</th>\n",
       "      <th>time</th>\n",
       "      <th>distance</th>\n",
       "    </tr>\n",
       "  </thead>\n",
       "  <tbody>\n",
       "    <tr>\n",
       "      <th>0</th>\n",
       "      <td>VIE</td>\n",
       "      <td>LHR</td>\n",
       "      <td>2:30</td>\n",
       "      <td>1100</td>\n",
       "    </tr>\n",
       "    <tr>\n",
       "      <th>1</th>\n",
       "      <td>VIE</td>\n",
       "      <td>JFK</td>\n",
       "      <td>8:59</td>\n",
       "      <td>6823</td>\n",
       "    </tr>\n",
       "    <tr>\n",
       "      <th>2</th>\n",
       "      <td>JFK</td>\n",
       "      <td>ZCL</td>\n",
       "      <td>4:39</td>\n",
       "      <td>3346</td>\n",
       "    </tr>\n",
       "    <tr>\n",
       "      <th>3</th>\n",
       "      <td>SFO</td>\n",
       "      <td>JFK</td>\n",
       "      <td>5:30</td>\n",
       "      <td>4162</td>\n",
       "    </tr>\n",
       "    <tr>\n",
       "      <th>4</th>\n",
       "      <td>PEK</td>\n",
       "      <td>ZRH</td>\n",
       "      <td>10:55</td>\n",
       "      <td>7993</td>\n",
       "    </tr>\n",
       "    <tr>\n",
       "      <th>5</th>\n",
       "      <td>HNL</td>\n",
       "      <td>YOW</td>\n",
       "      <td>10:08</td>\n",
       "      <td>7758</td>\n",
       "    </tr>\n",
       "    <tr>\n",
       "      <th>6</th>\n",
       "      <td>VIE</td>\n",
       "      <td>BER</td>\n",
       "      <td>1:09</td>\n",
       "      <td>676</td>\n",
       "    </tr>\n",
       "    <tr>\n",
       "      <th>7</th>\n",
       "      <td>CDG</td>\n",
       "      <td>TIP</td>\n",
       "      <td>3:01</td>\n",
       "      <td>2019</td>\n",
       "    </tr>\n",
       "    <tr>\n",
       "      <th>8</th>\n",
       "      <td>CDG</td>\n",
       "      <td>ATZ</td>\n",
       "      <td>4:47</td>\n",
       "      <td>3453</td>\n",
       "    </tr>\n",
       "    <tr>\n",
       "      <th>9</th>\n",
       "      <td>CDG</td>\n",
       "      <td>FCO</td>\n",
       "      <td>1:52</td>\n",
       "      <td>1102</td>\n",
       "    </tr>\n",
       "    <tr>\n",
       "      <th>10</th>\n",
       "      <td>VIE</td>\n",
       "      <td>FCO</td>\n",
       "      <td>1:28</td>\n",
       "      <td>780</td>\n",
       "    </tr>\n",
       "    <tr>\n",
       "      <th>11</th>\n",
       "      <td>LIS</td>\n",
       "      <td>AMM</td>\n",
       "      <td>5:39</td>\n",
       "      <td>4138</td>\n",
       "    </tr>\n",
       "    <tr>\n",
       "      <th>12</th>\n",
       "      <td>LIS</td>\n",
       "      <td>BER</td>\n",
       "      <td>3:22</td>\n",
       "      <td>2307</td>\n",
       "    </tr>\n",
       "    <tr>\n",
       "      <th>13</th>\n",
       "      <td>LIS</td>\n",
       "      <td>WAW</td>\n",
       "      <td>3:55</td>\n",
       "      <td>2754</td>\n",
       "    </tr>\n",
       "    <tr>\n",
       "      <th>14</th>\n",
       "      <td>PEK</td>\n",
       "      <td>SVO</td>\n",
       "      <td>7:43</td>\n",
       "      <td>5811</td>\n",
       "    </tr>\n",
       "    <tr>\n",
       "      <th>15</th>\n",
       "      <td>BRN</td>\n",
       "      <td>HUU</td>\n",
       "      <td>13:20</td>\n",
       "      <td>10331</td>\n",
       "    </tr>\n",
       "  </tbody>\n",
       "</table>\n",
       "</div>"
      ],
      "text/plain": [
       "   origin destination   time  distance\n",
       "0     VIE         LHR   2:30      1100\n",
       "1     VIE         JFK   8:59      6823\n",
       "2     JFK         ZCL   4:39      3346\n",
       "3     SFO         JFK   5:30      4162\n",
       "4     PEK         ZRH  10:55      7993\n",
       "5     HNL         YOW  10:08      7758\n",
       "6     VIE         BER   1:09       676\n",
       "7     CDG         TIP   3:01      2019\n",
       "8     CDG         ATZ   4:47      3453\n",
       "9     CDG         FCO   1:52      1102\n",
       "10    VIE         FCO   1:28       780\n",
       "11    LIS         AMM   5:39      4138\n",
       "12    LIS         BER   3:22      2307\n",
       "13    LIS         WAW   3:55      2754\n",
       "14    PEK         SVO   7:43      5811\n",
       "15    BRN         HUU  13:20     10331"
      ]
     },
     "execution_count": 21,
     "metadata": {},
     "output_type": "execute_result"
    }
   ],
   "source": [
    "import pandas as pd\n",
    "flighttimes = pd.DataFrame.from_csv(flugzeit_csv, sep=\",\", index_col=None)\n",
    "flighttimes"
   ]
  },
  {
   "cell_type": "markdown",
   "metadata": {},
   "source": [
    "Die `time` Spalte wird nun explizit mit einer Parserfunktion `hm_time`\n",
    "in Stunden konvertiert und als neue Spalte `time2` eingeführt."
   ]
  },
  {
   "cell_type": "code",
   "execution_count": 22,
   "metadata": {
    "collapsed": false
   },
   "outputs": [
    {
     "data": {
      "text/html": [
       "<div style=\"max-height:1000px;max-width:1500px;overflow:auto;\">\n",
       "<table border=\"1\" class=\"dataframe\">\n",
       "  <thead>\n",
       "    <tr style=\"text-align: right;\">\n",
       "      <th></th>\n",
       "      <th>origin</th>\n",
       "      <th>destination</th>\n",
       "      <th>time</th>\n",
       "      <th>distance</th>\n",
       "      <th>time2</th>\n",
       "    </tr>\n",
       "  </thead>\n",
       "  <tbody>\n",
       "    <tr>\n",
       "      <th>0</th>\n",
       "      <td>VIE</td>\n",
       "      <td>LHR</td>\n",
       "      <td>2:30</td>\n",
       "      <td>1100</td>\n",
       "      <td>2.500000</td>\n",
       "    </tr>\n",
       "    <tr>\n",
       "      <th>1</th>\n",
       "      <td>VIE</td>\n",
       "      <td>JFK</td>\n",
       "      <td>8:59</td>\n",
       "      <td>6823</td>\n",
       "      <td>8.983333</td>\n",
       "    </tr>\n",
       "    <tr>\n",
       "      <th>2</th>\n",
       "      <td>JFK</td>\n",
       "      <td>ZCL</td>\n",
       "      <td>4:39</td>\n",
       "      <td>3346</td>\n",
       "      <td>4.650000</td>\n",
       "    </tr>\n",
       "    <tr>\n",
       "      <th>3</th>\n",
       "      <td>SFO</td>\n",
       "      <td>JFK</td>\n",
       "      <td>5:30</td>\n",
       "      <td>4162</td>\n",
       "      <td>5.500000</td>\n",
       "    </tr>\n",
       "    <tr>\n",
       "      <th>4</th>\n",
       "      <td>PEK</td>\n",
       "      <td>ZRH</td>\n",
       "      <td>10:55</td>\n",
       "      <td>7993</td>\n",
       "      <td>10.916667</td>\n",
       "    </tr>\n",
       "    <tr>\n",
       "      <th>5</th>\n",
       "      <td>HNL</td>\n",
       "      <td>YOW</td>\n",
       "      <td>10:08</td>\n",
       "      <td>7758</td>\n",
       "      <td>10.133333</td>\n",
       "    </tr>\n",
       "    <tr>\n",
       "      <th>6</th>\n",
       "      <td>VIE</td>\n",
       "      <td>BER</td>\n",
       "      <td>1:09</td>\n",
       "      <td>676</td>\n",
       "      <td>1.150000</td>\n",
       "    </tr>\n",
       "    <tr>\n",
       "      <th>7</th>\n",
       "      <td>CDG</td>\n",
       "      <td>TIP</td>\n",
       "      <td>3:01</td>\n",
       "      <td>2019</td>\n",
       "      <td>3.016667</td>\n",
       "    </tr>\n",
       "    <tr>\n",
       "      <th>8</th>\n",
       "      <td>CDG</td>\n",
       "      <td>ATZ</td>\n",
       "      <td>4:47</td>\n",
       "      <td>3453</td>\n",
       "      <td>4.783333</td>\n",
       "    </tr>\n",
       "    <tr>\n",
       "      <th>9</th>\n",
       "      <td>CDG</td>\n",
       "      <td>FCO</td>\n",
       "      <td>1:52</td>\n",
       "      <td>1102</td>\n",
       "      <td>1.866667</td>\n",
       "    </tr>\n",
       "    <tr>\n",
       "      <th>10</th>\n",
       "      <td>VIE</td>\n",
       "      <td>FCO</td>\n",
       "      <td>1:28</td>\n",
       "      <td>780</td>\n",
       "      <td>1.466667</td>\n",
       "    </tr>\n",
       "    <tr>\n",
       "      <th>11</th>\n",
       "      <td>LIS</td>\n",
       "      <td>AMM</td>\n",
       "      <td>5:39</td>\n",
       "      <td>4138</td>\n",
       "      <td>5.650000</td>\n",
       "    </tr>\n",
       "    <tr>\n",
       "      <th>12</th>\n",
       "      <td>LIS</td>\n",
       "      <td>BER</td>\n",
       "      <td>3:22</td>\n",
       "      <td>2307</td>\n",
       "      <td>3.366667</td>\n",
       "    </tr>\n",
       "    <tr>\n",
       "      <th>13</th>\n",
       "      <td>LIS</td>\n",
       "      <td>WAW</td>\n",
       "      <td>3:55</td>\n",
       "      <td>2754</td>\n",
       "      <td>3.916667</td>\n",
       "    </tr>\n",
       "    <tr>\n",
       "      <th>14</th>\n",
       "      <td>PEK</td>\n",
       "      <td>SVO</td>\n",
       "      <td>7:43</td>\n",
       "      <td>5811</td>\n",
       "      <td>7.716667</td>\n",
       "    </tr>\n",
       "    <tr>\n",
       "      <th>15</th>\n",
       "      <td>BRN</td>\n",
       "      <td>HUU</td>\n",
       "      <td>13:20</td>\n",
       "      <td>10331</td>\n",
       "      <td>13.333333</td>\n",
       "    </tr>\n",
       "  </tbody>\n",
       "</table>\n",
       "</div>"
      ],
      "text/plain": [
       "   origin destination   time  distance      time2\n",
       "0     VIE         LHR   2:30      1100   2.500000\n",
       "1     VIE         JFK   8:59      6823   8.983333\n",
       "2     JFK         ZCL   4:39      3346   4.650000\n",
       "3     SFO         JFK   5:30      4162   5.500000\n",
       "4     PEK         ZRH  10:55      7993  10.916667\n",
       "5     HNL         YOW  10:08      7758  10.133333\n",
       "6     VIE         BER   1:09       676   1.150000\n",
       "7     CDG         TIP   3:01      2019   3.016667\n",
       "8     CDG         ATZ   4:47      3453   4.783333\n",
       "9     CDG         FCO   1:52      1102   1.866667\n",
       "10    VIE         FCO   1:28       780   1.466667\n",
       "11    LIS         AMM   5:39      4138   5.650000\n",
       "12    LIS         BER   3:22      2307   3.366667\n",
       "13    LIS         WAW   3:55      2754   3.916667\n",
       "14    PEK         SVO   7:43      5811   7.716667\n",
       "15    BRN         HUU  13:20     10331  13.333333"
      ]
     },
     "execution_count": 22,
     "metadata": {},
     "output_type": "execute_result"
    }
   ],
   "source": [
    "def hm_time(entry):\n",
    "    h, m = entry.split(\":\")\n",
    "    return int(h) + int(m) / 60.\n",
    "\n",
    "flighttimes[\"time2\"] = flighttimes.time.apply(hm_time)\n",
    "flighttimes"
   ]
  },
  {
   "cell_type": "code",
   "execution_count": 23,
   "metadata": {
    "collapsed": false
   },
   "outputs": [
    {
     "data": {
      "text/plain": [
       "origin              BRN\n",
       "destination         HUU\n",
       "time              13:20\n",
       "distance          10331\n",
       "time2          13.33333\n",
       "Name: 15, dtype: object"
      ]
     },
     "execution_count": 23,
     "metadata": {},
     "output_type": "execute_result"
    }
   ],
   "source": [
    "# maximum overall distance\n",
    "flighttimes.ix[flighttimes.distance.argmax()]"
   ]
  },
  {
   "cell_type": "code",
   "execution_count": 24,
   "metadata": {
    "collapsed": false
   },
   "outputs": [
    {
     "name": "stdout",
     "output_type": "stream",
     "text": [
      "Maximum distance from BRN: 10331 km to HUU\n",
      "Maximum distance from CDG:  3453 km to ATZ\n",
      "Maximum distance from HNL:  7758 km to YOW\n",
      "Maximum distance from JFK:  3346 km to ZCL\n",
      "Maximum distance from LIS:  4138 km to AMM\n",
      "Maximum distance from PEK:  7993 km to ZRH\n",
      "Maximum distance from SFO:  4162 km to JFK\n",
      "Maximum distance from VIE:  6823 km to JFK\n"
     ]
    }
   ],
   "source": [
    "# maximum distance, for each origin\n",
    "for group, subdf in flighttimes.groupby(\"origin\"):\n",
    "    m = flighttimes.ix[subdf.distance.argmax()]\n",
    "    print(\"Maximum distance from %s: %5d km to %s\" % (group, m.distance, m.destination))"
   ]
  },
  {
   "cell_type": "markdown",
   "metadata": {},
   "source": [
    "Zur Auflockerung eine grafische Darstellung der Weg-Zeit Abhängigkeit.\n",
    "Wenig Überraschend, es ist direkt proportional!"
   ]
  },
  {
   "cell_type": "code",
   "execution_count": 25,
   "metadata": {
    "collapsed": false
   },
   "outputs": [],
   "source": [
    "%matplotlib inline\n",
    "import matplotlib\n",
    "matplotlib.rcParams[\"figure.figsize\"] = (12,7)"
   ]
  },
  {
   "cell_type": "code",
   "execution_count": 26,
   "metadata": {
    "collapsed": false
   },
   "outputs": [
    {
     "data": {
      "text/plain": [
       "<matplotlib.axes._subplots.AxesSubplot at 0x40e4d90>"
      ]
     },
     "execution_count": 26,
     "metadata": {},
     "output_type": "execute_result"
    },
    {
     "data": {
      "image/svg+xml": [
       "<?xml version=\"1.0\" encoding=\"utf-8\" standalone=\"no\"?>\n",
       "<!DOCTYPE svg PUBLIC \"-//W3C//DTD SVG 1.1//EN\"\n",
       "  \"http://www.w3.org/Graphics/SVG/1.1/DTD/svg11.dtd\">\n",
       "<!-- Created with matplotlib (http://matplotlib.org/) -->\n",
       "<svg height=\"438pt\" version=\"1.1\" viewBox=\"0 0 728 438\" width=\"728pt\" xmlns=\"http://www.w3.org/2000/svg\" xmlns:xlink=\"http://www.w3.org/1999/xlink\">\n",
       " <defs>\n",
       "  <style type=\"text/css\">\n",
       "*{stroke-linecap:butt;stroke-linejoin:round;}\n",
       "  </style>\n",
       " </defs>\n",
       " <g id=\"figure_1\">\n",
       "  <g id=\"patch_1\">\n",
       "   <path d=\"\n",
       "M0 438.195\n",
       "L728.769 438.195\n",
       "L728.769 0\n",
       "L0 0\n",
       "L0 438.195\" style=\"fill:none;\"/>\n",
       "  </g>\n",
       "  <g id=\"axes_1\">\n",
       "   <g id=\"patch_2\">\n",
       "    <path d=\"\n",
       "M36.9438 402.639\n",
       "L706.544 402.639\n",
       "L706.544 12.0391\n",
       "L36.9438 12.0391\n",
       "L36.9438 402.639\" style=\"fill:none;\"/>\n",
       "   </g>\n",
       "   <g id=\"PathCollection_1\">\n",
       "    <defs>\n",
       "     <path d=\"\n",
       "M0 2.23607\n",
       "C0.593012 2.23607 1.16182 2.00046 1.58114 1.58114\n",
       "C2.00046 1.16182 2.23607 0.593012 2.23607 0\n",
       "C2.23607 -0.593012 2.00046 -1.16182 1.58114 -1.58114\n",
       "C1.16182 -2.00046 0.593012 -2.23607 0 -2.23607\n",
       "C-0.593012 -2.23607 -1.16182 -2.00046 -1.58114 -1.58114\n",
       "C-2.00046 -1.16182 -2.23607 -0.593012 -2.23607 0\n",
       "C-2.23607 0.593012 -2.00046 1.16182 -1.58114 1.58114\n",
       "C-1.16182 2.00046 -0.593012 2.23607 0 2.23607\n",
       "z\n",
       "\" id=\"m892ea4c8d5\" style=\"stroke:#000000;\"/>\n",
       "    </defs>\n",
       "    <g clip-path=\"url(#p452e089d6e)\">\n",
       "     <use style=\"fill:#0000ff;stroke:#000000;\" x=\"98.32375\" xlink:href=\"#m892ea4c8d5\" y=\"332.8890625\"/>\n",
       "     <use style=\"fill:#0000ff;stroke:#000000;\" x=\"417.66715\" xlink:href=\"#m892ea4c8d5\" y=\"152.0040625\"/>\n",
       "     <use style=\"fill:#0000ff;stroke:#000000;\" x=\"223.65055\" xlink:href=\"#m892ea4c8d5\" y=\"272.9040625\"/>\n",
       "     <use style=\"fill:#0000ff;stroke:#000000;\" x=\"269.18335\" xlink:href=\"#m892ea4c8d5\" y=\"249.1890625\"/>\n",
       "     <use style=\"fill:#0000ff;stroke:#000000;\" x=\"482.95315\" xlink:href=\"#m892ea4c8d5\" y=\"98.0640625\"/>\n",
       "     <use style=\"fill:#0000ff;stroke:#000000;\" x=\"469.84015\" xlink:href=\"#m892ea4c8d5\" y=\"119.9190625\"/>\n",
       "     <use style=\"fill:#0000ff;stroke:#000000;\" x=\"74.66455\" xlink:href=\"#m892ea4c8d5\" y=\"370.5540625\"/>\n",
       "     <use style=\"fill:#0000ff;stroke:#000000;\" x=\"149.60395\" xlink:href=\"#m892ea4c8d5\" y=\"318.4740625\"/>\n",
       "     <use style=\"fill:#0000ff;stroke:#000000;\" x=\"229.62115\" xlink:href=\"#m892ea4c8d5\" y=\"269.1840625\"/>\n",
       "     <use style=\"fill:#0000ff;stroke:#000000;\" x=\"98.43535\" xlink:href=\"#m892ea4c8d5\" y=\"350.5590625\"/>\n",
       "     <use style=\"fill:#0000ff;stroke:#000000;\" x=\"80.46775\" xlink:href=\"#m892ea4c8d5\" y=\"361.7190625\"/>\n",
       "     <use style=\"fill:#0000ff;stroke:#000000;\" x=\"267.84415\" xlink:href=\"#m892ea4c8d5\" y=\"245.0040625\"/>\n",
       "     <use style=\"fill:#0000ff;stroke:#000000;\" x=\"165.67435\" xlink:href=\"#m892ea4c8d5\" y=\"308.7090625\"/>\n",
       "     <use style=\"fill:#0000ff;stroke:#000000;\" x=\"190.61695\" xlink:href=\"#m892ea4c8d5\" y=\"293.3640625\"/>\n",
       "     <use style=\"fill:#0000ff;stroke:#000000;\" x=\"361.19755\" xlink:href=\"#m892ea4c8d5\" y=\"187.3440625\"/>\n",
       "     <use style=\"fill:#0000ff;stroke:#000000;\" x=\"613.41355\" xlink:href=\"#m892ea4c8d5\" y=\"30.6390625\"/>\n",
       "    </g>\n",
       "   </g>\n",
       "   <g id=\"patch_3\">\n",
       "    <path d=\"\n",
       "M36.9438 12.0391\n",
       "L706.544 12.0391\" style=\"fill:none;stroke:#000000;stroke-linecap:square;stroke-linejoin:miter;\"/>\n",
       "   </g>\n",
       "   <g id=\"patch_4\">\n",
       "    <path d=\"\n",
       "M706.544 402.639\n",
       "L706.544 12.0391\" style=\"fill:none;stroke:#000000;stroke-linecap:square;stroke-linejoin:miter;\"/>\n",
       "   </g>\n",
       "   <g id=\"patch_5\">\n",
       "    <path d=\"\n",
       "M36.9438 402.639\n",
       "L706.544 402.639\" style=\"fill:none;stroke:#000000;stroke-linecap:square;stroke-linejoin:miter;\"/>\n",
       "   </g>\n",
       "   <g id=\"patch_6\">\n",
       "    <path d=\"\n",
       "M36.9438 402.639\n",
       "L36.9438 12.0391\" style=\"fill:none;stroke:#000000;stroke-linecap:square;stroke-linejoin:miter;\"/>\n",
       "   </g>\n",
       "   <g id=\"matplotlib.axis_1\">\n",
       "    <g id=\"xtick_1\">\n",
       "     <g id=\"line2d_1\">\n",
       "      <path clip-path=\"url(#p452e089d6e)\" d=\"\n",
       "M36.9438 402.639\n",
       "L36.9438 12.0391\" style=\"fill:none;stroke:#000000;stroke-dasharray:1.000000,3.000000;stroke-dashoffset:0.0;stroke-width:0.5;\"/>\n",
       "     </g>\n",
       "     <g id=\"line2d_2\">\n",
       "      <defs>\n",
       "       <path d=\"\n",
       "M0 0\n",
       "L0 -4\" id=\"m93b0483c22\" style=\"stroke:#000000;stroke-width:0.5;\"/>\n",
       "      </defs>\n",
       "      <g>\n",
       "       <use style=\"stroke:#000000;stroke-width:0.5;\" x=\"36.94375\" xlink:href=\"#m93b0483c22\" y=\"402.6390625\"/>\n",
       "      </g>\n",
       "     </g>\n",
       "     <g id=\"line2d_3\">\n",
       "      <defs>\n",
       "       <path d=\"\n",
       "M0 0\n",
       "L0 4\" id=\"m741efc42ff\" style=\"stroke:#000000;stroke-width:0.5;\"/>\n",
       "      </defs>\n",
       "      <g>\n",
       "       <use style=\"stroke:#000000;stroke-width:0.5;\" x=\"36.94375\" xlink:href=\"#m741efc42ff\" y=\"12.0390625\"/>\n",
       "      </g>\n",
       "     </g>\n",
       "     <g id=\"text_1\">\n",
       "      <!-- 0 -->\n",
       "      <defs>\n",
       "       <path d=\"\n",
       "M31.7812 66.4062\n",
       "Q24.1719 66.4062 20.3281 58.9062\n",
       "Q16.5 51.4219 16.5 36.375\n",
       "Q16.5 21.3906 20.3281 13.8906\n",
       "Q24.1719 6.39062 31.7812 6.39062\n",
       "Q39.4531 6.39062 43.2812 13.8906\n",
       "Q47.125 21.3906 47.125 36.375\n",
       "Q47.125 51.4219 43.2812 58.9062\n",
       "Q39.4531 66.4062 31.7812 66.4062\n",
       "M31.7812 74.2188\n",
       "Q44.0469 74.2188 50.5156 64.5156\n",
       "Q56.9844 54.8281 56.9844 36.375\n",
       "Q56.9844 17.9688 50.5156 8.26562\n",
       "Q44.0469 -1.42188 31.7812 -1.42188\n",
       "Q19.5312 -1.42188 13.0625 8.26562\n",
       "Q6.59375 17.9688 6.59375 36.375\n",
       "Q6.59375 54.8281 13.0625 64.5156\n",
       "Q19.5312 74.2188 31.7812 74.2188\" id=\"BitstreamVeraSans-Roman-30\"/>\n",
       "      </defs>\n",
       "      <g transform=\"translate(34.42421875 414.2375)scale(0.1 -0.1)\">\n",
       "       <use xlink:href=\"#BitstreamVeraSans-Roman-30\"/>\n",
       "      </g>\n",
       "     </g>\n",
       "    </g>\n",
       "    <g id=\"xtick_2\">\n",
       "     <g id=\"line2d_4\">\n",
       "      <path clip-path=\"url(#p452e089d6e)\" d=\"\n",
       "M148.544 402.639\n",
       "L148.544 12.0391\" style=\"fill:none;stroke:#000000;stroke-dasharray:1.000000,3.000000;stroke-dashoffset:0.0;stroke-width:0.5;\"/>\n",
       "     </g>\n",
       "     <g id=\"line2d_5\">\n",
       "      <g>\n",
       "       <use style=\"stroke:#000000;stroke-width:0.5;\" x=\"148.54375\" xlink:href=\"#m93b0483c22\" y=\"402.6390625\"/>\n",
       "      </g>\n",
       "     </g>\n",
       "     <g id=\"line2d_6\">\n",
       "      <g>\n",
       "       <use style=\"stroke:#000000;stroke-width:0.5;\" x=\"148.54375\" xlink:href=\"#m741efc42ff\" y=\"12.0390625\"/>\n",
       "      </g>\n",
       "     </g>\n",
       "     <g id=\"text_2\">\n",
       "      <!-- 2000 -->\n",
       "      <defs>\n",
       "       <path d=\"\n",
       "M19.1875 8.29688\n",
       "L53.6094 8.29688\n",
       "L53.6094 0\n",
       "L7.32812 0\n",
       "L7.32812 8.29688\n",
       "Q12.9375 14.1094 22.625 23.8906\n",
       "Q32.3281 33.6875 34.8125 36.5312\n",
       "Q39.5469 41.8438 41.4219 45.5312\n",
       "Q43.3125 49.2188 43.3125 52.7812\n",
       "Q43.3125 58.5938 39.2344 62.25\n",
       "Q35.1562 65.9219 28.6094 65.9219\n",
       "Q23.9688 65.9219 18.8125 64.3125\n",
       "Q13.6719 62.7031 7.8125 59.4219\n",
       "L7.8125 69.3906\n",
       "Q13.7656 71.7812 18.9375 73\n",
       "Q24.125 74.2188 28.4219 74.2188\n",
       "Q39.75 74.2188 46.4844 68.5469\n",
       "Q53.2188 62.8906 53.2188 53.4219\n",
       "Q53.2188 48.9219 51.5312 44.8906\n",
       "Q49.8594 40.875 45.4062 35.4062\n",
       "Q44.1875 33.9844 37.6406 27.2188\n",
       "Q31.1094 20.4531 19.1875 8.29688\" id=\"BitstreamVeraSans-Roman-32\"/>\n",
       "      </defs>\n",
       "      <g transform=\"translate(136.5171875 414.2375)scale(0.1 -0.1)\">\n",
       "       <use xlink:href=\"#BitstreamVeraSans-Roman-32\"/>\n",
       "       <use x=\"63.623046875\" xlink:href=\"#BitstreamVeraSans-Roman-30\"/>\n",
       "       <use x=\"127.24609375\" xlink:href=\"#BitstreamVeraSans-Roman-30\"/>\n",
       "       <use x=\"190.869140625\" xlink:href=\"#BitstreamVeraSans-Roman-30\"/>\n",
       "      </g>\n",
       "     </g>\n",
       "    </g>\n",
       "    <g id=\"xtick_3\">\n",
       "     <g id=\"line2d_7\">\n",
       "      <path clip-path=\"url(#p452e089d6e)\" d=\"\n",
       "M260.144 402.639\n",
       "L260.144 12.0391\" style=\"fill:none;stroke:#000000;stroke-dasharray:1.000000,3.000000;stroke-dashoffset:0.0;stroke-width:0.5;\"/>\n",
       "     </g>\n",
       "     <g id=\"line2d_8\">\n",
       "      <g>\n",
       "       <use style=\"stroke:#000000;stroke-width:0.5;\" x=\"260.14375\" xlink:href=\"#m93b0483c22\" y=\"402.6390625\"/>\n",
       "      </g>\n",
       "     </g>\n",
       "     <g id=\"line2d_9\">\n",
       "      <g>\n",
       "       <use style=\"stroke:#000000;stroke-width:0.5;\" x=\"260.14375\" xlink:href=\"#m741efc42ff\" y=\"12.0390625\"/>\n",
       "      </g>\n",
       "     </g>\n",
       "     <g id=\"text_3\">\n",
       "      <!-- 4000 -->\n",
       "      <defs>\n",
       "       <path d=\"\n",
       "M37.7969 64.3125\n",
       "L12.8906 25.3906\n",
       "L37.7969 25.3906\n",
       "z\n",
       "\n",
       "M35.2031 72.9062\n",
       "L47.6094 72.9062\n",
       "L47.6094 25.3906\n",
       "L58.0156 25.3906\n",
       "L58.0156 17.1875\n",
       "L47.6094 17.1875\n",
       "L47.6094 0\n",
       "L37.7969 0\n",
       "L37.7969 17.1875\n",
       "L4.89062 17.1875\n",
       "L4.89062 26.7031\n",
       "z\n",
       "\" id=\"BitstreamVeraSans-Roman-34\"/>\n",
       "      </defs>\n",
       "      <g transform=\"translate(247.9953125 414.2375)scale(0.1 -0.1)\">\n",
       "       <use xlink:href=\"#BitstreamVeraSans-Roman-34\"/>\n",
       "       <use x=\"63.623046875\" xlink:href=\"#BitstreamVeraSans-Roman-30\"/>\n",
       "       <use x=\"127.24609375\" xlink:href=\"#BitstreamVeraSans-Roman-30\"/>\n",
       "       <use x=\"190.869140625\" xlink:href=\"#BitstreamVeraSans-Roman-30\"/>\n",
       "      </g>\n",
       "     </g>\n",
       "    </g>\n",
       "    <g id=\"xtick_4\">\n",
       "     <g id=\"line2d_10\">\n",
       "      <path clip-path=\"url(#p452e089d6e)\" d=\"\n",
       "M371.744 402.639\n",
       "L371.744 12.0391\" style=\"fill:none;stroke:#000000;stroke-dasharray:1.000000,3.000000;stroke-dashoffset:0.0;stroke-width:0.5;\"/>\n",
       "     </g>\n",
       "     <g id=\"line2d_11\">\n",
       "      <g>\n",
       "       <use style=\"stroke:#000000;stroke-width:0.5;\" x=\"371.74375\" xlink:href=\"#m93b0483c22\" y=\"402.6390625\"/>\n",
       "      </g>\n",
       "     </g>\n",
       "     <g id=\"line2d_12\">\n",
       "      <g>\n",
       "       <use style=\"stroke:#000000;stroke-width:0.5;\" x=\"371.74375\" xlink:href=\"#m741efc42ff\" y=\"12.0390625\"/>\n",
       "      </g>\n",
       "     </g>\n",
       "     <g id=\"text_4\">\n",
       "      <!-- 6000 -->\n",
       "      <defs>\n",
       "       <path d=\"\n",
       "M33.0156 40.375\n",
       "Q26.375 40.375 22.4844 35.8281\n",
       "Q18.6094 31.2969 18.6094 23.3906\n",
       "Q18.6094 15.5312 22.4844 10.9531\n",
       "Q26.375 6.39062 33.0156 6.39062\n",
       "Q39.6562 6.39062 43.5312 10.9531\n",
       "Q47.4062 15.5312 47.4062 23.3906\n",
       "Q47.4062 31.2969 43.5312 35.8281\n",
       "Q39.6562 40.375 33.0156 40.375\n",
       "M52.5938 71.2969\n",
       "L52.5938 62.3125\n",
       "Q48.875 64.0625 45.0938 64.9844\n",
       "Q41.3125 65.9219 37.5938 65.9219\n",
       "Q27.8281 65.9219 22.6719 59.3281\n",
       "Q17.5312 52.7344 16.7969 39.4062\n",
       "Q19.6719 43.6562 24.0156 45.9219\n",
       "Q28.375 48.1875 33.5938 48.1875\n",
       "Q44.5781 48.1875 50.9531 41.5156\n",
       "Q57.3281 34.8594 57.3281 23.3906\n",
       "Q57.3281 12.1562 50.6875 5.35938\n",
       "Q44.0469 -1.42188 33.0156 -1.42188\n",
       "Q20.3594 -1.42188 13.6719 8.26562\n",
       "Q6.98438 17.9688 6.98438 36.375\n",
       "Q6.98438 53.6562 15.1875 63.9375\n",
       "Q23.3906 74.2188 37.2031 74.2188\n",
       "Q40.9219 74.2188 44.7031 73.4844\n",
       "Q48.4844 72.75 52.5938 71.2969\" id=\"BitstreamVeraSans-Roman-36\"/>\n",
       "      </defs>\n",
       "      <g transform=\"translate(359.7 414.2375)scale(0.1 -0.1)\">\n",
       "       <use xlink:href=\"#BitstreamVeraSans-Roman-36\"/>\n",
       "       <use x=\"63.623046875\" xlink:href=\"#BitstreamVeraSans-Roman-30\"/>\n",
       "       <use x=\"127.24609375\" xlink:href=\"#BitstreamVeraSans-Roman-30\"/>\n",
       "       <use x=\"190.869140625\" xlink:href=\"#BitstreamVeraSans-Roman-30\"/>\n",
       "      </g>\n",
       "     </g>\n",
       "    </g>\n",
       "    <g id=\"xtick_5\">\n",
       "     <g id=\"line2d_13\">\n",
       "      <path clip-path=\"url(#p452e089d6e)\" d=\"\n",
       "M483.344 402.639\n",
       "L483.344 12.0391\" style=\"fill:none;stroke:#000000;stroke-dasharray:1.000000,3.000000;stroke-dashoffset:0.0;stroke-width:0.5;\"/>\n",
       "     </g>\n",
       "     <g id=\"line2d_14\">\n",
       "      <g>\n",
       "       <use style=\"stroke:#000000;stroke-width:0.5;\" x=\"483.34375\" xlink:href=\"#m93b0483c22\" y=\"402.6390625\"/>\n",
       "      </g>\n",
       "     </g>\n",
       "     <g id=\"line2d_15\">\n",
       "      <g>\n",
       "       <use style=\"stroke:#000000;stroke-width:0.5;\" x=\"483.34375\" xlink:href=\"#m741efc42ff\" y=\"12.0390625\"/>\n",
       "      </g>\n",
       "     </g>\n",
       "     <g id=\"text_5\">\n",
       "      <!-- 8000 -->\n",
       "      <defs>\n",
       "       <path d=\"\n",
       "M31.7812 34.625\n",
       "Q24.75 34.625 20.7188 30.8594\n",
       "Q16.7031 27.0938 16.7031 20.5156\n",
       "Q16.7031 13.9219 20.7188 10.1562\n",
       "Q24.75 6.39062 31.7812 6.39062\n",
       "Q38.8125 6.39062 42.8594 10.1719\n",
       "Q46.9219 13.9688 46.9219 20.5156\n",
       "Q46.9219 27.0938 42.8906 30.8594\n",
       "Q38.875 34.625 31.7812 34.625\n",
       "M21.9219 38.8125\n",
       "Q15.5781 40.375 12.0312 44.7188\n",
       "Q8.5 49.0781 8.5 55.3281\n",
       "Q8.5 64.0625 14.7188 69.1406\n",
       "Q20.9531 74.2188 31.7812 74.2188\n",
       "Q42.6719 74.2188 48.875 69.1406\n",
       "Q55.0781 64.0625 55.0781 55.3281\n",
       "Q55.0781 49.0781 51.5312 44.7188\n",
       "Q48 40.375 41.7031 38.8125\n",
       "Q48.8281 37.1562 52.7969 32.3125\n",
       "Q56.7812 27.4844 56.7812 20.5156\n",
       "Q56.7812 9.90625 50.3125 4.23438\n",
       "Q43.8438 -1.42188 31.7812 -1.42188\n",
       "Q19.7344 -1.42188 13.25 4.23438\n",
       "Q6.78125 9.90625 6.78125 20.5156\n",
       "Q6.78125 27.4844 10.7812 32.3125\n",
       "Q14.7969 37.1562 21.9219 38.8125\n",
       "M18.3125 54.3906\n",
       "Q18.3125 48.7344 21.8438 45.5625\n",
       "Q25.3906 42.3906 31.7812 42.3906\n",
       "Q38.1406 42.3906 41.7188 45.5625\n",
       "Q45.3125 48.7344 45.3125 54.3906\n",
       "Q45.3125 60.0625 41.7188 63.2344\n",
       "Q38.1406 66.4062 31.7812 66.4062\n",
       "Q25.3906 66.4062 21.8438 63.2344\n",
       "Q18.3125 60.0625 18.3125 54.3906\" id=\"BitstreamVeraSans-Roman-38\"/>\n",
       "      </defs>\n",
       "      <g transform=\"translate(471.28984375 414.2375)scale(0.1 -0.1)\">\n",
       "       <use xlink:href=\"#BitstreamVeraSans-Roman-38\"/>\n",
       "       <use x=\"63.623046875\" xlink:href=\"#BitstreamVeraSans-Roman-30\"/>\n",
       "       <use x=\"127.24609375\" xlink:href=\"#BitstreamVeraSans-Roman-30\"/>\n",
       "       <use x=\"190.869140625\" xlink:href=\"#BitstreamVeraSans-Roman-30\"/>\n",
       "      </g>\n",
       "     </g>\n",
       "    </g>\n",
       "    <g id=\"xtick_6\">\n",
       "     <g id=\"line2d_16\">\n",
       "      <path clip-path=\"url(#p452e089d6e)\" d=\"\n",
       "M594.944 402.639\n",
       "L594.944 12.0391\" style=\"fill:none;stroke:#000000;stroke-dasharray:1.000000,3.000000;stroke-dashoffset:0.0;stroke-width:0.5;\"/>\n",
       "     </g>\n",
       "     <g id=\"line2d_17\">\n",
       "      <g>\n",
       "       <use style=\"stroke:#000000;stroke-width:0.5;\" x=\"594.94375\" xlink:href=\"#m93b0483c22\" y=\"402.6390625\"/>\n",
       "      </g>\n",
       "     </g>\n",
       "     <g id=\"line2d_18\">\n",
       "      <g>\n",
       "       <use style=\"stroke:#000000;stroke-width:0.5;\" x=\"594.94375\" xlink:href=\"#m741efc42ff\" y=\"12.0390625\"/>\n",
       "      </g>\n",
       "     </g>\n",
       "     <g id=\"text_6\">\n",
       "      <!-- 10000 -->\n",
       "      <defs>\n",
       "       <path d=\"\n",
       "M12.4062 8.29688\n",
       "L28.5156 8.29688\n",
       "L28.5156 63.9219\n",
       "L10.9844 60.4062\n",
       "L10.9844 69.3906\n",
       "L28.4219 72.9062\n",
       "L38.2812 72.9062\n",
       "L38.2812 8.29688\n",
       "L54.3906 8.29688\n",
       "L54.3906 0\n",
       "L12.4062 0\n",
       "z\n",
       "\" id=\"BitstreamVeraSans-Roman-31\"/>\n",
       "      </defs>\n",
       "      <g transform=\"translate(579.91875 414.2375)scale(0.1 -0.1)\">\n",
       "       <use xlink:href=\"#BitstreamVeraSans-Roman-31\"/>\n",
       "       <use x=\"63.623046875\" xlink:href=\"#BitstreamVeraSans-Roman-30\"/>\n",
       "       <use x=\"127.24609375\" xlink:href=\"#BitstreamVeraSans-Roman-30\"/>\n",
       "       <use x=\"190.869140625\" xlink:href=\"#BitstreamVeraSans-Roman-30\"/>\n",
       "       <use x=\"254.4921875\" xlink:href=\"#BitstreamVeraSans-Roman-30\"/>\n",
       "      </g>\n",
       "     </g>\n",
       "    </g>\n",
       "    <g id=\"xtick_7\">\n",
       "     <g id=\"line2d_19\">\n",
       "      <path clip-path=\"url(#p452e089d6e)\" d=\"\n",
       "M706.544 402.639\n",
       "L706.544 12.0391\" style=\"fill:none;stroke:#000000;stroke-dasharray:1.000000,3.000000;stroke-dashoffset:0.0;stroke-width:0.5;\"/>\n",
       "     </g>\n",
       "     <g id=\"line2d_20\">\n",
       "      <g>\n",
       "       <use style=\"stroke:#000000;stroke-width:0.5;\" x=\"706.54375\" xlink:href=\"#m93b0483c22\" y=\"402.6390625\"/>\n",
       "      </g>\n",
       "     </g>\n",
       "     <g id=\"line2d_21\">\n",
       "      <g>\n",
       "       <use style=\"stroke:#000000;stroke-width:0.5;\" x=\"706.54375\" xlink:href=\"#m741efc42ff\" y=\"12.0390625\"/>\n",
       "      </g>\n",
       "     </g>\n",
       "     <g id=\"text_7\">\n",
       "      <!-- 12000 -->\n",
       "      <g transform=\"translate(691.51875 414.2375)scale(0.1 -0.1)\">\n",
       "       <use xlink:href=\"#BitstreamVeraSans-Roman-31\"/>\n",
       "       <use x=\"63.623046875\" xlink:href=\"#BitstreamVeraSans-Roman-32\"/>\n",
       "       <use x=\"127.24609375\" xlink:href=\"#BitstreamVeraSans-Roman-30\"/>\n",
       "       <use x=\"190.869140625\" xlink:href=\"#BitstreamVeraSans-Roman-30\"/>\n",
       "       <use x=\"254.4921875\" xlink:href=\"#BitstreamVeraSans-Roman-30\"/>\n",
       "      </g>\n",
       "     </g>\n",
       "    </g>\n",
       "    <g id=\"text_8\">\n",
       "     <!-- distance -->\n",
       "     <defs>\n",
       "      <path d=\"\n",
       "M54.8906 33.0156\n",
       "L54.8906 0\n",
       "L45.9062 0\n",
       "L45.9062 32.7188\n",
       "Q45.9062 40.4844 42.875 44.3281\n",
       "Q39.8438 48.1875 33.7969 48.1875\n",
       "Q26.5156 48.1875 22.3125 43.5469\n",
       "Q18.1094 38.9219 18.1094 30.9062\n",
       "L18.1094 0\n",
       "L9.07812 0\n",
       "L9.07812 54.6875\n",
       "L18.1094 54.6875\n",
       "L18.1094 46.1875\n",
       "Q21.3438 51.125 25.7031 53.5625\n",
       "Q30.0781 56 35.7969 56\n",
       "Q45.2188 56 50.0469 50.1719\n",
       "Q54.8906 44.3438 54.8906 33.0156\" id=\"BitstreamVeraSans-Roman-6e\"/>\n",
       "      <path d=\"\n",
       "M9.42188 54.6875\n",
       "L18.4062 54.6875\n",
       "L18.4062 0\n",
       "L9.42188 0\n",
       "z\n",
       "\n",
       "M9.42188 75.9844\n",
       "L18.4062 75.9844\n",
       "L18.4062 64.5938\n",
       "L9.42188 64.5938\n",
       "z\n",
       "\" id=\"BitstreamVeraSans-Roman-69\"/>\n",
       "      <path d=\"\n",
       "M56.2031 29.5938\n",
       "L56.2031 25.2031\n",
       "L14.8906 25.2031\n",
       "Q15.4844 15.9219 20.4844 11.0625\n",
       "Q25.4844 6.20312 34.4219 6.20312\n",
       "Q39.5938 6.20312 44.4531 7.46875\n",
       "Q49.3125 8.73438 54.1094 11.2812\n",
       "L54.1094 2.78125\n",
       "Q49.2656 0.734375 44.1875 -0.34375\n",
       "Q39.1094 -1.42188 33.8906 -1.42188\n",
       "Q20.7969 -1.42188 13.1562 6.1875\n",
       "Q5.51562 13.8125 5.51562 26.8125\n",
       "Q5.51562 40.2344 12.7656 48.1094\n",
       "Q20.0156 56 32.3281 56\n",
       "Q43.3594 56 49.7812 48.8906\n",
       "Q56.2031 41.7969 56.2031 29.5938\n",
       "M47.2188 32.2344\n",
       "Q47.125 39.5938 43.0938 43.9844\n",
       "Q39.0625 48.3906 32.4219 48.3906\n",
       "Q24.9062 48.3906 20.3906 44.1406\n",
       "Q15.875 39.8906 15.1875 32.1719\n",
       "z\n",
       "\" id=\"BitstreamVeraSans-Roman-65\"/>\n",
       "      <path d=\"\n",
       "M45.4062 46.3906\n",
       "L45.4062 75.9844\n",
       "L54.3906 75.9844\n",
       "L54.3906 0\n",
       "L45.4062 0\n",
       "L45.4062 8.20312\n",
       "Q42.5781 3.32812 38.25 0.953125\n",
       "Q33.9375 -1.42188 27.875 -1.42188\n",
       "Q17.9688 -1.42188 11.7344 6.48438\n",
       "Q5.51562 14.4062 5.51562 27.2969\n",
       "Q5.51562 40.1875 11.7344 48.0938\n",
       "Q17.9688 56 27.875 56\n",
       "Q33.9375 56 38.25 53.625\n",
       "Q42.5781 51.2656 45.4062 46.3906\n",
       "M14.7969 27.2969\n",
       "Q14.7969 17.3906 18.875 11.75\n",
       "Q22.9531 6.10938 30.0781 6.10938\n",
       "Q37.2031 6.10938 41.2969 11.75\n",
       "Q45.4062 17.3906 45.4062 27.2969\n",
       "Q45.4062 37.2031 41.2969 42.8438\n",
       "Q37.2031 48.4844 30.0781 48.4844\n",
       "Q22.9531 48.4844 18.875 42.8438\n",
       "Q14.7969 37.2031 14.7969 27.2969\" id=\"BitstreamVeraSans-Roman-64\"/>\n",
       "      <path d=\"\n",
       "M18.3125 70.2188\n",
       "L18.3125 54.6875\n",
       "L36.8125 54.6875\n",
       "L36.8125 47.7031\n",
       "L18.3125 47.7031\n",
       "L18.3125 18.0156\n",
       "Q18.3125 11.3281 20.1406 9.42188\n",
       "Q21.9688 7.51562 27.5938 7.51562\n",
       "L36.8125 7.51562\n",
       "L36.8125 0\n",
       "L27.5938 0\n",
       "Q17.1875 0 13.2344 3.875\n",
       "Q9.28125 7.76562 9.28125 18.0156\n",
       "L9.28125 47.7031\n",
       "L2.6875 47.7031\n",
       "L2.6875 54.6875\n",
       "L9.28125 54.6875\n",
       "L9.28125 70.2188\n",
       "z\n",
       "\" id=\"BitstreamVeraSans-Roman-74\"/>\n",
       "      <path d=\"\n",
       "M34.2812 27.4844\n",
       "Q23.3906 27.4844 19.1875 25\n",
       "Q14.9844 22.5156 14.9844 16.5\n",
       "Q14.9844 11.7188 18.1406 8.90625\n",
       "Q21.2969 6.10938 26.7031 6.10938\n",
       "Q34.1875 6.10938 38.7031 11.4062\n",
       "Q43.2188 16.7031 43.2188 25.4844\n",
       "L43.2188 27.4844\n",
       "z\n",
       "\n",
       "M52.2031 31.2031\n",
       "L52.2031 0\n",
       "L43.2188 0\n",
       "L43.2188 8.29688\n",
       "Q40.1406 3.32812 35.5469 0.953125\n",
       "Q30.9531 -1.42188 24.3125 -1.42188\n",
       "Q15.9219 -1.42188 10.9531 3.29688\n",
       "Q6 8.01562 6 15.9219\n",
       "Q6 25.1406 12.1719 29.8281\n",
       "Q18.3594 34.5156 30.6094 34.5156\n",
       "L43.2188 34.5156\n",
       "L43.2188 35.4062\n",
       "Q43.2188 41.6094 39.1406 45\n",
       "Q35.0625 48.3906 27.6875 48.3906\n",
       "Q23 48.3906 18.5469 47.2656\n",
       "Q14.1094 46.1406 10.0156 43.8906\n",
       "L10.0156 52.2031\n",
       "Q14.9375 54.1094 19.5781 55.0469\n",
       "Q24.2188 56 28.6094 56\n",
       "Q40.4844 56 46.3438 49.8438\n",
       "Q52.2031 43.7031 52.2031 31.2031\" id=\"BitstreamVeraSans-Roman-61\"/>\n",
       "      <path d=\"\n",
       "M44.2812 53.0781\n",
       "L44.2812 44.5781\n",
       "Q40.4844 46.5312 36.375 47.5\n",
       "Q32.2812 48.4844 27.875 48.4844\n",
       "Q21.1875 48.4844 17.8438 46.4375\n",
       "Q14.5 44.3906 14.5 40.2812\n",
       "Q14.5 37.1562 16.8906 35.375\n",
       "Q19.2812 33.5938 26.5156 31.9844\n",
       "L29.5938 31.2969\n",
       "Q39.1562 29.25 43.1875 25.5156\n",
       "Q47.2188 21.7812 47.2188 15.0938\n",
       "Q47.2188 7.46875 41.1875 3.01562\n",
       "Q35.1562 -1.42188 24.6094 -1.42188\n",
       "Q20.2188 -1.42188 15.4531 -0.5625\n",
       "Q10.6875 0.296875 5.42188 2\n",
       "L5.42188 11.2812\n",
       "Q10.4062 8.6875 15.2344 7.39062\n",
       "Q20.0625 6.10938 24.8125 6.10938\n",
       "Q31.1562 6.10938 34.5625 8.28125\n",
       "Q37.9844 10.4531 37.9844 14.4062\n",
       "Q37.9844 18.0625 35.5156 20.0156\n",
       "Q33.0625 21.9688 24.7031 23.7812\n",
       "L21.5781 24.5156\n",
       "Q13.2344 26.2656 9.51562 29.9062\n",
       "Q5.8125 33.5469 5.8125 39.8906\n",
       "Q5.8125 47.6094 11.2812 51.7969\n",
       "Q16.75 56 26.8125 56\n",
       "Q31.7812 56 36.1719 55.2656\n",
       "Q40.5781 54.5469 44.2812 53.0781\" id=\"BitstreamVeraSans-Roman-73\"/>\n",
       "      <path d=\"\n",
       "M48.7812 52.5938\n",
       "L48.7812 44.1875\n",
       "Q44.9688 46.2969 41.1406 47.3438\n",
       "Q37.3125 48.3906 33.4062 48.3906\n",
       "Q24.6562 48.3906 19.8125 42.8438\n",
       "Q14.9844 37.3125 14.9844 27.2969\n",
       "Q14.9844 17.2812 19.8125 11.7344\n",
       "Q24.6562 6.20312 33.4062 6.20312\n",
       "Q37.3125 6.20312 41.1406 7.25\n",
       "Q44.9688 8.29688 48.7812 10.4062\n",
       "L48.7812 2.09375\n",
       "Q45.0156 0.34375 40.9844 -0.53125\n",
       "Q36.9688 -1.42188 32.4219 -1.42188\n",
       "Q20.0625 -1.42188 12.7812 6.34375\n",
       "Q5.51562 14.1094 5.51562 27.2969\n",
       "Q5.51562 40.6719 12.8594 48.3281\n",
       "Q20.2188 56 33.0156 56\n",
       "Q37.1562 56 41.1094 55.1406\n",
       "Q45.0625 54.2969 48.7812 52.5938\" id=\"BitstreamVeraSans-Roman-63\"/>\n",
       "     </defs>\n",
       "     <g transform=\"translate(351.09921875 428.915625)scale(0.1 -0.1)\">\n",
       "      <use xlink:href=\"#BitstreamVeraSans-Roman-64\"/>\n",
       "      <use x=\"63.4765625\" xlink:href=\"#BitstreamVeraSans-Roman-69\"/>\n",
       "      <use x=\"91.259765625\" xlink:href=\"#BitstreamVeraSans-Roman-73\"/>\n",
       "      <use x=\"143.359375\" xlink:href=\"#BitstreamVeraSans-Roman-74\"/>\n",
       "      <use x=\"182.568359375\" xlink:href=\"#BitstreamVeraSans-Roman-61\"/>\n",
       "      <use x=\"243.84765625\" xlink:href=\"#BitstreamVeraSans-Roman-6e\"/>\n",
       "      <use x=\"307.2265625\" xlink:href=\"#BitstreamVeraSans-Roman-63\"/>\n",
       "      <use x=\"362.20703125\" xlink:href=\"#BitstreamVeraSans-Roman-65\"/>\n",
       "     </g>\n",
       "    </g>\n",
       "   </g>\n",
       "   <g id=\"matplotlib.axis_2\">\n",
       "    <g id=\"ytick_1\">\n",
       "     <g id=\"line2d_22\">\n",
       "      <path clip-path=\"url(#p452e089d6e)\" d=\"\n",
       "M36.9438 402.639\n",
       "L706.544 402.639\" style=\"fill:none;stroke:#000000;stroke-dasharray:1.000000,3.000000;stroke-dashoffset:0.0;stroke-width:0.5;\"/>\n",
       "     </g>\n",
       "     <g id=\"line2d_23\">\n",
       "      <defs>\n",
       "       <path d=\"\n",
       "M0 0\n",
       "L4 0\" id=\"m728421d6d4\" style=\"stroke:#000000;stroke-width:0.5;\"/>\n",
       "      </defs>\n",
       "      <g>\n",
       "       <use style=\"stroke:#000000;stroke-width:0.5;\" x=\"36.94375\" xlink:href=\"#m728421d6d4\" y=\"402.6390625\"/>\n",
       "      </g>\n",
       "     </g>\n",
       "     <g id=\"line2d_24\">\n",
       "      <defs>\n",
       "       <path d=\"\n",
       "M0 0\n",
       "L-4 0\" id=\"mcb0005524f\" style=\"stroke:#000000;stroke-width:0.5;\"/>\n",
       "      </defs>\n",
       "      <g>\n",
       "       <use style=\"stroke:#000000;stroke-width:0.5;\" x=\"706.54375\" xlink:href=\"#mcb0005524f\" y=\"402.6390625\"/>\n",
       "      </g>\n",
       "     </g>\n",
       "     <g id=\"text_9\">\n",
       "      <!-- 0 -->\n",
       "      <g transform=\"translate(27.9046875 405.3984375)scale(0.1 -0.1)\">\n",
       "       <use xlink:href=\"#BitstreamVeraSans-Roman-30\"/>\n",
       "      </g>\n",
       "     </g>\n",
       "    </g>\n",
       "    <g id=\"ytick_2\">\n",
       "     <g id=\"line2d_25\">\n",
       "      <path clip-path=\"url(#p452e089d6e)\" d=\"\n",
       "M36.9438 346.839\n",
       "L706.544 346.839\" style=\"fill:none;stroke:#000000;stroke-dasharray:1.000000,3.000000;stroke-dashoffset:0.0;stroke-width:0.5;\"/>\n",
       "     </g>\n",
       "     <g id=\"line2d_26\">\n",
       "      <g>\n",
       "       <use style=\"stroke:#000000;stroke-width:0.5;\" x=\"36.94375\" xlink:href=\"#m728421d6d4\" y=\"346.8390625\"/>\n",
       "      </g>\n",
       "     </g>\n",
       "     <g id=\"line2d_27\">\n",
       "      <g>\n",
       "       <use style=\"stroke:#000000;stroke-width:0.5;\" x=\"706.54375\" xlink:href=\"#mcb0005524f\" y=\"346.8390625\"/>\n",
       "      </g>\n",
       "     </g>\n",
       "     <g id=\"text_10\">\n",
       "      <!-- 2 -->\n",
       "      <g transform=\"translate(28.315625 349.5984375)scale(0.1 -0.1)\">\n",
       "       <use xlink:href=\"#BitstreamVeraSans-Roman-32\"/>\n",
       "      </g>\n",
       "     </g>\n",
       "    </g>\n",
       "    <g id=\"ytick_3\">\n",
       "     <g id=\"line2d_28\">\n",
       "      <path clip-path=\"url(#p452e089d6e)\" d=\"\n",
       "M36.9438 291.039\n",
       "L706.544 291.039\" style=\"fill:none;stroke:#000000;stroke-dasharray:1.000000,3.000000;stroke-dashoffset:0.0;stroke-width:0.5;\"/>\n",
       "     </g>\n",
       "     <g id=\"line2d_29\">\n",
       "      <g>\n",
       "       <use style=\"stroke:#000000;stroke-width:0.5;\" x=\"36.94375\" xlink:href=\"#m728421d6d4\" y=\"291.0390625\"/>\n",
       "      </g>\n",
       "     </g>\n",
       "     <g id=\"line2d_30\">\n",
       "      <g>\n",
       "       <use style=\"stroke:#000000;stroke-width:0.5;\" x=\"706.54375\" xlink:href=\"#mcb0005524f\" y=\"291.0390625\"/>\n",
       "      </g>\n",
       "     </g>\n",
       "     <g id=\"text_11\">\n",
       "      <!-- 4 -->\n",
       "      <g transform=\"translate(27.63125 293.7984375)scale(0.1 -0.1)\">\n",
       "       <use xlink:href=\"#BitstreamVeraSans-Roman-34\"/>\n",
       "      </g>\n",
       "     </g>\n",
       "    </g>\n",
       "    <g id=\"ytick_4\">\n",
       "     <g id=\"line2d_31\">\n",
       "      <path clip-path=\"url(#p452e089d6e)\" d=\"\n",
       "M36.9438 235.239\n",
       "L706.544 235.239\" style=\"fill:none;stroke:#000000;stroke-dasharray:1.000000,3.000000;stroke-dashoffset:0.0;stroke-width:0.5;\"/>\n",
       "     </g>\n",
       "     <g id=\"line2d_32\">\n",
       "      <g>\n",
       "       <use style=\"stroke:#000000;stroke-width:0.5;\" x=\"36.94375\" xlink:href=\"#m728421d6d4\" y=\"235.2390625\"/>\n",
       "      </g>\n",
       "     </g>\n",
       "     <g id=\"line2d_33\">\n",
       "      <g>\n",
       "       <use style=\"stroke:#000000;stroke-width:0.5;\" x=\"706.54375\" xlink:href=\"#mcb0005524f\" y=\"235.2390625\"/>\n",
       "      </g>\n",
       "     </g>\n",
       "     <g id=\"text_12\">\n",
       "      <!-- 6 -->\n",
       "      <g transform=\"translate(27.909375 237.9984375)scale(0.1 -0.1)\">\n",
       "       <use xlink:href=\"#BitstreamVeraSans-Roman-36\"/>\n",
       "      </g>\n",
       "     </g>\n",
       "    </g>\n",
       "    <g id=\"ytick_5\">\n",
       "     <g id=\"line2d_34\">\n",
       "      <path clip-path=\"url(#p452e089d6e)\" d=\"\n",
       "M36.9438 179.439\n",
       "L706.544 179.439\" style=\"fill:none;stroke:#000000;stroke-dasharray:1.000000,3.000000;stroke-dashoffset:0.0;stroke-width:0.5;\"/>\n",
       "     </g>\n",
       "     <g id=\"line2d_35\">\n",
       "      <g>\n",
       "       <use style=\"stroke:#000000;stroke-width:0.5;\" x=\"36.94375\" xlink:href=\"#m728421d6d4\" y=\"179.4390625\"/>\n",
       "      </g>\n",
       "     </g>\n",
       "     <g id=\"line2d_36\">\n",
       "      <g>\n",
       "       <use style=\"stroke:#000000;stroke-width:0.5;\" x=\"706.54375\" xlink:href=\"#mcb0005524f\" y=\"179.4390625\"/>\n",
       "      </g>\n",
       "     </g>\n",
       "     <g id=\"text_13\">\n",
       "      <!-- 8 -->\n",
       "      <g transform=\"translate(27.94375 182.1984375)scale(0.1 -0.1)\">\n",
       "       <use xlink:href=\"#BitstreamVeraSans-Roman-38\"/>\n",
       "      </g>\n",
       "     </g>\n",
       "    </g>\n",
       "    <g id=\"ytick_6\">\n",
       "     <g id=\"line2d_37\">\n",
       "      <path clip-path=\"url(#p452e089d6e)\" d=\"\n",
       "M36.9438 123.639\n",
       "L706.544 123.639\" style=\"fill:none;stroke:#000000;stroke-dasharray:1.000000,3.000000;stroke-dashoffset:0.0;stroke-width:0.5;\"/>\n",
       "     </g>\n",
       "     <g id=\"line2d_38\">\n",
       "      <g>\n",
       "       <use style=\"stroke:#000000;stroke-width:0.5;\" x=\"36.94375\" xlink:href=\"#m728421d6d4\" y=\"123.6390625\"/>\n",
       "      </g>\n",
       "     </g>\n",
       "     <g id=\"line2d_39\">\n",
       "      <g>\n",
       "       <use style=\"stroke:#000000;stroke-width:0.5;\" x=\"706.54375\" xlink:href=\"#mcb0005524f\" y=\"123.6390625\"/>\n",
       "      </g>\n",
       "     </g>\n",
       "     <g id=\"text_14\">\n",
       "      <!-- 10 -->\n",
       "      <g transform=\"translate(21.98125 126.3984375)scale(0.1 -0.1)\">\n",
       "       <use xlink:href=\"#BitstreamVeraSans-Roman-31\"/>\n",
       "       <use x=\"63.623046875\" xlink:href=\"#BitstreamVeraSans-Roman-30\"/>\n",
       "      </g>\n",
       "     </g>\n",
       "    </g>\n",
       "    <g id=\"ytick_7\">\n",
       "     <g id=\"line2d_40\">\n",
       "      <path clip-path=\"url(#p452e089d6e)\" d=\"\n",
       "M36.9438 67.8391\n",
       "L706.544 67.8391\" style=\"fill:none;stroke:#000000;stroke-dasharray:1.000000,3.000000;stroke-dashoffset:0.0;stroke-width:0.5;\"/>\n",
       "     </g>\n",
       "     <g id=\"line2d_41\">\n",
       "      <g>\n",
       "       <use style=\"stroke:#000000;stroke-width:0.5;\" x=\"36.94375\" xlink:href=\"#m728421d6d4\" y=\"67.8390625\"/>\n",
       "      </g>\n",
       "     </g>\n",
       "     <g id=\"line2d_42\">\n",
       "      <g>\n",
       "       <use style=\"stroke:#000000;stroke-width:0.5;\" x=\"706.54375\" xlink:href=\"#mcb0005524f\" y=\"67.8390625\"/>\n",
       "      </g>\n",
       "     </g>\n",
       "     <g id=\"text_15\">\n",
       "      <!-- 12 -->\n",
       "      <g transform=\"translate(22.31875 70.5984375)scale(0.1 -0.1)\">\n",
       "       <use xlink:href=\"#BitstreamVeraSans-Roman-31\"/>\n",
       "       <use x=\"63.623046875\" xlink:href=\"#BitstreamVeraSans-Roman-32\"/>\n",
       "      </g>\n",
       "     </g>\n",
       "    </g>\n",
       "    <g id=\"ytick_8\">\n",
       "     <g id=\"line2d_43\">\n",
       "      <path clip-path=\"url(#p452e089d6e)\" d=\"\n",
       "M36.9438 12.0391\n",
       "L706.544 12.0391\" style=\"fill:none;stroke:#000000;stroke-dasharray:1.000000,3.000000;stroke-dashoffset:0.0;stroke-width:0.5;\"/>\n",
       "     </g>\n",
       "     <g id=\"line2d_44\">\n",
       "      <g>\n",
       "       <use style=\"stroke:#000000;stroke-width:0.5;\" x=\"36.94375\" xlink:href=\"#m728421d6d4\" y=\"12.0390625\"/>\n",
       "      </g>\n",
       "     </g>\n",
       "     <g id=\"line2d_45\">\n",
       "      <g>\n",
       "       <use style=\"stroke:#000000;stroke-width:0.5;\" x=\"706.54375\" xlink:href=\"#mcb0005524f\" y=\"12.0390625\"/>\n",
       "      </g>\n",
       "     </g>\n",
       "     <g id=\"text_16\">\n",
       "      <!-- 14 -->\n",
       "      <g transform=\"translate(21.878125 14.7984375)scale(0.1 -0.1)\">\n",
       "       <use xlink:href=\"#BitstreamVeraSans-Roman-31\"/>\n",
       "       <use x=\"63.623046875\" xlink:href=\"#BitstreamVeraSans-Roman-34\"/>\n",
       "      </g>\n",
       "     </g>\n",
       "    </g>\n",
       "    <g id=\"text_17\">\n",
       "     <!-- time2 -->\n",
       "     <defs>\n",
       "      <path d=\"\n",
       "M52 44.1875\n",
       "Q55.375 50.25 60.0625 53.125\n",
       "Q64.75 56 71.0938 56\n",
       "Q79.6406 56 84.2812 50.0156\n",
       "Q88.9219 44.0469 88.9219 33.0156\n",
       "L88.9219 0\n",
       "L79.8906 0\n",
       "L79.8906 32.7188\n",
       "Q79.8906 40.5781 77.0938 44.375\n",
       "Q74.3125 48.1875 68.6094 48.1875\n",
       "Q61.625 48.1875 57.5625 43.5469\n",
       "Q53.5156 38.9219 53.5156 30.9062\n",
       "L53.5156 0\n",
       "L44.4844 0\n",
       "L44.4844 32.7188\n",
       "Q44.4844 40.625 41.7031 44.4062\n",
       "Q38.9219 48.1875 33.1094 48.1875\n",
       "Q26.2188 48.1875 22.1562 43.5312\n",
       "Q18.1094 38.875 18.1094 30.9062\n",
       "L18.1094 0\n",
       "L9.07812 0\n",
       "L9.07812 54.6875\n",
       "L18.1094 54.6875\n",
       "L18.1094 46.1875\n",
       "Q21.1875 51.2188 25.4844 53.6094\n",
       "Q29.7812 56 35.6875 56\n",
       "Q41.6562 56 45.8281 52.9688\n",
       "Q50 49.9531 52 44.1875\" id=\"BitstreamVeraSans-Roman-6d\"/>\n",
       "     </defs>\n",
       "     <g transform=\"translate(14.7984375 221.18125)rotate(-90.0)scale(0.1 -0.1)\">\n",
       "      <use xlink:href=\"#BitstreamVeraSans-Roman-74\"/>\n",
       "      <use x=\"39.208984375\" xlink:href=\"#BitstreamVeraSans-Roman-69\"/>\n",
       "      <use x=\"66.9921875\" xlink:href=\"#BitstreamVeraSans-Roman-6d\"/>\n",
       "      <use x=\"164.404296875\" xlink:href=\"#BitstreamVeraSans-Roman-65\"/>\n",
       "      <use x=\"225.927734375\" xlink:href=\"#BitstreamVeraSans-Roman-32\"/>\n",
       "     </g>\n",
       "    </g>\n",
       "   </g>\n",
       "  </g>\n",
       " </g>\n",
       " <defs>\n",
       "  <clipPath id=\"p452e089d6e\">\n",
       "   <rect height=\"390.6\" width=\"669.6\" x=\"36.94375\" y=\"12.0390625\"/>\n",
       "  </clipPath>\n",
       " </defs>\n",
       "</svg>\n"
      ],
      "text/plain": [
       "<matplotlib.figure.Figure at 0x3e7be90>"
      ]
     },
     "metadata": {},
     "output_type": "display_data"
    }
   ],
   "source": [
    "# plot of distance vs. converted time in hours. easy for pandas dataframes!\n",
    "flighttimes.plot(x = \"distance\", y = \"time2\", kind=\"scatter\", ylim=0, xlim=0)"
   ]
  },
  {
   "cell_type": "markdown",
   "metadata": {},
   "source": [
    "## Datenbank (SQLite)\n",
    "\n",
    "Für größere Datenmengen bzw. im professionellen/wissenschaftlichen Umfeld werden Datenbanken eingesetzt.\n",
    "Die Daten werden in einem für die Datenbank spezifische Art gespeichert\n",
    "(sind also nicht wie CSV Dateien von beliebigen Programmen lesbar),\n",
    "beinhalten aber zusätzlich Informationen zu den Typen jeder Spalte.\n",
    "Datenbanken bieten eingebaute Hilfsmittel wie Suchindizes und eine Abfragesprache,\n",
    "es können mehrere Tabellen auf verschiedenste Arten verknüpft werden,\n",
    "und die Verarbeitungsgeschwindigkeit ist viel höher.\n",
    "\n",
    "Eingebaut in Python ist [`sqlite3`](https://docs.python.org/2/library/sqlite3.html).\n",
    "\n",
    "Das folgende Beispiel speichert die Daten der CSV Datei in einer sqlite3 Datenbank und macht eine Abfrage."
   ]
  },
  {
   "cell_type": "markdown",
   "metadata": {},
   "source": [
    "1. Erstellen: lösche die gegebenenfalls existierende Datenbankdatei und befülle sie dann."
   ]
  },
  {
   "cell_type": "code",
   "execution_count": 27,
   "metadata": {
    "collapsed": false
   },
   "outputs": [],
   "source": [
    "db_filename = join(\"res\", \"flugzeit.db\")\n",
    "# Löschen der Datenbank, falls sie existiert\n",
    "import os\n",
    "if os.path.exists(db_filename):\n",
    "    os.unlink(db_filename)"
   ]
  },
  {
   "cell_type": "code",
   "execution_count": 28,
   "metadata": {
    "collapsed": false
   },
   "outputs": [],
   "source": [
    "import sqlite3\n",
    "conn = sqlite3.connect(db_filename)"
   ]
  },
  {
   "cell_type": "code",
   "execution_count": 29,
   "metadata": {
    "collapsed": false
   },
   "outputs": [],
   "source": [
    "# for the connection `conn`, get a cursor and operate on the table\n",
    "curs = conn.cursor"
   ]
  },
  {
   "cell_type": "code",
   "execution_count": 30,
   "metadata": {
    "collapsed": false
   },
   "outputs": [
    {
     "data": {
      "text/plain": [
       "<sqlite3.Cursor at 0x42a2110>"
      ]
     },
     "execution_count": 30,
     "metadata": {},
     "output_type": "execute_result"
    }
   ],
   "source": [
    "curs = conn.cursor()\n",
    "curs.execute('''\n",
    "             CREATE TABLE flugzeit\n",
    "             (origin text, destination text, distance real, time real)\n",
    "             ''')"
   ]
  },
  {
   "cell_type": "code",
   "execution_count": 31,
   "metadata": {
    "collapsed": false
   },
   "outputs": [],
   "source": [
    "for idx, (orig, dest, _, dist, time2) in flighttimes.iterrows():\n",
    "    curs.execute(\"INSERT INTO flugzeit VALUES(?, ?, ?, ?)\", (orig, dest, dist, time2))"
   ]
  },
  {
   "cell_type": "code",
   "execution_count": 32,
   "metadata": {
    "collapsed": false
   },
   "outputs": [],
   "source": [
    "# Hilfsfunktion: gibt die Abfrage Zeilenweise aus\n",
    "def show_query(query):\n",
    "    for row in query:\n",
    "        out = []\n",
    "        for entry in row:\n",
    "            if isinstance(entry, float): out.append(\"{:>9.2f}\".format(entry))\n",
    "            elif isinstance(entry, int): out.append(\"{:>9d}\".format(entry))\n",
    "            else: out.append(\"{:>7s}\".format(entry))\n",
    "        print(\" \".join(out))\n",
    "                "
   ]
  },
  {
   "cell_type": "code",
   "execution_count": 33,
   "metadata": {
    "collapsed": false
   },
   "outputs": [
    {
     "name": "stdout",
     "output_type": "stream",
     "text": [
      "    VIE     LHR   1100.00      2.50\n",
      "    VIE     JFK   6823.00      8.98\n",
      "    JFK     ZCL   3346.00      4.65\n",
      "    SFO     JFK   4162.00      5.50\n",
      "    PEK     ZRH   7993.00     10.92\n",
      "    HNL     YOW   7758.00     10.13\n",
      "    VIE     BER    676.00      1.15\n",
      "    CDG     TIP   2019.00      3.02\n",
      "    CDG     ATZ   3453.00      4.78\n",
      "    CDG     FCO   1102.00      1.87\n",
      "    VIE     FCO    780.00      1.47\n",
      "    LIS     AMM   4138.00      5.65\n",
      "    LIS     BER   2307.00      3.37\n",
      "    LIS     WAW   2754.00      3.92\n",
      "    PEK     SVO   5811.00      7.72\n",
      "    BRN     HUU  10331.00     13.33\n"
     ]
    }
   ],
   "source": [
    "show_query(curs.execute(\"SELECT * FROM flugzeit\"))"
   ]
  },
  {
   "cell_type": "code",
   "execution_count": 34,
   "metadata": {
    "collapsed": false
   },
   "outputs": [
    {
     "name": "stdout",
     "output_type": "stream",
     "text": [
      "    BRN     HUU  10331.00     13.33\n",
      "    PEK     ZRH   7993.00     10.92\n",
      "    HNL     YOW   7758.00     10.13\n",
      "    VIE     JFK   6823.00      8.98\n",
      "    PEK     SVO   5811.00      7.72\n",
      "    SFO     JFK   4162.00      5.50\n",
      "    LIS     AMM   4138.00      5.65\n",
      "    CDG     ATZ   3453.00      4.78\n",
      "    JFK     ZCL   3346.00      4.65\n",
      "    LIS     WAW   2754.00      3.92\n",
      "    LIS     BER   2307.00      3.37\n",
      "    CDG     TIP   2019.00      3.02\n",
      "    CDG     FCO   1102.00      1.87\n",
      "    VIE     LHR   1100.00      2.50\n",
      "    VIE     FCO    780.00      1.47\n",
      "    VIE     BER    676.00      1.15\n"
     ]
    }
   ],
   "source": [
    "# sort by decreasing distance\n",
    "show_query(curs.execute(\"SELECT * FROM flugzeit ORDER BY -distance\"))"
   ]
  },
  {
   "cell_type": "code",
   "execution_count": 35,
   "metadata": {
    "collapsed": false
   },
   "outputs": [
    {
     "name": "stdout",
     "output_type": "stream",
     "text": [
      "    BRN     HUU     13.33\n",
      "    CDG     FCO      1.87\n",
      "    HNL     YOW     10.13\n",
      "    JFK     ZCL      4.65\n",
      "    LIS     WAW      3.37\n",
      "    PEK     SVO      7.72\n",
      "    SFO     JFK      5.50\n",
      "    VIE     FCO      1.15\n"
     ]
    }
   ],
   "source": [
    "# minimum time from each origin\n",
    "show_query(curs.execute(\"\"\"\n",
    "             SELECT origin, destination, min(time)\n",
    "             FROM flugzeit\n",
    "             GROUP BY origin\n",
    "             \"\"\"))"
   ]
  },
  {
   "cell_type": "code",
   "execution_count": 36,
   "metadata": {
    "collapsed": false
   },
   "outputs": [
    {
     "data": {
      "text/plain": [
       "(u'LIS', u'AMM', 4138.0, 5.65)"
      ]
     },
     "execution_count": 36,
     "metadata": {},
     "output_type": "execute_result"
    }
   ],
   "source": [
    "# maximum distance from LIS\n",
    "curs.execute(\"\"\"\n",
    "             SELECT * \n",
    "             FROM flugzeit\n",
    "             WHERE origin = 'LIS' AND\n",
    "                   distance = (SELECT max(distance) FROM flugzeit WHERE origin = 'LIS')\n",
    "             \"\"\").fetchone()"
   ]
  },
  {
   "cell_type": "markdown",
   "metadata": {},
   "source": [
    "## JSON\n",
    "\n",
    "[JSON](http://www.json.org) ist eine der modernen und am weitesten verbreiteten Serialisierungssprachen.\n",
    "Es handelt sich um eine von [JavaScript](http://en.wikipedia.org/wiki/JavaScript) abgeleiteten Datenstruktur,\n",
    "welche nicht nur von vielen Programmiersprachen verstanden wird,\n",
    "sondern auch auf einfache Art komplex verschachtelte Datenstrukturen speichern kann.\n",
    "JSON (und ähnliche Serialisierungsformate) sind als einzelner großer String zu verstehen,\n",
    "welche mit mehreren Syntaxzeichen (eckige Klammer, geschwungene Klammer, Doppelpunkt, ...) die Struktur definieren.\n",
    "\n",
    "Python liefert hierfür das [json](https://docs.python.org/2/library/json.html) ([json in python 3](https://docs.python.org/3/library/json.html)) mit.\n",
    "\n",
    "Wir bleiben bei dem Beispiel der Flugdistanzen und Konvertieren die Pandas Daten zu JSON -- in diesem Fall als Liste von assoziativen Dictionaries."
   ]
  },
  {
   "cell_type": "code",
   "execution_count": 37,
   "metadata": {
    "collapsed": false
   },
   "outputs": [],
   "source": [
    "flighttimes_py = []\n",
    "for _, data in flighttimes.iterrows():\n",
    "    entry = {\"orig\" : data.origin,\n",
    "             \"dest\" : data.destination,\n",
    "             \"dist\" : data.distance, \n",
    "             \"hours\": data.time2 }\n",
    "    flighttimes_py.append(entry)"
   ]
  },
  {
   "cell_type": "markdown",
   "metadata": {},
   "source": [
    "Konvertierung der Python Datenstruktur (welche schon so gut wie JSON ist!) zu JSON.\n",
    "`indent=2` ist nicht notwendig, liefert aber die hübsche Einrückung."
   ]
  },
  {
   "cell_type": "code",
   "execution_count": 38,
   "metadata": {
    "collapsed": false
   },
   "outputs": [
    {
     "name": "stdout",
     "output_type": "stream",
     "text": [
      "[\n",
      "  {\n",
      "    \"dest\": \"LHR\", \n",
      "    \"hours\": 2.5, \n",
      "    \"dist\": 1100, \n",
      "    \"orig\": \"VIE\"\n",
      "  }, \n",
      "  {\n",
      "    \"dest\": \"JFK\", \n",
      "    \"hours\": 8.983333333333333, \n",
      "    \"dist\": 6823, \n",
      "    \"orig\": \"VIE\"\n",
      "  }, \n",
      "  {\n",
      "    \"dest\": \"ZCL\", \n",
      "    \"hours\": 4.65, \n",
      "    \"dist\": 3346, \n",
      "    \"orig\": \"JFK\"\n",
      "  }, \n",
      "  {\n",
      "    \"dest\": \"JFK\", \n",
      "    \"hours\": 5.5, \n",
      "    \"dist\": 4162, \n",
      "    \"orig\": \"SFO\"\n",
      "  }, \n",
      "  {\n",
      "    \"dest\": \"ZRH\", \n",
      "    \"hours\": 10.916666666666666, \n",
      "    \"dist\": 7993, \n",
      "    \"orig\": \"PEK\"\n",
      "  }, \n",
      "  {\n",
      "    \"dest\": \"YOW\", \n",
      "    \"hours\": 10.133333333333333, \n",
      "    \"dist\": 7758, \n",
      "    \"orig\": \"HNL\"\n",
      "  }, \n",
      "  {\n",
      "    \"dest\": \"BER\", \n",
      "    \"hours\": 1.15, \n",
      "    \"dist\": 676, \n",
      "    \"orig\": \"VIE\"\n",
      "  }, \n",
      "  {\n",
      "    \"dest\": \"TIP\", \n",
      "    \"hours\": 3.0166666666666666, \n",
      "    \"dist\": 2019, \n",
      "    \"orig\": \"CDG\"\n",
      "  }, \n",
      "  {\n",
      "    \"dest\": \"ATZ\", \n",
      "    \"hours\": 4.783333333333333, \n",
      "    \"dist\": 3453, \n",
      "    \"orig\": \"CDG\"\n",
      "  }, \n",
      "  {\n",
      "    \"dest\": \"FCO\", \n",
      "    \"hours\": 1.8666666666666667, \n",
      "    \"dist\": 1102, \n",
      "    \"orig\": \"CDG\"\n",
      "  }, \n",
      "  {\n",
      "    \"dest\": \"FCO\", \n",
      "    \"hours\": 1.4666666666666668, \n",
      "    \"dist\": 780, \n",
      "    \"orig\": \"VIE\"\n",
      "  }, \n",
      "  {\n",
      "    \"dest\": \"AMM\", \n",
      "    \"hours\": 5.65, \n",
      "    \"dist\": 4138, \n",
      "    \"orig\": \"LIS\"\n",
      "  }, \n",
      "  {\n",
      "    \"dest\": \"BER\", \n",
      "    \"hours\": 3.3666666666666667, \n",
      "    \"dist\": 2307, \n",
      "    \"orig\": \"LIS\"\n",
      "  }, \n",
      "  {\n",
      "    \"dest\": \"WAW\", \n",
      "    \"hours\": 3.9166666666666665, \n",
      "    \"dist\": 2754, \n",
      "    \"orig\": \"LIS\"\n",
      "  }, \n",
      "  {\n",
      "    \"dest\": \"SVO\", \n",
      "    \"hours\": 7.716666666666667, \n",
      "    \"dist\": 5811, \n",
      "    \"orig\": \"PEK\"\n",
      "  }, \n",
      "  {\n",
      "    \"dest\": \"HUU\", \n",
      "    \"hours\": 13.333333333333334, \n",
      "    \"dist\": 10331, \n",
      "    \"orig\": \"BRN\"\n",
      "  }\n",
      "]\n"
     ]
    }
   ],
   "source": [
    "import json\n",
    "flighttimes_json = json.dumps(flighttimes_py, indent=2)\n",
    "print(flighttimes_json)"
   ]
  },
  {
   "cell_type": "markdown",
   "metadata": {},
   "source": [
    "`loads` läd diese Datenstruktur aus der Zeichenkette:"
   ]
  },
  {
   "cell_type": "code",
   "execution_count": 39,
   "metadata": {
    "collapsed": false
   },
   "outputs": [
    {
     "name": "stdout",
     "output_type": "stream",
     "text": [
      "{u'dest': u'JFK', u'hours': 8.983333333333333, u'dist': 6823, u'orig': u'VIE'}\n"
     ]
    }
   ],
   "source": [
    "flightimes_py2 = json.loads(flighttimes_json)\n",
    "print(flightimes_py2[1])"
   ]
  },
  {
   "cell_type": "markdown",
   "metadata": {},
   "source": [
    "## YAML\n",
    "\n",
    "[YAML](http://www.yaml.org/) ist ähnlich wie JSON ein textbasiertes, programmiersprachenunabhängiges Format zur strukturierten Speicherung von Daten.\n",
    "Im Vergleich zu JSON hat es einige zusätzliche Funktionen und ist für den Menschen besser lesbar.\n",
    "\n",
    "Im folgenden wird die externe Bibliothek [pyyaml](https://bitbucket.org/xi/pyyaml) verwendet,\n",
    "um ganz analog zu JSON die Daten zuerst als String zu kodieren und dann wieder zurück zu lesen."
   ]
  },
  {
   "cell_type": "code",
   "execution_count": 40,
   "metadata": {
    "collapsed": false
   },
   "outputs": [
    {
     "name": "stdout",
     "output_type": "stream",
     "text": [
      "- dest: LHR\n",
      "  dist: 1100\n",
      "  hours: 2.5\n",
      "  orig: VIE\n",
      "- dest: JFK\n",
      "  dist: 6823\n",
      "  hours: 8.983333333333333\n",
      "  orig: VIE\n",
      "- dest: ZCL\n",
      "  dist: 3346\n",
      "  hours: 4.65\n",
      "  orig: JFK\n",
      "- dest: JFK\n",
      "  dist: 4162\n",
      "  hours: 5.5\n",
      "  orig: SFO\n",
      "- dest: ZRH\n",
      "  dist: 7993\n",
      "  hours: 10.916666666666666\n",
      "  orig: PEK\n",
      "- dest: YOW\n",
      "  dist: 7758\n",
      "  hours: 10.133333333333333\n",
      "  orig: HNL\n",
      "- dest: BER\n",
      "  dist: 676\n",
      "  hours: 1.15\n",
      "  orig: VIE\n",
      "- dest: TIP\n",
      "  dist: 2019\n",
      "  hours: 3.0166666666666666\n",
      "  orig: CDG\n",
      "- dest: ATZ\n",
      "  dist: 3453\n",
      "  hours: 4.783333333333333\n",
      "  orig: CDG\n",
      "- dest: FCO\n",
      "  dist: 1102\n",
      "  hours: 1.8666666666666667\n",
      "  orig: CDG\n",
      "- dest: FCO\n",
      "  dist: 780\n",
      "  hours: 1.4666666666666668\n",
      "  orig: VIE\n",
      "- dest: AMM\n",
      "  dist: 4138\n",
      "  hours: 5.65\n",
      "  orig: LIS\n",
      "- dest: BER\n",
      "  dist: 2307\n",
      "  hours: 3.3666666666666667\n",
      "  orig: LIS\n",
      "- dest: WAW\n",
      "  dist: 2754\n",
      "  hours: 3.9166666666666665\n",
      "  orig: LIS\n",
      "- dest: SVO\n",
      "  dist: 5811\n",
      "  hours: 7.716666666666667\n",
      "  orig: PEK\n",
      "- dest: HUU\n",
      "  dist: 10331\n",
      "  hours: 13.333333333333334\n",
      "  orig: BRN\n",
      "\n"
     ]
    }
   ],
   "source": [
    "import yaml\n",
    "flightimes_yaml = yaml.dump(flighttimes_py, default_flow_style=False, indent=2)\n",
    "print(flightimes_yaml)"
   ]
  },
  {
   "cell_type": "markdown",
   "metadata": {},
   "source": [
    "Im Gegensatz zu JSON, gibt es keine geschwungenen Klammern und sonstige besondere Auszeichnungen.\n",
    "Der Bindestrich signalisiert einen neuen Eintrag und die mit Doppelpunkt getrennte Assoziation ist eine kompaktere Darstellung.\n",
    "\n",
    "Mit wenigen Parameteränderungen gibt es aber auch ausgaben, die bis auf kleine Zeichenkodierungsunterschiede wie JSON sind.\n",
    "Daher ist YAML eine Übermenge von JSON."
   ]
  },
  {
   "cell_type": "code",
   "execution_count": 41,
   "metadata": {
    "collapsed": false
   },
   "outputs": [
    {
     "name": "stdout",
     "output_type": "stream",
     "text": [
      "[{dest: LHR, dist: 1100, hours: 2.5, orig: VIE}, {dest: JFK, dist: 6823, hours: 8.983333333333333,\n",
      "    orig: VIE}, {dest: ZCL, dist: 3346, hours: 4.65, orig: JFK}, {dest: JFK, dist: 4162,\n",
      "    hours: 5.5, orig: SFO}, {dest: ZRH, dist: 7993, hours: 10.916666666666666, orig: PEK},\n",
      "  {dest: YOW, dist: 7758, hours: 10.133333333333333, orig: HNL}, {dest: BER, dist: 676,\n",
      "    hours: 1.15, orig: VIE}, {dest: TIP, dist: 2019, hours: 3.0166666666666666, orig: CDG},\n",
      "  {dest: ATZ, dist: 3453, hours: 4.783333333333333, orig: CDG}, {dest: FCO, dist: 1102,\n",
      "    hours: 1.8666666666666667, orig: CDG}, {dest: FCO, dist: 780, hours: 1.4666666666666668,\n",
      "    orig: VIE}, {dest: AMM, dist: 4138, hours: 5.65, orig: LIS}, {dest: BER, dist: 2307,\n",
      "    hours: 3.3666666666666667, orig: LIS}, {dest: WAW, dist: 2754, hours: 3.9166666666666665,\n",
      "    orig: LIS}, {dest: SVO, dist: 5811, hours: 7.716666666666667, orig: PEK}, {dest: HUU,\n",
      "    dist: 10331, hours: 13.333333333333334, orig: BRN}]\n",
      "\n"
     ]
    }
   ],
   "source": [
    "flightimes_yaml2 = yaml.dump(flighttimes_py, default_flow_style=True, indent=0)\n",
    "print(flightimes_yaml2)"
   ]
  },
  {
   "cell_type": "code",
   "execution_count": 42,
   "metadata": {
    "collapsed": false
   },
   "outputs": [
    {
     "name": "stdout",
     "output_type": "stream",
     "text": [
      "- {dest: LHR, dist: 1100, hours: 2.5, orig: VIE}\n",
      "- {dest: JFK, dist: 6823, hours: 8.983333333333333, orig: VIE}\n",
      "- {dest: ZCL, dist: 3346, hours: 4.65, orig: JFK}\n",
      "- {dest: JFK, dist: 4162, hours: 5.5, orig: SFO}\n",
      "- {dest: ZRH, dist: 7993, hours: 10.916666666666666, orig: PEK}\n",
      "- {dest: YOW, dist: 7758, hours: 10.133333333333333, orig: HNL}\n",
      "- {dest: BER, dist: 676, hours: 1.15, orig: VIE}\n",
      "- {dest: TIP, dist: 2019, hours: 3.0166666666666666, orig: CDG}\n",
      "- {dest: ATZ, dist: 3453, hours: 4.783333333333333, orig: CDG}\n",
      "- {dest: FCO, dist: 1102, hours: 1.8666666666666667, orig: CDG}\n",
      "- {dest: FCO, dist: 780, hours: 1.4666666666666668, orig: VIE}\n",
      "- {dest: AMM, dist: 4138, hours: 5.65, orig: LIS}\n",
      "- {dest: BER, dist: 2307, hours: 3.3666666666666667, orig: LIS}\n",
      "- {dest: WAW, dist: 2754, hours: 3.9166666666666665, orig: LIS}\n",
      "- {dest: SVO, dist: 5811, hours: 7.716666666666667, orig: PEK}\n",
      "- {dest: HUU, dist: 10331, hours: 13.333333333333334, orig: BRN}\n",
      "\n"
     ]
    }
   ],
   "source": [
    "flightimes_yaml3 = yaml.dump(flighttimes_py, default_flow_style=None, indent=0)\n",
    "print(flightimes_yaml3)"
   ]
  },
  {
   "cell_type": "markdown",
   "metadata": {},
   "source": [
    "Zurücklesen des YAML Datensatzes in ein Python Objekt:"
   ]
  },
  {
   "cell_type": "code",
   "execution_count": 43,
   "metadata": {
    "collapsed": false
   },
   "outputs": [
    {
     "name": "stdout",
     "output_type": "stream",
     "text": [
      "{'dest': 'JFK', 'hours': 8.983333333333333, 'dist': 6823, 'orig': 'VIE'}\n"
     ]
    }
   ],
   "source": [
    "flightimes_py3 = yaml.load(flightimes_yaml)\n",
    "print(flightimes_py3[1])"
   ]
  },
  {
   "cell_type": "markdown",
   "metadata": {},
   "source": [
    "## XML\n",
    "\n",
    "Ein sehr altes, ebenfalls programmiersprachenunabhängiges und textbasiertes, Serialisierungsformat ist\n",
    "[XML](http://en.wikipedia.org/wiki/XML).\n",
    "Das dahinterstehende Konzept ist ein Baum, dessen Wurzelknoten das gesamte Dokument umfasst.\n",
    "Jeder Knoten kann Attribute und Kinderknoten haben.\n",
    "Zwischen den Kinderknoten können auch Textknoten stehen.\n",
    "\n",
    "Man trifft es nur noch selten an und wird am ehesten noch im Geschäftsumfeld verwendet.\n",
    "Das in Python eingebaute [`xml`](https://docs.python.org/2/library/xml.html) ([`xml` in python 3](https://docs.python.org/3/library/xml.html)) modul stellt beispielsweise über das Submodul `minidom` und `etree` einfache Schnittstelle zum Verarbeiten von XML bereit.\n",
    "\n",
    "HTML ist ähnlich zu XML, und daher sind einige Bibliotheken zum automatisierten Verarbeiten von HTML auf basis von XML konstruiert."
   ]
  },
  {
   "cell_type": "code",
   "execution_count": 44,
   "metadata": {
    "collapsed": false
   },
   "outputs": [],
   "source": [
    "import xml.etree.ElementTree as ET\n",
    "\n",
    "# wurzelknoten\n",
    "flighttimes_xml = ET.Element(\"flighttimes\")\n",
    "\n",
    "for _, data in flighttimes.iterrows():\n",
    "    \n",
    "    ft_entry = ET.SubElement(flighttimes_xml, \"flighttime\")\n",
    "    ft_entry.set(\"orig\", data.origin)\n",
    "    ft_entry.set(\"dest\", data.destination)\n",
    "    \n",
    "    ft_distance = ET.SubElement(ft_entry, \"distance\")\n",
    "    ft_distance.set(\"unit\", \"km\")\n",
    "    ft_distance.text = str(data.distance)\n",
    "    \n",
    "    ft_hours = ET.SubElement(ft_entry, \"hours\")\n",
    "    ft_hours.set(\"unit\", \"hour\")\n",
    "    ft_hours.text = str(data.time2)"
   ]
  },
  {
   "cell_type": "markdown",
   "metadata": {},
   "source": [
    "Zur schöneren Formatierung, wird das Ergebnis von `ET.tostring` noch durch `minidom`'s `toprettyxml` geschickt."
   ]
  },
  {
   "cell_type": "code",
   "execution_count": 45,
   "metadata": {
    "collapsed": false
   },
   "outputs": [
    {
     "name": "stdout",
     "output_type": "stream",
     "text": [
      "<?xml version=\"1.0\" ?>\n",
      "<flighttimes>\n",
      "  <flighttime dest=\"LHR\" orig=\"VIE\">\n",
      "    <distance unit=\"km\">1100</distance>\n",
      "    <hours unit=\"hour\">2.5</hours>\n",
      "  </flighttime>\n",
      "  <flighttime dest=\"JFK\" orig=\"VIE\">\n",
      "    <distance unit=\"km\">6823</distance>\n",
      "    <hours unit=\"hour\">8.98333333333</hours>\n",
      "  </flighttime>\n",
      "  <flighttime dest=\"ZCL\" orig=\"JFK\">\n",
      "    <distance unit=\"km\">3346</distance>\n",
      "    <hours unit=\"hour\">4.65</hours>\n",
      "  </flighttime>\n",
      "  <flighttime dest=\"JFK\" orig=\"SFO\">\n",
      "    <distance unit=\"km\">4162</distance>\n",
      "    <hours unit=\"hour\">5.5</hours>\n",
      "  </flighttime>\n",
      "  <flighttime dest=\"ZRH\" orig=\"PEK\">\n",
      "    <distance unit=\"km\">7993</distance>\n",
      "    <hours unit=\"hour\">10.9166666667</hours>\n",
      "  </flighttime>\n",
      "  <flighttime dest=\"YOW\" orig=\"HNL\">\n",
      "    <distance unit=\"km\">7758</distance>\n",
      "    <hours unit=\"hour\">10.1333333333</hours>\n",
      "  </flighttime>\n",
      "  <flighttime dest=\"BER\" orig=\"VIE\">\n",
      "    <distance unit=\"km\">676</distance>\n",
      "    <hours unit=\"hour\">1.15</hours>\n",
      "  </flighttime>\n",
      "  <flighttime dest=\"TIP\" orig=\"CDG\">\n",
      "    <distance unit=\"km\">2019</distance>\n",
      "    <hours unit=\"hour\">3.01666666667</hours>\n",
      "  </flighttime>\n",
      "  <flighttime dest=\"ATZ\" orig=\"CDG\">\n",
      "    <distance unit=\"km\">3453</distance>\n",
      "    <hours unit=\"hour\">4.78333333333</hours>\n",
      "  </flighttime>\n",
      "  <flighttime dest=\"FCO\" orig=\"CDG\">\n",
      "    <distance unit=\"km\">1102</distance>\n",
      "    <hours unit=\"hour\">1.86666666667</hours>\n",
      "  </flighttime>\n",
      "  <flighttime dest=\"FCO\" orig=\"VIE\">\n",
      "    <distance unit=\"km\">780</distance>\n",
      "    <hours unit=\"hour\">1.46666666667</hours>\n",
      "  </flighttime>\n",
      "  <flighttime dest=\"AMM\" orig=\"LIS\">\n",
      "    <distance unit=\"km\">4138</distance>\n",
      "    <hours unit=\"hour\">5.65</hours>\n",
      "  </flighttime>\n",
      "  <flighttime dest=\"BER\" orig=\"LIS\">\n",
      "    <distance unit=\"km\">2307</distance>\n",
      "    <hours unit=\"hour\">3.36666666667</hours>\n",
      "  </flighttime>\n",
      "  <flighttime dest=\"WAW\" orig=\"LIS\">\n",
      "    <distance unit=\"km\">2754</distance>\n",
      "    <hours unit=\"hour\">3.91666666667</hours>\n",
      "  </flighttime>\n",
      "  <flighttime dest=\"SVO\" orig=\"PEK\">\n",
      "    <distance unit=\"km\">5811</distance>\n",
      "    <hours unit=\"hour\">7.71666666667</hours>\n",
      "  </flighttime>\n",
      "  <flighttime dest=\"HUU\" orig=\"BRN\">\n",
      "    <distance unit=\"km\">10331</distance>\n",
      "    <hours unit=\"hour\">13.3333333333</hours>\n",
      "  </flighttime>\n",
      "</flighttimes>\n",
      "\n"
     ]
    }
   ],
   "source": [
    "from xml.dom import minidom\n",
    "raw_xml = ET.tostring(flighttimes_xml, \"UTF-8\")\n",
    "flighttimes_xml_ser = minidom.parseString(raw_xml).toprettyxml(indent=\"  \")\n",
    "print(flighttimes_xml_ser)"
   ]
  },
  {
   "cell_type": "markdown",
   "metadata": {},
   "source": [
    "Zurücklesen, diesmal über `minidom`:"
   ]
  },
  {
   "cell_type": "code",
   "execution_count": 46,
   "metadata": {
    "collapsed": false
   },
   "outputs": [],
   "source": [
    "flighttimes_dom = minidom.parseString(flighttimes_xml_ser)"
   ]
  },
  {
   "cell_type": "code",
   "execution_count": 47,
   "metadata": {
    "collapsed": false
   },
   "outputs": [
    {
     "name": "stdout",
     "output_type": "stream",
     "text": [
      "<flighttime dest=\"LHR\" orig=\"VIE\">\n",
      "    <distance unit=\"km\">1100</distance>\n",
      "    <hours unit=\"hour\">2.5</hours>\n",
      "  </flighttime>\n"
     ]
    }
   ],
   "source": [
    "ft_dom_root = flighttimes_dom.firstChild\n",
    "ft_dom_node1 = ft_dom_root.childNodes[1]\n",
    "print(ft_dom_node1.toxml())"
   ]
  },
  {
   "cell_type": "code",
   "execution_count": 48,
   "metadata": {
    "collapsed": false
   },
   "outputs": [
    {
     "data": {
      "text/plain": [
       "u'VIE'"
      ]
     },
     "execution_count": 48,
     "metadata": {},
     "output_type": "execute_result"
    }
   ],
   "source": [
    "ft_dom_node1.getAttribute(\"orig\")"
   ]
  },
  {
   "cell_type": "code",
   "execution_count": 49,
   "metadata": {
    "collapsed": false
   },
   "outputs": [
    {
     "data": {
      "text/plain": [
       "u'LHR'"
      ]
     },
     "execution_count": 49,
     "metadata": {},
     "output_type": "execute_result"
    }
   ],
   "source": [
    "ft_dom_node1.getAttribute(\"dest\")"
   ]
  },
  {
   "cell_type": "markdown",
   "metadata": {},
   "source": [
    "Man beachte, dass hier weit mehr Aufwand getätigt werden muss und es auch keinerlei Unterstützung für Datentypen gibt.\n",
    "* `.getElementsByTagName` sucht anch allen Kindknoten mit dem angegebenen Namen -- es wird mittels `[0]` das aller erste genommen.\n",
    "* Von diesem Knoten aus, steigt man über `.childNodes[0]` weiter den Baum hinab, um in dieser `TextNode` dann über das `.data` Attribut endlich zu dem eigentlichen Wert zu gelangen."
   ]
  },
  {
   "cell_type": "code",
   "execution_count": 50,
   "metadata": {
    "collapsed": false
   },
   "outputs": [
    {
     "name": "stdout",
     "output_type": "stream",
     "text": [
      "1100 [km]\n"
     ]
    }
   ],
   "source": [
    "distance_node = ft_dom_node1.getElementsByTagName(\"distance\")[0]\n",
    "unit = distance_node.getAttribute(\"unit\")\n",
    "value = int(distance_node.childNodes[0].data)\n",
    "print(\"%d [%s]\" % (value, unit))"
   ]
  },
  {
   "cell_type": "code",
   "execution_count": 51,
   "metadata": {
    "collapsed": false
   },
   "outputs": [
    {
     "name": "stdout",
     "output_type": "stream",
     "text": [
      "2.500000 [hour]\n"
     ]
    }
   ],
   "source": [
    "hours_node = ft_dom_node1.getElementsByTagName(\"hours\")[0]\n",
    "unit = hours_node.getAttribute(\"unit\")\n",
    "value = float(hours_node.childNodes[0].data)\n",
    "print(\"%f [%s]\" % (value, unit))"
   ]
  },
  {
   "cell_type": "markdown",
   "metadata": {},
   "source": [
    "Alternativ lässt sich auch mit `.findall()` aus der ElementTree Bibliothek nach den Namen der XML-Knoten suchen:"
   ]
  },
  {
   "cell_type": "code",
   "execution_count": 58,
   "metadata": {
    "collapsed": false
   },
   "outputs": [
    {
     "name": "stdout",
     "output_type": "stream",
     "text": [
      "VIE LHR 1100\n",
      "VIE JFK 6823\n",
      "JFK ZCL 3346\n",
      "SFO JFK 4162\n",
      "PEK ZRH 7993\n",
      "HNL YOW 7758\n",
      "VIE BER 676\n",
      "CDG TIP 2019\n",
      "CDG ATZ 3453\n",
      "CDG FCO 1102\n",
      "VIE FCO 780\n",
      "LIS AMM 4138\n",
      "LIS BER 2307\n",
      "LIS WAW 2754\n",
      "PEK SVO 5811\n",
      "BRN HUU 10331\n"
     ]
    }
   ],
   "source": [
    "ftimes_et = ET.fromstring(flighttimes_xml_ser)\n",
    "for ftime in ftimes_et.findall(\"flighttime\"):\n",
    "    print ftime.get(\"orig\"), ftime.get(\"dest\"), ftime.find(\"distance\").text"
   ]
  },
  {
   "cell_type": "markdown",
   "metadata": {
    "collapsed": false
   },
   "source": [
    "## Rastergrafiken (JPEG, PNG, etc.)\n",
    "\n",
    "Ein Bild wird üblicherweise als Rastergrafik gespeichert.\n",
    "Das heißt, es ist ein rechteckiges Array von Bildpunkten (Pixel),\n",
    "denen Farbwerte oder Graustufenwerte zugewiesen werden.\n",
    "Darüber hinaus werden zum Sparen von Speicherplatz diese Pixelwerte komprimiert\n",
    "(d.h. es findet eine verlustbehaftete Kodierung der Information statt).\n",
    "\n",
    "Hier nun ein Beispiel, wie ein JPEG Bild mittels `scipy.ndimage` eingelesen und dargestellt werden kann:\n",
    "\n",
    "Hinweis: Falls es nicht funktioniert, muss das [`pillow` Module](https://python-pillow.github.io/) installiert werden\n",
    "(`enpkg pillow` oder `pip install pillow`)"
   ]
  },
  {
   "cell_type": "code",
   "execution_count": null,
   "metadata": {
    "collapsed": false
   },
   "outputs": [],
   "source": [
    "from os.path import join\n",
    "import numpy as np\n",
    "import scipy.ndimage as ndimage\n",
    "elephant = ndimage.imread(join(\"res\", \"elephant.jpg\"))"
   ]
  },
  {
   "cell_type": "markdown",
   "metadata": {},
   "source": [
    "Es handelt sich um ein Bild mit 652x1107 Bildpunkten und drei Farbkanälen -- als `numpy.ndarray`!"
   ]
  },
  {
   "cell_type": "code",
   "execution_count": null,
   "metadata": {
    "collapsed": false
   },
   "outputs": [],
   "source": [
    "elephant.shape"
   ]
  },
  {
   "cell_type": "markdown",
   "metadata": {},
   "source": [
    "Daten in einer Teilmatrix.\n",
    "Jeder Wert gibt hier an, wie stark der rote Farbton in diesem Pixel aufgedreht werden soll (0 bis 255):"
   ]
  },
  {
   "cell_type": "code",
   "execution_count": null,
   "metadata": {
    "collapsed": false
   },
   "outputs": [],
   "source": [
    "np.set_printoptions(linewidth = 105)\n",
    "print(elephant[100:110, 500:550, 0])"
   ]
  },
  {
   "cell_type": "markdown",
   "metadata": {},
   "source": [
    "Hier nun eine für den Menschen verständlichere Form:\n",
    "Ein Babyelefant mit Muttertier."
   ]
  },
  {
   "cell_type": "code",
   "execution_count": null,
   "metadata": {
    "collapsed": false
   },
   "outputs": [],
   "source": [
    "%config InlineBackend.figure_formats=['png']\n",
    "%matplotlib inline\n",
    "import matplotlib.pyplot as plt\n",
    "plt.rcParams[\"figure.figsize\"] = (12, 7)\n",
    "plt.imshow(elephant)"
   ]
  },
  {
   "cell_type": "markdown",
   "metadata": {},
   "source": [
    "... oder hier nur der grüne Farbkanal einer Teilmatrix mit Spiegelung:"
   ]
  },
  {
   "cell_type": "code",
   "execution_count": null,
   "metadata": {
    "collapsed": false
   },
   "outputs": [],
   "source": [
    "plt.imshow(elephant[380:630,850:510:-1,0],\n",
    "           cmap=plt.cm.Greens_r,\n",
    "           interpolation=\"lanczos\")"
   ]
  },
  {
   "cell_type": "markdown",
   "metadata": {},
   "source": [
    "Oder experimenteller: Der Durchschnittswert aller drei Kanäle ..."
   ]
  },
  {
   "cell_type": "code",
   "execution_count": null,
   "metadata": {
    "collapsed": false
   },
   "outputs": [],
   "source": [
    "ele2 = np.mean(elephant, axis=2)\n",
    "print(ele2.shape)\n",
    "plt.imshow(ele2, cmap = plt.cm.Greys_r)"
   ]
  },
  {
   "cell_type": "markdown",
   "metadata": {},
   "source": [
    "... mit Anschließender Anwendung eines\n",
    "[2D Kernels über beide Dimensionen](http://docs.scipy.org/doc/scipy-dev/reference/generated/scipy.signal.convolve2d.html):\n",
    "\n",
    "Man muss genau hinsehen was passiert: durch so einen Kernel werden Kanten mit bestimmten Kontrastwechseln herausgefiltert!"
   ]
  },
  {
   "cell_type": "code",
   "execution_count": null,
   "metadata": {
    "collapsed": false
   },
   "outputs": [],
   "source": [
    "from scipy import signal\n",
    "ckernel = np.array([[-1, -1,  0],\n",
    "                    [-1,  0,  1],\n",
    "                    [ 0,  1,  1]])\n",
    "ele3 = signal.convolve2d(ele2, ckernel, boundary='symm', mode='same')\n",
    "plt.imshow(ele3, cmap = plt.cm.bwr)\n",
    "_ = plt.colorbar(shrink=.5)"
   ]
  }
 ],
 "metadata": {
  "kernelspec": {
   "display_name": "Python 2",
   "language": "python",
   "name": "python2"
  },
  "language_info": {
   "codemirror_mode": {
    "name": "ipython",
    "version": 2
   },
   "file_extension": ".py",
   "mimetype": "text/x-python",
   "name": "python",
   "nbconvert_exporter": "python",
   "pygments_lexer": "ipython2",
   "version": "2.7.6"
  }
 },
 "nbformat": 4,
 "nbformat_minor": 0
}
