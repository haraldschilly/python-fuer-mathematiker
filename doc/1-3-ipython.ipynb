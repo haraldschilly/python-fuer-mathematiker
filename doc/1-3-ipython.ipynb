{
 "cells": [
  {
   "cell_type": "markdown",
   "metadata": {},
   "source": [
    "# IPython Notebook"
   ]
  },
  {
   "cell_type": "markdown",
   "metadata": {},
   "source": [
    "[Python](http://www.python.org) an sich ist ein Interpreter für die Programmiersprache Python mit einer sehr umfangreichen Programmierbibliothek.\n",
    "\n",
    "[IPython](http://www.ipython.org) ist ein ***i***nteraktives System um mit einer laufenden Pythoninstanz arbeiten zu können.\n",
    "Dieses hier vorliegende Skriptum ist eine Sammlung sogenannter \"IPython Notebooks\". Diese sind jeweils interaktive Dokumente, welche aus Text, Code, und Codergebnissen bestehen. Daher ist es möglich, dieses gesamte Skriptum herunterzuladen und in IPython auszuführen. Jede Codezelle kann nicht nur lokal ausgeführt werden, sondern läd auch zum interaktiven Experimentieren ein."
   ]
  },
  {
   "cell_type": "markdown",
   "metadata": {},
   "source": [
    "## Bedienung"
   ]
  },
  {
   "cell_type": "markdown",
   "metadata": {},
   "source": [
    "### Start\n",
    "\n",
    "    $ ipython notebook\n",
    "\n",
    "in der Kommandozeile in einem vorher gewählten Verzeichnis.\n",
    "\n",
    "Es öffnet sich dann der standardmäßig eingestellte Web-browser für das grafische Interface (engl. GUI).\n",
    "\n",
    "Möchte man den Browser explizit festlegen, so geschieht dies über die Umgebungsvariable `BROWSER`:\n",
    "\n",
    "    $ BROWSER=firefox ipython notebook\n",
    "    \n",
    "bzw. das Öffnen eines Browserfensters kann so verhindert werden:\n",
    "\n",
    "    $ ipython notebook --no-browser\n",
    "\n",
    "### Speichern\n",
    "\n",
    "Ein geöffnetes Notebook speichert sich periodisch ab, jedoch ist empfehlenswert dies regelmäßig mittels <button class=\"btn\"><i class=\"fa fa-save\"></i></button> bzw. <button class=\"btn\">Ctrl+S</button> durchzuführen. `File` &rarr; `Save and Checkpoint` speichert darüber hinaus einen Checkpoint ab. Dadurch lässt sich zu einer früheren Version zurückspringen. Für eine genauere Versionskontrolle bzw. Gruppenkollaborationen ist [Git](http://www.git-scm.com) empfehlenswert.\n",
    "\n",
    "### Beenden\n",
    "\n",
    "Der Notebook Server muss nach getaner Arbeit beendet werden. Dazu 2x <button class=\"btn\">Ctrl+C</button> im Terminal betätigen."
   ]
  },
  {
   "cell_type": "markdown",
   "metadata": {},
   "source": [
    "## Das IPython Notebook hat zwei Ansichten\n",
    "\n",
    "* Eine Übersicht aller Worksheets im aktuellen Verzeichnis -- es kommt also darauf an, von welchem Verzeichnis aus es gestartet wurde.\n",
    "    Ein Klick auf <button class=\"btn\">New Notebook</button> erzeugt ein neues,\n",
    "    welches man mittels Klick auf den Namen passend umbennen kann.\n",
    "* Ein so geöffnetes, einzelnes Notebook hat eine Menüzeile und Buttons zur Bedienung.\n",
    "    Besonders wichtig ist der <button class=\"btn\"><i class=\"fa fa-play\"></i></button>-Button,\n",
    "    welcher den Code in der aktuellen Zelle ausführt.\n",
    "    Dies kann auch mit der <button class=\"btn\">Shift</button>+<button class=\"btn\">Return</button>\n",
    "    Tastenkombination bewerkstelligt werden.\n",
    "    Hierbei wird für jedes Worksheet im Hintergrund ein sogenannter \"Kernel\" zur Ausführung des Codes gestartet.\n",
    "    Alle Zellen eines Notebooks stehen also miteinander in Beziehung und\n",
    "    für den globalen Status ist die Reihenfolge, in der die Zellen ausgeführt werden, relevant --\n",
    "\n",
    "also insbesondere weder deren Position noch deren Existenz!"
   ]
  },
  {
   "cell_type": "markdown",
   "metadata": {},
   "source": [
    "## 2 Modii\n",
    "\n",
    "Grundsätzlich unterscheidet man dabei zwei Bedienmodalidäten: **Editermodus** und **Kommandomodus**.\n",
    "Im Editiermodus kann man den Inhalt der aktiven Zelle verändern,\n",
    "während im Kommandomus Befehle an das gesamte Notebook geschickt werden, die aktive Zelle gewählt werden kann, etc.\n",
    "\n",
    "Ein Mausklick auf eine Zelle wählt sie aktiv aus, ein Doppelklick oder <button class=\"btn\">Return</button> und man kann sie editieren.\n",
    "Zurück in den Kommandomodous kommt man mit <button class=\"btn\">Esc</button> (ohne Auswertung) bzw. <button class=\"btn\">Shift</button>+<button class=\"btn\">Return</button> (mit Auswertung).\n",
    "\n",
    "Die folgenden **Tastenkombinationen** sind sehr praktisch,\n",
    "und für eine effektive Bedienung unerlässlich.\n",
    "\n",
    "* **Kommandomodus**: Dieser Modus erlaubt zwischen den Zellen herumzuspringen, Zellen zu löschen, kopieren, verschieben, etc.\n",
    "\n",
    "  * **j/k (bzw. Pfeiltasten)**: vor- bzw. nachfolgende Zelle fokussieren.\n",
    "  * **a/b**: vor- bzw. nach der fokussierten Zelle eine leere Zelle einfügen\n",
    "  * **dd**: fokussierte Zelle löschen\n",
    "  * **z**: Zellenlöschung rückgängig machen.\n",
    "  * **h**: Hilfe zu allen Modii\n",
    "  * **Ctrl-s**: Speichern\n",
    "  * **Return**: aktivierung des Editiermodus.\n",
    "  * Zelltypen festlegen:\n",
    "    * **y** Python Codezelle\n",
    "    * **1**, **2**, ... Überschriften, Level 1, 2, ...\n",
    "    * **m** [Markdown](http://daringfireball.net/projects/markdown/syntax) (auch mit HTML)\n",
    "\n",
    "* **Editiermodus**: Diese dient der Bearbeitung des Inhalts einer ausgewählten Zelle\n",
    "\n",
    "  * **Tab**: \n",
    "     * ohne Markierung: wenn möglich, automatisches Vervollständigen.\n",
    "     * mit Markierung: Einrücken nach rechts, mit **Shift-Tab** nach links.\n",
    "  * **Shift+Return**: Auswertung der Zelle und vorrücken zur nächsten\n",
    "  * **Ctrl+Return**: Auswerten der Zelle - aber ohne vorrücken\n",
    "  * **Alt+Return**: Auswerten der Zelle und einfügen einer neuen leeren Zelle danach\n",
    "  * **ESC**: Rückkehr in den Kommandomodus.\n",
    "\n"
   ]
  },
  {
   "cell_type": "markdown",
   "metadata": {},
   "source": [
    "## Autovervollständigung:\n",
    "\n",
    "Definiere die Variable `donaudampfschiffahrtsgesellschaft`, und anschließend tippe `donaud[TAB]` und beachte, was passiert."
   ]
  },
  {
   "cell_type": "code",
   "execution_count": 1,
   "metadata": {
    "collapsed": false
   },
   "outputs": [],
   "source": [
    "donaudampfschiffahrtsgesellschaft = 1"
   ]
  },
  {
   "cell_type": "code",
   "execution_count": 2,
   "metadata": {
    "collapsed": false
   },
   "outputs": [
    {
     "ename": "NameError",
     "evalue": "name 'donaud' is not defined",
     "output_type": "error",
     "traceback": [
      "\u001b[1;31m\u001b[0m",
      "\u001b[1;31mNameError\u001b[0mTraceback (most recent call last)",
      "\u001b[1;32m<ipython-input-2-c2f4bbd70b03>\u001b[0m in \u001b[0;36m<module>\u001b[1;34m()\u001b[0m\n\u001b[1;32m----> 1\u001b[1;33m \u001b[0mdonaud\u001b[0m\u001b[1;33m\u001b[0m\u001b[0m\n\u001b[0m",
      "\u001b[1;31mNameError\u001b[0m: name 'donaud' is not defined"
     ]
    }
   ],
   "source": [
    "donaud"
   ]
  },
  {
   "cell_type": "markdown",
   "metadata": {},
   "source": [
    "Dies ist insbesondere für objektorientie Programmierung interessant,\n",
    "da hier nach dem Objekt (\"*Subjekt*\"), durch einen Punkt getrennt, das Attribut (\"*Objekt*\") oder die Methode (\"*Verb*\") angeführt wird.\n",
    "\n",
    "*Beispiel*: Methoden und Attribute einer Liste:"
   ]
  },
  {
   "cell_type": "code",
   "execution_count": 3,
   "metadata": {
    "collapsed": false
   },
   "outputs": [],
   "source": [
    "l = [\"Affe\", \"Hund\", \"Katze\"]"
   ]
  },
  {
   "cell_type": "code",
   "execution_count": 4,
   "metadata": {
    "collapsed": false
   },
   "outputs": [
    {
     "ename": "SyntaxError",
     "evalue": "invalid syntax (<ipython-input-4-37cab99ee337>, line 1)",
     "output_type": "error",
     "traceback": [
      "\u001b[1;36m  File \u001b[1;32m\"<ipython-input-4-37cab99ee337>\"\u001b[1;36m, line \u001b[1;32m1\u001b[0m\n\u001b[1;33m    l.\u001b[0m\n\u001b[1;37m      ^\u001b[0m\n\u001b[1;31mSyntaxError\u001b[0m\u001b[1;31m:\u001b[0m invalid syntax\n"
     ]
    }
   ],
   "source": [
    "l."
   ]
  },
  {
   "cell_type": "markdown",
   "metadata": {},
   "source": [
    "Ist `l` definiert, liefert ein Druck auf die Tabulatortaste wenn der Cursor gleich nach `l.` steht, dies:"
   ]
  },
  {
   "cell_type": "code",
   "execution_count": 5,
   "metadata": {
    "collapsed": false
   },
   "outputs": [
    {
     "data": {
      "image/png": "[encoded data removed]",
      "text/plain": [
       "<IPython.core.display.Image object>"
      ]
     },
     "execution_count": 5,
     "metadata": {},
     "output_type": "execute_result"
    }
   ],
   "source": [
    "from IPython.display import Image\n",
    "from os.path import join\n",
    "Image(filename = join(\"res\", \"ipython-tabcompletion.png\"))"
   ]
  },
  {
   "cell_type": "markdown",
   "metadata": {},
   "source": [
    "## Hilfe\n",
    "\n",
    "Entweder mit `help(...)` oder mit nachgestelltem `?`."
   ]
  },
  {
   "cell_type": "markdown",
   "metadata": {},
   "source": [
    "zu einem Befehl"
   ]
  },
  {
   "cell_type": "code",
   "execution_count": null,
   "metadata": {
    "collapsed": false
   },
   "outputs": [],
   "source": [
    "help(list)"
   ]
  },
  {
   "cell_type": "markdown",
   "metadata": {},
   "source": [
    "zu einer Objektinstanz, mittels der jeweiligen Variablen"
   ]
  },
  {
   "cell_type": "code",
   "execution_count": 15,
   "metadata": {
    "collapsed": false
   },
   "outputs": [],
   "source": [
    "l = [2, 3]\n",
    "l?"
   ]
  },
  {
   "cell_type": "markdown",
   "metadata": {},
   "source": [
    "zu einer Methode einer Objektinstanz"
   ]
  },
  {
   "cell_type": "code",
   "execution_count": 16,
   "metadata": {
    "collapsed": false
   },
   "outputs": [],
   "source": [
    "l.reverse?"
   ]
  },
  {
   "cell_type": "markdown",
   "metadata": {},
   "source": [
    "oder"
   ]
  },
  {
   "cell_type": "code",
   "execution_count": 17,
   "metadata": {
    "collapsed": false
   },
   "outputs": [
    {
     "name": "stdout",
     "output_type": "stream",
     "text": [
      "Help on built-in function count:\n",
      "\n",
      "count(...) method of builtins.list instance\n",
      "    L.count(value) -> integer -- return number of occurrences of value\n",
      "\n"
     ]
    }
   ],
   "source": [
    "help(l.count)"
   ]
  },
  {
   "cell_type": "markdown",
   "metadata": {},
   "source": [
    "zu einem ganzen Modul"
   ]
  },
  {
   "cell_type": "code",
   "execution_count": 18,
   "metadata": {
    "collapsed": false
   },
   "outputs": [
    {
     "name": "stdout",
     "output_type": "stream",
     "text": [
      "Help on module math:\n",
      "\n",
      "NAME\n",
      "    math\n",
      "\n",
      "MODULE REFERENCE\n",
      "    http://docs.python.org/3.5/library/math\n",
      "    \n",
      "    The following documentation is automatically generated from the Python\n",
      "    source files.  It may be incomplete, incorrect or include features that\n",
      "    are considered implementation detail and may vary between Python\n",
      "    implementations.  When in doubt, consult the module reference at the\n",
      "    location listed above.\n",
      "\n",
      "DESCRIPTION\n",
      "    This module is always available.  It provides access to the\n",
      "    mathematical functions defined by the C standard.\n",
      "\n",
      "FUNCTIONS\n",
      "    acos(...)\n",
      "        acos(x)\n",
      "        \n",
      "        Return the arc cosine (measured in radians) of x.\n",
      "    \n",
      "    acosh(...)\n",
      "        acosh(x)\n",
      "        \n",
      "        Return the inverse hyperbolic cosine of x.\n",
      "    \n",
      "    asin(...)\n",
      "        asin(x)\n",
      "        \n",
      "        Return the arc sine (measured in radians) of x.\n",
      "    \n",
      "    asinh(...)\n",
      "        asinh(x)\n",
      "        \n",
      "        Return the inverse hyperbolic sine of x.\n",
      "    \n",
      "    atan(...)\n",
      "        atan(x)\n",
      "        \n",
      "        Return the arc tangent (measured in radians) of x.\n",
      "    \n",
      "    atan2(...)\n",
      "        atan2(y, x)\n",
      "        \n",
      "        Return the arc tangent (measured in radians) of y/x.\n",
      "        Unlike atan(y/x), the signs of both x and y are considered.\n",
      "    \n",
      "    atanh(...)\n",
      "        atanh(x)\n",
      "        \n",
      "        Return the inverse hyperbolic tangent of x.\n",
      "    \n",
      "    ceil(...)\n",
      "        ceil(x)\n",
      "        \n",
      "        Return the ceiling of x as an int.\n",
      "        This is the smallest integral value >= x.\n",
      "    \n",
      "    copysign(...)\n",
      "        copysign(x, y)\n",
      "        \n",
      "        Return a float with the magnitude (absolute value) of x but the sign \n",
      "        of y. On platforms that support signed zeros, copysign(1.0, -0.0) \n",
      "        returns -1.0.\n",
      "    \n",
      "    cos(...)\n",
      "        cos(x)\n",
      "        \n",
      "        Return the cosine of x (measured in radians).\n",
      "    \n",
      "    cosh(...)\n",
      "        cosh(x)\n",
      "        \n",
      "        Return the hyperbolic cosine of x.\n",
      "    \n",
      "    degrees(...)\n",
      "        degrees(x)\n",
      "        \n",
      "        Convert angle x from radians to degrees.\n",
      "    \n",
      "    erf(...)\n",
      "        erf(x)\n",
      "        \n",
      "        Error function at x.\n",
      "    \n",
      "    erfc(...)\n",
      "        erfc(x)\n",
      "        \n",
      "        Complementary error function at x.\n",
      "    \n",
      "    exp(...)\n",
      "        exp(x)\n",
      "        \n",
      "        Return e raised to the power of x.\n",
      "    \n",
      "    expm1(...)\n",
      "        expm1(x)\n",
      "        \n",
      "        Return exp(x)-1.\n",
      "        This function avoids the loss of precision involved in the direct evaluation of exp(x)-1 for small x.\n",
      "    \n",
      "    fabs(...)\n",
      "        fabs(x)\n",
      "        \n",
      "        Return the absolute value of the float x.\n",
      "    \n",
      "    factorial(...)\n",
      "        factorial(x) -> Integral\n",
      "        \n",
      "        Find x!. Raise a ValueError if x is negative or non-integral.\n",
      "    \n",
      "    floor(...)\n",
      "        floor(x)\n",
      "        \n",
      "        Return the floor of x as an int.\n",
      "        This is the largest integral value <= x.\n",
      "    \n",
      "    fmod(...)\n",
      "        fmod(x, y)\n",
      "        \n",
      "        Return fmod(x, y), according to platform C.  x % y may differ.\n",
      "    \n",
      "    frexp(...)\n",
      "        frexp(x)\n",
      "        \n",
      "        Return the mantissa and exponent of x, as pair (m, e).\n",
      "        m is a float and e is an int, such that x = m * 2.**e.\n",
      "        If x is 0, m and e are both 0.  Else 0.5 <= abs(m) < 1.0.\n",
      "    \n",
      "    fsum(...)\n",
      "        fsum(iterable)\n",
      "        \n",
      "        Return an accurate floating point sum of values in the iterable.\n",
      "        Assumes IEEE-754 floating point arithmetic.\n",
      "    \n",
      "    gamma(...)\n",
      "        gamma(x)\n",
      "        \n",
      "        Gamma function at x.\n",
      "    \n",
      "    gcd(...)\n",
      "        gcd(x, y) -> int\n",
      "        greatest common divisor of x and y\n",
      "    \n",
      "    hypot(...)\n",
      "        hypot(x, y)\n",
      "        \n",
      "        Return the Euclidean distance, sqrt(x*x + y*y).\n",
      "    \n",
      "    isclose(...)\n",
      "        is_close(a, b, *, rel_tol=1e-09, abs_tol=0.0) -> bool\n",
      "        \n",
      "        Determine whether two floating point numbers are close in value.\n",
      "        \n",
      "           rel_tol\n",
      "               maximum difference for being considered \"close\", relative to the\n",
      "               magnitude of the input values\n",
      "            abs_tol\n",
      "               maximum difference for being considered \"close\", regardless of the\n",
      "               magnitude of the input values\n",
      "        \n",
      "        Return True if a is close in value to b, and False otherwise.\n",
      "        \n",
      "        For the values to be considered close, the difference between them\n",
      "        must be smaller than at least one of the tolerances.\n",
      "        \n",
      "        -inf, inf and NaN behave similarly to the IEEE 754 Standard.  That\n",
      "        is, NaN is not close to anything, even itself.  inf and -inf are\n",
      "        only close to themselves.\n",
      "    \n",
      "    isfinite(...)\n",
      "        isfinite(x) -> bool\n",
      "        \n",
      "        Return True if x is neither an infinity nor a NaN, and False otherwise.\n",
      "    \n",
      "    isinf(...)\n",
      "        isinf(x) -> bool\n",
      "        \n",
      "        Return True if x is a positive or negative infinity, and False otherwise.\n",
      "    \n",
      "    isnan(...)\n",
      "        isnan(x) -> bool\n",
      "        \n",
      "        Return True if x is a NaN (not a number), and False otherwise.\n",
      "    \n",
      "    ldexp(...)\n",
      "        ldexp(x, i)\n",
      "        \n",
      "        Return x * (2**i).\n",
      "    \n",
      "    lgamma(...)\n",
      "        lgamma(x)\n",
      "        \n",
      "        Natural logarithm of absolute value of Gamma function at x.\n",
      "    \n",
      "    log(...)\n",
      "        log(x[, base])\n",
      "        \n",
      "        Return the logarithm of x to the given base.\n",
      "        If the base not specified, returns the natural logarithm (base e) of x.\n",
      "    \n",
      "    log10(...)\n",
      "        log10(x)\n",
      "        \n",
      "        Return the base 10 logarithm of x.\n",
      "    \n",
      "    log1p(...)\n",
      "        log1p(x)\n",
      "        \n",
      "        Return the natural logarithm of 1+x (base e).\n",
      "        The result is computed in a way which is accurate for x near zero.\n",
      "    \n",
      "    log2(...)\n",
      "        log2(x)\n",
      "        \n",
      "        Return the base 2 logarithm of x.\n",
      "    \n",
      "    modf(...)\n",
      "        modf(x)\n",
      "        \n",
      "        Return the fractional and integer parts of x.  Both results carry the sign\n",
      "        of x and are floats.\n",
      "    \n",
      "    pow(...)\n",
      "        pow(x, y)\n",
      "        \n",
      "        Return x**y (x to the power of y).\n",
      "    \n",
      "    radians(...)\n",
      "        radians(x)\n",
      "        \n",
      "        Convert angle x from degrees to radians.\n",
      "    \n",
      "    sin(...)\n",
      "        sin(x)\n",
      "        \n",
      "        Return the sine of x (measured in radians).\n",
      "    \n",
      "    sinh(...)\n",
      "        sinh(x)\n",
      "        \n",
      "        Return the hyperbolic sine of x.\n",
      "    \n",
      "    sqrt(...)\n",
      "        sqrt(x)\n",
      "        \n",
      "        Return the square root of x.\n",
      "    \n",
      "    tan(...)\n",
      "        tan(x)\n",
      "        \n",
      "        Return the tangent of x (measured in radians).\n",
      "    \n",
      "    tanh(...)\n",
      "        tanh(x)\n",
      "        \n",
      "        Return the hyperbolic tangent of x.\n",
      "    \n",
      "    trunc(...)\n",
      "        trunc(x:Real) -> Integral\n",
      "        \n",
      "        Truncates x to the nearest Integral toward 0. Uses the __trunc__ magic method.\n",
      "\n",
      "DATA\n",
      "    e = 2.718281828459045\n",
      "    inf = inf\n",
      "    nan = nan\n",
      "    pi = 3.141592653589793\n",
      "\n",
      "FILE\n",
      "    /projects/anaconda3/lib/python3.5/lib-dynload/math.cpython-35m-x86_64-linux-gnu.so\n",
      "\n",
      "\n"
     ]
    }
   ],
   "source": [
    "import math\n",
    "help(math)"
   ]
  },
  {
   "cell_type": "markdown",
   "metadata": {},
   "source": [
    "## Global State\n",
    "\n",
    "Das Auswerten der Zellen, und insbesondere das zuweisen von Werten an Variablen, ändert den globalen Status.\n",
    "Wie schon erwähnt, ist die Reihenfolge und der Code der jeweils ausgeführten Zellen relevant -- nicht deren Position oder Existenz.\n",
    "Mit `%whos` kann man sich eine Übersicht über alle aktuellen Variablenwerte verschaffen:"
   ]
  },
  {
   "cell_type": "code",
   "execution_count": 19,
   "metadata": {
    "collapsed": false
   },
   "outputs": [],
   "source": [
    "x = 42\n",
    "y = 2 * x"
   ]
  },
  {
   "cell_type": "code",
   "execution_count": 20,
   "metadata": {
    "collapsed": false
   },
   "outputs": [
    {
     "name": "stdout",
     "output_type": "stream",
     "text": [
      "Variable                            Type        Data/Info\n",
      "---------------------------------------------------------\n",
      "Image                               type        <class 'IPython.core.display.Image'>\n",
      "donaudampfschiffahrtsgesellschaft   int         1\n",
      "join                                function    <function join at 0x7fe0de41b2f0>\n",
      "l                                   list        n=2\n",
      "math                                module      <module 'math' from '/pro<...>35m-x86_64-linux-gnu.so'>\n",
      "x                                   int         42\n",
      "y                                   int         84\n"
     ]
    }
   ],
   "source": [
    "%whos"
   ]
  },
  {
   "cell_type": "markdown",
   "metadata": {},
   "source": [
    "Der <button class=\"btn\"><i class=\"icon-repeat\"></i></button>-Button\n",
    "startet den Kernel neu und löscht damit alle Variablen und geladenen Module."
   ]
  },
  {
   "cell_type": "markdown",
   "metadata": {},
   "source": [
    "## Zelltypen: Code-, Text- und Überschriftenzellen\n",
    "\n",
    "Nebst den Codezellen gibt es auch Zellen die Fließtext oder Überschriften beinhalten können.\n",
    "Dies lässt sich für die aktuell gewählte Zelle in dem Dropdownmenü neben dem Reload-Button einstellen.\n",
    "\n",
    "Die Formatierung ist hierbei vereinfachtes [Markdown](http://daringfireball.net/projects/markdown/syntax), \n",
    "also insbesondere Textauszeichnungen wie: `*wort*`, `_wort_`, `**wort**` oder `[link text](http://url/)`. Überschriften werden durch ein, zwei oder drei `#` am Zeilenbeginn signalisiert.\n",
    "\n",
    "Um Programmcode anzugeben, ohne dass er ausgeführt wird, setzt man ihn in Markdown-Zellen unter verkehrte einfache Anführungszeichen. Mehrzeiliger Code ist zwischen <code>```</code> einzufügen."
   ]
  },
  {
   "cell_type": "markdown",
   "metadata": {},
   "source": [
    "### Beispiel\n",
    "\n",
    "Das ist\n",
    "\n",
    "* *fetter*\n",
    "* _kursiver_ Text mit \n",
    "* `c = od(e)`\n",
    "\n",
    "in einer Aufzählung.\n",
    "\n",
    "Mehrzeilig mit Python Syntaxhighlighting:\n",
    "\n",
    "```python\n",
    "def f(x):\n",
    "    a = min(0, x)\n",
    "    b = 2 * a + x\n",
    "    return a * b\n",
    "```"
   ]
  },
  {
   "cell_type": "markdown",
   "metadata": {},
   "source": [
    "## Magic Commands\n",
    "\n",
    "Zellen können auch \"magic commands\" beinhalten, welche entweder mit \"`%`\" oder \"`%%`\" beginnen.\n",
    "\n",
    "* `%` bezieht sich nur auf die aktuelle Zeile und steht am Beginn.\n",
    "* `%%` steht zu Beginn der ganzen Zelle und bezieht sich auf die ganze Zelle.\n",
    "\n",
    "Das sind Befehle, welche kein Python sind, sondern nur für IPython und das Notebook bestimmt sind.\n",
    "\n",
    "Das weiter oben angeführte Beispiel \"`%whos`\" ist so ein magic command.\n",
    "Andere nützliche sind:\n",
    "\n",
    "* `%timeit` bzw. `%%time`: um die Ausführungszeit eines Befehls bzw. einer ganzen zu Messen.\n",
    "* `%reset`: Löschen von gesetzten Variablen\n",
    "* `%writefile <filename>`: um den Inhalt der Zelle in die angegebene Datei zu speichern.\n",
    "* `%cat`: Auslesen einer Textdatei\n",
    "\n",
    "Ein **\"`!`\"** Rufzeichen führt den nachgestellten Code im Terminal des Systems aus.\n",
    "Damit lassen sich lokale Operationen im Dateisystem oder kleine Utilites bequem vom IPython Notebook aus steuern."
   ]
  },
  {
   "cell_type": "markdown",
   "metadata": {},
   "source": [
    "Neben diesen gibt es auch noch eine reihe anderer.\n",
    "Der Magic Befehl \"`%lsmagics`\" listet alle auf."
   ]
  },
  {
   "cell_type": "code",
   "execution_count": 21,
   "metadata": {
    "collapsed": false
   },
   "outputs": [
    {
     "data": {
      "application/json": {
       "cell": {
        "!": "OSMagics",
        "HTML": "Other",
        "SVG": "Other",
        "bash": "Other",
        "capture": "ExecutionMagics",
        "debug": "ExecutionMagics",
        "file": "Other",
        "html": "DisplayMagics",
        "javascript": "DisplayMagics",
        "latex": "DisplayMagics",
        "perl": "Other",
        "prun": "ExecutionMagics",
        "pypy": "Other",
        "python": "Other",
        "python2": "Other",
        "python3": "Other",
        "ruby": "Other",
        "script": "ScriptMagics",
        "sh": "Other",
        "svg": "DisplayMagics",
        "sx": "OSMagics",
        "system": "OSMagics",
        "time": "ExecutionMagics",
        "timeit": "ExecutionMagics",
        "writefile": "OSMagics"
       },
       "line": {
        "alias": "OSMagics",
        "alias_magic": "BasicMagics",
        "autocall": "AutoMagics",
        "automagic": "AutoMagics",
        "autosave": "KernelMagics",
        "bookmark": "OSMagics",
        "cat": "Other",
        "cd": "OSMagics",
        "clear": "KernelMagics",
        "colors": "BasicMagics",
        "config": "ConfigMagics",
        "connect_info": "KernelMagics",
        "cp": "Other",
        "debug": "ExecutionMagics",
        "dhist": "OSMagics",
        "dirs": "OSMagics",
        "doctest_mode": "BasicMagics",
        "ed": "Other",
        "edit": "KernelMagics",
        "env": "OSMagics",
        "gui": "BasicMagics",
        "hist": "Other",
        "history": "HistoryMagics",
        "install_default_config": "DeprecatedMagics",
        "install_ext": "ExtensionMagics",
        "install_profiles": "DeprecatedMagics",
        "killbgscripts": "ScriptMagics",
        "ldir": "Other",
        "less": "KernelMagics",
        "lf": "Other",
        "lk": "Other",
        "ll": "Other",
        "load": "CodeMagics",
        "load_ext": "ExtensionMagics",
        "loadpy": "CodeMagics",
        "logoff": "LoggingMagics",
        "logon": "LoggingMagics",
        "logstart": "LoggingMagics",
        "logstate": "LoggingMagics",
        "logstop": "LoggingMagics",
        "ls": "Other",
        "lsmagic": "BasicMagics",
        "lx": "Other",
        "macro": "ExecutionMagics",
        "magic": "BasicMagics",
        "man": "KernelMagics",
        "matplotlib": "PylabMagics",
        "mkdir": "Other",
        "more": "KernelMagics",
        "mv": "Other",
        "notebook": "BasicMagics",
        "page": "BasicMagics",
        "pastebin": "CodeMagics",
        "pdb": "ExecutionMagics",
        "pdef": "NamespaceMagics",
        "pdoc": "NamespaceMagics",
        "pfile": "NamespaceMagics",
        "pinfo": "NamespaceMagics",
        "pinfo2": "NamespaceMagics",
        "popd": "OSMagics",
        "pprint": "BasicMagics",
        "precision": "BasicMagics",
        "profile": "BasicMagics",
        "prun": "ExecutionMagics",
        "psearch": "NamespaceMagics",
        "psource": "NamespaceMagics",
        "pushd": "OSMagics",
        "pwd": "OSMagics",
        "pycat": "OSMagics",
        "pylab": "PylabMagics",
        "qtconsole": "KernelMagics",
        "quickref": "BasicMagics",
        "recall": "HistoryMagics",
        "rehashx": "OSMagics",
        "reload_ext": "ExtensionMagics",
        "rep": "Other",
        "rerun": "HistoryMagics",
        "reset": "NamespaceMagics",
        "reset_selective": "NamespaceMagics",
        "rm": "Other",
        "rmdir": "Other",
        "run": "ExecutionMagics",
        "save": "CodeMagics",
        "sc": "OSMagics",
        "set_env": "OSMagics",
        "store": "StoreMagics",
        "sx": "OSMagics",
        "system": "OSMagics",
        "tb": "ExecutionMagics",
        "time": "ExecutionMagics",
        "timeit": "ExecutionMagics",
        "unalias": "OSMagics",
        "unload_ext": "ExtensionMagics",
        "who": "NamespaceMagics",
        "who_ls": "NamespaceMagics",
        "whos": "NamespaceMagics",
        "xdel": "NamespaceMagics",
        "xmode": "BasicMagics"
       }
      },
      "text/plain": [
       "Available line magics:\n",
       "%alias  %alias_magic  %autocall  %automagic  %autosave  %bookmark  %cat  %cd  %clear  %colors  %config  %connect_info  %cp  %debug  %dhist  %dirs  %doctest_mode  %ed  %edit  %env  %gui  %hist  %history  %install_default_config  %install_ext  %install_profiles  %killbgscripts  %ldir  %less  %lf  %lk  %ll  %load  %load_ext  %loadpy  %logoff  %logon  %logstart  %logstate  %logstop  %ls  %lsmagic  %lx  %macro  %magic  %man  %matplotlib  %mkdir  %more  %mv  %notebook  %page  %pastebin  %pdb  %pdef  %pdoc  %pfile  %pinfo  %pinfo2  %popd  %pprint  %precision  %profile  %prun  %psearch  %psource  %pushd  %pwd  %pycat  %pylab  %qtconsole  %quickref  %recall  %rehashx  %reload_ext  %rep  %rerun  %reset  %reset_selective  %rm  %rmdir  %run  %save  %sc  %set_env  %store  %sx  %system  %tb  %time  %timeit  %unalias  %unload_ext  %who  %who_ls  %whos  %xdel  %xmode\n",
       "\n",
       "Available cell magics:\n",
       "%%!  %%HTML  %%SVG  %%bash  %%capture  %%debug  %%file  %%html  %%javascript  %%latex  %%perl  %%prun  %%pypy  %%python  %%python2  %%python3  %%ruby  %%script  %%sh  %%svg  %%sx  %%system  %%time  %%timeit  %%writefile\n",
       "\n",
       "Automagic is ON, % prefix IS NOT needed for line magics."
      ]
     },
     "execution_count": 21,
     "metadata": {},
     "output_type": "execute_result"
    }
   ],
   "source": [
    "%lsmagic"
   ]
  },
  {
   "cell_type": "markdown",
   "metadata": {},
   "source": [
    "Beispiel: Benchmark eines Funkionsaufrufs."
   ]
  },
  {
   "cell_type": "code",
   "execution_count": 22,
   "metadata": {
    "collapsed": false
   },
   "outputs": [
    {
     "name": "stdout",
     "output_type": "stream",
     "text": [
      "The slowest run took 21.28 times longer than the fastest. This could mean that an intermediate result is being cached.\n",
      "1000000 loops, best of 3: 200 ns per loop\n"
     ]
    }
   ],
   "source": [
    "import math\n",
    "%timeit math.sqrt(2)"
   ]
  },
  {
   "cell_type": "markdown",
   "metadata": {},
   "source": [
    "## Terminal\n",
    "\n",
    "Das `!` ruft den nachgestellten Befehl in der Kommandozeile auf."
   ]
  },
  {
   "cell_type": "code",
   "execution_count": 23,
   "metadata": {
    "collapsed": false
   },
   "outputs": [
    {
     "name": "stdout",
     "output_type": "stream",
     "text": [
      "2-0-konzepte.ipynb\r\n",
      "2-1-ausdruecke_und_variablen.ipynb\r\n",
      "2-2-syntax-errors.ipynb\r\n",
      "2-3-funktionen.ipynb\r\n",
      "2-4-kontrollstrukturen.ipynb\r\n",
      "2-5-datenstrukturen.ipynb\r\n",
      "2-6-datentypen_und_objekte.ipynb\r\n",
      "2-7-modularisierung.ipynb\r\n"
     ]
    }
   ],
   "source": [
    "! ls -1 2-?-*.ipynb"
   ]
  },
  {
   "cell_type": "markdown",
   "metadata": {},
   "source": [
    "Die Rückgabe so eines Terminalkommandos nach einem Rufzeichen kann auch in eine lokale Variable gespeichert werden:"
   ]
  },
  {
   "cell_type": "code",
   "execution_count": 24,
   "metadata": {
    "collapsed": false
   },
   "outputs": [
    {
     "data": {
      "text/plain": [
       "'2016-05-20 19:46'"
      ]
     },
     "execution_count": 24,
     "metadata": {},
     "output_type": "execute_result"
    }
   ],
   "source": [
    "datum = ! date \"+%Y-%m-%d %H:%M\"\n",
    "datum[0]"
   ]
  }
 ],
 "metadata": {
  "kernelspec": {
   "display_name": "Anaconda (Python 3)",
   "language": "python",
   "name": "anaconda3"
  },
  "language_info": {
   "codemirror_mode": {
    "name": "ipython",
    "version": 3
   },
   "file_extension": ".py",
   "mimetype": "text/x-python",
   "name": "python",
   "nbconvert_exporter": "python",
   "pygments_lexer": "ipython3",
   "version": "3.5.1"
  }
 },
 "nbformat": 4,
 "nbformat_minor": 0
}
