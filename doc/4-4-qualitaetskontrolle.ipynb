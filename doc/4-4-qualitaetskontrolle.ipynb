{
 "cells": [
  {
   "cell_type": "markdown",
   "metadata": {},
   "source": [
    "# Qualitätskontrolle"
   ]
  },
  {
   "cell_type": "markdown",
   "metadata": {},
   "source": [
    "Ist ein Programm erstmal geschrieben, vergisst man schnell die Details,\n",
    "es ändern sich im Laufe der Zeit die darunterligenden Bibliotheken\n",
    "und natürlich die Anwendungsfälle.\n",
    "Besonders schwierig wird es dann,\n",
    "später Fehler auszubessern oder bei nachträglichen Änderungen nicht neue Fehler einzubauen.\n",
    "\n",
    "Ein wichtiges Hilfsmittel hierfür sind Tests zur Qualitätskontrolle.\n",
    "Dabei handelt es sich um kleine Aufrufe der einzelnen Funktionen bzw. Methoden des Programms,\n",
    "wobei die jeweiligen Rückgabewerte mit den zu erwartenden Ergebnissen verglichen werden.\n",
    "Damit alle Tests passen, müssen alle Rückgaben exakt die zu erwartenden sein!\n",
    "\n",
    "Ein Programm sollte auch möglichst vollständig durch solche Testaufrufe abgedeckt werden.\n",
    "Das nennt sich [coverage](https://en.wikipedia.org/wiki/Code_coverage).\n",
    "\n",
    "Siehe auch: [Python Tutorial/Qualitätskontrolle](https://docs.python.org/2/tutorial/stdlib.html#quality-control)"
   ]
  },
  {
   "cell_type": "markdown",
   "metadata": {},
   "source": [
    "## Doctesting\n",
    "\n",
    "In die Doumentationskommentare der Funktionen und Methoden werden\n",
    "eingerückt durch `>>>` Anweisungen eingebaut und ausgeführt.\n",
    "Darunter steht jeweils das zu erwartende Ergebnis.\n",
    "\n",
    "Gibt es einen Unterschied, meldet dies der Test."
   ]
  },
  {
   "cell_type": "code",
   "execution_count": 1,
   "metadata": {
    "collapsed": false
   },
   "outputs": [],
   "source": [
    "from __future__ import division"
   ]
  },
  {
   "cell_type": "markdown",
   "metadata": {},
   "source": [
    "Berechnung des Mittelwerts mit einem Doctest:"
   ]
  },
  {
   "cell_type": "code",
   "execution_count": 2,
   "metadata": {
    "collapsed": false
   },
   "outputs": [],
   "source": [
    "def average(numbers):\n",
    "    \"\"\"\n",
    "    Durchschnitt der übergebenen Liste von Zahlen\n",
    "    \n",
    "    >>> average([2, 10, 12])\n",
    "    8.0\n",
    "\n",
    "    >>> x = average([7,7,7,7,7,7,7,7,7,7,7,8])\n",
    "    >>> 7.05 < x < 7.1\n",
    "    True\n",
    "    \"\"\"\n",
    "    return sum(numbers) / len(numbers)"
   ]
  },
  {
   "cell_type": "code",
   "execution_count": 3,
   "metadata": {
    "collapsed": false
   },
   "outputs": [
    {
     "data": {
      "text/plain": [
       "TestResults(failed=0, attempted=3)"
      ]
     },
     "execution_count": 3,
     "metadata": {},
     "output_type": "execute_result"
    }
   ],
   "source": [
    "import doctest\n",
    "doctest.testmod()"
   ]
  },
  {
   "cell_type": "markdown",
   "metadata": {},
   "source": [
    "Berechnung des Medians, wobei leider im Algorithmus ein wichtiger Schritt vergessen wurde.\n",
    "Daher passt dieser Test nicht!"
   ]
  },
  {
   "cell_type": "code",
   "execution_count": 4,
   "metadata": {
    "collapsed": false
   },
   "outputs": [],
   "source": [
    "def wrong_median(numbers):\n",
    "    \"\"\"\n",
    "    Median der übergebenen Liste von Zahlen\n",
    "    \n",
    "    >>> wrong_median([5, 10, 1, 10, 2])\n",
    "    5.0\n",
    "    \"\"\"\n",
    "    i = len(numbers) // 2\n",
    "    if len(numbers) % 2 == 0:\n",
    "        return (numbers[i] + numbers[i+1]) / 2.\n",
    "    return numbers[i]"
   ]
  },
  {
   "cell_type": "code",
   "execution_count": 5,
   "metadata": {
    "collapsed": false
   },
   "outputs": [
    {
     "name": "stdout",
     "output_type": "stream",
     "text": [
      "**********************************************************************\n",
      "File \"__main__\", line 5, in __main__.wrong_median\n",
      "Failed example:\n",
      "    wrong_median([5, 10, 1, 10, 2])\n",
      "Expected:\n",
      "    5.0\n",
      "Got:\n",
      "    1\n",
      "**********************************************************************\n",
      "1 items had failures:\n",
      "   1 of   1 in __main__.wrong_median\n",
      "***Test Failed*** 1 failures.\n"
     ]
    },
    {
     "data": {
      "text/plain": [
       "TestResults(failed=1, attempted=4)"
      ]
     },
     "execution_count": 5,
     "metadata": {},
     "output_type": "execute_result"
    }
   ],
   "source": [
    "doctest.testmod()"
   ]
  },
  {
   "cell_type": "markdown",
   "metadata": {},
   "source": [
    "## Unittests\n",
    "\n",
    "Allgemeiner als Doctests sind **Unittests**.\n",
    "Sie sind üblicherweise Teil eines komplexeren Frameworks,\n",
    "um Teile des gesamten Programms zu testen.\n",
    "Es gibt u.A. `setUp` und `tearDown` Routinen,\n",
    "um vor und nach der Ausführen der eigentlichen Tests den Programmstatus passend einzustellen\n",
    "(z.B. Datenbankverbindung herstellen, bevor Datenbankfunktionstests ausgeführt werden)"
   ]
  },
  {
   "cell_type": "markdown",
   "metadata": {},
   "source": [
    "Im folgenden berechnet die Funktion `steuern(einkommen)` den progressiven Steuersatz für das Einkommen.\n",
    "Die `ramp(...)` Funktion ist hierbei hilfreich, um sich langwierige Fallunterscheidungen und Zwischenrechnungen zu ersparen.\n",
    "\n",
    "$$\\operatorname{ramp}(x) := \\begin{cases}\n",
    "x & x \\geq 0 \\\\\n",
    "0 & \\text{otherwise}\n",
    "\\end{cases}$$"
   ]
  },
  {
   "cell_type": "code",
   "execution_count": 6,
   "metadata": {
    "collapsed": false
   },
   "outputs": [],
   "source": [
    "# ramp function (x * heavyside)\n",
    "ramp = lambda x : x if x >= 0. else 0.\n",
    "\n",
    "def steuern(einkommen):\n",
    "    s  = 0.\n",
    "    s += 0.25 * ramp(min(20000, einkommen) - 11000)\n",
    "    s += 0.35 * ramp(min(30000, einkommen) - 20000)\n",
    "    s += 0.42 * ramp(min(60000, einkommen) - 30000)\n",
    "    s += 0.48 * ramp(min(90000, einkommen) - 60000)\n",
    "    s += 0.50 * ramp(min(1000000, einkommen) - 90000)\n",
    "    s += 0.55 * ramp(einkommen - 1000000)\n",
    "    return s        "
   ]
  },
  {
   "cell_type": "code",
   "execution_count": 7,
   "metadata": {
    "collapsed": false
   },
   "outputs": [
    {
     "data": {
      "text/plain": [
       "0.0"
      ]
     },
     "execution_count": 7,
     "metadata": {},
     "output_type": "execute_result"
    }
   ],
   "source": [
    "steuern(1000)"
   ]
  },
  {
   "cell_type": "code",
   "execution_count": 8,
   "metadata": {
    "collapsed": false
   },
   "outputs": [
    {
     "data": {
      "text/plain": [
       "0.0"
      ]
     },
     "execution_count": 8,
     "metadata": {},
     "output_type": "execute_result"
    }
   ],
   "source": [
    "steuern(10500)"
   ]
  },
  {
   "cell_type": "code",
   "execution_count": 9,
   "metadata": {
    "collapsed": false
   },
   "outputs": [
    {
     "data": {
      "text/plain": [
       "25.0"
      ]
     },
     "execution_count": 9,
     "metadata": {},
     "output_type": "execute_result"
    }
   ],
   "source": [
    "steuern(11100)"
   ]
  },
  {
   "cell_type": "code",
   "execution_count": 10,
   "metadata": {
    "collapsed": false
   },
   "outputs": [
    {
     "data": {
      "text/plain": [
       "4003.5"
      ]
     },
     "execution_count": 10,
     "metadata": {},
     "output_type": "execute_result"
    }
   ],
   "source": [
    "steuern(25010)"
   ]
  },
  {
   "cell_type": "code",
   "execution_count": 11,
   "metadata": {
    "collapsed": false
   },
   "outputs": [
    {
     "data": {
      "text/plain": [
       "7850.0"
      ]
     },
     "execution_count": 11,
     "metadata": {},
     "output_type": "execute_result"
    }
   ],
   "source": [
    "steuern(35000)"
   ]
  },
  {
   "cell_type": "code",
   "execution_count": 12,
   "metadata": {
    "collapsed": false
   },
   "outputs": [
    {
     "data": {
      "text/plain": [
       "37750.0"
      ]
     },
     "execution_count": 12,
     "metadata": {},
     "output_type": "execute_result"
    }
   ],
   "source": [
    "steuern(100000)"
   ]
  },
  {
   "cell_type": "markdown",
   "metadata": {},
   "source": [
    "Hier nun die Definition von drei Tests -- als Teil eines `unittest.TestCase`s --\n",
    "wobei einer fehlschlägt.\n",
    "\n",
    "Man beachte, in der ersten Zeile der Ausgabe stehen die Punkte für die erfolgreich ausgeführten Tests,\n",
    "während der dritte mit einem \"F\" einen Fehler signalisiert."
   ]
  },
  {
   "cell_type": "code",
   "execution_count": 13,
   "metadata": {
    "collapsed": false
   },
   "outputs": [],
   "source": [
    "import unittest"
   ]
  },
  {
   "cell_type": "code",
   "execution_count": 14,
   "metadata": {
    "collapsed": false
   },
   "outputs": [],
   "source": [
    "class TestSteuern(unittest.TestCase):\n",
    "    def test_1(self):\n",
    "        assert steuern(1000) == 0.\n",
    "    def test_2(self):\n",
    "        assert steuern(25000) < 5000\n",
    "    def test_3(self):\n",
    "        assert(steuern(1000000) / 1000000) > .5"
   ]
  },
  {
   "cell_type": "code",
   "execution_count": 15,
   "metadata": {
    "collapsed": false
   },
   "outputs": [
    {
     "name": "stderr",
     "output_type": "stream",
     "text": [
      "..F\n",
      "======================================================================\n",
      "FAIL: test_3 (__main__.TestSteuern)\n",
      "----------------------------------------------------------------------\n",
      "Traceback (most recent call last):\n",
      "  File \"<ipython-input-14-f9b81d5049ee>\", line 7, in test_3\n",
      "    assert(steuern(1000000) / 1000000) > .5\n",
      "AssertionError\n",
      "\n",
      "----------------------------------------------------------------------\n",
      "Ran 3 tests in 0.004s\n",
      "\n",
      "FAILED (failures=1)\n"
     ]
    },
    {
     "data": {
      "text/plain": [
       "<unittest.runner.TextTestResult run=3 errors=0 failures=1>"
      ]
     },
     "execution_count": 15,
     "metadata": {},
     "output_type": "execute_result"
    }
   ],
   "source": [
    "suite = unittest.TestLoader().loadTestsFromTestCase(TestSteuern)\n",
    "unittest.TextTestRunner().run(suite)"
   ]
  },
  {
   "cell_type": "code",
   "execution_count": 16,
   "metadata": {
    "collapsed": false
   },
   "outputs": [],
   "source": [
    "%matplotlib inline\n",
    "import matplotlib.pyplot as plt"
   ]
  },
  {
   "cell_type": "markdown",
   "metadata": {},
   "source": [
    "Der vollständigkeithalber, ein Plot für Einkommen von 0 bis 200000€."
   ]
  },
  {
   "cell_type": "code",
   "execution_count": 17,
   "metadata": {
    "collapsed": false
   },
   "outputs": [
    {
     "data": {
      "text/plain": [
       "[<matplotlib.lines.Line2D at 0x7f0e14ae42e8>]"
      ]
     },
     "execution_count": 17,
     "metadata": {},
     "output_type": "execute_result"
    },
    {
     "data": {
      "image/png": "[encoded data removed]",
      "text/plain": [
       "<matplotlib.figure.Figure at 0x7f0e14ab8940>"
      ]
     },
     "metadata": {},
     "output_type": "display_data"
    }
   ],
   "source": [
    "from __future__ import division\n",
    "xx = range(1, 120000, 1000)\n",
    "yy = [steuern(s)/s for s in xx]\n",
    "plt.title(\"Grenzsteuersatz\")\n",
    "plt.ylim(0, 0.6)\n",
    "plt.hlines(0.55, 0, 120000, linestyles=\"dotted\")\n",
    "plt.plot(xx, yy)"
   ]
  }
 ],
 "metadata": {
  "kernelspec": {
   "display_name": "Anaconda (Python 3)",
   "language": "python",
   "name": "anaconda3"
  },
  "language_info": {
   "codemirror_mode": {
    "name": "ipython",
    "version": 3
   },
   "file_extension": ".py",
   "mimetype": "text/x-python",
   "name": "python",
   "nbconvert_exporter": "python",
   "pygments_lexer": "ipython3",
   "version": "3.5.1"
  }
 },
 "nbformat": 4,
 "nbformat_minor": 0
}
