{
 "cells": [
  {
   "cell_type": "markdown",
   "metadata": {},
   "source": [
    "# Installation"
   ]
  },
  {
   "cell_type": "markdown",
   "metadata": {},
   "source": [
    "Um mit den hier vorliegenden Unterlagen arbeiten zu können,\n",
    "braucht man Python und einige dazugehörige Software-Bibliotheken.\n",
    "\n",
    "Für Windows, Mac und Linux gibt es hierfür Distributionen für wissenschaftliche Zwecke:\n",
    "\n",
    "* [Anaconda von Continuum Analytics](https://store.continuum.io/cshop/anaconda/)\n",
    "  * Für dieses Skriptum wird \"Miniconda\" für **Python 3** verwendet.\n",
    "    Nicht vorhandene Python3 Pakete können einfach mit `$ conda install <name>`\n",
    "    in der Kommandozeile nachträglich installiert werden.\n",
    "* [Canopy von Enthought](https://www.enthought.com/products/canopy/)\n",
    "\n",
    "bzw. für Debian/Ubuntu Linux die entsprechenden mitgelieferten Softwarepakete: `python`, `python-numpy`, `python-scipy`, `python-sympy`, `ipython`, `python-pandas`, `python-matplotlib`, `python-networkx`, ...\n",
    "\n",
    "Alternativ lässt sich auch online arbeiten:\n",
    "\n",
    "* [SageMathCloud](https://cloud.sagemath.com)\n",
    "\n",
    "Nicht unebdingt notwendig, da nur an wenigen Stellen verwendet, kommen auch einige andere Tools vor:\n",
    "\n",
    "* [dot von graphviz](http://www.graphviz.org/): plottet graphen\n",
    "* [Git](http://www.git-scm.com/): Versionskontrolle"
   ]
  },
  {
   "cell_type": "markdown",
   "metadata": {},
   "source": [
    "Die hier momentan verwendeten Bibliotheken haben diese Versionsnummern:"
   ]
  },
  {
   "cell_type": "code",
   "execution_count": 5,
   "metadata": {
    "collapsed": false
   },
   "outputs": [
    {
     "name": "stdout",
     "output_type": "stream",
     "text": [
      "Zeitpunkt: 2015-06-27\n",
      "Python: 3.4.3 |Continuum Analytics, Inc.| (default, Jun  4 2015, 15:29:08) \n",
      "bs4             4.3.2\n",
      "csv             1.0\n",
      "cython          0.22.1\n",
      "json            2.0.9\n",
      "matplotlib      1.4.3\n",
      "mpmath          0.19\n",
      "networkx        1.9.1\n",
      "numpy           1.9.2\n",
      "pandas          0.16.2\n",
      "patsy           0.3.0\n",
      "scipy           0.15.1\n",
      "seaborn         0.5.1\n",
      "sklearn         0.16.1\n",
      "sqlite3         2.6.0\n",
      "statsmodels     0.6.1\n",
      "sympy           0.7.6\n",
      "yaml            3.11\n"
     ]
    }
   ],
   "source": [
    "import datetime\n",
    "print(\"Zeitpunkt: %s\" % datetime.date.today())\n",
    "\n",
    "import sys\n",
    "print(\"Python: %s\" % sys.version.splitlines()[0])\n",
    "\n",
    "# bs4: beautifulsoup4\n",
    "libs = ['numpy', 'scipy', 'matplotlib', 'seaborn', 'sympy', 'mpmath', 'pandas', 'statsmodels',\n",
    "        'patsy', 'sklearn', 'networkx', 'yaml', 'json', 'csv', 'sqlite3', 'cython', \"bs4\"]\n",
    "from importlib import import_module\n",
    "for lib_name in sorted(libs):\n",
    "    lib = import_module(lib_name)\n",
    "    try:\n",
    "        vers = lib.__version__\n",
    "    except:\n",
    "        vers = lib.version\n",
    "    print(\"{:<15s} {}\".format(lib_name, vers))"
   ]
  },
  {
   "cell_type": "code",
   "execution_count": null,
   "metadata": {
    "collapsed": true
   },
   "outputs": [],
   "source": []
  }
 ],
 "metadata": {
  "kernelspec": {
   "display_name": "Python 3",
   "language": "python",
   "name": "python3"
  },
  "language_info": {
   "codemirror_mode": {
    "name": "ipython",
    "version": 3
   },
   "file_extension": ".py",
   "mimetype": "text/x-python",
   "name": "python",
   "nbconvert_exporter": "python",
   "pygments_lexer": "ipython3",
   "version": "3.4.3"
  }
 },
 "nbformat": 4,
 "nbformat_minor": 0
}
