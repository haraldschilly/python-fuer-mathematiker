{
 "cells": [
  {
   "cell_type": "markdown",
   "metadata": {},
   "source": [
    "# Weiterführende Literatur und Links"
   ]
  },
  {
   "cell_type": "markdown",
   "metadata": {},
   "source": [
    "## Python\n",
    "\n",
    "* Tutorial: [Python 2](https://docs.python.org/2/tutorial/index.html), [Python 3](https://docs.python.org/3/tutorial/index.html)\n",
    "\n",
    "* Built-in Funktionen: [Version 2](https://docs.python.org/2/library/functions.html),\n",
    "  [Version 3](https://docs.python.org/3/library/functions.html)"
   ]
  },
  {
   "cell_type": "markdown",
   "metadata": {},
   "source": [
    "## Python Einführungen\n",
    "\n",
    "* [Object-Oriented Programming in Python](http://python-textbok.readthedocs.org/en/latest/) -- gute Einführung in Python und generell in das Programmieren.\n",
    "* [Introduction to Python](http://introtopython.org/) - Introduction to Python is a resource for students who want to learn Python as their first language.\n",
    "* [Google's Python Class](https://developers.google.com/edu/python/)\n",
    "* [Learn Python the Hard Way](http://learnpythonthehardway.org/)"
   ]
  },
  {
   "cell_type": "markdown",
   "metadata": {},
   "source": [
    "## Kurse\n",
    "\n",
    "* [Computing for Mathematics - Vincent Knight](http://vincent-knight.com/Computing_for_mathematics)\n",
    "* [Scientific Computing with Python - J.R. Johansson](http://nbviewer.ipython.org/github/jrjohansson/scientific-python-lectures/tree/master/)\n",
    "* [A Crash Course in Python for Scientists - Rick Muller - Sandia National Laboratories](http://nbviewer.ipython.org/gist/rpmuller/5920182)"
   ]
  },
  {
   "cell_type": "markdown",
   "metadata": {},
   "source": [
    "## Bibliotheken und Software\n",
    "\n",
    "* [Sage](http://www.sagemath.org) bzw. [SageMathCloud](https://cloud.sagemath.com)\n",
    "* [SymPy](http://www.sympy.org)\n",
    "* [NumPy](http://www.numpy.org)\n",
    "* [Matplotlib](http://www.matplotlib.org)\n",
    "* [Aufbau von Matplotlib](http://aosabook.org/en/matplotlib.html)\n",
    "\n",
    "### Tutorials\n",
    "\n",
    "* [Matplotlib tutorial](http://www.labri.fr/perso/nrougier/teaching/matplotlib/)"
   ]
  },
  {
   "cell_type": "markdown",
   "metadata": {},
   "source": [
    "## Literatur\n",
    "\n",
    "* [WikiBook Python Programming](http://en.wikibooks.org/wiki/Python_Programming)\n",
    "* [Best Practices for Scientific Computing - PLOS Biology, 2014](http://www.plosbiology.org/article/info%3Adoi%2F10.1371%2Fjournal.pbio.100174)\n",
    "* Stefan Van Der Walt, S. Chris Colbert, Gaël Varoquaux: *[The NumPy array: a structure for efficient numerical computation](http://arxiv.org/abs/1102.1523)*, Computing in Science and Engineering 13, 2 (2011) 22-3, [PDF](http://arxiv.org/pdf/1102.1523v1)"
   ]
  }
 ],
 "metadata": {
  "kernelspec": {
   "display_name": "Anaconda (Python 3)",
   "language": "python",
   "name": "anaconda3"
  },
  "language_info": {
   "codemirror_mode": {
    "name": "ipython",
    "version": 3
   },
   "file_extension": ".py",
   "mimetype": "text/x-python",
   "name": "python",
   "nbconvert_exporter": "python",
   "pygments_lexer": "ipython3",
   "version": "3.5.1"
  }
 },
 "nbformat": 4,
 "nbformat_minor": 0
}
