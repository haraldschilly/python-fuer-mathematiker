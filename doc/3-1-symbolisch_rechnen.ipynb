{
 "cells": [
  {
   "cell_type": "markdown",
   "metadata": {},
   "source": [
    "# Symbolisches Rechnen mit SymPy\n",
    "\n",
    "[SymPy](http://www.sympy.org) ist eine Bibliothek für symbolisches Rechnen in Python."
   ]
  },
  {
   "cell_type": "markdown",
   "metadata": {},
   "source": [
    "## Variablen und symblische Ausdrücke\n",
    "\n",
    "Als allererste Zutat für symblische Ausdrücke müssen Variablen definiert werden.\n",
    "Hierfür gibt es entweder die einfache `from sympy.abc import x` Variante,\n",
    "oder über die `sympy.symbols` Funktion werden Name(n) und eventuell spezielle Abschätzungen (\"ganzzahlig\", ...) festgelegt."
   ]
  },
  {
   "cell_type": "code",
   "execution_count": 1,
   "metadata": {
    "collapsed": false
   },
   "outputs": [],
   "source": [
    "from __future__ import division\n",
    "import sympy as sy"
   ]
  },
  {
   "cell_type": "code",
   "execution_count": 2,
   "metadata": {
    "collapsed": false
   },
   "outputs": [],
   "source": [
    "from sympy.abc import x, y"
   ]
  },
  {
   "cell_type": "code",
   "execution_count": 3,
   "metadata": {
    "collapsed": false
   },
   "outputs": [
    {
     "data": {
      "text/plain": [
       "sympy.core.symbol.Symbol"
      ]
     },
     "execution_count": 3,
     "metadata": {},
     "output_type": "execute_result"
    }
   ],
   "source": [
    "type(x)"
   ]
  },
  {
   "cell_type": "markdown",
   "metadata": {},
   "source": [
    "Ein einfacher, erster Ausdruck:"
   ]
  },
  {
   "cell_type": "code",
   "execution_count": 4,
   "metadata": {
    "collapsed": false
   },
   "outputs": [
    {
     "data": {
      "text/plain": [
       "x + y"
      ]
     },
     "execution_count": 4,
     "metadata": {},
     "output_type": "execute_result"
    }
   ],
   "source": [
    "x + y"
   ]
  },
  {
   "cell_type": "markdown",
   "metadata": {},
   "source": [
    "... und dessen Typ ist (ein wenig überraschend?) `Add`."
   ]
  },
  {
   "cell_type": "code",
   "execution_count": 5,
   "metadata": {
    "collapsed": false
   },
   "outputs": [
    {
     "data": {
      "text/plain": [
       "sympy.core.add.Add"
      ]
     },
     "execution_count": 5,
     "metadata": {},
     "output_type": "execute_result"
    }
   ],
   "source": [
    "type(x + y)"
   ]
  },
  {
   "cell_type": "markdown",
   "metadata": {},
   "source": [
    "Das liegt daran, dass ein symbolischer Ausdruck ein Baum von Operationen mit Argumenten ist.\n",
    "Die Wurzel ist in diesem Fall die Addition, und die beiden Variablen sind die Argumente der Addition."
   ]
  },
  {
   "cell_type": "markdown",
   "metadata": {},
   "source": [
    "Zusammensetzung eines anderen, größeren Ausdrucks:"
   ]
  },
  {
   "cell_type": "code",
   "execution_count": 6,
   "metadata": {
    "collapsed": false
   },
   "outputs": [
    {
     "data": {
      "text/plain": [
       "(2*x**2 + 3)/(y + 5)"
      ]
     },
     "execution_count": 6,
     "metadata": {},
     "output_type": "execute_result"
    }
   ],
   "source": [
    "(2*x**2 + 3) / (y + 5)"
   ]
  },
  {
   "cell_type": "markdown",
   "metadata": {},
   "source": [
    "Zuweisung an eine Variable und Auswertung durch Substitution:"
   ]
  },
  {
   "cell_type": "code",
   "execution_count": 7,
   "metadata": {
    "collapsed": false
   },
   "outputs": [
    {
     "data": {
      "text/plain": [
       "885/(y + 5)"
      ]
     },
     "execution_count": 7,
     "metadata": {},
     "output_type": "execute_result"
    }
   ],
   "source": [
    "ex1 = (2*x**2 + 3) / (y + 5)\n",
    "ex1.subs(x, 21)"
   ]
  },
  {
   "cell_type": "code",
   "execution_count": 8,
   "metadata": {
    "collapsed": false
   },
   "outputs": [
    {
     "data": {
      "text/plain": [
       "30.0982800982801"
      ]
     },
     "execution_count": 8,
     "metadata": {},
     "output_type": "execute_result"
    }
   ],
   "source": [
    "ex1.subs({x : 11, y : 3.14})"
   ]
  },
  {
   "cell_type": "markdown",
   "metadata": {},
   "source": [
    "`.evalf()` wertet Ausdrücke numerisch aus:"
   ]
  },
  {
   "cell_type": "code",
   "execution_count": 9,
   "metadata": {
    "collapsed": false
   },
   "outputs": [
    {
     "data": {
      "text/plain": [
       "sqrt(2)*sqrt(sin(x))/pi"
      ]
     },
     "execution_count": 9,
     "metadata": {},
     "output_type": "execute_result"
    }
   ],
   "source": [
    "from sympy import pi, sin, sqrt\n",
    "ex2 = sqrt(2 * sin(x)) / pi\n",
    "ex2"
   ]
  },
  {
   "cell_type": "code",
   "execution_count": 10,
   "metadata": {
    "collapsed": false
   },
   "outputs": [
    {
     "data": {
      "text/plain": [
       "0.412937855327941"
      ]
     },
     "execution_count": 10,
     "metadata": {},
     "output_type": "execute_result"
    }
   ],
   "source": [
    "ex2.evalf(subs = {x : 1})"
   ]
  },
  {
   "cell_type": "code",
   "execution_count": 11,
   "metadata": {
    "collapsed": false
   },
   "outputs": [
    {
     "data": {
      "text/plain": [
       "0.4129378553279408383569413918993854348289426830297614114255099495993100683862339505790006113904633237"
      ]
     },
     "execution_count": 11,
     "metadata": {},
     "output_type": "execute_result"
    }
   ],
   "source": [
    "ex2.evalf(100, subs = {x : 1})"
   ]
  },
  {
   "cell_type": "markdown",
   "metadata": {},
   "source": [
    "Sympy's \"`srepr`\" Funktion zeigt den Aufbau des Ausdrucks als Komposition aller Funktionen an:"
   ]
  },
  {
   "cell_type": "code",
   "execution_count": 12,
   "metadata": {
    "collapsed": false
   },
   "outputs": [
    {
     "data": {
      "text/plain": [
       "\"Mul(Add(Mul(Integer(2), Pow(Symbol('x'), Integer(2))), Integer(3)), Pow(Add(Symbol('y'), Integer(5)), Integer(-1)))\""
      ]
     },
     "execution_count": 12,
     "metadata": {},
     "output_type": "execute_result"
    }
   ],
   "source": [
    "sy.srepr(ex1)"
   ]
  },
  {
   "cell_type": "markdown",
   "metadata": {},
   "source": [
    "### 2D-Text Darstellung\n",
    "\n",
    "Der Ausdruck wird in [ASCII-Art](http://en.wikipedia.org/wiki/ASCII_art) umgewandelt."
   ]
  },
  {
   "cell_type": "code",
   "execution_count": 13,
   "metadata": {
    "collapsed": false
   },
   "outputs": [
    {
     "name": "stdout",
     "output_type": "stream",
     "text": [
      "   2    \n",
      "2⋅x  + 3\n",
      "────────\n",
      " y + 5  \n"
     ]
    }
   ],
   "source": [
    "sy.pprint(ex1)"
   ]
  },
  {
   "cell_type": "markdown",
   "metadata": {},
   "source": [
    "### LaTeX Konvertierung und Darstellung\n",
    "\n",
    "Sympy's `latex()` Funktion konvertiert den Ausdruck zu einem entsprechenden LaTeX-Formel string.\n",
    "Anschließend zeigt die `Math()` Funktion von IPython diese LaTeX Formel hier im Notebook an."
   ]
  },
  {
   "cell_type": "code",
   "execution_count": 14,
   "metadata": {
    "collapsed": false
   },
   "outputs": [
    {
     "data": {
      "text/plain": [
       "'\\\\frac{2 x^{2} + 3}{y + 5}'"
      ]
     },
     "execution_count": 14,
     "metadata": {},
     "output_type": "execute_result"
    }
   ],
   "source": [
    "sy.latex(ex1)"
   ]
  },
  {
   "cell_type": "code",
   "execution_count": 15,
   "metadata": {
    "collapsed": false
   },
   "outputs": [
    {
     "data": {
      "text/latex": [
       "$$\\frac{2 x^{2} + 3}{y + 5}$$"
      ],
      "text/plain": [
       "<IPython.core.display.Math object>"
      ]
     },
     "execution_count": 15,
     "metadata": {},
     "output_type": "execute_result"
    }
   ],
   "source": [
    "from IPython.display import Math\n",
    "Math(sy.latex(ex1))"
   ]
  },
  {
   "cell_type": "markdown",
   "metadata": {},
   "source": [
    "## IPython Notebook Support für SymPy Ausdrücke\n",
    "\n",
    "Durch einmaliges Ausführen von `init_printing()` werden alle SymPy Ausdrücke automatisch in $\\LaTeX{}$ dargestellt."
   ]
  },
  {
   "cell_type": "code",
   "execution_count": 16,
   "metadata": {
    "collapsed": false
   },
   "outputs": [],
   "source": [
    "from sympy import init_printing\n",
    "init_printing()"
   ]
  },
  {
   "cell_type": "code",
   "execution_count": 17,
   "metadata": {
    "collapsed": false
   },
   "outputs": [
    {
     "data": {
      "image/png": "[encoded data removed]",
      "text/latex": [
       "$$\\frac{2 x^{2} + 3}{y + 5}$$"
      ],
      "text/plain": [
       "   2    \n",
       "2⋅x  + 3\n",
       "────────\n",
       " y + 5  "
      ]
     },
     "execution_count": 17,
     "metadata": {},
     "output_type": "execute_result"
    }
   ],
   "source": [
    "ex1"
   ]
  },
  {
   "cell_type": "markdown",
   "metadata": {},
   "source": [
    "### Grafische Darstellung\n",
    "\n",
    "Den Baum des symbolischen Ausdruckt kann man auch grafisch Darstellen.\n",
    "Zuerst konvertiert `dotprint` den Ausdruck in das `dot`-Format zur Visualisierung von Graphen,\n",
    "und dann wird es mit dem passenden Linux Utility gerendert und dargestellt."
   ]
  },
  {
   "cell_type": "code",
   "execution_count": 18,
   "metadata": {
    "collapsed": false
   },
   "outputs": [],
   "source": [
    "def expr_to_dotgraph(name, expr):\n",
    "    from sympy.printing.dot import dotprint\n",
    "\n",
    "    # input and output filenames\n",
    "    import os\n",
    "    fname = os.path.join(\"res\", name)\n",
    "    fname_dot = fname + \".dot\"\n",
    "    fname_svg = fname + \".svg\"\n",
    "\n",
    "    # writing the output of dotprint to the given file\n",
    "    with open(fname_dot, \"w\") as dot_file:\n",
    "        dot_file.write(dotprint(expr))\n",
    "\n",
    "    # rendering the *.dot to *.svg\n",
    "    ! dot -Tsvg -o $fname_svg $fname_dot\n",
    "\n",
    "    # showing the resulting *.svg file here in the notebook\n",
    "    from IPython.display import SVG\n",
    "    return SVG(filename = fname_svg)"
   ]
  },
  {
   "cell_type": "code",
   "execution_count": 19,
   "metadata": {
    "collapsed": false
   },
   "outputs": [
    {
     "data": {
      "image/svg+xml": [
       "<svg height=\"332pt\" viewBox=\"0.00 0.00 350.00 332.00\" width=\"350pt\" xmlns=\"http://www.w3.org/2000/svg\" xmlns:xlink=\"http://www.w3.org/1999/xlink\">\n",
       "<g class=\"graph\" id=\"graph0\" transform=\"scale(1 1) rotate(0) translate(4 328)\">\n",
       "<title>%3</title>\n",
       "<polygon fill=\"white\" points=\"-4,4 -4,-328 346,-328 346,4 -4,4\" stroke=\"none\"/>\n",
       "<!-- Mul(Add(Integer(3), Mul(Integer(2), Pow(Symbol(x), Integer(2)))), Pow(Add(Integer(5), Symbol(y)), NegativeOne()))_() -->\n",
       "<g class=\"node\" id=\"node1\"><title>Mul(Add(Integer(3), Mul(Integer(2), Pow(Symbol(x), Integer(2)))), Pow(Add(Integer(5), Symbol(y)), NegativeOne()))_()</title>\n",
       "<ellipse cx=\"153\" cy=\"-306\" fill=\"none\" rx=\"27\" ry=\"18\" stroke=\"black\"/>\n",
       "<text font-family=\"Times,serif\" font-size=\"14.00\" text-anchor=\"middle\" x=\"153\" y=\"-302.3\">Mul</text>\n",
       "</g>\n",
       "<!-- Pow(Add(Integer(5), Symbol(y)), NegativeOne())_(0,) -->\n",
       "<g class=\"node\" id=\"node2\"><title>Pow(Add(Integer(5), Symbol(y)), NegativeOne())_(0,)</title>\n",
       "<ellipse cx=\"117\" cy=\"-234\" fill=\"none\" rx=\"27\" ry=\"18\" stroke=\"black\"/>\n",
       "<text font-family=\"Times,serif\" font-size=\"14.00\" text-anchor=\"middle\" x=\"117\" y=\"-230.3\">Pow</text>\n",
       "</g>\n",
       "<!-- Mul(Add(Integer(3), Mul(Integer(2), Pow(Symbol(x), Integer(2)))), Pow(Add(Integer(5), Symbol(y)), NegativeOne()))_()&#45;&gt;Pow(Add(Integer(5), Symbol(y)), NegativeOne())_(0,) -->\n",
       "<g class=\"edge\" id=\"edge1\"><title>Mul(Add(Integer(3), Mul(Integer(2), Pow(Symbol(x), Integer(2)))), Pow(Add(Integer(5), Symbol(y)), NegativeOne()))_()-&gt;Pow(Add(Integer(5), Symbol(y)), NegativeOne())_(0,)</title>\n",
       "<path d=\"M144.65,-288.765C140.288,-280.283 134.853,-269.714 129.959,-260.197\" fill=\"none\" stroke=\"black\"/>\n",
       "<polygon fill=\"black\" points=\"132.99,-258.439 125.304,-251.147 126.765,-261.641 132.99,-258.439\" stroke=\"black\"/>\n",
       "</g>\n",
       "<!-- Add(Integer(3), Mul(Integer(2), Pow(Symbol(x), Integer(2))))_(1,) -->\n",
       "<g class=\"node\" id=\"node7\"><title>Add(Integer(3), Mul(Integer(2), Pow(Symbol(x), Integer(2))))_(1,)</title>\n",
       "<ellipse cx=\"189\" cy=\"-234\" fill=\"none\" rx=\"27\" ry=\"18\" stroke=\"black\"/>\n",
       "<text font-family=\"Times,serif\" font-size=\"14.00\" text-anchor=\"middle\" x=\"189\" y=\"-230.3\">Add</text>\n",
       "</g>\n",
       "<!-- Mul(Add(Integer(3), Mul(Integer(2), Pow(Symbol(x), Integer(2)))), Pow(Add(Integer(5), Symbol(y)), NegativeOne()))_()&#45;&gt;Add(Integer(3), Mul(Integer(2), Pow(Symbol(x), Integer(2))))_(1,) -->\n",
       "<g class=\"edge\" id=\"edge2\"><title>Mul(Add(Integer(3), Mul(Integer(2), Pow(Symbol(x), Integer(2)))), Pow(Add(Integer(5), Symbol(y)), NegativeOne()))_()-&gt;Add(Integer(3), Mul(Integer(2), Pow(Symbol(x), Integer(2))))_(1,)</title>\n",
       "<path d=\"M161.35,-288.765C165.712,-280.283 171.147,-269.714 176.041,-260.197\" fill=\"none\" stroke=\"black\"/>\n",
       "<polygon fill=\"black\" points=\"179.235,-261.641 180.696,-251.147 173.01,-258.439 179.235,-261.641\" stroke=\"black\"/>\n",
       "</g>\n",
       "<!-- Add(Integer(5), Symbol(y))_(0, 0) -->\n",
       "<g class=\"node\" id=\"node3\"><title>Add(Integer(5), Symbol(y))_(0, 0)</title>\n",
       "<ellipse cx=\"45\" cy=\"-162\" fill=\"none\" rx=\"27\" ry=\"18\" stroke=\"black\"/>\n",
       "<text font-family=\"Times,serif\" font-size=\"14.00\" text-anchor=\"middle\" x=\"45\" y=\"-158.3\">Add</text>\n",
       "</g>\n",
       "<!-- Pow(Add(Integer(5), Symbol(y)), NegativeOne())_(0,)&#45;&gt;Add(Integer(5), Symbol(y))_(0, 0) -->\n",
       "<g class=\"edge\" id=\"edge3\"><title>Pow(Add(Integer(5), Symbol(y)), NegativeOne())_(0,)-&gt;Add(Integer(5), Symbol(y))_(0, 0)</title>\n",
       "<path d=\"M102.43,-218.834C92.2501,-208.938 78.4761,-195.546 66.9694,-184.359\" fill=\"none\" stroke=\"black\"/>\n",
       "<polygon fill=\"black\" points=\"69.4055,-181.846 59.7957,-177.385 64.5259,-186.865 69.4055,-181.846\" stroke=\"black\"/>\n",
       "</g>\n",
       "<!-- NegativeOne()_(0, 1) -->\n",
       "<g class=\"node\" id=\"node6\"><title>NegativeOne()_(0, 1)</title>\n",
       "<ellipse cx=\"117\" cy=\"-162\" fill=\"none\" rx=\"27\" ry=\"18\" stroke=\"black\"/>\n",
       "<text font-family=\"Times,serif\" font-size=\"14.00\" text-anchor=\"middle\" x=\"117\" y=\"-158.3\">-1</text>\n",
       "</g>\n",
       "<!-- Pow(Add(Integer(5), Symbol(y)), NegativeOne())_(0,)&#45;&gt;NegativeOne()_(0, 1) -->\n",
       "<g class=\"edge\" id=\"edge4\"><title>Pow(Add(Integer(5), Symbol(y)), NegativeOne())_(0,)-&gt;NegativeOne()_(0, 1)</title>\n",
       "<path d=\"M117,-215.697C117,-207.983 117,-198.712 117,-190.112\" fill=\"none\" stroke=\"black\"/>\n",
       "<polygon fill=\"black\" points=\"120.5,-190.104 117,-180.104 113.5,-190.104 120.5,-190.104\" stroke=\"black\"/>\n",
       "</g>\n",
       "<!-- Integer(5)_(0, 0, 0) -->\n",
       "<g class=\"node\" id=\"node4\"><title>Integer(5)_(0, 0, 0)</title>\n",
       "<ellipse cx=\"27\" cy=\"-90\" fill=\"none\" rx=\"27\" ry=\"18\" stroke=\"black\"/>\n",
       "<text font-family=\"Times,serif\" font-size=\"14.00\" text-anchor=\"middle\" x=\"27\" y=\"-86.3\">5</text>\n",
       "</g>\n",
       "<!-- Add(Integer(5), Symbol(y))_(0, 0)&#45;&gt;Integer(5)_(0, 0, 0) -->\n",
       "<g class=\"edge\" id=\"edge5\"><title>Add(Integer(5), Symbol(y))_(0, 0)-&gt;Integer(5)_(0, 0, 0)</title>\n",
       "<path d=\"M40.6427,-144.055C38.6086,-136.145 36.1388,-126.54 33.8626,-117.688\" fill=\"none\" stroke=\"black\"/>\n",
       "<polygon fill=\"black\" points=\"37.1974,-116.602 31.3172,-107.789 30.4179,-118.346 37.1974,-116.602\" stroke=\"black\"/>\n",
       "</g>\n",
       "<!-- Symbol(y)_(0, 0, 1) -->\n",
       "<g class=\"node\" id=\"node5\"><title>Symbol(y)_(0, 0, 1)</title>\n",
       "<ellipse cx=\"99\" cy=\"-90\" fill=\"none\" rx=\"27\" ry=\"18\" stroke=\"black\"/>\n",
       "<text font-family=\"Times,serif\" font-size=\"14.00\" text-anchor=\"middle\" x=\"99\" y=\"-86.3\">y</text>\n",
       "</g>\n",
       "<!-- Add(Integer(5), Symbol(y))_(0, 0)&#45;&gt;Symbol(y)_(0, 0, 1) -->\n",
       "<g class=\"edge\" id=\"edge6\"><title>Add(Integer(5), Symbol(y))_(0, 0)-&gt;Symbol(y)_(0, 0, 1)</title>\n",
       "<path d=\"M56.9844,-145.465C63.9755,-136.402 72.9362,-124.786 80.7851,-114.612\" fill=\"none\" stroke=\"black\"/>\n",
       "<polygon fill=\"black\" points=\"83.7123,-116.548 87.0492,-106.492 78.1698,-112.272 83.7123,-116.548\" stroke=\"black\"/>\n",
       "</g>\n",
       "<!-- Integer(3)_(1, 0) -->\n",
       "<g class=\"node\" id=\"node8\"><title>Integer(3)_(1, 0)</title>\n",
       "<ellipse cx=\"189\" cy=\"-162\" fill=\"none\" rx=\"27\" ry=\"18\" stroke=\"black\"/>\n",
       "<text font-family=\"Times,serif\" font-size=\"14.00\" text-anchor=\"middle\" x=\"189\" y=\"-158.3\">3</text>\n",
       "</g>\n",
       "<!-- Add(Integer(3), Mul(Integer(2), Pow(Symbol(x), Integer(2))))_(1,)&#45;&gt;Integer(3)_(1, 0) -->\n",
       "<g class=\"edge\" id=\"edge7\"><title>Add(Integer(3), Mul(Integer(2), Pow(Symbol(x), Integer(2))))_(1,)-&gt;Integer(3)_(1, 0)</title>\n",
       "<path d=\"M189,-215.697C189,-207.983 189,-198.712 189,-190.112\" fill=\"none\" stroke=\"black\"/>\n",
       "<polygon fill=\"black\" points=\"192.5,-190.104 189,-180.104 185.5,-190.104 192.5,-190.104\" stroke=\"black\"/>\n",
       "</g>\n",
       "<!-- Mul(Integer(2), Pow(Symbol(x), Integer(2)))_(1, 1) -->\n",
       "<g class=\"node\" id=\"node9\"><title>Mul(Integer(2), Pow(Symbol(x), Integer(2)))_(1, 1)</title>\n",
       "<ellipse cx=\"261\" cy=\"-162\" fill=\"none\" rx=\"27\" ry=\"18\" stroke=\"black\"/>\n",
       "<text font-family=\"Times,serif\" font-size=\"14.00\" text-anchor=\"middle\" x=\"261\" y=\"-158.3\">Mul</text>\n",
       "</g>\n",
       "<!-- Add(Integer(3), Mul(Integer(2), Pow(Symbol(x), Integer(2))))_(1,)&#45;&gt;Mul(Integer(2), Pow(Symbol(x), Integer(2)))_(1, 1) -->\n",
       "<g class=\"edge\" id=\"edge8\"><title>Add(Integer(3), Mul(Integer(2), Pow(Symbol(x), Integer(2))))_(1,)-&gt;Mul(Integer(2), Pow(Symbol(x), Integer(2)))_(1, 1)</title>\n",
       "<path d=\"M203.57,-218.834C213.75,-208.938 227.524,-195.546 239.031,-184.359\" fill=\"none\" stroke=\"black\"/>\n",
       "<polygon fill=\"black\" points=\"241.474,-186.865 246.204,-177.385 236.595,-181.846 241.474,-186.865\" stroke=\"black\"/>\n",
       "</g>\n",
       "<!-- Integer(2)_(1, 1, 0) -->\n",
       "<g class=\"node\" id=\"node10\"><title>Integer(2)_(1, 1, 0)</title>\n",
       "<ellipse cx=\"207\" cy=\"-90\" fill=\"none\" rx=\"27\" ry=\"18\" stroke=\"black\"/>\n",
       "<text font-family=\"Times,serif\" font-size=\"14.00\" text-anchor=\"middle\" x=\"207\" y=\"-86.3\">2</text>\n",
       "</g>\n",
       "<!-- Mul(Integer(2), Pow(Symbol(x), Integer(2)))_(1, 1)&#45;&gt;Integer(2)_(1, 1, 0) -->\n",
       "<g class=\"edge\" id=\"edge9\"><title>Mul(Integer(2), Pow(Symbol(x), Integer(2)))_(1, 1)-&gt;Integer(2)_(1, 1, 0)</title>\n",
       "<path d=\"M249.016,-145.465C242.024,-136.402 233.064,-124.786 225.215,-114.612\" fill=\"none\" stroke=\"black\"/>\n",
       "<polygon fill=\"black\" points=\"227.83,-112.272 218.951,-106.492 222.288,-116.548 227.83,-112.272\" stroke=\"black\"/>\n",
       "</g>\n",
       "<!-- Pow(Symbol(x), Integer(2))_(1, 1, 1) -->\n",
       "<g class=\"node\" id=\"node11\"><title>Pow(Symbol(x), Integer(2))_(1, 1, 1)</title>\n",
       "<ellipse cx=\"279\" cy=\"-90\" fill=\"none\" rx=\"27\" ry=\"18\" stroke=\"black\"/>\n",
       "<text font-family=\"Times,serif\" font-size=\"14.00\" text-anchor=\"middle\" x=\"279\" y=\"-86.3\">Pow</text>\n",
       "</g>\n",
       "<!-- Mul(Integer(2), Pow(Symbol(x), Integer(2)))_(1, 1)&#45;&gt;Pow(Symbol(x), Integer(2))_(1, 1, 1) -->\n",
       "<g class=\"edge\" id=\"edge10\"><title>Mul(Integer(2), Pow(Symbol(x), Integer(2)))_(1, 1)-&gt;Pow(Symbol(x), Integer(2))_(1, 1, 1)</title>\n",
       "<path d=\"M265.357,-144.055C267.391,-136.145 269.861,-126.54 272.137,-117.688\" fill=\"none\" stroke=\"black\"/>\n",
       "<polygon fill=\"black\" points=\"275.582,-118.346 274.683,-107.789 268.803,-116.602 275.582,-118.346\" stroke=\"black\"/>\n",
       "</g>\n",
       "<!-- Symbol(x)_(1, 1, 1, 0) -->\n",
       "<g class=\"node\" id=\"node12\"><title>Symbol(x)_(1, 1, 1, 0)</title>\n",
       "<ellipse cx=\"243\" cy=\"-18\" fill=\"none\" rx=\"27\" ry=\"18\" stroke=\"black\"/>\n",
       "<text font-family=\"Times,serif\" font-size=\"14.00\" text-anchor=\"middle\" x=\"243\" y=\"-14.3\">x</text>\n",
       "</g>\n",
       "<!-- Pow(Symbol(x), Integer(2))_(1, 1, 1)&#45;&gt;Symbol(x)_(1, 1, 1, 0) -->\n",
       "<g class=\"edge\" id=\"edge11\"><title>Pow(Symbol(x), Integer(2))_(1, 1, 1)-&gt;Symbol(x)_(1, 1, 1, 0)</title>\n",
       "<path d=\"M270.65,-72.7646C266.288,-64.2831 260.853,-53.7144 255.959,-44.1974\" fill=\"none\" stroke=\"black\"/>\n",
       "<polygon fill=\"black\" points=\"258.99,-42.4395 251.304,-35.1473 252.765,-45.6409 258.99,-42.4395\" stroke=\"black\"/>\n",
       "</g>\n",
       "<!-- Integer(2)_(1, 1, 1, 1) -->\n",
       "<g class=\"node\" id=\"node13\"><title>Integer(2)_(1, 1, 1, 1)</title>\n",
       "<ellipse cx=\"315\" cy=\"-18\" fill=\"none\" rx=\"27\" ry=\"18\" stroke=\"black\"/>\n",
       "<text font-family=\"Times,serif\" font-size=\"14.00\" text-anchor=\"middle\" x=\"315\" y=\"-14.3\">2</text>\n",
       "</g>\n",
       "<!-- Pow(Symbol(x), Integer(2))_(1, 1, 1)&#45;&gt;Integer(2)_(1, 1, 1, 1) -->\n",
       "<g class=\"edge\" id=\"edge12\"><title>Pow(Symbol(x), Integer(2))_(1, 1, 1)-&gt;Integer(2)_(1, 1, 1, 1)</title>\n",
       "<path d=\"M287.35,-72.7646C291.712,-64.2831 297.147,-53.7144 302.041,-44.1974\" fill=\"none\" stroke=\"black\"/>\n",
       "<polygon fill=\"black\" points=\"305.235,-45.6409 306.696,-35.1473 299.01,-42.4395 305.235,-45.6409\" stroke=\"black\"/>\n",
       "</g>\n",
       "</g>\n",
       "</svg>"
      ],
      "text/plain": [
       "<IPython.core.display.SVG object>"
      ]
     },
     "execution_count": 19,
     "metadata": {},
     "output_type": "execute_result"
    }
   ],
   "source": [
    "expr_to_dotgraph(\"sympy-ex1\", ex1)"
   ]
  },
  {
   "cell_type": "markdown",
   "metadata": {},
   "source": [
    "## Spezielle Variablen\n",
    "\n",
    "**Ganzzahlig:** $i \\in \\mathbb{Z}$:"
   ]
  },
  {
   "cell_type": "code",
   "execution_count": 20,
   "metadata": {
    "collapsed": false
   },
   "outputs": [
    {
     "data": {
      "text/plain": [
       "True"
      ]
     },
     "execution_count": 20,
     "metadata": {},
     "output_type": "execute_result"
    }
   ],
   "source": [
    "i = sy.symbols(\"i\", integer=True)\n",
    "i.is_integer"
   ]
  },
  {
   "cell_type": "code",
   "execution_count": 21,
   "metadata": {
    "collapsed": false
   },
   "outputs": [
    {
     "name": "stdout",
     "output_type": "stream",
     "text": [
      "The history saving thread hit an unexpected error (OperationalError('database is locked',)).History will not be written to the database.\n"
     ]
    },
    {
     "data": {
      "text/plain": [
       "True"
      ]
     },
     "execution_count": 21,
     "metadata": {},
     "output_type": "execute_result"
    }
   ],
   "source": [
    "(3*i + 1).is_integer"
   ]
  },
  {
   "cell_type": "code",
   "execution_count": 22,
   "metadata": {
    "collapsed": false
   },
   "outputs": [
    {
     "name": "stdout",
     "output_type": "stream",
     "text": [
      "None\n"
     ]
    }
   ],
   "source": [
    "print(i.is_nonnegative)"
   ]
  },
  {
   "cell_type": "markdown",
   "metadata": {},
   "source": [
    "**Reel und nicht negativ**: $t \\in\\mathbb{R}\\;\\bigwedge\\;t \\geq 0$"
   ]
  },
  {
   "cell_type": "code",
   "execution_count": 23,
   "metadata": {
    "collapsed": false
   },
   "outputs": [
    {
     "name": "stdout",
     "output_type": "stream",
     "text": [
      "True\n"
     ]
    }
   ],
   "source": [
    "t = sy.symbols(\"t\", real=True, nonnegative=True)\n",
    "print((3*t).is_nonnegative)"
   ]
  },
  {
   "cell_type": "code",
   "execution_count": 24,
   "metadata": {
    "collapsed": false
   },
   "outputs": [
    {
     "name": "stdout",
     "output_type": "stream",
     "text": [
      "True\n"
     ]
    }
   ],
   "source": [
    "print(t.is_real)"
   ]
  },
  {
   "cell_type": "code",
   "execution_count": 25,
   "metadata": {
    "collapsed": false
   },
   "outputs": [
    {
     "name": "stdout",
     "output_type": "stream",
     "text": [
      "None\n"
     ]
    }
   ],
   "source": [
    "print((i * t).is_integer)"
   ]
  },
  {
   "cell_type": "code",
   "execution_count": 26,
   "metadata": {
    "collapsed": false
   },
   "outputs": [
    {
     "name": "stdout",
     "output_type": "stream",
     "text": [
      "True\n"
     ]
    }
   ],
   "source": [
    "# squared value plus non-negative variable is non-negative\n",
    "print((i**2 + t).is_nonnegative)"
   ]
  },
  {
   "cell_type": "markdown",
   "metadata": {},
   "source": [
    "## Manipulieren eines Ausdrucks\n",
    "\n",
    "Hiervon gibt es verschiedene Varianten, je nach dem welche Art der Vereinfachung vorgenommen werden soll. \n",
    "\n",
    "* `.simplify()`: probiert intern einige Varianten, bewertet die Verbesserungen (wenn vorhanden), und sucht die beste aus.\n",
    "* `.expand()`: Ausmultiplizieren, ...\n",
    "* `.collect(<variable>)`: Herausziehen eines oder mehrerer Faktoren bzw. Subausdrücke\n",
    "* `.factor()`: Faktorisieren\n",
    "* `.cancel()`: Kürzen\n",
    "* `.trigsimp()`: Trigonometrische Formeln\n",
    "* usw. [siehe Dokumentation](http://docs.sympy.org/latest/tutorial/simplification.html)"
   ]
  },
  {
   "cell_type": "code",
   "execution_count": 27,
   "metadata": {
    "collapsed": false
   },
   "outputs": [
    {
     "data": {
      "image/png": "[encoded data removed]",
      "text/latex": [
       "$$\\left(- x + 1\\right) \\left(x + 1\\right) \\left(5 x + 4\\right)$$"
      ],
      "text/plain": [
       "(-x + 1)⋅(x + 1)⋅(5⋅x + 4)"
      ]
     },
     "execution_count": 27,
     "metadata": {},
     "output_type": "execute_result"
    }
   ],
   "source": [
    "ex2 =  (1 - x) * (4 + 5 * x) * (1 + x)\n",
    "ex2"
   ]
  },
  {
   "cell_type": "code",
   "execution_count": 28,
   "metadata": {
    "collapsed": false
   },
   "outputs": [
    {
     "data": {
      "image/png": "[encoded data removed]",
      "text/latex": [
       "$$- 5 x^{3} - 4 x^{2} + 5 x + 4$$"
      ],
      "text/plain": [
       "     3      2          \n",
       "- 5⋅x  - 4⋅x  + 5⋅x + 4"
      ]
     },
     "execution_count": 28,
     "metadata": {},
     "output_type": "execute_result"
    }
   ],
   "source": [
    "ex3 = ex2.expand()\n",
    "ex3"
   ]
  },
  {
   "cell_type": "code",
   "execution_count": 29,
   "metadata": {
    "collapsed": false
   },
   "outputs": [
    {
     "data": {
      "image/png": "[encoded data removed]",
      "text/latex": [
       "$$- \\left(x - 1\\right) \\left(x + 1\\right) \\left(5 x + 4\\right)$$"
      ],
      "text/plain": [
       "-(x - 1)⋅(x + 1)⋅(5⋅x + 4)"
      ]
     },
     "execution_count": 29,
     "metadata": {},
     "output_type": "execute_result"
    }
   ],
   "source": [
    "ex3.factor()"
   ]
  },
  {
   "cell_type": "code",
   "execution_count": 30,
   "metadata": {
    "collapsed": false
   },
   "outputs": [
    {
     "data": {
      "image/png": "[encoded data removed]",
      "text/latex": [
       "$$\\frac{\\sin^{2}{\\left (x + 1 \\right )}}{\\cos^{2}{\\left (x + 1 \\right )}}$$"
      ],
      "text/plain": [
       "   2       \n",
       "sin (x + 1)\n",
       "───────────\n",
       "   2       \n",
       "cos (x + 1)"
      ]
     },
     "execution_count": 30,
     "metadata": {},
     "output_type": "execute_result"
    }
   ],
   "source": [
    "ex5 = sy.sin(1 + x)**2 / sy.cos(1+x)**2\n",
    "ex5"
   ]
  },
  {
   "cell_type": "code",
   "execution_count": 31,
   "metadata": {
    "collapsed": false
   },
   "outputs": [
    {
     "data": {
      "image/png": "[encoded data removed]",
      "text/latex": [
       "$$\\tan^{2}{\\left (x + 1 \\right )}$$"
      ],
      "text/plain": [
       "   2       \n",
       "tan (x + 1)"
      ]
     },
     "execution_count": 31,
     "metadata": {},
     "output_type": "execute_result"
    }
   ],
   "source": [
    "ex5.trigsimp()"
   ]
  },
  {
   "cell_type": "code",
   "execution_count": 32,
   "metadata": {
    "collapsed": false
   },
   "outputs": [
    {
     "data": {
      "image/png": "[encoded data removed]",
      "text/latex": [
       "$$\\log{\\left (a \\right )} - \\log{\\left (\\frac{1}{b} \\right )} + \\log{\\left (b \\right )} + \\log{\\left (a + 1 \\right )}$$"
      ],
      "text/plain": [
       "            ⎛1⎞                      \n",
       "log(a) - log⎜─⎟ + log(b) + log(a + 1)\n",
       "            ⎝b⎠                      "
      ]
     },
     "execution_count": 32,
     "metadata": {},
     "output_type": "execute_result"
    }
   ],
   "source": [
    "a, b = sy.symbols('a b', positive=True)\n",
    "ex6 = sy.log(a) + sy.log(b) + sy.log(1 + a) - sy.log(1/b)\n",
    "ex6"
   ]
  },
  {
   "cell_type": "code",
   "execution_count": 33,
   "metadata": {
    "collapsed": false
   },
   "outputs": [
    {
     "data": {
      "image/png": "[encoded data removed]",
      "text/latex": [
       "$$\\log{\\left (a b^{2} \\left(a + 1\\right) \\right )}$$"
      ],
      "text/plain": [
       "   ⎛   2        ⎞\n",
       "log⎝a⋅b ⋅(a + 1)⎠"
      ]
     },
     "execution_count": 33,
     "metadata": {},
     "output_type": "execute_result"
    }
   ],
   "source": [
    "ex6.simplify()"
   ]
  },
  {
   "cell_type": "code",
   "execution_count": 34,
   "metadata": {
    "collapsed": false
   },
   "outputs": [
    {
     "data": {
      "image/png": "[encoded data removed]",
      "text/latex": [
       "$$\\frac{1}{x} \\left(3 x^{2} + x\\right)$$"
      ],
      "text/plain": [
       "   2    \n",
       "3⋅x  + x\n",
       "────────\n",
       "   x    "
      ]
     },
     "execution_count": 34,
     "metadata": {},
     "output_type": "execute_result"
    }
   ],
   "source": [
    "ex7 = (3*x**2 + x) / x\n",
    "ex7"
   ]
  },
  {
   "cell_type": "code",
   "execution_count": 35,
   "metadata": {
    "collapsed": false
   },
   "outputs": [
    {
     "data": {
      "image/png": "[encoded data removed]",
      "text/latex": [
       "$$3 x + 1$$"
      ],
      "text/plain": [
       "3⋅x + 1"
      ]
     },
     "execution_count": 35,
     "metadata": {},
     "output_type": "execute_result"
    }
   ],
   "source": [
    "ex7.cancel()"
   ]
  },
  {
   "cell_type": "code",
   "execution_count": 36,
   "metadata": {
    "collapsed": false
   },
   "outputs": [
    {
     "data": {
      "image/png": "[encoded data removed]",
      "text/latex": [
       "$$a \\log{\\left (x \\right )} + b \\cos{\\left (3 x \\right )} + t \\log{\\left (x \\right )}$$"
      ],
      "text/plain": [
       "a⋅log(x) + b⋅cos(3⋅x) + t⋅log(x)"
      ]
     },
     "execution_count": 36,
     "metadata": {},
     "output_type": "execute_result"
    }
   ],
   "source": [
    "ex8 = a*sy.log(x) + b*sy.cos(3*x) + t * sy.log(x)\n",
    "ex8"
   ]
  },
  {
   "cell_type": "code",
   "execution_count": 37,
   "metadata": {
    "collapsed": false
   },
   "outputs": [
    {
     "data": {
      "image/png": "[encoded data removed]",
      "text/latex": [
       "$$b \\cos{\\left (3 x \\right )} + \\left(a + t\\right) \\log{\\left (x \\right )}$$"
      ],
      "text/plain": [
       "b⋅cos(3⋅x) + (a + t)⋅log(x)"
      ]
     },
     "execution_count": 37,
     "metadata": {},
     "output_type": "execute_result"
    }
   ],
   "source": [
    "ex8.collect(sy.log(x))"
   ]
  },
  {
   "cell_type": "markdown",
   "metadata": {},
   "source": [
    "## Gleichungen\n",
    "\n",
    "Die Gegenüberstellung zweier Ausdrücke ergibt eine Gleichung. \n",
    "SymPy ist hier etwas unfreundlich und verlangt die Verwendung des `sympy.Eq` Operators."
   ]
  },
  {
   "cell_type": "code",
   "execution_count": 38,
   "metadata": {
    "collapsed": false
   },
   "outputs": [
    {
     "data": {
      "image/png": "[encoded data removed]",
      "text/latex": [
       "$$3 x = 9 x^{2} - 2 x - 1$$"
      ],
      "text/plain": [
       "         2          \n",
       "3⋅x = 9⋅x  - 2⋅x - 1"
      ]
     },
     "execution_count": 38,
     "metadata": {},
     "output_type": "execute_result"
    }
   ],
   "source": [
    "eq1 = sy.Eq(3 * x, 9 * x**2 - 2*x - 1)\n",
    "eq1"
   ]
  },
  {
   "cell_type": "markdown",
   "metadata": {},
   "source": [
    "Linke- und Rechte-Seite mittels `.lhs` und `.rhs`:"
   ]
  },
  {
   "cell_type": "code",
   "execution_count": 39,
   "metadata": {
    "collapsed": false
   },
   "outputs": [
    {
     "data": {
      "image/png": "[encoded data removed]",
      "text/latex": [
       "$$9 x^{2} - 2 x - 1$$"
      ],
      "text/plain": [
       "   2          \n",
       "9⋅x  - 2⋅x - 1"
      ]
     },
     "execution_count": 39,
     "metadata": {},
     "output_type": "execute_result"
    }
   ],
   "source": [
    "eq1.rhs"
   ]
  },
  {
   "cell_type": "markdown",
   "metadata": {},
   "source": [
    "... was wieder einen Ausdruck (siehe oben) liefert, in dem z.B. Substituiert werden kann."
   ]
  },
  {
   "cell_type": "code",
   "execution_count": 40,
   "metadata": {
    "collapsed": false
   },
   "outputs": [
    {
     "data": {
      "image/png": "[encoded data removed]",
      "text/latex": [
       "$$126$$"
      ],
      "text/plain": [
       "126"
      ]
     },
     "execution_count": 40,
     "metadata": {},
     "output_type": "execute_result"
    }
   ],
   "source": [
    "eq1.lhs.subs({x : 42})"
   ]
  },
  {
   "cell_type": "markdown",
   "metadata": {},
   "source": [
    "## Lösen von Gleichungen: `solve`\n",
    "\n",
    "Eine der Standardanwendungen symbolischer Software is das symbolische Lösen von Gleichungen bzw. Gleichungssystemen."
   ]
  },
  {
   "cell_type": "code",
   "execution_count": 41,
   "metadata": {
    "collapsed": false
   },
   "outputs": [
    {
     "data": {
      "image/png": "[encoded data removed]",
      "text/latex": [
       "$$\\left [ \\frac{5}{18} + \\frac{\\sqrt{61}}{18}, \\quad - \\frac{\\sqrt{61}}{18} + \\frac{5}{18}\\right ]$$"
      ],
      "text/plain": [
       "⎡       ____      ____     ⎤\n",
       "⎢5    ╲╱ 61     ╲╱ 61    5 ⎥\n",
       "⎢── + ──────, - ────── + ──⎥\n",
       "⎣18     18        18     18⎦"
      ]
     },
     "execution_count": 41,
     "metadata": {},
     "output_type": "execute_result"
    }
   ],
   "source": [
    "eq1_sol = sy.solve(eq1)\n",
    "eq1_sol"
   ]
  },
  {
   "cell_type": "markdown",
   "metadata": {},
   "source": [
    "Lösung 1 einsetzen:"
   ]
  },
  {
   "cell_type": "code",
   "execution_count": 42,
   "metadata": {
    "collapsed": false
   },
   "outputs": [
    {
     "data": {
      "image/png": "[encoded data removed]",
      "text/latex": [
       "$$\\frac{5}{6} + \\frac{\\sqrt{61}}{6} = - \\frac{14}{9} - \\frac{\\sqrt{61}}{9} + 9 \\left(\\frac{5}{18} + \\frac{\\sqrt{61}}{18}\\right)^{2}$$"
      ],
      "text/plain": [
       "                                            2\n",
       "      ____            ____     ⎛       ____⎞ \n",
       "5   ╲╱ 61      14   ╲╱ 61      ⎜5    ╲╱ 61 ⎟ \n",
       "─ + ────── = - ── - ────── + 9⋅⎜── + ──────⎟ \n",
       "6     6        9      9        ⎝18     18  ⎠ "
      ]
     },
     "execution_count": 42,
     "metadata": {},
     "output_type": "execute_result"
    }
   ],
   "source": [
    "eq1_sol1 = eq1.subs({x:eq1_sol[0]})\n",
    "eq1_sol1"
   ]
  },
  {
   "cell_type": "code",
   "execution_count": 43,
   "metadata": {
    "collapsed": false
   },
   "outputs": [
    {
     "data": {
      "image/png": "[encoded data removed]",
      "text/latex": [
       "$$\\mathrm{True}$$"
      ],
      "text/plain": [
       "True"
      ]
     },
     "execution_count": 43,
     "metadata": {},
     "output_type": "execute_result"
    }
   ],
   "source": [
    "eq1_sol1.expand()"
   ]
  },
  {
   "cell_type": "markdown",
   "metadata": {},
   "source": [
    "Ein ganzes Gleichungssystem lösen.\n",
    "(Die rechte Seite nach links bringen erspart den Aufruf von `Eq( ... )`)"
   ]
  },
  {
   "cell_type": "code",
   "execution_count": 44,
   "metadata": {
    "collapsed": false
   },
   "outputs": [
    {
     "name": "stdout",
     "output_type": "stream",
     "text": [
      "{y: -2, x: 0, z: 6}            -> eingesetzt: [0, 0, 0]\n",
      "{y: -3/2, x: 1/2, z: 7}        -> eingesetzt: [0, 0, 0]\n"
     ]
    }
   ],
   "source": [
    "from sympy.abc import x, y, z\n",
    "\n",
    "eqn3 = [2 * x**2 - y            - 2,\n",
    "        3 * x    - y      - z   + 4,\n",
    "            x    + y      - z   + 8]\n",
    "\n",
    "sol3 = sy.solve(eqn3)\n",
    "\n",
    "for sol in sol3:\n",
    "    subsol = [e.subs(sol).simplify() for e in eqn3]\n",
    "    print(\"%-30s -> eingesetzt: %s\" % (sol, subsol))"
   ]
  },
  {
   "cell_type": "markdown",
   "metadata": {},
   "source": [
    "## Differentialgleichungen\n",
    "\n",
    "Der fundamentale Unterschied zu normalen Gleichungen ist,\n",
    "dass es symbolische Variablen für Funktionen gibt: $f$, $g$, ...\n",
    "Diese werden mit der `symbols` Funktion erzeugt,\n",
    "deren `cls` (Klasse) auf `Function` gesetzt wird,\n",
    "bzw. das Argument `function = True` angegeben wird.\n",
    "Dadurch lässt sich eine Funktion $f(x)$ ganz allgemein in Python durch `f(x)` konstruieren."
   ]
  },
  {
   "cell_type": "code",
   "execution_count": 45,
   "metadata": {
    "collapsed": false
   },
   "outputs": [
    {
     "data": {
      "image/png": "[encoded data removed]",
      "text/latex": [
       "$$f{\\left (x \\right )}$$"
      ],
      "text/plain": [
       "f(x)"
      ]
     },
     "execution_count": 45,
     "metadata": {},
     "output_type": "execute_result"
    }
   ],
   "source": [
    "from sympy import symbols, Function, Eq\n",
    "f = symbols(\"f\", cls=Function)\n",
    "f(x)"
   ]
  },
  {
   "cell_type": "code",
   "execution_count": 46,
   "metadata": {
    "collapsed": false
   },
   "outputs": [
    {
     "data": {
      "image/png": "[encoded data removed]",
      "text/latex": [
       "$$f{\\left (x \\right )} + \\frac{d}{d x} f{\\left (x \\right )} = y$$"
      ],
      "text/plain": [
       "       d           \n",
       "f(x) + ──(f(x)) = y\n",
       "       dx          "
      ]
     },
     "execution_count": 46,
     "metadata": {},
     "output_type": "execute_result"
    }
   ],
   "source": [
    "dgl1 = Eq(f(x) + f(x).diff(x), y)\n",
    "dgl1"
   ]
  },
  {
   "cell_type": "code",
   "execution_count": 47,
   "metadata": {
    "collapsed": false
   },
   "outputs": [
    {
     "data": {
      "image/png": "[encoded data removed]",
      "text/latex": [
       "$$f{\\left (x \\right )} = C_{1} e^{- x} + y$$"
      ],
      "text/plain": [
       "           -x    \n",
       "f(x) = C₁⋅ℯ   + y"
      ]
     },
     "execution_count": 47,
     "metadata": {},
     "output_type": "execute_result"
    }
   ],
   "source": [
    "from sympy import dsolve\n",
    "dsolve(dgl1, f(x))"
   ]
  },
  {
   "cell_type": "code",
   "execution_count": 48,
   "metadata": {
    "collapsed": false
   },
   "outputs": [
    {
     "data": {
      "image/png": "[encoded data removed]",
      "text/latex": [
       "$$f{\\left (x \\right )} + \\frac{d^{2}}{d x^{2}}  f{\\left (x \\right )}$$"
      ],
      "text/plain": [
       "         2      \n",
       "        d       \n",
       "f(x) + ───(f(x))\n",
       "         2      \n",
       "       dx       "
      ]
     },
     "execution_count": 48,
     "metadata": {},
     "output_type": "execute_result"
    }
   ],
   "source": [
    "dgl2 = f(x).diff(x, x) + f(x)\n",
    "dgl2"
   ]
  },
  {
   "cell_type": "code",
   "execution_count": 49,
   "metadata": {
    "collapsed": false
   },
   "outputs": [
    {
     "data": {
      "image/png": "[encoded data removed]",
      "text/latex": [
       "$$f{\\left (x \\right )} = C_{1} \\sin{\\left (x \\right )} + C_{2} \\cos{\\left (x \\right )}$$"
      ],
      "text/plain": [
       "f(x) = C₁⋅sin(x) + C₂⋅cos(x)"
      ]
     },
     "execution_count": 49,
     "metadata": {},
     "output_type": "execute_result"
    }
   ],
   "source": [
    "dsolve(dgl2, f(x))"
   ]
  },
  {
   "cell_type": "markdown",
   "metadata": {},
   "source": [
    "## Ungleichungen\n",
    "\n",
    "Ähnlich zu Gleichungen, [können auch Ungleichungen behandelt werden](http://docs.sympy.org/latest/modules/solvers/inequalities.html)."
   ]
  },
  {
   "cell_type": "code",
   "execution_count": 50,
   "metadata": {
    "collapsed": false
   },
   "outputs": [],
   "source": [
    "from sympy.solvers.inequalities import solve_univariate_inequality\n",
    "from sympy import symbols"
   ]
  },
  {
   "cell_type": "code",
   "execution_count": 51,
   "metadata": {
    "collapsed": false
   },
   "outputs": [],
   "source": [
    "x = symbols(\"x\", real=True)"
   ]
  },
  {
   "cell_type": "code",
   "execution_count": 52,
   "metadata": {
    "collapsed": false
   },
   "outputs": [
    {
     "data": {
      "image/png": "[encoded data removed]",
      "text/latex": [
       "$$\\left(x \\leq - \\sqrt{2} \\wedge -\\infty < x\\right) \\vee \\left(\\sqrt{2} \\leq x \\wedge x < \\infty\\right)$$"
      ],
      "text/plain": [
       "⎛       ___         ⎞   ⎛  ___            ⎞\n",
       "⎝x ≤ -╲╱ 2  ∧ -∞ < x⎠ ∨ ⎝╲╱ 2  ≤ x ∧ x < ∞⎠"
      ]
     },
     "execution_count": 52,
     "metadata": {},
     "output_type": "execute_result"
    }
   ],
   "source": [
    "solve_univariate_inequality(x**2 + 1 >= 3, x)"
   ]
  },
  {
   "cell_type": "code",
   "execution_count": 53,
   "metadata": {
    "collapsed": false
   },
   "outputs": [
    {
     "data": {
      "image/png": "[encoded data removed]",
      "text/latex": [
       "$$\\left(-\\infty, - \\sqrt{2}\\right] \\cup \\left[\\sqrt{2}, \\infty\\right)$$"
      ],
      "text/plain": [
       "⎛       ___⎤   ⎡  ___   ⎞\n",
       "⎝-∞, -╲╱ 2 ⎦ ∪ ⎣╲╱ 2 , ∞⎠"
      ]
     },
     "execution_count": 53,
     "metadata": {},
     "output_type": "execute_result"
    }
   ],
   "source": [
    "solve_univariate_inequality(x**2 + 1 >= 3, x, relational=False)"
   ]
  },
  {
   "cell_type": "code",
   "execution_count": 54,
   "metadata": {
    "collapsed": false
   },
   "outputs": [
    {
     "data": {
      "image/png": "[encoded data removed]",
      "text/latex": [
       "$$\\left(0.523598775598299, 2.61799387799149\\right)$$"
      ],
      "text/plain": [
       "(0.523598775598299, 2.61799387799149)"
      ]
     },
     "execution_count": 54,
     "metadata": {},
     "output_type": "execute_result"
    }
   ],
   "source": [
    "from sympy import sin\n",
    "solve_univariate_inequality(sin(x) > 0.5, x, relational=False)"
   ]
  },
  {
   "cell_type": "markdown",
   "metadata": {},
   "source": [
    "## Diophantische Gleichungen\n",
    "\n",
    "Das Ziel ist, eine Gleichung $f(x_1,\\,x_2,\\,\\dots,\\,x_n) = 0$ mit $n \\geq 2$ vielen Variablen $x_i \\in \\mathbb{Z}$ zu lösen.\n",
    "Siehe [hier](http://docs.sympy.org/latest/modules/solvers/diophantine.html)"
   ]
  },
  {
   "cell_type": "code",
   "execution_count": 55,
   "metadata": {
    "collapsed": false
   },
   "outputs": [],
   "source": [
    "from sympy.solvers.diophantine import diophantine\n",
    "from sympy import symbols\n",
    "a, b = symbols(\"a, b\", integer=True)"
   ]
  },
  {
   "cell_type": "code",
   "execution_count": 56,
   "metadata": {
    "collapsed": false
   },
   "outputs": [
    {
     "data": {
      "image/png": "[encoded data removed]",
      "text/latex": [
       "$$\\left\\{\\left ( t, \\quad - 2 t\\right )\\right\\}$$"
      ],
      "text/plain": [
       "set([(t, -2⋅t)])"
      ]
     },
     "execution_count": 56,
     "metadata": {},
     "output_type": "execute_result"
    }
   ],
   "source": [
    "diophantine(2 * a + b)"
   ]
  },
  {
   "cell_type": "code",
   "execution_count": 57,
   "metadata": {
    "collapsed": false
   },
   "outputs": [
    {
     "data": {
      "image/png": "[encoded data removed]",
      "text/latex": [
       "$$\\left\\{\\left ( - 6 t^{2} + 5, \\quad - 2 t\\right )\\right\\}$$"
      ],
      "text/plain": [
       "   ⎛⎡⎛     2          ⎞⎤⎞\n",
       "set⎝⎣⎝- 6⋅t  + 5, -2⋅t⎠⎦⎠"
      ]
     },
     "execution_count": 57,
     "metadata": {},
     "output_type": "execute_result"
    }
   ],
   "source": [
    "diophantine(2 * a + 3 * b**2 - 10)"
   ]
  },
  {
   "cell_type": "markdown",
   "metadata": {},
   "source": [
    "## Limes\n",
    "\n",
    "Die Definition des Limes: \n",
    "    \n",
    "$$\\lim_{x\\to a}f(x)=L \\; \\text{iff} \\; \\forall\\; \\epsilon>0\\; \\exists\\; \\delta \\; \\text{such that} \\; \\forall\\; x: |x-a|<\\delta \\Rightarrow |f(x)-L|\\leq \\epsilon $$"
   ]
  },
  {
   "cell_type": "code",
   "execution_count": 58,
   "metadata": {
    "collapsed": false
   },
   "outputs": [],
   "source": [
    "from sympy import limit\n",
    "from sympy.abc import x"
   ]
  },
  {
   "cell_type": "code",
   "execution_count": 59,
   "metadata": {
    "collapsed": false
   },
   "outputs": [],
   "source": [
    "f = (3 * x**3) / (1 - 2*x**2 + x**3)"
   ]
  },
  {
   "cell_type": "markdown",
   "metadata": {},
   "source": [
    "Numerische Approximation\n",
    "\n",
    "`f.subs(<variable>, <wert>)` substituiert hier die angegebene Variable mit dem gegebenen Wert;\n",
    "und `.evalf()` wertet den Ausdruck aus."
   ]
  },
  {
   "cell_type": "code",
   "execution_count": 60,
   "metadata": {
    "collapsed": false
   },
   "outputs": [
    {
     "name": "stdout",
     "output_type": "stream",
     "text": [
      "   1000 ->  3.00601202104\n",
      "   2000 ->  3.00300300263\n",
      "   3000 ->  3.00200133411\n",
      "   4000 ->  3.00150075033\n",
      "   5000 ->  3.00120048017\n",
      "   6000 ->  3.00100033343\n",
      "   7000 ->  3.00085738782\n",
      "   8000 ->  3.00075018754\n",
      "   9000 ->  3.00066681484\n",
      "  10000 ->  3.00060012002\n",
      "  11000 ->  3.00054555373\n",
      "  12000 ->  3.00050008335\n",
      "  13000 ->  3.00046160948\n",
      "  14000 ->  3.00042863266\n",
      "  15000 ->  3.00040005334\n",
      "  16000 ->  3.00037504688\n",
      "  17000 ->  3.00035298270\n",
      "  18000 ->  3.00033337037\n",
      "  19000 ->  3.00031582272\n"
     ]
    }
   ],
   "source": [
    "for x_val in range(1000, 20000, 1000):\n",
    "    fx = f.subs(x, x_val).evalf()\n",
    "    print(\"%7d -> %14.11f\" % (x_val, fx))"
   ]
  },
  {
   "cell_type": "markdown",
   "metadata": {},
   "source": [
    "*Bemerkung:* SymPy's `oo` steht für $\\infty$"
   ]
  },
  {
   "cell_type": "code",
   "execution_count": 61,
   "metadata": {
    "collapsed": false
   },
   "outputs": [
    {
     "data": {
      "image/png": "[encoded data removed]",
      "text/latex": [
       "$$3$$"
      ],
      "text/plain": [
       "3"
      ]
     },
     "execution_count": 61,
     "metadata": {},
     "output_type": "execute_result"
    }
   ],
   "source": [
    "from sympy import oo\n",
    "limit(f, x, oo)"
   ]
  },
  {
   "cell_type": "code",
   "execution_count": 62,
   "metadata": {
    "collapsed": false
   },
   "outputs": [
    {
     "data": {
      "image/png": "[encoded data removed]",
      "text/latex": [
       "$$3$$"
      ],
      "text/plain": [
       "3"
      ]
     },
     "execution_count": 62,
     "metadata": {},
     "output_type": "execute_result"
    }
   ],
   "source": [
    "limit(f, x, -oo)"
   ]
  },
  {
   "cell_type": "code",
   "execution_count": 63,
   "metadata": {
    "collapsed": false
   },
   "outputs": [
    {
     "data": {
      "image/png": "[encoded data removed]",
      "text/latex": [
       "$$0$$"
      ],
      "text/plain": [
       "0"
      ]
     },
     "execution_count": 63,
     "metadata": {},
     "output_type": "execute_result"
    }
   ],
   "source": [
    "limit(f, x, 0)"
   ]
  },
  {
   "cell_type": "markdown",
   "metadata": {},
   "source": [
    "Dies ist auch mit mehrstelligen Funktionen machbar:"
   ]
  },
  {
   "cell_type": "code",
   "execution_count": 64,
   "metadata": {
    "collapsed": false
   },
   "outputs": [],
   "source": [
    "from sympy import sin\n",
    "from sympy.abc import x, y\n",
    "f2 = (sin(x) + x**2 * y**2 - x**3 * y**3) / (1 - x - 2 * (x + 2 * y)**3)"
   ]
  },
  {
   "cell_type": "code",
   "execution_count": 65,
   "metadata": {
    "collapsed": false
   },
   "outputs": [
    {
     "data": {
      "image/png": "[encoded data removed]",
      "text/latex": [
       "$$0$$"
      ],
      "text/plain": [
       "0"
      ]
     },
     "execution_count": 65,
     "metadata": {},
     "output_type": "execute_result"
    }
   ],
   "source": [
    "limit(f2, x, oo)"
   ]
  },
  {
   "cell_type": "code",
   "execution_count": 66,
   "metadata": {
    "collapsed": false
   },
   "outputs": [
    {
     "data": {
      "image/png": "[encoded data removed]",
      "text/latex": [
       "$$\\frac{x^{3}}{16}$$"
      ],
      "text/plain": [
       " 3\n",
       "x \n",
       "──\n",
       "16"
      ]
     },
     "execution_count": 66,
     "metadata": {},
     "output_type": "execute_result"
    }
   ],
   "source": [
    "limit(f2, y, oo)"
   ]
  },
  {
   "cell_type": "markdown",
   "metadata": {},
   "source": [
    "Bei Polstellen ist es wichtig, von welcher Seite der Limes angegangen wird:"
   ]
  },
  {
   "cell_type": "code",
   "execution_count": 67,
   "metadata": {
    "collapsed": false
   },
   "outputs": [],
   "source": [
    "f_pol = 1 / (-27 + x**3)"
   ]
  },
  {
   "cell_type": "code",
   "execution_count": 68,
   "metadata": {
    "collapsed": false
   },
   "outputs": [
    {
     "data": {
      "image/png": "[encoded data removed]",
      "text/latex": [
       "$$\\infty$$"
      ],
      "text/plain": [
       "∞"
      ]
     },
     "execution_count": 68,
     "metadata": {},
     "output_type": "execute_result"
    }
   ],
   "source": [
    "limit(f_pol, x, 3, dir=\"+\")"
   ]
  },
  {
   "cell_type": "code",
   "execution_count": 69,
   "metadata": {
    "collapsed": false
   },
   "outputs": [
    {
     "data": {
      "image/png": "[encoded data removed]",
      "text/latex": [
       "$$-\\infty$$"
      ],
      "text/plain": [
       "-∞"
      ]
     },
     "execution_count": 69,
     "metadata": {},
     "output_type": "execute_result"
    }
   ],
   "source": [
    "limit(f_pol, x, 3, dir=\"-\")"
   ]
  },
  {
   "cell_type": "markdown",
   "metadata": {},
   "source": [
    "## Reihenentwicklung\n",
    "\n",
    "Ein Ausdruck wird an einem bestimmten Punkt entwickelt."
   ]
  },
  {
   "cell_type": "code",
   "execution_count": 70,
   "metadata": {
    "collapsed": false
   },
   "outputs": [],
   "source": [
    "from sympy import sin\n",
    "from sympy.abc import x"
   ]
  },
  {
   "cell_type": "code",
   "execution_count": 71,
   "metadata": {
    "collapsed": false
   },
   "outputs": [
    {
     "data": {
      "image/png": "[encoded data removed]",
      "text/latex": [
       "$$x \\sin{\\left (x \\right )}$$"
      ],
      "text/plain": [
       "x⋅sin(x)"
      ]
     },
     "execution_count": 71,
     "metadata": {},
     "output_type": "execute_result"
    }
   ],
   "source": [
    "f3 = sin(x) * x\n",
    "f3"
   ]
  },
  {
   "cell_type": "markdown",
   "metadata": {},
   "source": [
    "An der Stelle $x_0 = 0$ mit 10 Gliedern:"
   ]
  },
  {
   "cell_type": "code",
   "execution_count": 72,
   "metadata": {
    "collapsed": false
   },
   "outputs": [
    {
     "data": {
      "image/png": "[encoded data removed]",
      "text/latex": [
       "$$x^{2} - \\frac{x^{4}}{6} + \\frac{x^{6}}{120} - \\frac{x^{8}}{5040} + \\mathcal{O}\\left(x^{10}\\right)$$"
      ],
      "text/plain": [
       "      4     6     8          \n",
       " 2   x     x     x      ⎛ 10⎞\n",
       "x  - ── + ─── - ──── + O⎝x  ⎠\n",
       "     6    120   5040         "
      ]
     },
     "execution_count": 72,
     "metadata": {},
     "output_type": "execute_result"
    }
   ],
   "source": [
    "f3_series_0 = f3.series(x = x, x0 = 0, n = 10)\n",
    "f3_series_0"
   ]
  },
  {
   "cell_type": "markdown",
   "metadata": {},
   "source": [
    "An der Stelle $x_0 = \\pi$ mit 5 Gliedern:"
   ]
  },
  {
   "cell_type": "code",
   "execution_count": 73,
   "metadata": {
    "collapsed": false
   },
   "outputs": [
    {
     "data": {
      "image/png": "[encoded data removed]",
      "text/latex": [
       "$$- \\pi \\left(x - \\pi\\right) - \\left(x - \\pi\\right)^{2} + \\frac{\\pi}{6} \\left(x - \\pi\\right)^{3} + \\frac{1}{6} \\left(x - \\pi\\right)^{4} + \\mathcal{O}\\left(\\left(x - \\pi\\right)^{5}; x\\rightarrow\\pi\\right)$$"
      ],
      "text/plain": [
       "                                 3          4                     \n",
       "                    2   π⋅(x - π)    (x - π)     ⎛       5       ⎞\n",
       "-π⋅(x - π) - (x - π)  + ────────── + ──────── + O⎝(x - π) ; x → π⎠\n",
       "                            6           6                         "
      ]
     },
     "execution_count": 73,
     "metadata": {},
     "output_type": "execute_result"
    }
   ],
   "source": [
    "f3_series_pi = f3.series(x = x, x0 = sy.pi, n = 5)\n",
    "f3_series_pi"
   ]
  },
  {
   "cell_type": "code",
   "execution_count": 74,
   "metadata": {
    "collapsed": false
   },
   "outputs": [
    {
     "data": {
      "image/png": "[encoded data removed]",
      "text/latex": [
       "$$\\mathcal{O}\\left(1; x\\rightarrow\\pi\\right)$$"
      ],
      "text/plain": [
       "O(1; x → π)"
      ]
     },
     "execution_count": 74,
     "metadata": {},
     "output_type": "execute_result"
    }
   ],
   "source": [
    "f3_series_pi.expand()"
   ]
  },
  {
   "cell_type": "markdown",
   "metadata": {},
   "source": [
    "## Integral\n",
    "\n",
    "Sympy kann bestimmte und unbestimmte Integrale berechnen."
   ]
  },
  {
   "cell_type": "code",
   "execution_count": 75,
   "metadata": {
    "collapsed": false
   },
   "outputs": [
    {
     "data": {
      "image/png": "[encoded data removed]",
      "text/latex": [
       "$$- x^{2} \\sin{\\left (x \\right )} - 2 x \\cos{\\left (x \\right )} + 3 \\sin{\\left (x \\right )}$$"
      ],
      "text/plain": [
       "   2                               \n",
       "- x ⋅sin(x) - 2⋅x⋅cos(x) + 3⋅sin(x)"
      ]
     },
     "execution_count": 75,
     "metadata": {},
     "output_type": "execute_result"
    }
   ],
   "source": [
    "from sympy import integrate, cos, pi, exp, sqrt\n",
    "from sympy.abc import x\n",
    "\n",
    "integrate((1 - x**2) * cos(x), x)"
   ]
  },
  {
   "cell_type": "code",
   "execution_count": 76,
   "metadata": {
    "collapsed": false
   },
   "outputs": [
    {
     "data": {
      "image/png": "[encoded data removed]",
      "text/latex": [
       "$$4 \\pi$$"
      ],
      "text/plain": [
       "4⋅π"
      ]
     },
     "execution_count": 76,
     "metadata": {},
     "output_type": "execute_result"
    }
   ],
   "source": [
    "from sympy.abc import t\n",
    "integrate((1 - x**2) * cos(x), (x, -pi, pi))"
   ]
  },
  {
   "cell_type": "code",
   "execution_count": 77,
   "metadata": {
    "collapsed": false
   },
   "outputs": [
    {
     "data": {
      "image/png": "[encoded data removed]",
      "text/latex": [
       "$$e^{- x^{2}} e^{- y^{2}}$$"
      ],
      "text/plain": [
       "   2    2\n",
       " -x   -y \n",
       "ℯ   ⋅ℯ   "
      ]
     },
     "execution_count": 77,
     "metadata": {},
     "output_type": "execute_result"
    }
   ],
   "source": [
    "from sympy.abc import y\n",
    "exp2 = exp(-x**2)*exp(-y**2)\n",
    "exp2.simplify()\n",
    "exp2"
   ]
  },
  {
   "cell_type": "markdown",
   "metadata": {},
   "source": [
    "Integral der Funktion $\\operatorname{exp2}(x,\\,y)$ nach $y$"
   ]
  },
  {
   "cell_type": "code",
   "execution_count": 78,
   "metadata": {
    "collapsed": false
   },
   "outputs": [
    {
     "data": {
      "image/png": "[encoded data removed]",
      "text/latex": [
       "$$\\frac{\\sqrt{\\pi}}{2} e^{- x^{2}} \\operatorname{erf}{\\left (y \\right )}$$"
      ],
      "text/plain": [
       "         2       \n",
       "  ___  -x        \n",
       "╲╱ π ⋅ℯ   ⋅erf(y)\n",
       "─────────────────\n",
       "        2        "
      ]
     },
     "execution_count": 78,
     "metadata": {},
     "output_type": "execute_result"
    }
   ],
   "source": [
    "integrate(exp2, y)"
   ]
  },
  {
   "cell_type": "markdown",
   "metadata": {},
   "source": [
    "Bestimmtes Integral:\n",
    "\n",
    "$$\\int_{-\\infty}^{\\infty}\\!\\int_{-\\infty}^{\\infty}\\!\\!\\operatorname{exp2}(x,\\,y)\\,\\mathrm{d}x = ?$$"
   ]
  },
  {
   "cell_type": "code",
   "execution_count": 79,
   "metadata": {
    "collapsed": false
   },
   "outputs": [
    {
     "data": {
      "image/png": "[encoded data removed]",
      "text/latex": [
       "$$\\pi$$"
      ],
      "text/plain": [
       "π"
      ]
     },
     "execution_count": 79,
     "metadata": {},
     "output_type": "execute_result"
    }
   ],
   "source": [
    "from sympy import oo\n",
    "integrate(exp2, (x, -oo, oo), (y, -oo, oo))"
   ]
  },
  {
   "cell_type": "markdown",
   "metadata": {},
   "source": [
    "## Unausgewertete Ausdrücke\n",
    "\n",
    "Viele der bislang vorgestellten Funktionen haben äquivalent dazu Kontruktoren für Ausdrücke.\n",
    "Diese können wie gehabt dargestellt werden,\n",
    "es sind Substitutionen möglich,\n",
    "und werden mit der `.doit()` Methode ausgewertet."
   ]
  },
  {
   "cell_type": "code",
   "execution_count": 80,
   "metadata": {
    "collapsed": false
   },
   "outputs": [
    {
     "data": {
      "image/png": "[encoded data removed]",
      "text/latex": [
       "$$\\lim_{x \\to \\infty}\\left(- e^{\\frac{1}{x}} + 1\\right)$$"
      ],
      "text/plain": [
       "       1    \n",
       "       ─    \n",
       "       x    \n",
       "lim - ℯ  + 1\n",
       "x─→∞        "
      ]
     },
     "execution_count": 80,
     "metadata": {},
     "output_type": "execute_result"
    }
   ],
   "source": [
    "from sympy import exp, sin, Limit, latex, oo\n",
    "from sympy.abc import x\n",
    "\n",
    "limit_expr = Limit(1 - exp(1 / x), x, oo)\n",
    "limit_expr"
   ]
  },
  {
   "cell_type": "code",
   "execution_count": 81,
   "metadata": {
    "collapsed": false
   },
   "outputs": [
    {
     "data": {
      "image/png": "[encoded data removed]",
      "text/latex": [
       "$$0$$"
      ],
      "text/plain": [
       "0"
      ]
     },
     "execution_count": 81,
     "metadata": {},
     "output_type": "execute_result"
    }
   ],
   "source": [
    "limit_expr.doit()"
   ]
  },
  {
   "cell_type": "code",
   "execution_count": 82,
   "metadata": {
    "collapsed": false
   },
   "outputs": [
    {
     "data": {
      "text/latex": [
       "$$\\int \\frac{2 x + 2}{- \\left(x + 1\\right)^{2} + 4}\\, dx=- \\log{\\left (x^{2} + 2 x - 3 \\right )}$$"
      ],
      "text/plain": [
       "<IPython.core.display.Math object>"
      ]
     },
     "execution_count": 82,
     "metadata": {},
     "output_type": "execute_result"
    }
   ],
   "source": [
    "from sympy import Integral\n",
    "from sympy.abc import y\n",
    "from IPython.display import Math\n",
    "\n",
    "int_expr = Integral((1 + x + y) / (4-y**2) , x)\n",
    "int_expr2 = int_expr.subs(y, 1+x)\n",
    "\n",
    "Math(latex(int_expr2) + \"=\" + latex(int_expr2.doit()))"
   ]
  },
  {
   "cell_type": "code",
   "execution_count": 83,
   "metadata": {
    "collapsed": false
   },
   "outputs": [
    {
     "data": {
      "image/png": "[encoded data removed]",
      "text/latex": [
       "$$\\iint \\frac{x + y + 1}{- y^{2} + 4}\\, dx\\, dy$$"
      ],
      "text/plain": [
       "⌠ ⌠                \n",
       "⎮ ⎮ x + y + 1      \n",
       "⎮ ⎮ ───────── dx dy\n",
       "⎮ ⎮     2          \n",
       "⎮ ⎮  - y  + 4      \n",
       "⌡ ⌡                "
      ]
     },
     "execution_count": 83,
     "metadata": {},
     "output_type": "execute_result"
    }
   ],
   "source": [
    "int_expr_xy = Integral(int_expr, y)\n",
    "int_expr_xy"
   ]
  },
  {
   "cell_type": "code",
   "execution_count": 84,
   "metadata": {
    "collapsed": false
   },
   "outputs": [
    {
     "data": {
      "image/png": "[encoded data removed]",
      "text/latex": [
       "$$\\frac{x}{8} \\left(x - 2\\right) \\log{\\left (y + \\frac{2 x \\left(x - 2\\right) + 8 x}{x^{2} + 2 x} \\right )} - \\frac{x}{8} \\left(x + 6\\right) \\log{\\left (y + \\frac{1}{x^{2} + 2 x} \\left(- 2 x \\left(x + 6\\right) + 8 x\\right) \\right )}$$"
      ],
      "text/plain": [
       "             ⎛    2⋅x⋅(x - 2) + 8⋅x⎞                ⎛    -2⋅x⋅(x + 6) + 8⋅x⎞\n",
       "x⋅(x - 2)⋅log⎜y + ─────────────────⎟   x⋅(x + 6)⋅log⎜y + ──────────────────⎟\n",
       "             ⎜          2          ⎟                ⎜          2           ⎟\n",
       "             ⎝         x  + 2⋅x    ⎠                ⎝         x  + 2⋅x     ⎠\n",
       "──────────────────────────────────── - ─────────────────────────────────────\n",
       "                 8                                       8                  "
      ]
     },
     "execution_count": 84,
     "metadata": {},
     "output_type": "execute_result"
    }
   ],
   "source": [
    "int_expr_xy.doit()"
   ]
  },
  {
   "cell_type": "markdown",
   "metadata": {},
   "source": [
    "Extrahieren des symbolischen Ausdrucks aus dem nicht-evaluierten Integral `int_expr` via `.args[0]`.\n",
    "Daraus wird ein bestimmtes Integral über `x` und `y` zusammengebaut:"
   ]
  },
  {
   "cell_type": "code",
   "execution_count": 85,
   "metadata": {
    "collapsed": false
   },
   "outputs": [
    {
     "data": {
      "image/png": "[encoded data removed]",
      "text/latex": [
       "$$\\int_{-1}^{1}\\int_{-1}^{1} \\frac{x + y + 1}{- y^{2} + 4}\\, dx\\, dy$$"
      ],
      "text/plain": [
       "1  1                 \n",
       "⌠  ⌠                 \n",
       "⎮  ⎮  x + y + 1      \n",
       "⎮  ⎮  ───────── dx dy\n",
       "⎮  ⎮      2          \n",
       "⎮  ⎮   - y  + 4      \n",
       "⌡  ⌡                 \n",
       "-1 -1                "
      ]
     },
     "execution_count": 85,
     "metadata": {},
     "output_type": "execute_result"
    }
   ],
   "source": [
    "int_expr_i2 = Integral(int_expr.args[0], (x, -1, 1), (y, -1, 1))\n",
    "int_expr_i2"
   ]
  },
  {
   "cell_type": "code",
   "execution_count": 86,
   "metadata": {
    "collapsed": false
   },
   "outputs": [
    {
     "data": {
      "image/png": "[encoded data removed]",
      "text/latex": [
       "$$\\log{\\left (3 \\right )}$$"
      ],
      "text/plain": [
       "log(3)"
      ]
     },
     "execution_count": 86,
     "metadata": {},
     "output_type": "execute_result"
    }
   ],
   "source": [
    "int_expr_i2.doit()"
   ]
  },
  {
   "cell_type": "code",
   "execution_count": 87,
   "metadata": {
    "collapsed": false
   },
   "outputs": [
    {
     "data": {
      "image/png": "[encoded data removed]",
      "text/latex": [
       "$$1.09861228866811$$"
      ],
      "text/plain": [
       "1.09861228866811"
      ]
     },
     "execution_count": 87,
     "metadata": {},
     "output_type": "execute_result"
    }
   ],
   "source": [
    "int_expr_i2.doit().evalf()"
   ]
  },
  {
   "cell_type": "markdown",
   "metadata": {},
   "source": [
    "Der interne Graph des Integralausdrucks `int_expr`:"
   ]
  },
  {
   "cell_type": "code",
   "execution_count": 88,
   "metadata": {
    "collapsed": false
   },
   "outputs": [
    {
     "data": {
      "image/svg+xml": [
       "<svg height=\"476pt\" viewBox=\"0.00 0.00 386.00 476.00\" width=\"386pt\" xmlns=\"http://www.w3.org/2000/svg\" xmlns:xlink=\"http://www.w3.org/1999/xlink\">\n",
       "<g class=\"graph\" id=\"graph0\" transform=\"scale(1 1) rotate(0) translate(4 472)\">\n",
       "<title>%3</title>\n",
       "<polygon fill=\"white\" points=\"-4,4 -4,-472 382,-472 382,4 -4,4\" stroke=\"none\"/>\n",
       "<!-- Integral(Mul(Pow(Add(Integer(4), Mul(NegativeOne(), Pow(Symbol(y), Integer(2)))), NegativeOne()), Add(One(), Symbol(x), Symbol(y))), Tuple(Symbol(x)))_() -->\n",
       "<g class=\"node\" id=\"node1\"><title>Integral(Mul(Pow(Add(Integer(4), Mul(NegativeOne(), Pow(Symbol(y), Integer(2)))), NegativeOne()), Add(One(), Symbol(x), Symbol(y))), Tuple(Symbol(x)))_()</title>\n",
       "<ellipse cx=\"279\" cy=\"-450\" fill=\"none\" rx=\"38.0212\" ry=\"18\" stroke=\"black\"/>\n",
       "<text font-family=\"Times,serif\" font-size=\"14.00\" text-anchor=\"middle\" x=\"279\" y=\"-446.3\">Integral</text>\n",
       "</g>\n",
       "<!-- Mul(Pow(Add(Integer(4), Mul(NegativeOne(), Pow(Symbol(y), Integer(2)))), NegativeOne()), Add(One(), Symbol(x), Symbol(y)))_(0,) -->\n",
       "<g class=\"node\" id=\"node2\"><title>Mul(Pow(Add(Integer(4), Mul(NegativeOne(), Pow(Symbol(y), Integer(2)))), NegativeOne()), Add(One(), Symbol(x), Symbol(y)))_(0,)</title>\n",
       "<ellipse cx=\"241\" cy=\"-378\" fill=\"none\" rx=\"27\" ry=\"18\" stroke=\"black\"/>\n",
       "<text font-family=\"Times,serif\" font-size=\"14.00\" text-anchor=\"middle\" x=\"241\" y=\"-374.3\">Mul</text>\n",
       "</g>\n",
       "<!-- Integral(Mul(Pow(Add(Integer(4), Mul(NegativeOne(), Pow(Symbol(y), Integer(2)))), NegativeOne()), Add(One(), Symbol(x), Symbol(y))), Tuple(Symbol(x)))_()&#45;&gt;Mul(Pow(Add(Integer(4), Mul(NegativeOne(), Pow(Symbol(y), Integer(2)))), NegativeOne()), Add(One(), Symbol(x), Symbol(y)))_(0,) -->\n",
       "<g class=\"edge\" id=\"edge1\"><title>Integral(Mul(Pow(Add(Integer(4), Mul(NegativeOne(), Pow(Symbol(y), Integer(2)))), NegativeOne()), Add(One(), Symbol(x), Symbol(y))), Tuple(Symbol(x)))_()-&gt;Mul(Pow(Add(Integer(4), Mul(NegativeOne(), Pow(Symbol(y), Integer(2)))), NegativeOne()), Add(One(), Symbol(x), Symbol(y)))_(0,)</title>\n",
       "<path d=\"M269.995,-432.411C265.451,-424.042 259.842,-413.71 254.772,-404.37\" fill=\"none\" stroke=\"black\"/>\n",
       "<polygon fill=\"black\" points=\"257.788,-402.589 249.941,-395.47 251.636,-405.928 257.788,-402.589\" stroke=\"black\"/>\n",
       "</g>\n",
       "<!-- Tuple(Symbol(x))_(1,) -->\n",
       "<g class=\"node\" id=\"node16\"><title>Tuple(Symbol(x))_(1,)</title>\n",
       "<ellipse cx=\"317\" cy=\"-378\" fill=\"none\" rx=\"31.2965\" ry=\"18\" stroke=\"blue\"/>\n",
       "<text font-family=\"Times,serif\" font-size=\"14.00\" text-anchor=\"middle\" x=\"317\" y=\"-374.3\">Tuple</text>\n",
       "</g>\n",
       "<!-- Integral(Mul(Pow(Add(Integer(4), Mul(NegativeOne(), Pow(Symbol(y), Integer(2)))), NegativeOne()), Add(One(), Symbol(x), Symbol(y))), Tuple(Symbol(x)))_()&#45;&gt;Tuple(Symbol(x))_(1,) -->\n",
       "<g class=\"edge\" id=\"edge2\"><title>Integral(Mul(Pow(Add(Integer(4), Mul(NegativeOne(), Pow(Symbol(y), Integer(2)))), NegativeOne()), Add(One(), Symbol(x), Symbol(y))), Tuple(Symbol(x)))_()-&gt;Tuple(Symbol(x))_(1,)</title>\n",
       "<path d=\"M288.005,-432.411C292.549,-424.042 298.158,-413.71 303.228,-404.37\" fill=\"none\" stroke=\"black\"/>\n",
       "<polygon fill=\"black\" points=\"306.364,-405.928 308.059,-395.47 300.212,-402.589 306.364,-405.928\" stroke=\"black\"/>\n",
       "</g>\n",
       "<!-- Pow(Add(Integer(4), Mul(NegativeOne(), Pow(Symbol(y), Integer(2)))), NegativeOne())_(0, 0) -->\n",
       "<g class=\"node\" id=\"node3\"><title>Pow(Add(Integer(4), Mul(NegativeOne(), Pow(Symbol(y), Integer(2)))), NegativeOne())_(0, 0)</title>\n",
       "<ellipse cx=\"135\" cy=\"-306\" fill=\"none\" rx=\"27\" ry=\"18\" stroke=\"black\"/>\n",
       "<text font-family=\"Times,serif\" font-size=\"14.00\" text-anchor=\"middle\" x=\"135\" y=\"-302.3\">Pow</text>\n",
       "</g>\n",
       "<!-- Mul(Pow(Add(Integer(4), Mul(NegativeOne(), Pow(Symbol(y), Integer(2)))), NegativeOne()), Add(One(), Symbol(x), Symbol(y)))_(0,)&#45;&gt;Pow(Add(Integer(4), Mul(NegativeOne(), Pow(Symbol(y), Integer(2)))), NegativeOne())_(0, 0) -->\n",
       "<g class=\"edge\" id=\"edge3\"><title>Mul(Pow(Add(Integer(4), Mul(NegativeOne(), Pow(Symbol(y), Integer(2)))), NegativeOne()), Add(One(), Symbol(x), Symbol(y)))_(0,)-&gt;Pow(Add(Integer(4), Mul(NegativeOne(), Pow(Symbol(y), Integer(2)))), NegativeOne())_(0, 0)</title>\n",
       "<path d=\"M222.536,-364.807C205.843,-353.783 181.054,-337.413 162.112,-324.904\" fill=\"none\" stroke=\"black\"/>\n",
       "<polygon fill=\"black\" points=\"163.881,-321.878 153.608,-319.288 160.024,-327.72 163.881,-321.878\" stroke=\"black\"/>\n",
       "</g>\n",
       "<!-- Add(One(), Symbol(x), Symbol(y))_(0, 1) -->\n",
       "<g class=\"node\" id=\"node12\"><title>Add(One(), Symbol(x), Symbol(y))_(0, 1)</title>\n",
       "<ellipse cx=\"243\" cy=\"-306\" fill=\"none\" rx=\"27\" ry=\"18\" stroke=\"black\"/>\n",
       "<text font-family=\"Times,serif\" font-size=\"14.00\" text-anchor=\"middle\" x=\"243\" y=\"-302.3\">Add</text>\n",
       "</g>\n",
       "<!-- Mul(Pow(Add(Integer(4), Mul(NegativeOne(), Pow(Symbol(y), Integer(2)))), NegativeOne()), Add(One(), Symbol(x), Symbol(y)))_(0,)&#45;&gt;Add(One(), Symbol(x), Symbol(y))_(0, 1) -->\n",
       "<g class=\"edge\" id=\"edge4\"><title>Mul(Pow(Add(Integer(4), Mul(NegativeOne(), Pow(Symbol(y), Integer(2)))), NegativeOne()), Add(One(), Symbol(x), Symbol(y)))_(0,)-&gt;Add(One(), Symbol(x), Symbol(y))_(0, 1)</title>\n",
       "<path d=\"M241.494,-359.697C241.715,-351.983 241.98,-342.712 242.225,-334.112\" fill=\"none\" stroke=\"black\"/>\n",
       "<polygon fill=\"black\" points=\"245.724,-334.2 242.511,-324.104 238.727,-334 245.724,-334.2\" stroke=\"black\"/>\n",
       "</g>\n",
       "<!-- Add(Integer(4), Mul(NegativeOne(), Pow(Symbol(y), Integer(2))))_(0, 0, 0) -->\n",
       "<g class=\"node\" id=\"node4\"><title>Add(Integer(4), Mul(NegativeOne(), Pow(Symbol(y), Integer(2))))_(0, 0, 0)</title>\n",
       "<ellipse cx=\"63\" cy=\"-234\" fill=\"none\" rx=\"27\" ry=\"18\" stroke=\"black\"/>\n",
       "<text font-family=\"Times,serif\" font-size=\"14.00\" text-anchor=\"middle\" x=\"63\" y=\"-230.3\">Add</text>\n",
       "</g>\n",
       "<!-- Pow(Add(Integer(4), Mul(NegativeOne(), Pow(Symbol(y), Integer(2)))), NegativeOne())_(0, 0)&#45;&gt;Add(Integer(4), Mul(NegativeOne(), Pow(Symbol(y), Integer(2))))_(0, 0, 0) -->\n",
       "<g class=\"edge\" id=\"edge5\"><title>Pow(Add(Integer(4), Mul(NegativeOne(), Pow(Symbol(y), Integer(2)))), NegativeOne())_(0, 0)-&gt;Add(Integer(4), Mul(NegativeOne(), Pow(Symbol(y), Integer(2))))_(0, 0, 0)</title>\n",
       "<path d=\"M120.43,-290.834C110.25,-280.938 96.4761,-267.546 84.9694,-256.359\" fill=\"none\" stroke=\"black\"/>\n",
       "<polygon fill=\"black\" points=\"87.4055,-253.846 77.7957,-249.385 82.5259,-258.865 87.4055,-253.846\" stroke=\"black\"/>\n",
       "</g>\n",
       "<!-- NegativeOne()_(0, 0, 1) -->\n",
       "<g class=\"node\" id=\"node11\"><title>NegativeOne()_(0, 0, 1)</title>\n",
       "<ellipse cx=\"135\" cy=\"-234\" fill=\"none\" rx=\"27\" ry=\"18\" stroke=\"black\"/>\n",
       "<text font-family=\"Times,serif\" font-size=\"14.00\" text-anchor=\"middle\" x=\"135\" y=\"-230.3\">-1</text>\n",
       "</g>\n",
       "<!-- Pow(Add(Integer(4), Mul(NegativeOne(), Pow(Symbol(y), Integer(2)))), NegativeOne())_(0, 0)&#45;&gt;NegativeOne()_(0, 0, 1) -->\n",
       "<g class=\"edge\" id=\"edge6\"><title>Pow(Add(Integer(4), Mul(NegativeOne(), Pow(Symbol(y), Integer(2)))), NegativeOne())_(0, 0)-&gt;NegativeOne()_(0, 0, 1)</title>\n",
       "<path d=\"M135,-287.697C135,-279.983 135,-270.712 135,-262.112\" fill=\"none\" stroke=\"black\"/>\n",
       "<polygon fill=\"black\" points=\"138.5,-262.104 135,-252.104 131.5,-262.104 138.5,-262.104\" stroke=\"black\"/>\n",
       "</g>\n",
       "<!-- Integer(4)_(0, 0, 0, 0) -->\n",
       "<g class=\"node\" id=\"node5\"><title>Integer(4)_(0, 0, 0, 0)</title>\n",
       "<ellipse cx=\"27\" cy=\"-162\" fill=\"none\" rx=\"27\" ry=\"18\" stroke=\"black\"/>\n",
       "<text font-family=\"Times,serif\" font-size=\"14.00\" text-anchor=\"middle\" x=\"27\" y=\"-158.3\">4</text>\n",
       "</g>\n",
       "<!-- Add(Integer(4), Mul(NegativeOne(), Pow(Symbol(y), Integer(2))))_(0, 0, 0)&#45;&gt;Integer(4)_(0, 0, 0, 0) -->\n",
       "<g class=\"edge\" id=\"edge7\"><title>Add(Integer(4), Mul(NegativeOne(), Pow(Symbol(y), Integer(2))))_(0, 0, 0)-&gt;Integer(4)_(0, 0, 0, 0)</title>\n",
       "<path d=\"M54.6504,-216.765C50.2885,-208.283 44.8531,-197.714 39.9587,-188.197\" fill=\"none\" stroke=\"black\"/>\n",
       "<polygon fill=\"black\" points=\"42.9904,-186.439 35.3043,-179.147 36.7654,-189.641 42.9904,-186.439\" stroke=\"black\"/>\n",
       "</g>\n",
       "<!-- Mul(NegativeOne(), Pow(Symbol(y), Integer(2)))_(0, 0, 0, 1) -->\n",
       "<g class=\"node\" id=\"node6\"><title>Mul(NegativeOne(), Pow(Symbol(y), Integer(2)))_(0, 0, 0, 1)</title>\n",
       "<ellipse cx=\"99\" cy=\"-162\" fill=\"none\" rx=\"27\" ry=\"18\" stroke=\"black\"/>\n",
       "<text font-family=\"Times,serif\" font-size=\"14.00\" text-anchor=\"middle\" x=\"99\" y=\"-158.3\">Mul</text>\n",
       "</g>\n",
       "<!-- Add(Integer(4), Mul(NegativeOne(), Pow(Symbol(y), Integer(2))))_(0, 0, 0)&#45;&gt;Mul(NegativeOne(), Pow(Symbol(y), Integer(2)))_(0, 0, 0, 1) -->\n",
       "<g class=\"edge\" id=\"edge8\"><title>Add(Integer(4), Mul(NegativeOne(), Pow(Symbol(y), Integer(2))))_(0, 0, 0)-&gt;Mul(NegativeOne(), Pow(Symbol(y), Integer(2)))_(0, 0, 0, 1)</title>\n",
       "<path d=\"M71.3496,-216.765C75.7115,-208.283 81.1469,-197.714 86.0413,-188.197\" fill=\"none\" stroke=\"black\"/>\n",
       "<polygon fill=\"black\" points=\"89.2346,-189.641 90.6957,-179.147 83.0096,-186.439 89.2346,-189.641\" stroke=\"black\"/>\n",
       "</g>\n",
       "<!-- NegativeOne()_(0, 0, 0, 1, 0) -->\n",
       "<g class=\"node\" id=\"node7\"><title>NegativeOne()_(0, 0, 0, 1, 0)</title>\n",
       "<ellipse cx=\"63\" cy=\"-90\" fill=\"none\" rx=\"27\" ry=\"18\" stroke=\"black\"/>\n",
       "<text font-family=\"Times,serif\" font-size=\"14.00\" text-anchor=\"middle\" x=\"63\" y=\"-86.3\">-1</text>\n",
       "</g>\n",
       "<!-- Mul(NegativeOne(), Pow(Symbol(y), Integer(2)))_(0, 0, 0, 1)&#45;&gt;NegativeOne()_(0, 0, 0, 1, 0) -->\n",
       "<g class=\"edge\" id=\"edge9\"><title>Mul(NegativeOne(), Pow(Symbol(y), Integer(2)))_(0, 0, 0, 1)-&gt;NegativeOne()_(0, 0, 0, 1, 0)</title>\n",
       "<path d=\"M90.6504,-144.765C86.2885,-136.283 80.8531,-125.714 75.9587,-116.197\" fill=\"none\" stroke=\"black\"/>\n",
       "<polygon fill=\"black\" points=\"78.9904,-114.439 71.3043,-107.147 72.7654,-117.641 78.9904,-114.439\" stroke=\"black\"/>\n",
       "</g>\n",
       "<!-- Pow(Symbol(y), Integer(2))_(0, 0, 0, 1, 1) -->\n",
       "<g class=\"node\" id=\"node8\"><title>Pow(Symbol(y), Integer(2))_(0, 0, 0, 1, 1)</title>\n",
       "<ellipse cx=\"135\" cy=\"-90\" fill=\"none\" rx=\"27\" ry=\"18\" stroke=\"black\"/>\n",
       "<text font-family=\"Times,serif\" font-size=\"14.00\" text-anchor=\"middle\" x=\"135\" y=\"-86.3\">Pow</text>\n",
       "</g>\n",
       "<!-- Mul(NegativeOne(), Pow(Symbol(y), Integer(2)))_(0, 0, 0, 1)&#45;&gt;Pow(Symbol(y), Integer(2))_(0, 0, 0, 1, 1) -->\n",
       "<g class=\"edge\" id=\"edge10\"><title>Mul(NegativeOne(), Pow(Symbol(y), Integer(2)))_(0, 0, 0, 1)-&gt;Pow(Symbol(y), Integer(2))_(0, 0, 0, 1, 1)</title>\n",
       "<path d=\"M107.35,-144.765C111.712,-136.283 117.147,-125.714 122.041,-116.197\" fill=\"none\" stroke=\"black\"/>\n",
       "<polygon fill=\"black\" points=\"125.235,-117.641 126.696,-107.147 119.01,-114.439 125.235,-117.641\" stroke=\"black\"/>\n",
       "</g>\n",
       "<!-- Symbol(y)_(0, 0, 0, 1, 1, 0) -->\n",
       "<g class=\"node\" id=\"node9\"><title>Symbol(y)_(0, 0, 0, 1, 1, 0)</title>\n",
       "<ellipse cx=\"99\" cy=\"-18\" fill=\"none\" rx=\"27\" ry=\"18\" stroke=\"black\"/>\n",
       "<text font-family=\"Times,serif\" font-size=\"14.00\" text-anchor=\"middle\" x=\"99\" y=\"-14.3\">y</text>\n",
       "</g>\n",
       "<!-- Pow(Symbol(y), Integer(2))_(0, 0, 0, 1, 1)&#45;&gt;Symbol(y)_(0, 0, 0, 1, 1, 0) -->\n",
       "<g class=\"edge\" id=\"edge11\"><title>Pow(Symbol(y), Integer(2))_(0, 0, 0, 1, 1)-&gt;Symbol(y)_(0, 0, 0, 1, 1, 0)</title>\n",
       "<path d=\"M126.65,-72.7646C122.288,-64.2831 116.853,-53.7144 111.959,-44.1974\" fill=\"none\" stroke=\"black\"/>\n",
       "<polygon fill=\"black\" points=\"114.99,-42.4395 107.304,-35.1473 108.765,-45.6409 114.99,-42.4395\" stroke=\"black\"/>\n",
       "</g>\n",
       "<!-- Integer(2)_(0, 0, 0, 1, 1, 1) -->\n",
       "<g class=\"node\" id=\"node10\"><title>Integer(2)_(0, 0, 0, 1, 1, 1)</title>\n",
       "<ellipse cx=\"171\" cy=\"-18\" fill=\"none\" rx=\"27\" ry=\"18\" stroke=\"black\"/>\n",
       "<text font-family=\"Times,serif\" font-size=\"14.00\" text-anchor=\"middle\" x=\"171\" y=\"-14.3\">2</text>\n",
       "</g>\n",
       "<!-- Pow(Symbol(y), Integer(2))_(0, 0, 0, 1, 1)&#45;&gt;Integer(2)_(0, 0, 0, 1, 1, 1) -->\n",
       "<g class=\"edge\" id=\"edge12\"><title>Pow(Symbol(y), Integer(2))_(0, 0, 0, 1, 1)-&gt;Integer(2)_(0, 0, 0, 1, 1, 1)</title>\n",
       "<path d=\"M143.35,-72.7646C147.712,-64.2831 153.147,-53.7144 158.041,-44.1974\" fill=\"none\" stroke=\"black\"/>\n",
       "<polygon fill=\"black\" points=\"161.235,-45.6409 162.696,-35.1473 155.01,-42.4395 161.235,-45.6409\" stroke=\"black\"/>\n",
       "</g>\n",
       "<!-- One()_(0, 1, 0) -->\n",
       "<g class=\"node\" id=\"node13\"><title>One()_(0, 1, 0)</title>\n",
       "<ellipse cx=\"207\" cy=\"-234\" fill=\"none\" rx=\"27\" ry=\"18\" stroke=\"black\"/>\n",
       "<text font-family=\"Times,serif\" font-size=\"14.00\" text-anchor=\"middle\" x=\"207\" y=\"-230.3\">1</text>\n",
       "</g>\n",
       "<!-- Add(One(), Symbol(x), Symbol(y))_(0, 1)&#45;&gt;One()_(0, 1, 0) -->\n",
       "<g class=\"edge\" id=\"edge13\"><title>Add(One(), Symbol(x), Symbol(y))_(0, 1)-&gt;One()_(0, 1, 0)</title>\n",
       "<path d=\"M234.65,-288.765C230.288,-280.283 224.853,-269.714 219.959,-260.197\" fill=\"none\" stroke=\"black\"/>\n",
       "<polygon fill=\"black\" points=\"222.99,-258.439 215.304,-251.147 216.765,-261.641 222.99,-258.439\" stroke=\"black\"/>\n",
       "</g>\n",
       "<!-- Symbol(x)_(0, 1, 1) -->\n",
       "<g class=\"node\" id=\"node14\"><title>Symbol(x)_(0, 1, 1)</title>\n",
       "<ellipse cx=\"279\" cy=\"-234\" fill=\"none\" rx=\"27\" ry=\"18\" stroke=\"black\"/>\n",
       "<text font-family=\"Times,serif\" font-size=\"14.00\" text-anchor=\"middle\" x=\"279\" y=\"-230.3\">x</text>\n",
       "</g>\n",
       "<!-- Add(One(), Symbol(x), Symbol(y))_(0, 1)&#45;&gt;Symbol(x)_(0, 1, 1) -->\n",
       "<g class=\"edge\" id=\"edge14\"><title>Add(One(), Symbol(x), Symbol(y))_(0, 1)-&gt;Symbol(x)_(0, 1, 1)</title>\n",
       "<path d=\"M251.35,-288.765C255.712,-280.283 261.147,-269.714 266.041,-260.197\" fill=\"none\" stroke=\"black\"/>\n",
       "<polygon fill=\"black\" points=\"269.235,-261.641 270.696,-251.147 263.01,-258.439 269.235,-261.641\" stroke=\"black\"/>\n",
       "</g>\n",
       "<!-- Symbol(y)_(0, 1, 2) -->\n",
       "<g class=\"node\" id=\"node15\"><title>Symbol(y)_(0, 1, 2)</title>\n",
       "<ellipse cx=\"351\" cy=\"-234\" fill=\"none\" rx=\"27\" ry=\"18\" stroke=\"black\"/>\n",
       "<text font-family=\"Times,serif\" font-size=\"14.00\" text-anchor=\"middle\" x=\"351\" y=\"-230.3\">y</text>\n",
       "</g>\n",
       "<!-- Add(One(), Symbol(x), Symbol(y))_(0, 1)&#45;&gt;Symbol(y)_(0, 1, 2) -->\n",
       "<g class=\"edge\" id=\"edge15\"><title>Add(One(), Symbol(x), Symbol(y))_(0, 1)-&gt;Symbol(y)_(0, 1, 2)</title>\n",
       "<path d=\"M261.812,-292.807C279.002,-281.665 304.618,-265.062 323.993,-252.504\" fill=\"none\" stroke=\"black\"/>\n",
       "<polygon fill=\"black\" points=\"325.916,-255.429 332.403,-247.053 322.108,-249.555 325.916,-255.429\" stroke=\"black\"/>\n",
       "</g>\n",
       "<!-- Symbol(x)_(1, 0) -->\n",
       "<g class=\"node\" id=\"node17\"><title>Symbol(x)_(1, 0)</title>\n",
       "<ellipse cx=\"317\" cy=\"-306\" fill=\"none\" rx=\"27\" ry=\"18\" stroke=\"black\"/>\n",
       "<text font-family=\"Times,serif\" font-size=\"14.00\" text-anchor=\"middle\" x=\"317\" y=\"-302.3\">x</text>\n",
       "</g>\n",
       "<!-- Tuple(Symbol(x))_(1,)&#45;&gt;Symbol(x)_(1, 0) -->\n",
       "<g class=\"edge\" id=\"edge16\"><title>Tuple(Symbol(x))_(1,)-&gt;Symbol(x)_(1, 0)</title>\n",
       "<path d=\"M317,-359.697C317,-351.983 317,-342.712 317,-334.112\" fill=\"none\" stroke=\"black\"/>\n",
       "<polygon fill=\"black\" points=\"320.5,-334.104 317,-324.104 313.5,-334.104 320.5,-334.104\" stroke=\"black\"/>\n",
       "</g>\n",
       "</g>\n",
       "</svg>"
      ],
      "text/plain": [
       "<IPython.core.display.SVG object>"
      ]
     },
     "execution_count": 88,
     "metadata": {},
     "output_type": "execute_result"
    }
   ],
   "source": [
    "expr_to_dotgraph(\"sympy-int\", int_expr)"
   ]
  }
 ],
 "metadata": {
  "kernelspec": {
   "display_name": "Python 3",
   "language": "python",
   "name": "python3"
  },
  "language_info": {
   "codemirror_mode": {
    "name": "ipython",
    "version": 3
   },
   "file_extension": ".py",
   "mimetype": "text/x-python",
   "name": "python",
   "nbconvert_exporter": "python",
   "pygments_lexer": "ipython3",
   "version": "3.4.3"
  }
 },
 "nbformat": 4,
 "nbformat_minor": 0
}
