{
 "cells": [
  {
   "cell_type": "markdown",
   "metadata": {},
   "source": [
    "# Mathematische Anwendungen"
   ]
  },
  {
   "cell_type": "markdown",
   "metadata": {},
   "source": [
    "Der besondere Fokus dieser Übersicht ist die Mathematik.\n",
    "Dieses Kaptiel widmet sich mathematischen Anwendungen aus verschiedensten Gebieten.\n",
    "Dabei wird insbesondere anhand konkreter Beispiele die Übersetzungen von theoretischen Algorithmen und Strukturen\n",
    "in den Kontext kleiner Programme in Python gezeigt.\n",
    "Es werden einerseits einfache in Python geschriebene Programme,\n",
    "und andererseits mehrere für den Alltag nützliche Bibliotheken vorgestellt."
   ]
  }
 ],
 "metadata": {
  "kernelspec": {
   "display_name": "Anaconda (Python 3)",
   "language": "python",
   "name": "anaconda3"
  },
  "language_info": {
   "codemirror_mode": {
    "name": "ipython",
    "version": 3
   },
   "file_extension": ".py",
   "mimetype": "text/x-python",
   "name": "python",
   "nbconvert_exporter": "python",
   "pygments_lexer": "ipython3",
   "version": "3.5.1"
  }
 },
 "nbformat": 4,
 "nbformat_minor": 0
}
