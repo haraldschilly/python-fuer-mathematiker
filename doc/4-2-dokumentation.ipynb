{
 "cells": [
  {
   "cell_type": "markdown",
   "metadata": {},
   "source": [
    "# Dokumentation eines Programmes"
   ]
  },
  {
   "cell_type": "markdown",
   "metadata": {},
   "source": [
    "Der reine Programmcode alleine reicht üblicherweise nicht aus, um das gesamte Programm für andere verständlich zu machen.\n",
    "Daher gibt es zwei Möglichkeiten, sogenannte \"_Kommentare_\" einzufügen.\n",
    "\n",
    "* Variante 1: _Zeilenbasiert_\n",
    "\n",
    "Hier schreibt man das Zeichen `#` in den Code, wobei der Rest der Zeile vom Interpreter ignoriert wird.\n",
    "\n",
    "* Variante 2: _Blöcke_\n",
    "\n",
    "Diese Variante ist üblicherweise eingerückt unter der Signatur einer Funktion oder Methode, bzw. ganz zu Beginn des gesamten Programmmodules. Er beginnt mit `\"\"\"` und endet mehrere Zeilen später ebenfalls mit `\"\"\"`. Alles dazwischen wird vom Interpreter ignoriert.\n",
    "\n",
    "Es gibt aber Fälle, wo es trotzdem verwendet wird. Siehe [Qualitätskontrolle/Doctesting](4-4-qualitätskontrolle.ipynb#doctesting)"
   ]
  },
  {
   "cell_type": "code",
   "execution_count": null,
   "metadata": {
    "collapsed": false
   },
   "outputs": [],
   "source": []
  }
 ],
 "metadata": {
  "kernelspec": {
   "display_name": "Anaconda (Python 3)",
   "language": "python",
   "name": "anaconda3"
  },
  "language_info": {
   "codemirror_mode": {
    "name": "ipython",
    "version": 3
   },
   "file_extension": ".py",
   "mimetype": "text/x-python",
   "name": "python",
   "nbconvert_exporter": "python",
   "pygments_lexer": "ipython3",
   "version": "3.5.1"
  }
 },
 "nbformat": 4,
 "nbformat_minor": 0
}
