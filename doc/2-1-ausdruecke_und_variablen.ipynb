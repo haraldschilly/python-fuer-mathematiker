{
 "cells": [
  {
   "cell_type": "markdown",
   "metadata": {},
   "source": [
    "# Konzept 1: Ausdrücke und Variablen"
   ]
  },
  {
   "cell_type": "markdown",
   "metadata": {},
   "source": [
    "## Ausdrücke\n",
    "\n",
    "Eine ganz einfache Variante sind einfache Rechnungen.\n",
    "In jeder Zelle stehen in oder mehrere Zeilen Programmcode, die mittels `Shift+Return` ausgewertet werden.\n",
    "(`Ctrl+Return` gibt es auch, es wird hierbei nicht zur nächsten Zelle vorwärts gesprungen)\n",
    "z.B.:"
   ]
  },
  {
   "cell_type": "code",
   "execution_count": 1,
   "metadata": {
    "collapsed": false
   },
   "outputs": [
    {
     "data": {
      "text/plain": [
       "11"
      ]
     },
     "execution_count": 1,
     "metadata": {},
     "output_type": "execute_result"
    }
   ],
   "source": [
    "3 + 8"
   ]
  },
  {
   "cell_type": "code",
   "execution_count": 2,
   "metadata": {
    "collapsed": false
   },
   "outputs": [
    {
     "data": {
      "text/plain": [
       "8.0"
      ]
     },
     "execution_count": 2,
     "metadata": {},
     "output_type": "execute_result"
    }
   ],
   "source": [
    "5 + (1 + 5) / 2"
   ]
  },
  {
   "cell_type": "markdown",
   "metadata": {},
   "source": [
    "Apropos Sprachversionen: aus \"mathematischer\" Sicht gibt es bei Divisionen einen entscheidenden Unterschied. In Version 2 ist die Division mit \"`/`\" abrundend auf die nächste Ganzzahl, während in Verion 3 die handelsübliche Interpretation einer Division verwendet wird (abrundend ist \"`//`\").\n",
    "\n",
    "Mittels \"`from __future__ import division`\" kann in Version 2 das Verhalten von Version 3 erzwungen werden:"
   ]
  },
  {
   "cell_type": "code",
   "execution_count": 3,
   "metadata": {
    "collapsed": false
   },
   "outputs": [
    {
     "data": {
      "text/plain": [
       "2.25"
      ]
     },
     "execution_count": 3,
     "metadata": {},
     "output_type": "execute_result"
    }
   ],
   "source": [
    "9 / 4"
   ]
  },
  {
   "cell_type": "code",
   "execution_count": 4,
   "metadata": {
    "collapsed": false
   },
   "outputs": [
    {
     "data": {
      "text/plain": [
       "2.25"
      ]
     },
     "execution_count": 4,
     "metadata": {},
     "output_type": "execute_result"
    }
   ],
   "source": [
    "from __future__ import division\n",
    "9 / 4"
   ]
  },
  {
   "cell_type": "markdown",
   "metadata": {},
   "source": [
    "Im Allgmeinen ist es eine gute Idee, diesen Import immer zu aktivieren.\n",
    "\n",
    "Striktes Abrunden:"
   ]
  },
  {
   "cell_type": "code",
   "execution_count": 5,
   "metadata": {
    "collapsed": false
   },
   "outputs": [
    {
     "data": {
      "text/plain": [
       "2"
      ]
     },
     "execution_count": 5,
     "metadata": {},
     "output_type": "execute_result"
    }
   ],
   "source": [
    "9 // 4"
   ]
  },
  {
   "cell_type": "markdown",
   "metadata": {},
   "source": [
    "... und Modulorechnungen mit `%`:"
   ]
  },
  {
   "cell_type": "code",
   "execution_count": 6,
   "metadata": {
    "collapsed": false
   },
   "outputs": [
    {
     "data": {
      "text/plain": [
       "1"
      ]
     },
     "execution_count": 6,
     "metadata": {},
     "output_type": "execute_result"
    }
   ],
   "source": [
    "9 % 4"
   ]
  },
  {
   "cell_type": "markdown",
   "metadata": {},
   "source": [
    "### Zahlentypen"
   ]
  },
  {
   "cell_type": "markdown",
   "metadata": {},
   "source": [
    "Brüche mit `Fraction`"
   ]
  },
  {
   "cell_type": "code",
   "execution_count": 7,
   "metadata": {
    "collapsed": false
   },
   "outputs": [
    {
     "name": "stdout",
     "output_type": "stream",
     "text": [
      "2673/38275585202254501783218213917955539030103719395100\n"
     ]
    }
   ],
   "source": [
    "from fractions import Fraction\n",
    "a = Fraction(\"33/31003100\")\n",
    "b = Fraction(\"-9/100000100001\")\n",
    "print(a * b ** 4)"
   ]
  },
  {
   "cell_type": "markdown",
   "metadata": {},
   "source": [
    "Dezimalzahlen, die nicht die übliche in dem Computer eingebaute fixe\n",
    "[IEEE 754-2008](http://en.wikipedia.org/wiki/IEEE_floating_point) Genauigkeit haben und eventuelle Rundungsfehler erzeugen,\n",
    "sondern [IEEE 854-1987](http://en.wikipedia.org/wiki/IEEE_854-1987) für strengere Genauigkeit folgen, mittels `Decimal`:"
   ]
  },
  {
   "cell_type": "code",
   "execution_count": 8,
   "metadata": {
    "collapsed": false
   },
   "outputs": [
    {
     "name": "stdout",
     "output_type": "stream",
     "text": [
      "4.440892098500626e-16\n"
     ]
    }
   ],
   "source": [
    "print(1.1 + 2.2 - 3.3)"
   ]
  },
  {
   "cell_type": "code",
   "execution_count": 9,
   "metadata": {
    "collapsed": false
   },
   "outputs": [
    {
     "name": "stdout",
     "output_type": "stream",
     "text": [
      "0.0\n"
     ]
    }
   ],
   "source": [
    "from decimal import Decimal\n",
    "u = Decimal(\"1.1\") + Decimal(\"2.2\")\n",
    "v = Decimal(\"-3.3\")\n",
    "print(u + v)"
   ]
  },
  {
   "cell_type": "markdown",
   "metadata": {},
   "source": [
    "`mpmath` erlaubt, analytische Ausdrücke auf höherer Genauigkeit auszuwerten"
   ]
  },
  {
   "cell_type": "code",
   "execution_count": 10,
   "metadata": {
    "collapsed": false
   },
   "outputs": [],
   "source": [
    "import mpmath as mpm\n",
    "mpm.mp.dps = 100"
   ]
  },
  {
   "cell_type": "code",
   "execution_count": 11,
   "metadata": {
    "collapsed": false
   },
   "outputs": [
    {
     "data": {
      "text/plain": [
       "mpf('0.999999999999999997346938775510204087172011661807580164514785506039150372463854346403284314358813079585')"
      ]
     },
     "execution_count": 11,
     "metadata": {},
     "output_type": "execute_result"
    }
   ],
   "source": [
    "a = mpm.mpf(\"49.00000000000000001\")\n",
    "b = mpm.mpf( \"7.00000000000000001\")\n",
    "a / b**2"
   ]
  },
  {
   "cell_type": "code",
   "execution_count": 12,
   "metadata": {
    "collapsed": false
   },
   "outputs": [
    {
     "data": {
      "text/plain": [
       "mpf('0.00000000008979323846264338327938221965910388125990692946182694867743526330407406677351504727435623041438215811254')"
      ]
     },
     "execution_count": 12,
     "metadata": {},
     "output_type": "execute_result"
    }
   ],
   "source": [
    "mpm.sin(mpm.mpf(\"3.1415926535\"))"
   ]
  },
  {
   "cell_type": "markdown",
   "metadata": {},
   "source": [
    "Intervallzahlen mit `mpmath`'s `mpi`"
   ]
  },
  {
   "cell_type": "code",
   "execution_count": 13,
   "metadata": {
    "collapsed": false
   },
   "outputs": [
    {
     "name": "stdout",
     "output_type": "stream",
     "text": [
      "[1.0, 2.0] * [3.0, 4.5] = [3.0, 9.0]\n"
     ]
    }
   ],
   "source": [
    "x = mpm.mpi(\"1\", \"2\")\n",
    "y = mpm.mpi(\"3\", \"4.5\")\n",
    "z = x * y\n",
    "print(x, \"*\", y, \"=\", z)"
   ]
  },
  {
   "cell_type": "markdown",
   "metadata": {},
   "source": [
    "## Zeichenketten (Strings)\n",
    "\n",
    "Eine ganz wichtige Kategorie von Ausdrücken sind Zeichenketten (engl. \"strings\").\n",
    "Diese werden zwischen einfachen oder doppelten Anführungszeichen eingegeben.\n",
    "Später mehr dazu (siehe \"Konzept 5: Datenstrukturen\"), hier nur ein einfaches Beispiel:"
   ]
  },
  {
   "cell_type": "code",
   "execution_count": 14,
   "metadata": {
    "collapsed": false
   },
   "outputs": [
    {
     "data": {
      "text/plain": [
       "'dies ist eine Zeichenkette'"
      ]
     },
     "execution_count": 14,
     "metadata": {},
     "output_type": "execute_result"
    }
   ],
   "source": [
    "\"dies ist eine Zeichenkette\""
   ]
  },
  {
   "cell_type": "markdown",
   "metadata": {},
   "source": [
    "Zusammenführen mehrerer Strings"
   ]
  },
  {
   "cell_type": "code",
   "execution_count": 15,
   "metadata": {
    "collapsed": false
   },
   "outputs": [
    {
     "data": {
      "text/plain": [
       "'String1String2'"
      ]
     },
     "execution_count": 15,
     "metadata": {},
     "output_type": "execute_result"
    }
   ],
   "source": [
    "\"String1\" + \"String2\""
   ]
  },
  {
   "cell_type": "markdown",
   "metadata": {},
   "source": [
    "Einfügen eines Strings in eine bestehende Zeichenkette (an der Stelle `%s`).\n",
    "Beachte, einfache Anführungszeichen können innerhalb doppelter Anführungszeichen verwendet werden (und umgekehrt)."
   ]
  },
  {
   "cell_type": "code",
   "execution_count": 16,
   "metadata": {
    "collapsed": false
   },
   "outputs": [
    {
     "data": {
      "text/plain": [
       "\"Der Name 'Hubert' ist männlich.\""
      ]
     },
     "execution_count": 16,
     "metadata": {},
     "output_type": "execute_result"
    }
   ],
   "source": [
    "\"Der Name '%s' ist männlich.\" % \"Hubert\""
   ]
  },
  {
   "cell_type": "markdown",
   "metadata": {},
   "source": [
    "Formatieren einer Fließkommazahl in einem String (hier mit 3 Nachkommastellen):"
   ]
  },
  {
   "cell_type": "code",
   "execution_count": 17,
   "metadata": {
    "collapsed": false
   },
   "outputs": [
    {
     "data": {
      "text/plain": [
       "'Das Wasser hat 3.142 °C'"
      ]
     },
     "execution_count": 17,
     "metadata": {},
     "output_type": "execute_result"
    }
   ],
   "source": [
    "\"Das Wasser hat %.3f °C\" % 3.1415926535"
   ]
  },
  {
   "cell_type": "markdown",
   "metadata": {},
   "source": [
    "Die Methode `.format()` erledigt [komplexere Formatierungsaufgaben](https://docs.python.org/2/library/string.html#formatspec):\n",
    "\n",
    "* `{:>20s}`: string-format, auf mindestens 20 Zeichen breite mit Leerzeichen auffüllen, und \"`>`\" macht es rechtsbündig,\n",
    "* `{abc:.4f}`: formatiert das Argument `abc` als floating-point Zahl mit 4 Nachkommastellen."
   ]
  },
  {
   "cell_type": "code",
   "execution_count": 18,
   "metadata": {
    "collapsed": false
   },
   "outputs": [
    {
     "data": {
      "text/plain": [
       "'                test: 42.0000'"
      ]
     },
     "execution_count": 18,
     "metadata": {},
     "output_type": "execute_result"
    }
   ],
   "source": [
    "\"{:>20s}: {abc:.4f}\".format(\"test\", abc = 42)"
   ]
  },
  {
   "cell_type": "markdown",
   "metadata": {},
   "source": [
    "## Vergleichsoperatoren\n",
    "\n",
    "Einer der wichtigsten Typen von Ausdrücken sind Vergleichsoperatoren.\n",
    "Das sind tests auf \n",
    "\n",
    "* Identität (\"`is`\") -- wo die zu vergleichenden Objekte exakt ident sein müssen.\n",
    "  Das heißt, sie sind sich nicht nur ähnlich, sondern liegen jeweils tatsächlich in derselben Stelle des Speichers.\n",
    "* Equvivalenz (\"`==`\") -- hier wird, abhängig von der Vergleichsoperation (!), die Gleichheit festgestellt.\n",
    "* Relation (\"`<`\", \"`>=`\", ...) -- test auf Ungleichheit, ebenfalls von der konkreten Implementation des Vergleichsoperators abhängig."
   ]
  },
  {
   "cell_type": "code",
   "execution_count": 19,
   "metadata": {
    "collapsed": false
   },
   "outputs": [
    {
     "data": {
      "text/plain": [
       "True"
      ]
     },
     "execution_count": 19,
     "metadata": {},
     "output_type": "execute_result"
    }
   ],
   "source": [
    "\"abc\" is \"abc\""
   ]
  },
  {
   "cell_type": "code",
   "execution_count": 20,
   "metadata": {
    "collapsed": false
   },
   "outputs": [
    {
     "data": {
      "text/plain": [
       "True"
      ]
     },
     "execution_count": 20,
     "metadata": {},
     "output_type": "execute_result"
    }
   ],
   "source": [
    "6 == 2 * 3"
   ]
  },
  {
   "cell_type": "code",
   "execution_count": 21,
   "metadata": {
    "collapsed": false
   },
   "outputs": [
    {
     "data": {
      "text/plain": [
       "False"
      ]
     },
     "execution_count": 21,
     "metadata": {},
     "output_type": "execute_result"
    }
   ],
   "source": [
    "6 > 10"
   ]
  },
  {
   "cell_type": "markdown",
   "metadata": {},
   "source": [
    "Es ist auch oft möglich -- wenn sinnvoll -- unterschiedliche Typen zu vergleichen:"
   ]
  },
  {
   "cell_type": "code",
   "execution_count": 22,
   "metadata": {
    "collapsed": false
   },
   "outputs": [
    {
     "data": {
      "text/plain": [
       "True"
      ]
     },
     "execution_count": 22,
     "metadata": {},
     "output_type": "execute_result"
    }
   ],
   "source": [
    "6.1 < 10   # float mit int"
   ]
  },
  {
   "cell_type": "markdown",
   "metadata": {},
   "source": [
    "## Variablen\n",
    "\n",
    "Die Quintessenz eines Programmes ist dessen Flexibilität gegenüber Eingaben.\n",
    "Wäre die Eingabe fest vorgegeben,\n",
    "gäbe es nur wenig Gründe das Programm mehr als nur einmal aufzurufen!"
   ]
  },
  {
   "cell_type": "markdown",
   "metadata": {},
   "source": [
    "_Quiz:_ Gib einen Grund an, warum ein Programm ohne Dateneingabe mehrmals aufgerufen werden könnte?"
   ]
  },
  {
   "cell_type": "markdown",
   "metadata": {},
   "source": [
    "Antwort: "
   ]
  },
  {
   "cell_type": "markdown",
   "metadata": {},
   "source": [
    "Zuweisungen passieren so, dass in der Zeile zuerst eine Variable steht,\n",
    "dann ein Gleichzeitszeichen, und dann ein Ausdruck der Ausgewertet wird.\n",
    "Hinweis: Der Wert der Variablen `x` ist in der darunterliegenden Zelle weiterhin verfügbar."
   ]
  },
  {
   "cell_type": "code",
   "execution_count": 23,
   "metadata": {
    "collapsed": false
   },
   "outputs": [
    {
     "data": {
      "text/plain": [
       "21"
      ]
     },
     "execution_count": 23,
     "metadata": {},
     "output_type": "execute_result"
    }
   ],
   "source": [
    "x = 4\n",
    "5 * x + 1"
   ]
  },
  {
   "cell_type": "code",
   "execution_count": 24,
   "metadata": {
    "collapsed": false
   },
   "outputs": [
    {
     "data": {
      "text/plain": [
       "-4"
      ]
     },
     "execution_count": 24,
     "metadata": {},
     "output_type": "execute_result"
    }
   ],
   "source": [
    "y = 2 * x + 1\n",
    "9 - y - x"
   ]
  },
  {
   "cell_type": "markdown",
   "metadata": {},
   "source": [
    "Wichtig ist, dass die Zuweisung an `x` vor dessen Verwendung in der zweiten Zelle passiert.\n",
    "Eine Variable ohne vorheriger Zuweisung erzeugt einen Fehler:"
   ]
  },
  {
   "cell_type": "code",
   "execution_count": 25,
   "metadata": {
    "collapsed": false
   },
   "outputs": [
    {
     "ename": "NameError",
     "evalue": "name 'p' is not defined",
     "output_type": "error",
     "traceback": [
      "\u001b[1;31m\u001b[0m",
      "\u001b[1;31mNameError\u001b[0mTraceback (most recent call last)",
      "\u001b[1;32m<ipython-input-25-2fe5b48a1d33>\u001b[0m in \u001b[0;36m<module>\u001b[1;34m()\u001b[0m\n\u001b[1;32m----> 1\u001b[1;33m \u001b[0mp\u001b[0m \u001b[1;33m+\u001b[0m \u001b[1;36m23\u001b[0m\u001b[1;33m\u001b[0m\u001b[0m\n\u001b[0m",
      "\u001b[1;31mNameError\u001b[0m: name 'p' is not defined"
     ]
    }
   ],
   "source": [
    "p + 23"
   ]
  },
  {
   "cell_type": "markdown",
   "metadata": {},
   "source": [
    "Variablen können (und sollen meistens) mehr als einen Buchstaben haben.\n",
    "Dabei sind Groß- und Kleinbuchstaben und Zahlen ab dem zweiten Zeichen erlaubt.\n",
    "Als einziges Sonderzeichen gibt es den `_` Unterstrich.\n",
    "(das gilt für Python in der Sprachversion 2, Version 3 erlaubt mehr Zeichen.)"
   ]
  },
  {
   "cell_type": "code",
   "execution_count": 26,
   "metadata": {
    "collapsed": false
   },
   "outputs": [
    {
     "name": "stdout",
     "output_type": "stream",
     "text": [
      "12.87\n"
     ]
    }
   ],
   "source": [
    "apfel_preis = 0.99\n",
    "stueck = 13\n",
    "preis = stueck * apfel_preis\n",
    "print(preis)"
   ]
  },
  {
   "cell_type": "markdown",
   "metadata": {},
   "source": [
    "Die vorhergehende Zelle definiert mehrere Variablen und berechnet den Preis des Einkaufs.\n",
    "Das Wort `print` mit anschließenden Klammern gibt den Inhalt der Variablen `preis` aus\n",
    "und ist ein Beispiel für den Aufruf einer Funktion."
   ]
  },
  {
   "cell_type": "markdown",
   "metadata": {},
   "source": [
    "**Wichtig**: Es gibt zwischen den Programmiersprachen subtile Unterschiede,\n",
    "wie genau die Bedeutung einer Variablen ist und wie sie sich im Kontext von Ausdrücken verhält.\n",
    "\n",
    "Bezüglich Python kann man es sich am besten so vorstellen,\n",
    "dass ein Variablenname das Etikett zur Beschriftung einer Box (dem \"Wert\") ist."
   ]
  },
  {
   "cell_type": "code",
   "execution_count": 27,
   "metadata": {
    "collapsed": false
   },
   "outputs": [
    {
     "data": {
      "image/svg+xml": [
       "<svg height=\"280\" id=\"svg2\" inkscape:version=\"0.48.4 r9939\" sodipodi:docname=\"variable.svg\" version=\"1.1\" width=\"640\" xmlns=\"http://www.w3.org/2000/svg\" xmlns:cc=\"http://creativecommons.org/ns#\" xmlns:dc=\"http://purl.org/dc/elements/1.1/\" xmlns:inkscape=\"http://www.inkscape.org/namespaces/inkscape\" xmlns:rdf=\"http://www.w3.org/1999/02/22-rdf-syntax-ns#\" xmlns:sodipodi=\"http://sodipodi.sourceforge.net/DTD/sodipodi-0.dtd\" xmlns:svg=\"http://www.w3.org/2000/svg\">\n",
       "  <defs id=\"defs4\"/>\n",
       "  <sodipodi:namedview bordercolor=\"#666666\" borderopacity=\"1.0\" id=\"base\" inkscape:current-layer=\"layer1\" inkscape:cx=\"255.18424\" inkscape:cy=\"112.46423\" inkscape:document-units=\"px\" inkscape:object-nodes=\"true\" inkscape:pageopacity=\"0.0\" inkscape:pageshadow=\"2\" inkscape:snap-bbox=\"true\" inkscape:snap-grids=\"true\" inkscape:snap-page=\"true\" inkscape:window-height=\"1056\" inkscape:window-maximized=\"1\" inkscape:window-width=\"1920\" inkscape:window-x=\"0\" inkscape:window-y=\"24\" inkscape:zoom=\"1.4\" pagecolor=\"#ffffff\" showgrid=\"true\">\n",
       "    <sodipodi:guide id=\"guide3758\" orientation=\"0,640\" position=\"0,0\"/>\n",
       "    <sodipodi:guide id=\"guide3760\" orientation=\"-320,0\" position=\"640,0\"/>\n",
       "    <sodipodi:guide id=\"guide3762\" orientation=\"0,-640\" position=\"220,320\"/>\n",
       "    <sodipodi:guide id=\"guide3764\" orientation=\"320,0\" position=\"0,320\"/>\n",
       "    <sodipodi:guide id=\"guide3766\" orientation=\"0,640\" position=\"0,0\"/>\n",
       "    <sodipodi:guide id=\"guide3770\" orientation=\"0,-640\" position=\"670,390\"/>\n",
       "    <sodipodi:guide id=\"guide3772\" orientation=\"320,0\" position=\"690,210\"/>\n",
       "    <inkscape:grid empspacing=\"5\" enabled=\"true\" id=\"grid3776\" snapvisiblegridlinesonly=\"true\" type=\"xygrid\" visible=\"true\"/>\n",
       "  </sodipodi:namedview>\n",
       "  <metadata id=\"metadata7\">\n",
       "    <rdf:RDF>\n",
       "      <cc:Work rdf:about=\"\">\n",
       "        <dc:format>image/svg+xml</dc:format>\n",
       "        <dc:type rdf:resource=\"http://purl.org/dc/dcmitype/StillImage\"/>\n",
       "        <dc:title/>\n",
       "      </cc:Work>\n",
       "    </rdf:RDF>\n",
       "  </metadata>\n",
       "  <g id=\"layer1\" inkscape:groupmode=\"layer\" inkscape:label=\"Layer 1\" transform=\"translate(0,-772.36218)\">\n",
       "    <g id=\"g3782\" transform=\"translate(-16.986626,121.49548)\">\n",
       "      <rect height=\"78.504517\" id=\"rect3774\" style=\"color:#000000;fill:#ffffff;fill-opacity:1;fill-rule:nonzero;stroke:#000000;stroke-width:4;stroke-linecap:round;stroke-linejoin:round;stroke-miterlimit:4;stroke-opacity:1;stroke-dasharray:none;stroke-dashoffset:0;marker:none;visibility:visible;display:inline;overflow:visible;enable-background:accumulate\" width=\"78.504501\" x=\"40\" y=\"822.36218\"/>\n",
       "      <text id=\"text3778\" sodipodi:linespacing=\"125%\" style=\"font-size:48px;font-style:normal;font-variant:normal;font-weight:bold;font-stretch:normal;line-height:125%;letter-spacing:0px;word-spacing:0px;fill:#ff00ff;fill-opacity:1;stroke:none;font-family:DejaVu Sans;-inkscape-font-specification:Sans Bold\" x=\"46.873344\" xml:space=\"preserve\" y=\"879.42694\"><tspan id=\"tspan3780\" sodipodi:role=\"line\" x=\"46.873344\" y=\"879.42694\">42</tspan></text>\n",
       "    </g>\n",
       "    <g id=\"g3948\" transform=\"translate(-20,0)\">\n",
       "      <g id=\"g3782-3\" transform=\"translate(190,121.49548)\">\n",
       "        <rect height=\"78.504517\" id=\"rect3774-8\" style=\"color:#000000;fill:#ffffff;fill-opacity:1;fill-rule:nonzero;stroke:#000000;stroke-width:4;stroke-linecap:round;stroke-linejoin:round;stroke-miterlimit:4;stroke-opacity:1;stroke-dasharray:none;stroke-dashoffset:0;marker:none;visibility:visible;display:inline;overflow:visible;enable-background:accumulate\" width=\"78.504501\" x=\"40\" y=\"822.36218\"/>\n",
       "        <text id=\"text3778-7\" sodipodi:linespacing=\"125%\" style=\"font-size:48px;font-style:normal;font-variant:normal;font-weight:bold;font-stretch:normal;line-height:125%;letter-spacing:0px;word-spacing:0px;fill:#ff00ff;fill-opacity:1;stroke:none;font-family:DejaVu Sans;-inkscape-font-specification:Sans Bold\" x=\"46.873344\" xml:space=\"preserve\" y=\"879.42694\"><tspan id=\"tspan3780-2\" sodipodi:role=\"line\" x=\"46.873344\" y=\"879.42694\">42</tspan></text>\n",
       "      </g>\n",
       "      <path d=\"m 313.42402,881.21404 53.12592,-14.23505 6.47048,24.14814 L 319.8945,905.36218 307,895.8763 z M 270,942.36218 c 0,-25 17,-41.48588 37,-46.48588\" id=\"rect3837-0\" inkscape:connector-curvature=\"0\" sodipodi:nodetypes=\"cccccccc\" style=\"color:#000000;fill:#ffffff;fill-opacity:1;fill-rule:nonzero;stroke:#000000;stroke-width:4;stroke-linecap:round;stroke-linejoin:round;stroke-miterlimit:4;stroke-opacity:1;stroke-dashoffset:0;marker:none;visibility:visible;display:inline;overflow:visible;enable-background:accumulate\"/>\n",
       "      <text id=\"text3846-0\" sodipodi:linespacing=\"125%\" style=\"font-size:28px;font-style:normal;font-variant:normal;font-weight:bold;font-stretch:normal;line-height:125%;letter-spacing:0px;word-spacing:0px;fill:#008000;fill-opacity:1;stroke:none;font-family:DejaVu Sans;-inkscape-font-specification:Sans Bold\" transform=\"matrix(0.96592583,-0.25881905,0.25881905,0.96592583,0,0)\" x=\"90.163902\" xml:space=\"preserve\" y=\"953.10291\"><tspan id=\"tspan3848-9\" sodipodi:role=\"line\" x=\"90.163902\" y=\"953.10291\">a</tspan></text>\n",
       "    </g>\n",
       "    <g id=\"g3957\" transform=\"translate(10.372649,14.255551)\">\n",
       "      <g id=\"g3782-30\" transform=\"translate(421.12285,107.23993)\">\n",
       "        <rect height=\"78.504517\" id=\"rect3774-1\" style=\"color:#000000;fill:#ffffff;fill-opacity:1;fill-rule:nonzero;stroke:#000000;stroke-width:4;stroke-linecap:round;stroke-linejoin:round;stroke-miterlimit:4;stroke-opacity:1;stroke-dasharray:none;stroke-dashoffset:0;marker:none;visibility:visible;display:inline;overflow:visible;enable-background:accumulate\" width=\"78.504501\" x=\"40\" y=\"822.36218\"/>\n",
       "        <text id=\"text3778-2\" sodipodi:linespacing=\"125%\" style=\"font-size:48px;font-style:normal;font-variant:normal;font-weight:bold;font-stretch:normal;line-height:125%;letter-spacing:0px;word-spacing:0px;fill:#ff00ff;fill-opacity:1;stroke:none;font-family:DejaVu Sans;-inkscape-font-specification:Sans Bold\" x=\"46.873344\" xml:space=\"preserve\" y=\"879.42694\"><tspan id=\"tspan3780-3\" sodipodi:role=\"line\" x=\"46.873344\" y=\"879.42694\">42</tspan></text>\n",
       "      </g>\n",
       "      <path d=\"m 544.54687,868.45399 53.12592,-14.23505 6.47048,24.14814 -53.12592,14.23505 -12.8945,-9.48588 z m -43.42402,61.14814 c 0,-25 17,-41.48588 37,-46.48588\" id=\"rect3837-9\" inkscape:connector-curvature=\"0\" sodipodi:nodetypes=\"cccccccc\" style=\"color:#000000;fill:none;stroke:#000000;stroke-width:4;stroke-linecap:round;stroke-linejoin:round;stroke-miterlimit:4;stroke-opacity:1;stroke-dashoffset:0;marker:none;visibility:visible;display:inline;overflow:visible;enable-background:accumulate\"/>\n",
       "      <text id=\"text3846-3\" sodipodi:linespacing=\"125%\" style=\"font-size:28px;font-style:normal;font-variant:normal;font-weight:bold;font-stretch:normal;line-height:125%;letter-spacing:0px;word-spacing:0px;fill:#008000;fill-opacity:1;stroke:none;font-family:DejaVu Sans;-inkscape-font-specification:Sans Bold\" transform=\"matrix(0.96592583,-0.25881905,0.25881905,0.96592583,0,0)\" x=\"318.48853\" xml:space=\"preserve\" y=\"999.94672\"><tspan id=\"tspan3848-5\" sodipodi:role=\"line\" x=\"318.48853\" y=\"999.94672\">a</tspan></text>\n",
       "      <path d=\"m 456.88334,862.90362 -53.12592,-14.23504 -7.76458,28.97777 53.12592,14.23505 12.89451,-9.48588 z m 44.23951,66.69851 c 10e-6,-25.00001 -19.10959,-42.20661 -39.10958,-47.20661\" id=\"rect3837-9-1\" inkscape:connector-curvature=\"0\" sodipodi:nodetypes=\"cccccccc\" style=\"color:#000000;fill:none;stroke:#000000;stroke-width:4;stroke-linecap:round;stroke-linejoin:round;stroke-miterlimit:4;stroke-opacity:1;stroke-dashoffset:0;marker:none;visibility:visible;display:inline;overflow:visible;enable-background:accumulate\"/>\n",
       "      <text id=\"text3846-3-4\" sodipodi:linespacing=\"125%\" style=\"font-size:28px;font-style:normal;font-variant:normal;font-weight:bold;font-stretch:normal;line-height:125%;letter-spacing:0px;word-spacing:0px;fill:#0000ff;fill-opacity:1;stroke:none;font-family:DejaVu Sans;-inkscape-font-specification:Sans Bold\" transform=\"matrix(0.96592583,0.25881904,-0.25881904,0.96592583,0,0)\" x=\"628.20154\" xml:space=\"preserve\" y=\"740.17035\"><tspan id=\"tspan3944\" sodipodi:role=\"line\" x=\"628.20154\" y=\"740.17035\">b</tspan></text>\n",
       "    </g>\n",
       "    <text id=\"text3969\" sodipodi:linespacing=\"125%\" style=\"font-size:48px;font-style:normal;font-variant:normal;font-weight:bold;font-stretch:normal;line-height:125%;letter-spacing:0px;word-spacing:0px;fill:#008000;fill-opacity:1;stroke:none;font-family:DejaVu Sans;-inkscape-font-specification:DejaVu Sans Bold\" x=\"197.9375\" xml:space=\"preserve\" y=\"831.6825\"><tspan id=\"tspan3971\" sodipodi:role=\"line\" x=\"197.9375\" y=\"831.6825\">a=42</tspan></text>\n",
       "    <text id=\"text3973\" sodipodi:linespacing=\"125%\" style=\"font-size:48px;font-style:normal;font-variant:normal;font-weight:bold;font-stretch:normal;line-height:125%;letter-spacing:0px;word-spacing:0px;fill:#0000ff;fill-opacity:1;stroke:none;font-family:DejaVu Sans;-inkscape-font-specification:DejaVu Sans Bold\" x=\"455.96875\" xml:space=\"preserve\" y=\"831.6825\"><tspan id=\"tspan3975\" sodipodi:role=\"line\" x=\"455.96875\" y=\"831.6825\">b=a</tspan></text>\n",
       "    <text id=\"text3969-2\" sodipodi:linespacing=\"125%\" style=\"font-size:48px;font-style:normal;font-variant:normal;font-weight:bold;font-stretch:normal;line-height:125%;letter-spacing:0px;word-spacing:0px;fill:#ff00ff;fill-opacity:1;stroke:none;font-family:DejaVu Sans;-inkscape-font-specification:DejaVu Sans Bold\" x=\"27.84375\" xml:space=\"preserve\" y=\"832.36218\"><tspan id=\"tspan3971-9\" sodipodi:role=\"line\" x=\"27.84375\" y=\"832.36218\">42</tspan></text>\n",
       "  </g>\n",
       "</svg>"
      ],
      "text/plain": [
       "<IPython.core.display.SVG object>"
      ]
     },
     "execution_count": 27,
     "metadata": {},
     "output_type": "execute_result"
    }
   ],
   "source": [
    "from IPython.display import SVG\n",
    "from os.path import join\n",
    "SVG(filename=join('res', 'variable.svg'))"
   ]
  },
  {
   "cell_type": "markdown",
   "metadata": {},
   "source": [
    "Es kann nämlich auch folgendes passieren:\n",
    "\n",
    "* Eine Box hat mehr als nur ein Label, sprich, zwei Variablen zeigen auf genau denselben Wert.\n",
    "* Im konkreten Fall von `b=a`, wird zuerst die rechte Seite auf das jeweilige Objekt hinter `a` \"dereferenziert\", und dann `b` zugeweisen.\n",
    "* Es existiert ein Label, das auf nichts Zeigt (das ist in Python der \"`None`\" Wert)"
   ]
  },
  {
   "cell_type": "code",
   "execution_count": 28,
   "metadata": {
    "collapsed": false
   },
   "outputs": [],
   "source": [
    "a = 42\n",
    "b = a"
   ]
  },
  {
   "cell_type": "code",
   "execution_count": 29,
   "metadata": {
    "collapsed": false
   },
   "outputs": [
    {
     "data": {
      "text/plain": [
       "42"
      ]
     },
     "execution_count": 29,
     "metadata": {},
     "output_type": "execute_result"
    }
   ],
   "source": [
    "a"
   ]
  },
  {
   "cell_type": "code",
   "execution_count": 30,
   "metadata": {
    "collapsed": false
   },
   "outputs": [
    {
     "data": {
      "text/plain": [
       "42"
      ]
     },
     "execution_count": 30,
     "metadata": {},
     "output_type": "execute_result"
    }
   ],
   "source": [
    "b"
   ]
  },
  {
   "cell_type": "markdown",
   "metadata": {},
   "source": [
    "Der eingebaute Befehl `id` gibt die interne Speicheradresse des Wertes zurück.\n",
    "Dieser ist hier genau gleich, da es sich um die identischen Objekte im Speicher handelt.\n",
    "Dies funktioniert mit beliebigen Werten,\n",
    "jedoch instanzieren wir hier zwei minimale Grundobjekte zur besseren Veranschaulichung:"
   ]
  },
  {
   "cell_type": "code",
   "execution_count": 31,
   "metadata": {
    "collapsed": true
   },
   "outputs": [],
   "source": [
    "a = object()\n",
    "b = object()"
   ]
  },
  {
   "cell_type": "code",
   "execution_count": 33,
   "metadata": {
    "collapsed": false
   },
   "outputs": [
    {
     "data": {
      "text/plain": [
       "(140414561248064, 140414561247984)"
      ]
     },
     "execution_count": 33,
     "metadata": {},
     "output_type": "execute_result"
    }
   ],
   "source": [
    "id(a), id(b)"
   ]
  },
  {
   "cell_type": "code",
   "execution_count": 34,
   "metadata": {
    "collapsed": false
   },
   "outputs": [
    {
     "data": {
      "text/plain": [
       "False"
      ]
     },
     "execution_count": 34,
     "metadata": {},
     "output_type": "execute_result"
    }
   ],
   "source": [
    "a is b"
   ]
  },
  {
   "cell_type": "markdown",
   "metadata": {},
   "source": [
    "Namensänderung: Das Objekt hinter `a` wird mittels `b = a` nun auch `b` genannt.\n",
    "Das ursprüngliche Objekt hinter `b` verschwindet in den Weiten des Arbeitsspeichers ([garbage collection](http://en.wikipedia.org/wiki/Garbage_collection_%28computer_science%29)), da es keinen Namen mehr hat."
   ]
  },
  {
   "cell_type": "code",
   "execution_count": 35,
   "metadata": {
    "collapsed": true
   },
   "outputs": [],
   "source": [
    "b = a"
   ]
  },
  {
   "cell_type": "code",
   "execution_count": 37,
   "metadata": {
    "collapsed": false
   },
   "outputs": [
    {
     "data": {
      "text/plain": [
       "(140414561248064, 140414561248064)"
      ]
     },
     "execution_count": 37,
     "metadata": {},
     "output_type": "execute_result"
    }
   ],
   "source": [
    "id(a), id(b)"
   ]
  },
  {
   "cell_type": "markdown",
   "metadata": {},
   "source": [
    "Die Zuweisung von `a` an `b` hat somit bewirkt, dass der Wert von `a` die Bezeichung `b` bekommen hat.\n",
    "Es ist also weder der Wert von `a` nach `b` gewandert,\n",
    "noch wurde eine Kopie erzeugt.\n",
    "\n",
    "Letzteres kann bei komplexeren Objekten zu subtilen Fehlern führen, aufpassen!"
   ]
  },
  {
   "cell_type": "code",
   "execution_count": 38,
   "metadata": {
    "collapsed": false
   },
   "outputs": [
    {
     "data": {
      "text/plain": [
       "True"
      ]
     },
     "execution_count": 38,
     "metadata": {},
     "output_type": "execute_result"
    }
   ],
   "source": [
    "a is b"
   ]
  },
  {
   "cell_type": "code",
   "execution_count": null,
   "metadata": {
    "collapsed": true
   },
   "outputs": [],
   "source": []
  }
 ],
 "metadata": {
  "kernelspec": {
   "display_name": "Anaconda (Python 3)",
   "language": "python",
   "name": "anaconda3"
  },
  "language_info": {
   "codemirror_mode": {
    "name": "ipython",
    "version": 3
   },
   "file_extension": ".py",
   "mimetype": "text/x-python",
   "name": "python",
   "nbconvert_exporter": "python",
   "pygments_lexer": "ipython3",
   "version": "3.5.1"
  }
 },
 "nbformat": 4,
 "nbformat_minor": 0
}
