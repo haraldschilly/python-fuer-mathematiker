{
 "cells": [
  {
   "cell_type": "markdown",
   "metadata": {},
   "source": [
    "# Suche nach Plagiaten mit Python's `SequenceMatcher`\n",
    "\n",
    "`test/test1` und `test/test2` sind mögliche Plagiate, während `test/test3` gänzlich anders ist.\n",
    "Der Parameter `threshold` muss so eingestellt werden, damit es richtig erkannt wird!"
   ]
  },
  {
   "cell_type": "code",
   "execution_count": null,
   "metadata": {
    "collapsed": false
   },
   "outputs": [],
   "source": [
    "from difflib import SequenceMatcher, HtmlDiff"
   ]
  },
  {
   "cell_type": "code",
   "execution_count": null,
   "metadata": {
    "collapsed": false
   },
   "outputs": [],
   "source": [
    "text1 = \"\"\"\\\n",
    "First-order methods can significantly benefit from parallel computing. These computing systems are\n",
    "typified by uniform processing nodes that are in close proximity and have reliable communications.\n",
    "Indeed, the expression embarrassingly parallel refers to an ideal scenario for parallelization where\n",
    "we split the job into independent calculations that can be simultaneously performed in a predictable\n",
    "fashion.\n",
    "\"\"\""
   ]
  },
  {
   "cell_type": "code",
   "execution_count": null,
   "metadata": {
    "collapsed": false
   },
   "outputs": [],
   "source": [
    "text2 = \"\"\"\\\n",
    "First-order methods can significantly benefit from parallel computing. These computing systems are\n",
    "typified by uniform processing nodes that are in close proximity and have reliable communications.\n",
    "Indeed, the expression parallel as embarrassingly refers to an ideal scenario for parallelization where\n",
    "we split the job into independent calculations thit can be simultaneously performed in a predictable\n",
    "fashion.\n",
    "\"\"\""
   ]
  },
  {
   "cell_type": "code",
   "execution_count": null,
   "metadata": {
    "collapsed": false
   },
   "outputs": [],
   "source": [
    "sm = SequenceMatcher(a=text1, b=text2)\n",
    "print sm.real_quick_ratio()\n",
    "print sm.quick_ratio()\n",
    "print sm.ratio()"
   ]
  },
  {
   "cell_type": "markdown",
   "metadata": {},
   "source": [
    "## Iteriere über alle IPython Dateien in einem gegeneben Verzeichnis (mit Unterverzeichnissen)"
   ]
  },
  {
   "cell_type": "code",
   "execution_count": null,
   "metadata": {
    "collapsed": false
   },
   "outputs": [],
   "source": [
    "import os\n",
    "import itertools as it\n",
    "from IPython.nbformat import current\n",
    "from difflib import SequenceMatcher\n",
    "from IPython.display import display, HTML"
   ]
  },
  {
   "cell_type": "code",
   "execution_count": null,
   "metadata": {
    "collapsed": false
   },
   "outputs": [],
   "source": [
    "def extract(fn):\n",
    "    with open(fn, \"r\") as f:\n",
    "        nb = current.read(f, \"ipynb\")\n",
    "        code = []\n",
    "        text = []\n",
    "        for cell in nb[\"worksheets\"][0][\"cells\"]:\n",
    "            if cell[\"cell_type\"] == \"code\":\n",
    "                code.append(cell[\"input\"] + \"\\n\")\n",
    "            elif cell[\"cell_type\"] == \"markdown\":\n",
    "                text.append(cell[\"source\"])\n",
    "        return \"\\n\".join(code), \"\\n\".join(text)"
   ]
  },
  {
   "cell_type": "code",
   "execution_count": null,
   "metadata": {
    "collapsed": false
   },
   "outputs": [],
   "source": [
    "print extract(\"./test/test1.ipynb\")"
   ]
  },
  {
   "cell_type": "code",
   "execution_count": null,
   "metadata": {
    "collapsed": false
   },
   "outputs": [],
   "source": [
    "def distance(x1, x2, threshold=0.8):\n",
    "    sm = SequenceMatcher(a=x1, b=x2)\n",
    "    # quick and real_quick are *upper* bounds, hence threshold check from below\n",
    "    rqr = sm.real_quick_ratio()\n",
    "    if rqr > threshold:\n",
    "        qr = sm.quick_ratio()\n",
    "        if qr > threshold:\n",
    "            return sm.ratio()\n",
    "        return qr\n",
    "    return rqr"
   ]
  },
  {
   "cell_type": "code",
   "execution_count": null,
   "metadata": {
    "collapsed": false
   },
   "outputs": [],
   "source": [
    "distance(text1, text2)"
   ]
  },
  {
   "cell_type": "code",
   "execution_count": null,
   "metadata": {
    "collapsed": false
   },
   "outputs": [],
   "source": [
    "HTML(\"\"\"\\\n",
    "<style>\n",
    "table.plagiate tr td {\n",
    "    font-size: 70%;\n",
    "    color: #444;\n",
    "}\n",
    "table.plagiate tr.hit {\n",
    "    font-weight: bold;\n",
    "}\n",
    "table.plagiate tr.hit td { \n",
    "    background: red;\n",
    "    color: white;\n",
    "    font-size: 100%;\n",
    "    padding: 4px;\n",
    "}\n",
    ".rendered_html table.plagiate tr td:nth-child(3) {\n",
    "   text-align: right;\n",
    "}\n",
    ".rendered_html table.plagiate td {\n",
    "   padding: 1px 4px;\n",
    "   border-color: #888;\n",
    "}\n",
    "</style>\n",
    "\"\"\")"
   ]
  },
  {
   "cell_type": "code",
   "execution_count": null,
   "metadata": {
    "collapsed": false
   },
   "outputs": [],
   "source": [
    "from matplotlib.colors import rgb2hex\n",
    "%matplotlib inline\n",
    "import matplotlib.pyplot as plt\n",
    "import networkx as nx\n",
    "from numpy import log1p, exp, linspace\n",
    "import numpy as np\n",
    "import sys"
   ]
  },
  {
   "cell_type": "code",
   "execution_count": null,
   "metadata": {
    "collapsed": false
   },
   "outputs": [],
   "source": [
    "def color_mapping(x, k=3):\n",
    "    \"\"\"\n",
    "    logistic curve to map the distance metric [0, 1] to [0, 1] in the color space\n",
    "    \"\"\"\n",
    "    return x**k / exp(1-x**k)"
   ]
  },
  {
   "cell_type": "code",
   "execution_count": null,
   "metadata": {
    "collapsed": false
   },
   "outputs": [],
   "source": [
    "xx = linspace(0, 1, 100)\n",
    "plt.plot(xx, color_mapping(xx))"
   ]
  },
  {
   "cell_type": "code",
   "execution_count": null,
   "metadata": {
    "collapsed": false
   },
   "outputs": [],
   "source": [
    "colors = plt.cm.Reds\n",
    "text_distances = []\n",
    "code_distances = []\n",
    "\n",
    "from IPython.display import clear_output\n",
    "\n",
    "def plagiate(roots, threshold = .75, show_all=False):\n",
    "    codes = {}\n",
    "    texts = {}\n",
    "    output = \"\"\n",
    "    for root in roots:\n",
    "        root = os.path.abspath(root)\n",
    "        for path, _, filenames in os.walk(root):\n",
    "            if \".ipynb_checkpoints\" in path:\n",
    "                continue\n",
    "            for filename in filenames:\n",
    "                if not filename.endswith(\".ipynb\"):\n",
    "                    continue\n",
    "                fn = os.path.normpath(os.path.join(root, path, filename))\n",
    "                try:\n",
    "                    codes[fn[len(root)+1:]] = extract(fn)\n",
    "                except:\n",
    "                    pass\n",
    "                \n",
    "                if np.random.random() > .7:\n",
    "                    clear_output(wait=True)\n",
    "                    print \"processing %s ...\" % fn[len(root) + 1:]\n",
    "                    sys.stdout.flush()\n",
    "    \n",
    "    clear_output(wait=True)\n",
    "    similar = nx.Graph()\n",
    "    \n",
    "    pairs = it.combinations(sorted(codes.iteritems()), 2)\n",
    "    nbpairs = (len(codes) * (len(codes) - 1)) / 2\n",
    "    i = 0\n",
    "    for (k1, (c1, t1)), (k2, (c2, t2)) in pairs:\n",
    "        name1, name2 = ' '.join(k1.split(\"_\")[:2]), ' '.join(k2.split(\"_\")[:2])\n",
    "        #print levenshtein.ratio(c1, c2)\n",
    "        if i % 10 == 0:\n",
    "            clear_output(wait=True)\n",
    "            print \"pairing %4.1f%%  %30s <-> %-30s\" % (100. * i / nbpairs, name1, name2)\n",
    "            sys.stdout.flush()\n",
    "        i += 1\n",
    "        \n",
    "        d_code = distance(c1, c2, threshold)\n",
    "        d_text = distance(t1, t2, threshold)\n",
    "        \n",
    "        code_distances.append(d_code)\n",
    "        text_distances.append(d_text)\n",
    "        \n",
    "        d = min(d_code, d_text)\n",
    "        color = rgb2hex(colors(color_mapping(d)))\n",
    "        if not show_all and d < threshold:\n",
    "            continue\n",
    "        \n",
    "        similar.add_edge(name1, name2, weight=d)\n",
    "               \n",
    "        cls = \"class='hit'\" if d >= threshold else ''\n",
    "        output += \"<tr {} style='background:{}'>\\\n",
    "            <td>{}</td><td>{}</td><td>{:4f}</td><td>{:4f}</td></tr>\".format(cls, color, k1, k2, d_code, d_text)\n",
    "        \n",
    "        \n",
    "    clear_output()\n",
    "    display(HTML(\"\"\"<table class='plagiate'>\n",
    "                 <tr><th>file1</th><th>file2</th><th>d(code)</th><th>d(text)</th></tr>\"\"\" \n",
    "                 + output + \"</table>\"))\n",
    "    \n",
    "    fig = plt.figure()\n",
    "    f1 = fig.add_subplot(2,1,1)\n",
    "    f2 = fig.add_subplot(2,1,2)\n",
    "    _ = f1.hist(code_distances)\n",
    "    _ = f2.hist(text_distances)\n",
    "               \n",
    "    return similar"
   ]
  },
  {
   "cell_type": "code",
   "execution_count": null,
   "metadata": {
    "collapsed": false
   },
   "outputs": [],
   "source": [
    "similar = plagiate(roots=[\"../../ss2015/abgaben/Abgabe10Gruppe1/\",\n",
    "                          \"../../ss2015/abgaben/Abgabe11Gruppe2/\"],\n",
    "                   threshold=.85,\n",
    "                   show_all=False)"
   ]
  },
  {
   "cell_type": "code",
   "execution_count": null,
   "metadata": {
    "collapsed": false
   },
   "outputs": [],
   "source": [
    "plt.rcParams[\"figure.figsize\"] = (10,8)\n",
    "nx.draw(similar, with_labels=True, iterations=200,\n",
    "               font_color=\"blue\", node_color=\"white\", edge_color=\"grey\", font_size=10)"
   ]
  },
  {
   "cell_type": "code",
   "execution_count": null,
   "metadata": {
    "collapsed": false
   },
   "outputs": [],
   "source": [
    "%config InlineBackend.figure_formats=['png']\n",
    "plt.rcParams[\"figure.figsize\"] = (12,10)\n",
    "nx.draw_graphviz(similar, with_labels=True, iterations=200,prog=\"fdp\",\n",
    "               font_color=\"blue\", node_color=\"white\", edge_color=\"grey\", font_size=10)"
   ]
  },
  {
   "cell_type": "code",
   "execution_count": null,
   "metadata": {
    "collapsed": false
   },
   "outputs": [],
   "source": [
    "def showdiff(fn1, fn2):\n",
    "    htmldiff = HtmlDiff()\n",
    "    c1, _ = extract(fn1)\n",
    "    c2, _ = extract(fn2)\n",
    "    return HTML(htmldiff.make_table(c1.splitlines(), c2.splitlines(), fn1, fn2, context=True))"
   ]
  },
  {
   "cell_type": "code",
   "execution_count": null,
   "metadata": {
    "collapsed": false
   },
   "outputs": [],
   "source": [
    "# style for the table\n",
    "HTML(\"\"\"\\\n",
    "<style>\n",
    ".rendered_html > table.diff td,\n",
    ".rendered_html > table.diff tr {\n",
    "   border: none;\n",
    "   font-size: 12px;\n",
    "   padding: 1px 5px;\n",
    "   text-align: right;\n",
    "}\n",
    ".rendered_html > table.diff td:nth-child(3),\n",
    ".rendered_html > table.diff td:nth-child(6) {\n",
    "   text-align: left;\n",
    "   padding-right: 3em;\n",
    "}\n",
    ".rendered_html > table.diff tr:nth-child(even) td  {\n",
    "  background: #eee;\n",
    "}\n",
    "table.diff tr > td {\n",
    "  font-family: monospace;\n",
    "}\n",
    "</style>\n",
    "\"\"\")"
   ]
  },
  {
   "cell_type": "code",
   "execution_count": null,
   "metadata": {
    "collapsed": false
   },
   "outputs": [],
   "source": [
    "showdiff(\"test/test1.ipynb\", \"test/test2.ipynb\")"
   ]
  },
  {
   "cell_type": "code",
   "execution_count": null,
   "metadata": {
    "collapsed": false
   },
   "outputs": [],
   "source": [
    "showdiff(\"test/test1.ipynb\", \"test/test3.ipynb\")"
   ]
  },
  {
   "cell_type": "code",
   "execution_count": null,
   "metadata": {
    "collapsed": false
   },
   "outputs": [],
   "source": []
  },
  {
   "cell_type": "code",
   "execution_count": null,
   "metadata": {
    "collapsed": false
   },
   "outputs": [],
   "source": []
  }
 ],
 "metadata": {
  "kernelspec": {
   "display_name": "Python 2",
   "language": "python",
   "name": "python2"
  },
  "language_info": {
   "codemirror_mode": {
    "name": "ipython",
    "version": 2
   },
   "file_extension": ".py",
   "mimetype": "text/x-python",
   "name": "python",
   "nbconvert_exporter": "python",
   "pygments_lexer": "ipython2",
   "version": "2.7.6"
  }
 },
 "nbformat": 4,
 "nbformat_minor": 0
}
